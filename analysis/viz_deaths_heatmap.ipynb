{
 "cells": [
  {
   "cell_type": "markdown",
   "metadata": {},
   "source": [
    "#  Deaths heatmap\n",
    "---\n",
    "\n",
    "Inspired by: https://twitter.com/VictimOfMaths/status/1258783876870176770?s=09"
   ]
  },
  {
   "cell_type": "markdown",
   "metadata": {
    "toc": true
   },
   "source": [
    "<h1>Table of Contents<span class=\"tocSkip\"></span></h1>\n",
    "<div class=\"toc\"><ul class=\"toc-item\"><li><span><a href=\"#Import-packages\" data-toc-modified-id=\"Import-packages-1\"><span class=\"toc-item-num\">1&nbsp;&nbsp;</span>Import packages</a></span></li><li><span><a href=\"#Import-data\" data-toc-modified-id=\"Import-data-2\"><span class=\"toc-item-num\">2&nbsp;&nbsp;</span>Import data</a></span></li><li><span><a href=\"#States-heatmap\" data-toc-modified-id=\"States-heatmap-3\"><span class=\"toc-item-num\">3&nbsp;&nbsp;</span>States heatmap</a></span></li><li><span><a href=\"#Cities-heatmap\" data-toc-modified-id=\"Cities-heatmap-4\"><span class=\"toc-item-num\">4&nbsp;&nbsp;</span>Cities heatmap</a></span></li></ul></div>"
   ]
  },
  {
   "cell_type": "markdown",
   "metadata": {},
   "source": [
    "## Import packages"
   ]
  },
  {
   "cell_type": "code",
   "execution_count": 1,
   "metadata": {},
   "outputs": [
    {
     "name": "stderr",
     "output_type": "stream",
     "text": [
      "/Users/fernandascovino/Projects/simulacovid/venvanalysis/lib/python3.7/site-packages/ipykernel_launcher.py:6: YAMLLoadWarning: calling yaml.load() without Loader=... is deprecated, as the default Loader is unsafe. Please read https://msg.pyyaml.org/load for full details.\n",
      "  \n"
     ]
    }
   ],
   "source": [
    "import sys\n",
    "sys.path.append(\"..\")\n",
    "sys.path.append(\"../src\")\n",
    "\n",
    "import yaml\n",
    "config = yaml.load(open('../src/configs/config.yaml', 'r'))"
   ]
  },
  {
   "cell_type": "code",
   "execution_count": 2,
   "metadata": {},
   "outputs": [
    {
     "data": {
      "text/html": [
       "        <script type=\"text/javascript\">\n",
       "        window.PlotlyConfig = {MathJaxConfig: 'local'};\n",
       "        if (window.MathJax) {MathJax.Hub.Config({SVG: {font: \"STIX-Web\"}});}\n",
       "        if (typeof require !== 'undefined') {\n",
       "        require.undef(\"plotly\");\n",
       "        requirejs.config({\n",
       "            paths: {\n",
       "                'plotly': ['https://cdn.plot.ly/plotly-latest.min']\n",
       "            }\n",
       "        });\n",
       "        require(['plotly'], function(Plotly) {\n",
       "            window._Plotly = Plotly;\n",
       "        });\n",
       "        }\n",
       "        </script>\n",
       "        "
      ]
     },
     "metadata": {},
     "output_type": "display_data"
    },
    {
     "data": {
      "text/html": [
       "        <script type=\"text/javascript\">\n",
       "        window.PlotlyConfig = {MathJaxConfig: 'local'};\n",
       "        if (window.MathJax) {MathJax.Hub.Config({SVG: {font: \"STIX-Web\"}});}\n",
       "        if (typeof require !== 'undefined') {\n",
       "        require.undef(\"plotly\");\n",
       "        requirejs.config({\n",
       "            paths: {\n",
       "                'plotly': ['https://cdn.plot.ly/plotly-latest.min']\n",
       "            }\n",
       "        });\n",
       "        require(['plotly'], function(Plotly) {\n",
       "            window._Plotly = Plotly;\n",
       "        });\n",
       "        }\n",
       "        </script>\n",
       "        "
      ]
     },
     "metadata": {},
     "output_type": "display_data"
    }
   ],
   "source": [
    "%reload_ext autoreload\n",
    "%autoreload 2\n",
    "\n",
    "from paths import RAW_PATH, TREAT_PATH, OUTPUT_PATH, FIGURES_PATH, THEMES_PATH\n",
    "\n",
    "from copy import deepcopy\n",
    "import numpy as np\n",
    "import pandas as pd\n",
    "pd.options.display.max_columns = 999\n",
    "\n",
    "import warnings\n",
    "\n",
    "warnings.filterwarnings('ignore')\n",
    "\n",
    "# Plotting\n",
    "import plotly\n",
    "import plotly.graph_objs as go\n",
    "import cufflinks as cf\n",
    "plotly.offline.init_notebook_mode(connected=True)\n",
    "\n",
    "# Setting cufflinks\n",
    "import textwrap\n",
    "import cufflinks as cf\n",
    "cf.go_offline()\n",
    "cf.set_config_file(offline=False, world_readable=True)\n",
    "\n",
    "# Centering and fixing title\n",
    "def iplottitle(title, width=40):\n",
    "    return '<br>'.join(textwrap.wrap(title, width))\n",
    "\n",
    "# Adding custom colorscales (to add one: themes/custom_colorscales.yaml)\n",
    "import yaml\n",
    "custom_colorscales = yaml.load(open(THEMES_PATH / 'custom_colorscales.yaml', 'r'))\n",
    "cf.colors._custom_scales['qual'].update(custom_colorscales)\n",
    "cf.colors.reset_scales()\n",
    "\n",
    "# Setting cuffilinks template (use it with .iplot(theme='custom')\n",
    "cf.themes.THEMES['custom'] = yaml.load(open(THEMES_PATH / 'cufflinks_template.yaml', 'r'))"
   ]
  },
  {
   "cell_type": "markdown",
   "metadata": {},
   "source": [
    "## Import data"
   ]
  },
  {
   "cell_type": "code",
   "execution_count": 17,
   "metadata": {},
   "outputs": [
    {
     "data": {
      "text/html": [
       "<div>\n",
       "<style scoped>\n",
       "    .dataframe tbody tr th:only-of-type {\n",
       "        vertical-align: middle;\n",
       "    }\n",
       "\n",
       "    .dataframe tbody tr th {\n",
       "        vertical-align: top;\n",
       "    }\n",
       "\n",
       "    .dataframe thead th {\n",
       "        text-align: right;\n",
       "    }\n",
       "</style>\n",
       "<table border=\"1\" class=\"dataframe\">\n",
       "  <thead>\n",
       "    <tr style=\"text-align: right;\">\n",
       "      <th></th>\n",
       "      <th>country_iso</th>\n",
       "      <th>country_name</th>\n",
       "      <th>state_id</th>\n",
       "      <th>state_name</th>\n",
       "      <th>city_id</th>\n",
       "      <th>city_name</th>\n",
       "      <th>population</th>\n",
       "      <th>health_system_region</th>\n",
       "      <th>last_updated_number_ventilators</th>\n",
       "      <th>author_number_ventilators</th>\n",
       "      <th>number_ventilators</th>\n",
       "      <th>last_updated_number_beds</th>\n",
       "      <th>author_number_beds</th>\n",
       "      <th>number_beds</th>\n",
       "      <th>last_updated_number_icu_beds</th>\n",
       "      <th>author_number_icu_beds</th>\n",
       "      <th>number_icu_beds</th>\n",
       "      <th>city</th>\n",
       "      <th>last_updated</th>\n",
       "      <th>epidemiological_week</th>\n",
       "      <th>estimated_population_2019</th>\n",
       "      <th>is_last</th>\n",
       "      <th>is_repeated</th>\n",
       "      <th>confirmed_cases</th>\n",
       "      <th>last_available_confirmed_per_100k_inhabitants</th>\n",
       "      <th>last_available_date</th>\n",
       "      <th>last_available_death_rate</th>\n",
       "      <th>deaths</th>\n",
       "      <th>order_for_place</th>\n",
       "      <th>place_type</th>\n",
       "      <th>state</th>\n",
       "      <th>daily_cases</th>\n",
       "      <th>new_deaths</th>\n",
       "      <th>infectious_period_cases</th>\n",
       "      <th>state_notification_rate</th>\n",
       "      <th>notification_rate</th>\n",
       "      <th>active_cases</th>\n",
       "      <th>data_last_refreshed</th>\n",
       "    </tr>\n",
       "  </thead>\n",
       "  <tbody>\n",
       "    <tr>\n",
       "      <th>0</th>\n",
       "      <td>BR</td>\n",
       "      <td>Brasil</td>\n",
       "      <td>AC</td>\n",
       "      <td>Acre</td>\n",
       "      <td>1200013</td>\n",
       "      <td>Acrelândia</td>\n",
       "      <td>15256</td>\n",
       "      <td>Acre</td>\n",
       "      <td>2020-02-01 00:00:00</td>\n",
       "      <td>SUS</td>\n",
       "      <td>NaN</td>\n",
       "      <td>2020-02-01 00:00:00</td>\n",
       "      <td>SUS</td>\n",
       "      <td>3.2</td>\n",
       "      <td>2020-02-01 00:00:00</td>\n",
       "      <td>SUS</td>\n",
       "      <td>NaN</td>\n",
       "      <td>Acrelândia</td>\n",
       "      <td>2020-03-29</td>\n",
       "      <td>14.0</td>\n",
       "      <td>15256.0</td>\n",
       "      <td>False</td>\n",
       "      <td>False</td>\n",
       "      <td>2.0</td>\n",
       "      <td>13.10960</td>\n",
       "      <td>2020-03-29</td>\n",
       "      <td>0.0</td>\n",
       "      <td>0.0</td>\n",
       "      <td>1.0</td>\n",
       "      <td>city</td>\n",
       "      <td>AC</td>\n",
       "      <td>2.0</td>\n",
       "      <td>0.0</td>\n",
       "      <td>2.0</td>\n",
       "      <td>NaN</td>\n",
       "      <td>NaN</td>\n",
       "      <td>2.0</td>\n",
       "      <td>2020-05-13 23:49:35</td>\n",
       "    </tr>\n",
       "    <tr>\n",
       "      <th>1</th>\n",
       "      <td>BR</td>\n",
       "      <td>Brasil</td>\n",
       "      <td>AC</td>\n",
       "      <td>Acre</td>\n",
       "      <td>1200013</td>\n",
       "      <td>Acrelândia</td>\n",
       "      <td>15256</td>\n",
       "      <td>Acre</td>\n",
       "      <td>2020-02-01 00:00:00</td>\n",
       "      <td>SUS</td>\n",
       "      <td>NaN</td>\n",
       "      <td>2020-02-01 00:00:00</td>\n",
       "      <td>SUS</td>\n",
       "      <td>3.2</td>\n",
       "      <td>2020-02-01 00:00:00</td>\n",
       "      <td>SUS</td>\n",
       "      <td>NaN</td>\n",
       "      <td>Acrelândia</td>\n",
       "      <td>2020-03-30</td>\n",
       "      <td>14.0</td>\n",
       "      <td>15256.0</td>\n",
       "      <td>False</td>\n",
       "      <td>False</td>\n",
       "      <td>6.0</td>\n",
       "      <td>39.32879</td>\n",
       "      <td>2020-03-30</td>\n",
       "      <td>0.0</td>\n",
       "      <td>0.0</td>\n",
       "      <td>2.0</td>\n",
       "      <td>city</td>\n",
       "      <td>AC</td>\n",
       "      <td>4.0</td>\n",
       "      <td>0.0</td>\n",
       "      <td>6.0</td>\n",
       "      <td>NaN</td>\n",
       "      <td>NaN</td>\n",
       "      <td>6.0</td>\n",
       "      <td>2020-05-13 23:49:35</td>\n",
       "    </tr>\n",
       "    <tr>\n",
       "      <th>2</th>\n",
       "      <td>BR</td>\n",
       "      <td>Brasil</td>\n",
       "      <td>AC</td>\n",
       "      <td>Acre</td>\n",
       "      <td>1200013</td>\n",
       "      <td>Acrelândia</td>\n",
       "      <td>15256</td>\n",
       "      <td>Acre</td>\n",
       "      <td>2020-02-01 00:00:00</td>\n",
       "      <td>SUS</td>\n",
       "      <td>NaN</td>\n",
       "      <td>2020-02-01 00:00:00</td>\n",
       "      <td>SUS</td>\n",
       "      <td>3.2</td>\n",
       "      <td>2020-02-01 00:00:00</td>\n",
       "      <td>SUS</td>\n",
       "      <td>NaN</td>\n",
       "      <td>Acrelândia</td>\n",
       "      <td>2020-03-31</td>\n",
       "      <td>14.0</td>\n",
       "      <td>15256.0</td>\n",
       "      <td>False</td>\n",
       "      <td>False</td>\n",
       "      <td>7.0</td>\n",
       "      <td>45.88359</td>\n",
       "      <td>2020-03-31</td>\n",
       "      <td>0.0</td>\n",
       "      <td>0.0</td>\n",
       "      <td>3.0</td>\n",
       "      <td>city</td>\n",
       "      <td>AC</td>\n",
       "      <td>1.0</td>\n",
       "      <td>0.0</td>\n",
       "      <td>7.0</td>\n",
       "      <td>NaN</td>\n",
       "      <td>NaN</td>\n",
       "      <td>7.0</td>\n",
       "      <td>2020-05-13 23:49:35</td>\n",
       "    </tr>\n",
       "    <tr>\n",
       "      <th>3</th>\n",
       "      <td>BR</td>\n",
       "      <td>Brasil</td>\n",
       "      <td>AC</td>\n",
       "      <td>Acre</td>\n",
       "      <td>1200013</td>\n",
       "      <td>Acrelândia</td>\n",
       "      <td>15256</td>\n",
       "      <td>Acre</td>\n",
       "      <td>2020-02-01 00:00:00</td>\n",
       "      <td>SUS</td>\n",
       "      <td>NaN</td>\n",
       "      <td>2020-02-01 00:00:00</td>\n",
       "      <td>SUS</td>\n",
       "      <td>3.2</td>\n",
       "      <td>2020-02-01 00:00:00</td>\n",
       "      <td>SUS</td>\n",
       "      <td>NaN</td>\n",
       "      <td>Acrelândia</td>\n",
       "      <td>2020-04-01</td>\n",
       "      <td>14.0</td>\n",
       "      <td>15256.0</td>\n",
       "      <td>False</td>\n",
       "      <td>False</td>\n",
       "      <td>8.0</td>\n",
       "      <td>52.43838</td>\n",
       "      <td>2020-04-01</td>\n",
       "      <td>0.0</td>\n",
       "      <td>0.0</td>\n",
       "      <td>4.0</td>\n",
       "      <td>city</td>\n",
       "      <td>AC</td>\n",
       "      <td>1.0</td>\n",
       "      <td>0.0</td>\n",
       "      <td>8.0</td>\n",
       "      <td>NaN</td>\n",
       "      <td>NaN</td>\n",
       "      <td>8.0</td>\n",
       "      <td>2020-05-13 23:49:35</td>\n",
       "    </tr>\n",
       "    <tr>\n",
       "      <th>4</th>\n",
       "      <td>BR</td>\n",
       "      <td>Brasil</td>\n",
       "      <td>AC</td>\n",
       "      <td>Acre</td>\n",
       "      <td>1200013</td>\n",
       "      <td>Acrelândia</td>\n",
       "      <td>15256</td>\n",
       "      <td>Acre</td>\n",
       "      <td>2020-02-01 00:00:00</td>\n",
       "      <td>SUS</td>\n",
       "      <td>NaN</td>\n",
       "      <td>2020-02-01 00:00:00</td>\n",
       "      <td>SUS</td>\n",
       "      <td>3.2</td>\n",
       "      <td>2020-02-01 00:00:00</td>\n",
       "      <td>SUS</td>\n",
       "      <td>NaN</td>\n",
       "      <td>Acrelândia</td>\n",
       "      <td>2020-04-02</td>\n",
       "      <td>14.0</td>\n",
       "      <td>15256.0</td>\n",
       "      <td>False</td>\n",
       "      <td>False</td>\n",
       "      <td>8.0</td>\n",
       "      <td>52.43838</td>\n",
       "      <td>2020-04-02</td>\n",
       "      <td>0.0</td>\n",
       "      <td>0.0</td>\n",
       "      <td>5.0</td>\n",
       "      <td>city</td>\n",
       "      <td>AC</td>\n",
       "      <td>0.0</td>\n",
       "      <td>0.0</td>\n",
       "      <td>8.0</td>\n",
       "      <td>NaN</td>\n",
       "      <td>NaN</td>\n",
       "      <td>8.0</td>\n",
       "      <td>2020-05-13 23:49:35</td>\n",
       "    </tr>\n",
       "    <tr>\n",
       "      <th>...</th>\n",
       "      <td>...</td>\n",
       "      <td>...</td>\n",
       "      <td>...</td>\n",
       "      <td>...</td>\n",
       "      <td>...</td>\n",
       "      <td>...</td>\n",
       "      <td>...</td>\n",
       "      <td>...</td>\n",
       "      <td>...</td>\n",
       "      <td>...</td>\n",
       "      <td>...</td>\n",
       "      <td>...</td>\n",
       "      <td>...</td>\n",
       "      <td>...</td>\n",
       "      <td>...</td>\n",
       "      <td>...</td>\n",
       "      <td>...</td>\n",
       "      <td>...</td>\n",
       "      <td>...</td>\n",
       "      <td>...</td>\n",
       "      <td>...</td>\n",
       "      <td>...</td>\n",
       "      <td>...</td>\n",
       "      <td>...</td>\n",
       "      <td>...</td>\n",
       "      <td>...</td>\n",
       "      <td>...</td>\n",
       "      <td>...</td>\n",
       "      <td>...</td>\n",
       "      <td>...</td>\n",
       "      <td>...</td>\n",
       "      <td>...</td>\n",
       "      <td>...</td>\n",
       "      <td>...</td>\n",
       "      <td>...</td>\n",
       "      <td>...</td>\n",
       "      <td>...</td>\n",
       "      <td>...</td>\n",
       "    </tr>\n",
       "    <tr>\n",
       "      <th>77284</th>\n",
       "      <td>BR</td>\n",
       "      <td>Brasil</td>\n",
       "      <td>TO</td>\n",
       "      <td>Tocantins</td>\n",
       "      <td>1722107</td>\n",
       "      <td>Xambioá</td>\n",
       "      <td>11540</td>\n",
       "      <td>Região de Saúde do Médio Araguaia</td>\n",
       "      <td>2020-02-01 00:00:00</td>\n",
       "      <td>SUS</td>\n",
       "      <td>NaN</td>\n",
       "      <td>2020-02-01 00:00:00</td>\n",
       "      <td>SUS</td>\n",
       "      <td>5.6</td>\n",
       "      <td>2020-02-01 00:00:00</td>\n",
       "      <td>SUS</td>\n",
       "      <td>NaN</td>\n",
       "      <td>Xambioá</td>\n",
       "      <td>2020-05-09</td>\n",
       "      <td>19.0</td>\n",
       "      <td>11540.0</td>\n",
       "      <td>False</td>\n",
       "      <td>False</td>\n",
       "      <td>2.0</td>\n",
       "      <td>17.33102</td>\n",
       "      <td>2020-05-09</td>\n",
       "      <td>0.0</td>\n",
       "      <td>0.0</td>\n",
       "      <td>1.0</td>\n",
       "      <td>city</td>\n",
       "      <td>TO</td>\n",
       "      <td>2.0</td>\n",
       "      <td>0.0</td>\n",
       "      <td>2.0</td>\n",
       "      <td>1.0</td>\n",
       "      <td>1.0</td>\n",
       "      <td>2.0</td>\n",
       "      <td>2020-05-13 23:49:35</td>\n",
       "    </tr>\n",
       "    <tr>\n",
       "      <th>77285</th>\n",
       "      <td>BR</td>\n",
       "      <td>Brasil</td>\n",
       "      <td>TO</td>\n",
       "      <td>Tocantins</td>\n",
       "      <td>1722107</td>\n",
       "      <td>Xambioá</td>\n",
       "      <td>11540</td>\n",
       "      <td>Região de Saúde do Médio Araguaia</td>\n",
       "      <td>2020-02-01 00:00:00</td>\n",
       "      <td>SUS</td>\n",
       "      <td>NaN</td>\n",
       "      <td>2020-02-01 00:00:00</td>\n",
       "      <td>SUS</td>\n",
       "      <td>5.6</td>\n",
       "      <td>2020-02-01 00:00:00</td>\n",
       "      <td>SUS</td>\n",
       "      <td>NaN</td>\n",
       "      <td>Xambioá</td>\n",
       "      <td>2020-05-10</td>\n",
       "      <td>20.0</td>\n",
       "      <td>11540.0</td>\n",
       "      <td>False</td>\n",
       "      <td>False</td>\n",
       "      <td>4.0</td>\n",
       "      <td>34.66205</td>\n",
       "      <td>2020-05-10</td>\n",
       "      <td>0.0</td>\n",
       "      <td>0.0</td>\n",
       "      <td>2.0</td>\n",
       "      <td>city</td>\n",
       "      <td>TO</td>\n",
       "      <td>2.0</td>\n",
       "      <td>0.0</td>\n",
       "      <td>4.0</td>\n",
       "      <td>1.0</td>\n",
       "      <td>1.0</td>\n",
       "      <td>4.0</td>\n",
       "      <td>2020-05-13 23:49:35</td>\n",
       "    </tr>\n",
       "    <tr>\n",
       "      <th>77286</th>\n",
       "      <td>BR</td>\n",
       "      <td>Brasil</td>\n",
       "      <td>TO</td>\n",
       "      <td>Tocantins</td>\n",
       "      <td>1722107</td>\n",
       "      <td>Xambioá</td>\n",
       "      <td>11540</td>\n",
       "      <td>Região de Saúde do Médio Araguaia</td>\n",
       "      <td>2020-02-01 00:00:00</td>\n",
       "      <td>SUS</td>\n",
       "      <td>NaN</td>\n",
       "      <td>2020-02-01 00:00:00</td>\n",
       "      <td>SUS</td>\n",
       "      <td>5.6</td>\n",
       "      <td>2020-02-01 00:00:00</td>\n",
       "      <td>SUS</td>\n",
       "      <td>NaN</td>\n",
       "      <td>Xambioá</td>\n",
       "      <td>2020-05-11</td>\n",
       "      <td>20.0</td>\n",
       "      <td>11540.0</td>\n",
       "      <td>True</td>\n",
       "      <td>False</td>\n",
       "      <td>5.0</td>\n",
       "      <td>43.32756</td>\n",
       "      <td>2020-05-11</td>\n",
       "      <td>0.0</td>\n",
       "      <td>0.0</td>\n",
       "      <td>3.0</td>\n",
       "      <td>city</td>\n",
       "      <td>TO</td>\n",
       "      <td>1.0</td>\n",
       "      <td>0.0</td>\n",
       "      <td>5.0</td>\n",
       "      <td>1.0</td>\n",
       "      <td>1.0</td>\n",
       "      <td>5.0</td>\n",
       "      <td>2020-05-13 23:49:35</td>\n",
       "    </tr>\n",
       "    <tr>\n",
       "      <th>77287</th>\n",
       "      <td>BR</td>\n",
       "      <td>Brasil</td>\n",
       "      <td>TO</td>\n",
       "      <td>Tocantins</td>\n",
       "      <td>1722107</td>\n",
       "      <td>Xambioá</td>\n",
       "      <td>11540</td>\n",
       "      <td>Região de Saúde do Médio Araguaia</td>\n",
       "      <td>2020-02-01 00:00:00</td>\n",
       "      <td>SUS</td>\n",
       "      <td>NaN</td>\n",
       "      <td>2020-02-01 00:00:00</td>\n",
       "      <td>SUS</td>\n",
       "      <td>5.6</td>\n",
       "      <td>2020-02-01 00:00:00</td>\n",
       "      <td>SUS</td>\n",
       "      <td>NaN</td>\n",
       "      <td>Xambioá</td>\n",
       "      <td>2020-05-12</td>\n",
       "      <td>20.0</td>\n",
       "      <td>11540.0</td>\n",
       "      <td>False</td>\n",
       "      <td>True</td>\n",
       "      <td>5.0</td>\n",
       "      <td>43.32756</td>\n",
       "      <td>2020-05-11</td>\n",
       "      <td>0.0</td>\n",
       "      <td>0.0</td>\n",
       "      <td>4.0</td>\n",
       "      <td>city</td>\n",
       "      <td>TO</td>\n",
       "      <td>0.0</td>\n",
       "      <td>0.0</td>\n",
       "      <td>5.0</td>\n",
       "      <td>1.0</td>\n",
       "      <td>1.0</td>\n",
       "      <td>5.0</td>\n",
       "      <td>2020-05-13 23:49:35</td>\n",
       "    </tr>\n",
       "    <tr>\n",
       "      <th>77288</th>\n",
       "      <td>BR</td>\n",
       "      <td>Brasil</td>\n",
       "      <td>TO</td>\n",
       "      <td>Tocantins</td>\n",
       "      <td>1722107</td>\n",
       "      <td>Xambioá</td>\n",
       "      <td>11540</td>\n",
       "      <td>Região de Saúde do Médio Araguaia</td>\n",
       "      <td>2020-02-01 00:00:00</td>\n",
       "      <td>SUS</td>\n",
       "      <td>NaN</td>\n",
       "      <td>2020-02-01 00:00:00</td>\n",
       "      <td>SUS</td>\n",
       "      <td>5.6</td>\n",
       "      <td>2020-02-01 00:00:00</td>\n",
       "      <td>SUS</td>\n",
       "      <td>NaN</td>\n",
       "      <td>Xambioá</td>\n",
       "      <td>2020-05-13</td>\n",
       "      <td>20.0</td>\n",
       "      <td>11540.0</td>\n",
       "      <td>False</td>\n",
       "      <td>True</td>\n",
       "      <td>5.0</td>\n",
       "      <td>43.32756</td>\n",
       "      <td>2020-05-11</td>\n",
       "      <td>0.0</td>\n",
       "      <td>0.0</td>\n",
       "      <td>5.0</td>\n",
       "      <td>city</td>\n",
       "      <td>TO</td>\n",
       "      <td>0.0</td>\n",
       "      <td>0.0</td>\n",
       "      <td>5.0</td>\n",
       "      <td>1.0</td>\n",
       "      <td>1.0</td>\n",
       "      <td>5.0</td>\n",
       "      <td>2020-05-13 23:49:35</td>\n",
       "    </tr>\n",
       "  </tbody>\n",
       "</table>\n",
       "<p>77289 rows × 38 columns</p>\n",
       "</div>"
      ],
      "text/plain": [
       "      country_iso country_name state_id state_name  city_id   city_name  \\\n",
       "0              BR       Brasil       AC       Acre  1200013  Acrelândia   \n",
       "1              BR       Brasil       AC       Acre  1200013  Acrelândia   \n",
       "2              BR       Brasil       AC       Acre  1200013  Acrelândia   \n",
       "3              BR       Brasil       AC       Acre  1200013  Acrelândia   \n",
       "4              BR       Brasil       AC       Acre  1200013  Acrelândia   \n",
       "...           ...          ...      ...        ...      ...         ...   \n",
       "77284          BR       Brasil       TO  Tocantins  1722107     Xambioá   \n",
       "77285          BR       Brasil       TO  Tocantins  1722107     Xambioá   \n",
       "77286          BR       Brasil       TO  Tocantins  1722107     Xambioá   \n",
       "77287          BR       Brasil       TO  Tocantins  1722107     Xambioá   \n",
       "77288          BR       Brasil       TO  Tocantins  1722107     Xambioá   \n",
       "\n",
       "       population               health_system_region  \\\n",
       "0           15256                               Acre   \n",
       "1           15256                               Acre   \n",
       "2           15256                               Acre   \n",
       "3           15256                               Acre   \n",
       "4           15256                               Acre   \n",
       "...           ...                                ...   \n",
       "77284       11540  Região de Saúde do Médio Araguaia   \n",
       "77285       11540  Região de Saúde do Médio Araguaia   \n",
       "77286       11540  Região de Saúde do Médio Araguaia   \n",
       "77287       11540  Região de Saúde do Médio Araguaia   \n",
       "77288       11540  Região de Saúde do Médio Araguaia   \n",
       "\n",
       "      last_updated_number_ventilators author_number_ventilators  \\\n",
       "0                 2020-02-01 00:00:00                       SUS   \n",
       "1                 2020-02-01 00:00:00                       SUS   \n",
       "2                 2020-02-01 00:00:00                       SUS   \n",
       "3                 2020-02-01 00:00:00                       SUS   \n",
       "4                 2020-02-01 00:00:00                       SUS   \n",
       "...                               ...                       ...   \n",
       "77284             2020-02-01 00:00:00                       SUS   \n",
       "77285             2020-02-01 00:00:00                       SUS   \n",
       "77286             2020-02-01 00:00:00                       SUS   \n",
       "77287             2020-02-01 00:00:00                       SUS   \n",
       "77288             2020-02-01 00:00:00                       SUS   \n",
       "\n",
       "       number_ventilators last_updated_number_beds author_number_beds  \\\n",
       "0                     NaN      2020-02-01 00:00:00                SUS   \n",
       "1                     NaN      2020-02-01 00:00:00                SUS   \n",
       "2                     NaN      2020-02-01 00:00:00                SUS   \n",
       "3                     NaN      2020-02-01 00:00:00                SUS   \n",
       "4                     NaN      2020-02-01 00:00:00                SUS   \n",
       "...                   ...                      ...                ...   \n",
       "77284                 NaN      2020-02-01 00:00:00                SUS   \n",
       "77285                 NaN      2020-02-01 00:00:00                SUS   \n",
       "77286                 NaN      2020-02-01 00:00:00                SUS   \n",
       "77287                 NaN      2020-02-01 00:00:00                SUS   \n",
       "77288                 NaN      2020-02-01 00:00:00                SUS   \n",
       "\n",
       "       number_beds last_updated_number_icu_beds author_number_icu_beds  \\\n",
       "0              3.2          2020-02-01 00:00:00                    SUS   \n",
       "1              3.2          2020-02-01 00:00:00                    SUS   \n",
       "2              3.2          2020-02-01 00:00:00                    SUS   \n",
       "3              3.2          2020-02-01 00:00:00                    SUS   \n",
       "4              3.2          2020-02-01 00:00:00                    SUS   \n",
       "...            ...                          ...                    ...   \n",
       "77284          5.6          2020-02-01 00:00:00                    SUS   \n",
       "77285          5.6          2020-02-01 00:00:00                    SUS   \n",
       "77286          5.6          2020-02-01 00:00:00                    SUS   \n",
       "77287          5.6          2020-02-01 00:00:00                    SUS   \n",
       "77288          5.6          2020-02-01 00:00:00                    SUS   \n",
       "\n",
       "       number_icu_beds        city last_updated  epidemiological_week  \\\n",
       "0                  NaN  Acrelândia   2020-03-29                  14.0   \n",
       "1                  NaN  Acrelândia   2020-03-30                  14.0   \n",
       "2                  NaN  Acrelândia   2020-03-31                  14.0   \n",
       "3                  NaN  Acrelândia   2020-04-01                  14.0   \n",
       "4                  NaN  Acrelândia   2020-04-02                  14.0   \n",
       "...                ...         ...          ...                   ...   \n",
       "77284              NaN     Xambioá   2020-05-09                  19.0   \n",
       "77285              NaN     Xambioá   2020-05-10                  20.0   \n",
       "77286              NaN     Xambioá   2020-05-11                  20.0   \n",
       "77287              NaN     Xambioá   2020-05-12                  20.0   \n",
       "77288              NaN     Xambioá   2020-05-13                  20.0   \n",
       "\n",
       "       estimated_population_2019 is_last is_repeated  confirmed_cases  \\\n",
       "0                        15256.0   False       False              2.0   \n",
       "1                        15256.0   False       False              6.0   \n",
       "2                        15256.0   False       False              7.0   \n",
       "3                        15256.0   False       False              8.0   \n",
       "4                        15256.0   False       False              8.0   \n",
       "...                          ...     ...         ...              ...   \n",
       "77284                    11540.0   False       False              2.0   \n",
       "77285                    11540.0   False       False              4.0   \n",
       "77286                    11540.0    True       False              5.0   \n",
       "77287                    11540.0   False        True              5.0   \n",
       "77288                    11540.0   False        True              5.0   \n",
       "\n",
       "       last_available_confirmed_per_100k_inhabitants last_available_date  \\\n",
       "0                                           13.10960          2020-03-29   \n",
       "1                                           39.32879          2020-03-30   \n",
       "2                                           45.88359          2020-03-31   \n",
       "3                                           52.43838          2020-04-01   \n",
       "4                                           52.43838          2020-04-02   \n",
       "...                                              ...                 ...   \n",
       "77284                                       17.33102          2020-05-09   \n",
       "77285                                       34.66205          2020-05-10   \n",
       "77286                                       43.32756          2020-05-11   \n",
       "77287                                       43.32756          2020-05-11   \n",
       "77288                                       43.32756          2020-05-11   \n",
       "\n",
       "       last_available_death_rate  deaths  order_for_place place_type state  \\\n",
       "0                            0.0     0.0              1.0       city    AC   \n",
       "1                            0.0     0.0              2.0       city    AC   \n",
       "2                            0.0     0.0              3.0       city    AC   \n",
       "3                            0.0     0.0              4.0       city    AC   \n",
       "4                            0.0     0.0              5.0       city    AC   \n",
       "...                          ...     ...              ...        ...   ...   \n",
       "77284                        0.0     0.0              1.0       city    TO   \n",
       "77285                        0.0     0.0              2.0       city    TO   \n",
       "77286                        0.0     0.0              3.0       city    TO   \n",
       "77287                        0.0     0.0              4.0       city    TO   \n",
       "77288                        0.0     0.0              5.0       city    TO   \n",
       "\n",
       "       daily_cases  new_deaths  infectious_period_cases  \\\n",
       "0              2.0         0.0                      2.0   \n",
       "1              4.0         0.0                      6.0   \n",
       "2              1.0         0.0                      7.0   \n",
       "3              1.0         0.0                      8.0   \n",
       "4              0.0         0.0                      8.0   \n",
       "...            ...         ...                      ...   \n",
       "77284          2.0         0.0                      2.0   \n",
       "77285          2.0         0.0                      4.0   \n",
       "77286          1.0         0.0                      5.0   \n",
       "77287          0.0         0.0                      5.0   \n",
       "77288          0.0         0.0                      5.0   \n",
       "\n",
       "       state_notification_rate  notification_rate  active_cases  \\\n",
       "0                          NaN                NaN           2.0   \n",
       "1                          NaN                NaN           6.0   \n",
       "2                          NaN                NaN           7.0   \n",
       "3                          NaN                NaN           8.0   \n",
       "4                          NaN                NaN           8.0   \n",
       "...                        ...                ...           ...   \n",
       "77284                      1.0                1.0           2.0   \n",
       "77285                      1.0                1.0           4.0   \n",
       "77286                      1.0                1.0           5.0   \n",
       "77287                      1.0                1.0           5.0   \n",
       "77288                      1.0                1.0           5.0   \n",
       "\n",
       "       data_last_refreshed  \n",
       "0      2020-05-13 23:49:35  \n",
       "1      2020-05-13 23:49:35  \n",
       "2      2020-05-13 23:49:35  \n",
       "3      2020-05-13 23:49:35  \n",
       "4      2020-05-13 23:49:35  \n",
       "...                    ...  \n",
       "77284  2020-05-13 23:49:35  \n",
       "77285  2020-05-13 23:49:35  \n",
       "77286  2020-05-13 23:49:35  \n",
       "77287  2020-05-13 23:49:35  \n",
       "77288  2020-05-13 23:49:35  \n",
       "\n",
       "[77289 rows x 38 columns]"
      ]
     },
     "execution_count": 17,
     "metadata": {},
     "output_type": "execute_result"
    }
   ],
   "source": [
    "df = pd.read_csv('http://localhost:7000/v1/raw/csv')\n",
    "df['last_updated'] = pd.to_datetime(df['last_updated'])\n",
    "df"
   ]
  },
  {
   "cell_type": "code",
   "execution_count": 4,
   "metadata": {},
   "outputs": [],
   "source": [
    "# df = pd.read_csv('data/raw/br_cases_city_daily_notification_rate.csv', index_col=0)\n",
    "# df"
   ]
  },
  {
   "cell_type": "markdown",
   "metadata": {},
   "source": [
    "## States heatmap"
   ]
  },
  {
   "cell_type": "code",
   "execution_count": 18,
   "metadata": {},
   "outputs": [],
   "source": [
    "def get_rolling_amount(grp):\n",
    "    return grp.rolling(5, min_periods=1, on='last_updated')['deaths'].mean()\n",
    "\n",
    "df_deaths = df[~df['deaths'].isnull()][['state_id', 'last_updated', 'deaths']]\\\n",
    "                                                .groupby(['state_id', 'last_updated'])['deaths']\\\n",
    "                                                .sum()\\\n",
    "                                                .reset_index()\n",
    "\n",
    "df_deaths['rolling_deaths_new'] = df_deaths.groupby('state_id', \n",
    "                                                    as_index=False, \n",
    "                                                    group_keys=False)\\\n",
    "                                           .apply(get_rolling_amount)"
   ]
  },
  {
   "cell_type": "code",
   "execution_count": 19,
   "metadata": {},
   "outputs": [
    {
     "data": {
      "text/html": [
       "<div>\n",
       "<style scoped>\n",
       "    .dataframe tbody tr th:only-of-type {\n",
       "        vertical-align: middle;\n",
       "    }\n",
       "\n",
       "    .dataframe tbody tr th {\n",
       "        vertical-align: top;\n",
       "    }\n",
       "\n",
       "    .dataframe thead th {\n",
       "        text-align: right;\n",
       "    }\n",
       "</style>\n",
       "<table border=\"1\" class=\"dataframe\">\n",
       "  <thead>\n",
       "    <tr style=\"text-align: right;\">\n",
       "      <th></th>\n",
       "      <th>state_id</th>\n",
       "      <th>last_updated</th>\n",
       "      <th>deaths</th>\n",
       "      <th>rolling_deaths_new</th>\n",
       "    </tr>\n",
       "  </thead>\n",
       "  <tbody>\n",
       "    <tr>\n",
       "      <th>0</th>\n",
       "      <td>AC</td>\n",
       "      <td>2020-03-17</td>\n",
       "      <td>0.0</td>\n",
       "      <td>0.0</td>\n",
       "    </tr>\n",
       "    <tr>\n",
       "      <th>1</th>\n",
       "      <td>AC</td>\n",
       "      <td>2020-03-18</td>\n",
       "      <td>0.0</td>\n",
       "      <td>0.0</td>\n",
       "    </tr>\n",
       "    <tr>\n",
       "      <th>2</th>\n",
       "      <td>AC</td>\n",
       "      <td>2020-03-19</td>\n",
       "      <td>0.0</td>\n",
       "      <td>0.0</td>\n",
       "    </tr>\n",
       "    <tr>\n",
       "      <th>3</th>\n",
       "      <td>AC</td>\n",
       "      <td>2020-03-20</td>\n",
       "      <td>0.0</td>\n",
       "      <td>0.0</td>\n",
       "    </tr>\n",
       "    <tr>\n",
       "      <th>4</th>\n",
       "      <td>AC</td>\n",
       "      <td>2020-03-21</td>\n",
       "      <td>0.0</td>\n",
       "      <td>0.0</td>\n",
       "    </tr>\n",
       "    <tr>\n",
       "      <th>...</th>\n",
       "      <td>...</td>\n",
       "      <td>...</td>\n",
       "      <td>...</td>\n",
       "      <td>...</td>\n",
       "    </tr>\n",
       "    <tr>\n",
       "      <th>1653</th>\n",
       "      <td>TO</td>\n",
       "      <td>2020-05-09</td>\n",
       "      <td>11.0</td>\n",
       "      <td>9.4</td>\n",
       "    </tr>\n",
       "    <tr>\n",
       "      <th>1654</th>\n",
       "      <td>TO</td>\n",
       "      <td>2020-05-10</td>\n",
       "      <td>12.0</td>\n",
       "      <td>10.0</td>\n",
       "    </tr>\n",
       "    <tr>\n",
       "      <th>1655</th>\n",
       "      <td>TO</td>\n",
       "      <td>2020-05-11</td>\n",
       "      <td>14.0</td>\n",
       "      <td>11.0</td>\n",
       "    </tr>\n",
       "    <tr>\n",
       "      <th>1656</th>\n",
       "      <td>TO</td>\n",
       "      <td>2020-05-12</td>\n",
       "      <td>14.0</td>\n",
       "      <td>12.0</td>\n",
       "    </tr>\n",
       "    <tr>\n",
       "      <th>1657</th>\n",
       "      <td>TO</td>\n",
       "      <td>2020-05-13</td>\n",
       "      <td>14.0</td>\n",
       "      <td>13.0</td>\n",
       "    </tr>\n",
       "  </tbody>\n",
       "</table>\n",
       "<p>1658 rows × 4 columns</p>\n",
       "</div>"
      ],
      "text/plain": [
       "     state_id last_updated  deaths  rolling_deaths_new\n",
       "0          AC   2020-03-17     0.0                 0.0\n",
       "1          AC   2020-03-18     0.0                 0.0\n",
       "2          AC   2020-03-19     0.0                 0.0\n",
       "3          AC   2020-03-20     0.0                 0.0\n",
       "4          AC   2020-03-21     0.0                 0.0\n",
       "...       ...          ...     ...                 ...\n",
       "1653       TO   2020-05-09    11.0                 9.4\n",
       "1654       TO   2020-05-10    12.0                10.0\n",
       "1655       TO   2020-05-11    14.0                11.0\n",
       "1656       TO   2020-05-12    14.0                12.0\n",
       "1657       TO   2020-05-13    14.0                13.0\n",
       "\n",
       "[1658 rows x 4 columns]"
      ]
     },
     "execution_count": 19,
     "metadata": {},
     "output_type": "execute_result"
    }
   ],
   "source": [
    "df_deaths"
   ]
  },
  {
   "cell_type": "code",
   "execution_count": 28,
   "metadata": {},
   "outputs": [],
   "source": [
    "def _df_to_plotly(df):\n",
    "    return {'z': df.values.tolist(),\n",
    "            'x': df.columns.tolist(),\n",
    "            'y': df.index.tolist()}\n",
    "    \n",
    "def plot_deaths_heatmap(t, place_type, title):\n",
    "    \n",
    "    df_heatmap = t.reset_index()\\\n",
    "                          .pivot(index=place_type, \n",
    "                                  columns='last_updated', \n",
    "                                  values='rolling_deaths_new')\\\n",
    "                           .apply(lambda x: x/x.max(), axis=1)\\\n",
    "                           .fillna(0)\\\n",
    "                           .dropna(how='all')\n",
    "\n",
    "    # remove days with all states zero\n",
    "    df_heatmap = df_heatmap.loc[:, (df_heatmap != 0).any(axis=0)]\n",
    "    print(len(df_heatmap))\n",
    "\n",
    "    fig = go.Figure(data=go.Heatmap(_df_to_plotly(df_heatmap), \n",
    "                                    colorscale='temps'), \n",
    "                    layout={'width': 600,\n",
    "                            'height': 800,\n",
    "                            'title': title})\n",
    "    fig.show()"
   ]
  },
  {
   "cell_type": "code",
   "execution_count": 29,
   "metadata": {},
   "outputs": [
    {
     "name": "stdout",
     "output_type": "stream",
     "text": [
      "27\n"
     ]
    },
    {
     "data": {
      "application/vnd.plotly.v1+json": {
       "config": {
        "plotlyServerURL": "https://plot.ly"
       },
       "data": [
        {
         "colorscale": [
          [
           0,
           "rgb(0, 147, 146)"
          ],
          [
           0.16666666666666666,
           "rgb(57, 177, 133)"
          ],
          [
           0.3333333333333333,
           "rgb(156, 203, 134)"
          ],
          [
           0.5,
           "rgb(233, 226, 156)"
          ],
          [
           0.6666666666666666,
           "rgb(238, 180, 121)"
          ],
          [
           0.8333333333333334,
           "rgb(232, 132, 113)"
          ],
          [
           1,
           "rgb(207, 89, 126)"
          ]
         ],
         "type": "heatmap",
         "x": [
          "2020-03-17T00:00:00",
          "2020-03-18T00:00:00",
          "2020-03-19T00:00:00",
          "2020-03-20T00:00:00",
          "2020-03-21T00:00:00",
          "2020-03-22T00:00:00",
          "2020-03-23T00:00:00",
          "2020-03-24T00:00:00",
          "2020-03-25T00:00:00",
          "2020-03-26T00:00:00",
          "2020-03-27T00:00:00",
          "2020-03-28T00:00:00",
          "2020-03-29T00:00:00",
          "2020-03-30T00:00:00",
          "2020-03-31T00:00:00",
          "2020-04-01T00:00:00",
          "2020-04-02T00:00:00",
          "2020-04-03T00:00:00",
          "2020-04-04T00:00:00",
          "2020-04-05T00:00:00",
          "2020-04-06T00:00:00",
          "2020-04-07T00:00:00",
          "2020-04-08T00:00:00",
          "2020-04-09T00:00:00",
          "2020-04-10T00:00:00",
          "2020-04-11T00:00:00",
          "2020-04-12T00:00:00",
          "2020-04-13T00:00:00",
          "2020-04-14T00:00:00",
          "2020-04-15T00:00:00",
          "2020-04-16T00:00:00",
          "2020-04-17T00:00:00",
          "2020-04-18T00:00:00",
          "2020-04-19T00:00:00",
          "2020-04-20T00:00:00",
          "2020-04-21T00:00:00",
          "2020-04-22T00:00:00",
          "2020-04-23T00:00:00",
          "2020-04-24T00:00:00",
          "2020-04-25T00:00:00",
          "2020-04-26T00:00:00",
          "2020-04-27T00:00:00",
          "2020-04-28T00:00:00",
          "2020-04-29T00:00:00",
          "2020-04-30T00:00:00",
          "2020-05-01T00:00:00",
          "2020-05-02T00:00:00",
          "2020-05-03T00:00:00",
          "2020-05-04T00:00:00",
          "2020-05-05T00:00:00",
          "2020-05-06T00:00:00",
          "2020-05-07T00:00:00",
          "2020-05-08T00:00:00",
          "2020-05-09T00:00:00",
          "2020-05-10T00:00:00",
          "2020-05-11T00:00:00",
          "2020-05-12T00:00:00",
          "2020-05-13T00:00:00"
         ],
         "y": [
          "AC",
          "AL",
          "AM",
          "AP",
          "BA",
          "CE",
          "DF",
          "ES",
          "GO",
          "MA",
          "MG",
          "MS",
          "MT",
          "PA",
          "PB",
          "PE",
          "PI",
          "PR",
          "RJ",
          "RN",
          "RO",
          "RR",
          "RS",
          "SC",
          "SE",
          "SP",
          "TO"
         ],
         "z": [
          [
           0,
           0,
           0,
           0,
           0,
           0,
           0,
           0,
           0,
           0,
           0,
           0,
           0,
           0,
           0,
           0,
           0,
           0,
           0,
           0,
           0.0043859649122807015,
           0.013157894736842105,
           0.021929824561403508,
           0.03070175438596491,
           0.039473684210526314,
           0.043859649122807015,
           0.043859649122807015,
           0.048245614035087724,
           0.05263157894736842,
           0.06140350877192982,
           0.07456140350877193,
           0.08771929824561403,
           0.10087719298245613,
           0.11403508771929824,
           0.13157894736842105,
           0.14473684210526314,
           0.15789473684210525,
           0.17543859649122806,
           0.19736842105263158,
           0.21052631578947367,
           0.22368421052631576,
           0.25,
           0.2763157894736842,
           0.30701754385964913,
           0.34210526315789475,
           0.3771929824561403,
           0.41228070175438597,
           0.4517543859649123,
           0.49561403508771934,
           0.5394736842105263,
           0.6096491228070176,
           0.6710526315789473,
           0.7280701754385965,
           0.7807017543859649,
           0.8333333333333333,
           0.8728070175438596,
           0.9385964912280701,
           1
          ],
          [
           0,
           0,
           0,
           0,
           0,
           0,
           0,
           0,
           0,
           0,
           0,
           0,
           0,
           0,
           0.001506024096385542,
           0.003012048192771084,
           0.004518072289156626,
           0.00753012048192771,
           0.010542168674698794,
           0.012048192771084336,
           0.013554216867469878,
           0.01506024096385542,
           0.01506024096385542,
           0.016566265060240965,
           0.018072289156626505,
           0.01957831325301205,
           0.02108433734939759,
           0.024096385542168672,
           0.025602409638554213,
           0.027108433734939756,
           0.028614457831325296,
           0.03313253012048193,
           0.0391566265060241,
           0.05271084337349397,
           0.07078313253012047,
           0.09036144578313252,
           0.10843373493975902,
           0.12650602409638553,
           0.14457831325301204,
           0.161144578313253,
           0.18072289156626503,
           0.20180722891566263,
           0.22289156626506024,
           0.2439759036144578,
           0.2710843373493976,
           0.30271084337349397,
           0.338855421686747,
           0.38102409638554213,
           0.4277108433734939,
           0.4774096385542168,
           0.5316265060240963,
           0.591867469879518,
           0.6581325301204819,
           0.7213855421686746,
           0.789156626506024,
           0.8614457831325301,
           0.9382530120481927,
           1
          ],
          [
           0,
           0,
           0,
           0,
           0,
           0,
           0,
           0.00019241870309794111,
           0.00038483740619588223,
           0.0005772561092938233,
           0.0007696748123917645,
           0.0009620935154897055,
           0.0009620935154897055,
           0.0011545122185876466,
           0.001539349624783529,
           0.001924187030979411,
           0.002309024437175293,
           0.0034635366557629397,
           0.00538772368674235,
           0.007696748123917644,
           0.0107754473734847,
           0.014623821435443524,
           0.01904945160669617,
           0.02443717529343852,
           0.031171829901866458,
           0.03771406580719646,
           0.045218395228016156,
           0.05310756205503175,
           0.0627284972099288,
           0.07350394458341351,
           0.08716567250336732,
           0.10313642486049643,
           0.12045410813931114,
           0.13796421012122378,
           0.1531652876659611,
           0.16644217817971904,
           0.17817971906869345,
           0.19222628439484318,
           0.2064652684240908,
           0.2260919761400808,
           0.24745045218395226,
           0.26938618433711753,
           0.29189917259957665,
           0.31595151048681924,
           0.3425052915143352,
           0.37560130844718104,
           0.4104290937079084,
           0.44833557821820275,
           0.4877814123532807,
           0.5308832018472195,
           0.5837983451991533,
           0.6424860496440253,
           0.7052145468539541,
           0.7777563979218779,
           0.846065037521647,
           0.9007119492014624,
           0.9568982105060612,
           1
          ],
          [
           0,
           0,
           0,
           0,
           0,
           0,
           0,
           0,
           0,
           0,
           0,
           0,
           0,
           0,
           0,
           0,
           0,
           0,
           0.0025906735751295338,
           0.0051813471502590676,
           0.010362694300518135,
           0.015544041450777202,
           0.02072538860103627,
           0.023316062176165803,
           0.025906735751295335,
           0.03367875647668394,
           0.04145077720207254,
           0.05181347150259067,
           0.06476683937823834,
           0.07772020725388601,
           0.09067357512953368,
           0.10362694300518134,
           0.11398963730569948,
           0.12435233160621761,
           0.13989637305699482,
           0.14766839378238342,
           0.15803108808290153,
           0.17357512953367876,
           0.1917098445595855,
           0.20984455958549222,
           0.23575129533678754,
           0.266839378238342,
           0.2979274611398964,
           0.3316062176165803,
           0.36787564766839376,
           0.40414507772020725,
           0.44041450777202074,
           0.4792746113989637,
           0.5259067357512953,
           0.5803108808290155,
           0.6295336787564767,
           0.6839378238341969,
           0.7435233160621761,
           0.7953367875647668,
           0.8393782383419689,
           0.883419689119171,
           0.9481865284974094,
           1
          ],
          [
           0,
           0,
           0,
           0,
           0,
           0,
           0,
           0,
           0,
           0,
           0,
           0,
           0.0009505703422053232,
           0.0028517110266159692,
           0.004752851711026616,
           0.006653992395437262,
           0.009505703422053232,
           0.014258555133079848,
           0.019011406844106463,
           0.025665399239543727,
           0.03326996197718631,
           0.04372623574144486,
           0.055133079847908745,
           0.06653992395437262,
           0.07604562737642585,
           0.0865019011406844,
           0.09315589353612168,
           0.09695817490494296,
           0.10361216730038023,
           0.11216730038022814,
           0.12452471482889733,
           0.13783269961977185,
           0.15399239543726234,
           0.17110266159695817,
           0.188212927756654,
           0.20057034220532322,
           0.21673003802281368,
           0.2376425855513308,
           0.2585551330798479,
           0.282319391634981,
           0.3070342205323194,
           0.33555133079847904,
           0.36501901140684406,
           0.3963878326996198,
           0.4287072243346008,
           0.4695817490494296,
           0.5076045627376425,
           0.5399239543726235,
           0.5779467680608364,
           0.6150190114068441,
           0.6549429657794678,
           0.6939163498098859,
           0.7461977186311787,
           0.7984790874524714,
           0.8517110266159695,
           0.903041825095057,
           0.9600760456273764,
           1
          ],
          [
           0,
           0,
           0,
           0,
           0,
           0,
           0,
           0,
           0,
           0.0005063291139240507,
           0.0010126582278481013,
           0.0016877637130801688,
           0.002531645569620253,
           0.0033755274261603376,
           0.004050632911392405,
           0.005063291139240506,
           0.004388185654008439,
           0.007257383966244726,
           0.010295358649789029,
           0.015021097046413502,
           0.019578059071729957,
           0.026329113924050632,
           0.03223628691983123,
           0.0379746835443038,
           0.04337552742616033,
           0.049789029535864976,
           0.05586497890295359,
           0.06312236286919831,
           0.07223628691983122,
           0.08185654008438818,
           0.09046413502109706,
           0.10379746835443038,
           0.11729957805907174,
           0.13046413502109705,
           0.14430379746835442,
           0.16050632911392404,
           0.17451476793248946,
           0.18970464135021098,
           0.20708860759493672,
           0.22717299578059072,
           0.25316455696202533,
           0.279831223628692,
           0.3044725738396625,
           0.33097046413502107,
           0.35898734177215186,
           0.38649789029535864,
           0.4270042194092827,
           0.470717299578059,
           0.5147679324894515,
           0.5657383966244726,
           0.6178902953586498,
           0.6624472573839663,
           0.7162869198312236,
           0.7756962025316456,
           0.829873417721519,
           0.8875949367088607,
           0.9517299578059072,
           1
          ],
          [
           0,
           0,
           0,
           0,
           0,
           0,
           0,
           0,
           0,
           0,
           0,
           0,
           0.004716981132075472,
           0.014150943396226415,
           0.02830188679245283,
           0.04716981132075472,
           0.07075471698113207,
           0.09433962264150944,
           0.1179245283018868,
           0.13679245283018868,
           0.16509433962264153,
           0.19811320754716982,
           0.22641509433962265,
           0.25471698113207547,
           0.28773584905660377,
           0.30660377358490565,
           0.31603773584905664,
           0.33018867924528306,
           0.34905660377358494,
           0.36320754716981135,
           0.3915094339622642,
           0.43867924528301894,
           0.4811320754716981,
           0.5141509433962265,
           0.5471698113207547,
           0.5660377358490566,
           0.5707547169811321,
           0.5801886792452831,
           0.589622641509434,
           0.6037735849056605,
           0.6179245283018868,
           0.6320754716981133,
           0.6415094339622641,
           0.6509433962264152,
           0.6650943396226415,
           0.6839622641509434,
           0.7028301886792453,
           0.7264150943396227,
           0.75,
           0.768867924528302,
           0.7877358490566038,
           0.8018867924528302,
           0.8160377358490567,
           0.839622641509434,
           0.8726415094339623,
           0.9103773584905661,
           0.9575471698113208,
           1
          ],
          [
           0,
           0,
           0,
           0,
           0,
           0,
           0,
           0,
           0,
           0,
           0,
           0,
           0,
           0,
           0,
           0,
           0.002066115702479339,
           0.007231404958677685,
           0.013429752066115703,
           0.01962809917355372,
           0.025826446280991736,
           0.029958677685950414,
           0.030991735537190084,
           0.032024793388429756,
           0.03409090909090909,
           0.0371900826446281,
           0.04545454545454546,
           0.05681818181818182,
           0.06818181818181818,
           0.08161157024793389,
           0.10020661157024793,
           0.11363636363636365,
           0.12603305785123967,
           0.1415289256198347,
           0.15392561983471076,
           0.16012396694214875,
           0.16942148760330578,
           0.1828512396694215,
           0.1962809917355372,
           0.21487603305785125,
           0.23863636363636365,
           0.265495867768595,
           0.3006198347107438,
           0.33884297520661155,
           0.381198347107438,
           0.42665289256198347,
           0.4690082644628099,
           0.5082644628099174,
           0.5485537190082644,
           0.5898760330578513,
           0.6363636363636364,
           0.691115702479339,
           0.7427685950413224,
           0.7933884297520661,
           0.8429752066115702,
           0.8946280991735537,
           0.9514462809917356,
           1
          ],
          [
           0,
           0,
           0,
           0,
           0,
           0,
           0,
           0,
           0,
           0.0038461538461538464,
           0.007692307692307693,
           0.011538461538461537,
           0.015384615384615385,
           0.019230769230769232,
           0.019230769230769232,
           0.019230769230769232,
           0.019230769230769232,
           0.023076923076923075,
           0.02692307692307692,
           0.03461538461538462,
           0.05,
           0.06538461538461539,
           0.08461538461538462,
           0.10384615384615385,
           0.12307692307692308,
           0.1423076923076923,
           0.1769230769230769,
           0.2076923076923077,
           0.23846153846153847,
           0.2653846153846154,
           0.28846153846153844,
           0.29615384615384616,
           0.3076923076923077,
           0.31923076923076926,
           0.3346153846153846,
           0.34615384615384615,
           0.36538461538461536,
           0.38461538461538464,
           0.40384615384615385,
           0.4230769230769231,
           0.4423076923076923,
           0.46153846153846156,
           0.4730769230769231,
           0.4846153846153846,
           0.5,
           0.5153846153846154,
           0.5269230769230769,
           0.5384615384615384,
           0.55,
           0.573076923076923,
           0.5961538461538461,
           0.6538461538461539,
           0.7307692307692307,
           0.8076923076923077,
           0.8653846153846154,
           0.9230769230769231,
           0.9538461538461539,
           1
          ],
          [
           0,
           0,
           0,
           0,
           0,
           0,
           0,
           0,
           0,
           0,
           0,
           0,
           0.0004786979415988511,
           0.0009573958831977022,
           0.0014360938247965534,
           0.0019147917663954045,
           0.0023934897079942556,
           0.0023934897079942556,
           0.0028721876495931067,
           0.0033508855911919574,
           0.004786979415988511,
           0.009573958831977022,
           0.014839636189564385,
           0.0215414073719483,
           0.030636668262326472,
           0.040210627094303494,
           0.04786979415988511,
           0.057443752991862135,
           0.06606031594064146,
           0.07371948300622307,
           0.08137865007180468,
           0.08951651507898516,
           0.09717568214456677,
           0.1067496409765438,
           0.11775969363331738,
           0.1302058401148875,
           0.14552417424605074,
           0.1646720919100048,
           0.18669219722355193,
           0.2115844901866922,
           0.2398276687410244,
           0.2728578267113451,
           0.3101962661560555,
           0.350406893250359,
           0.39444710387745335,
           0.44183820009573954,
           0.4858784107228339,
           0.5256103398755385,
           0.5672570607946386,
           0.6089037817137386,
           0.6476783149832456,
           0.6921972235519387,
           0.7429392053614169,
           0.7946385830540929,
           0.8463379607467688,
           0.9028243178554332,
           0.9573958831977022,
           1
          ],
          [
           0,
           0,
           0,
           0,
           0,
           0,
           0,
           0,
           0,
           0,
           0,
           0,
           0,
           0.0016339869281045752,
           0.004901960784313725,
           0.00980392156862745,
           0.016339869281045753,
           0.026143790849673203,
           0.03431372549019608,
           0.04084967320261438,
           0.05065359477124183,
           0.06209150326797385,
           0.07516339869281045,
           0.08986928104575163,
           0.10784313725490195,
           0.12091503267973856,
           0.13562091503267976,
           0.1503267973856209,
           0.16993464052287582,
           0.19117647058823528,
           0.2173202614379085,
           0.24183006535947713,
           0.2679738562091503,
           0.28758169934640526,
           0.3055555555555555,
           0.3235294117647059,
           0.3431372549019608,
           0.3627450980392157,
           0.38725490196078427,
           0.41503267973856206,
           0.44281045751633985,
           0.4673202614379085,
           0.5,
           0.542483660130719,
           0.5816993464052288,
           0.6258169934640522,
           0.6683006535947712,
           0.6977124183006536,
           0.7140522875816994,
           0.7336601307189542,
           0.7483660130718953,
           0.7777777777777778,
           0.8137254901960783,
           0.8594771241830065,
           0.9003267973856209,
           0.9395424836601307,
           0.9738562091503268,
           1
          ],
          [
           0,
           0,
           0,
           0,
           0,
           0,
           0,
           0,
           0,
           0,
           0,
           0,
           0,
           0,
           0.017543859649122806,
           0.03508771929824561,
           0.05263157894736842,
           0.07017543859649122,
           0.08771929824561403,
           0.08771929824561403,
           0.08771929824561403,
           0.10526315789473684,
           0.12280701754385964,
           0.14035087719298245,
           0.15789473684210525,
           0.17543859649122806,
           0.17543859649122806,
           0.21052631578947367,
           0.24561403508771928,
           0.2807017543859649,
           0.3333333333333333,
           0.3859649122807018,
           0.40350877192982454,
           0.42105263157894735,
           0.43859649122807015,
           0.45614035087719296,
           0.4736842105263158,
           0.5087719298245613,
           0.543859649122807,
           0.5789473684210525,
           0.5964912280701754,
           0.6491228070175439,
           0.6842105263157895,
           0.719298245614035,
           0.7543859649122806,
           0.7894736842105263,
           0.7894736842105263,
           0.8070175438596491,
           0.8245614035087719,
           0.8421052631578947,
           0.8596491228070176,
           0.8771929824561403,
           0.894736842105263,
           0.9122807017543859,
           0.9298245614035087,
           0.9473684210526316,
           0.9824561403508771,
           1
          ],
          [
           0,
           0,
           0,
           0,
           0,
           0,
           0,
           0,
           0,
           0,
           0,
           0,
           0,
           0,
           0,
           0,
           0,
           0.011363636363636364,
           0.022727272727272728,
           0.03409090909090909,
           0.045454545454545456,
           0.056818181818181816,
           0.056818181818181816,
           0.06818181818181818,
           0.07954545454545453,
           0.10227272727272727,
           0.125,
           0.15909090909090906,
           0.18181818181818182,
           0.20454545454545453,
           0.22727272727272727,
           0.25,
           0.2613636363636363,
           0.2727272727272727,
           0.2954545454545454,
           0.3068181818181818,
           0.3181818181818181,
           0.3409090909090909,
           0.37499999999999994,
           0.40909090909090906,
           0.4431818181818181,
           0.47727272727272724,
           0.5113636363636364,
           0.5340909090909091,
           0.5454545454545454,
           0.5568181818181818,
           0.5795454545454545,
           0.5909090909090908,
           0.6136363636363636,
           0.6363636363636362,
           0.6590909090909091,
           0.6818181818181818,
           0.7159090909090908,
           0.7499999999999999,
           0.8068181818181818,
           0.875,
           0.9431818181818182,
           1
          ],
          [
           0,
           0,
           0,
           0,
           0,
           0,
           0,
           0,
           0,
           0,
           0,
           0,
           0,
           0,
           0,
           0.0002551671344730799,
           0.0005103342689461598,
           0.0007655014034192397,
           0.0010206685378923196,
           0.0012758356723653994,
           0.0022965042102577188,
           0.0033171727481500386,
           0.0045930084205154376,
           0.006124011227353917,
           0.008165348303138557,
           0.009696351109977035,
           0.011992855320234756,
           0.014034192396019394,
           0.017606532278642513,
           0.02066853789231947,
           0.02449604490941567,
           0.029089053329931107,
           0.033937228884919624,
           0.03725440163306966,
           0.04082674151569278,
           0.043888747129369736,
           0.04669558560857362,
           0.051798928298035216,
           0.06506761929063537,
           0.08037764735902016,
           0.09977034957897424,
           0.11992855320234755,
           0.14008675682572086,
           0.15794845623883644,
           0.19086501658586374,
           0.22888491962235266,
           0.27583567236539935,
           0.3230415922429191,
           0.3710130135238582,
           0.4095432508292932,
           0.4470528195968359,
           0.4934932380709365,
           0.559071191630518,
           0.6269456494003572,
           0.702730288338862,
           0.805052309262567,
           0.913498341413626,
           1
          ],
          [
           0,
           0,
           0,
           0,
           0,
           0,
           0,
           0,
           0,
           0,
           0,
           0,
           0,
           0,
           0.0014164305949008501,
           0.0028328611898017003,
           0.00424929178470255,
           0.005665722379603401,
           0.009915014164305949,
           0.0141643059490085,
           0.01841359773371105,
           0.022662889518413602,
           0.031161473087818702,
           0.042492917847025496,
           0.052407932011331454,
           0.06515580736543909,
           0.07790368271954674,
           0.09065155807365441,
           0.10481586402266291,
           0.12322946175637393,
           0.141643059490085,
           0.16288951841359775,
           0.18130311614730882,
           0.19688385269121816,
           0.20963172804532582,
           0.22804532577903686,
           0.24504249291784705,
           0.2662889518413598,
           0.28611898016997167,
           0.3087818696883853,
           0.3243626062322946,
           0.34277620396600567,
           0.36118980169971676,
           0.38385269121813037,
           0.4093484419263456,
           0.44334277620396606,
           0.4759206798866856,
           0.5070821529745042,
           0.5396600566572238,
           0.5750708215297451,
           0.613314447592068,
           0.6628895184135978,
           0.7124645892351275,
           0.7677053824362607,
           0.8286118980169972,
           0.8824362606232294,
           0.943342776203966,
           1
          ],
          [
           0,
           0,
           0,
           0,
           0,
           0,
           0,
           0,
           0.00019853087155052612,
           0.0005955926146515783,
           0.0011911852293031565,
           0.0019853087155052612,
           0.0027794322017073653,
           0.0035735556879094702,
           0.004169148302561048,
           0.004963271788763153,
           0.005757395274965257,
           0.006750049632717888,
           0.008338296605122097,
           0.011316259678379988,
           0.015683938852491565,
           0.020647210641254715,
           0.027794322017073655,
           0.03613261862219575,
           0.0448679769704189,
           0.053206273575541,
           0.06333134802461783,
           0.07444907683144729,
           0.08616239825292833,
           0.10164780623386938,
           0.11911852293031566,
           0.1391701409569188,
           0.159618820726623,
           0.17967043875322614,
           0.197736748064324,
           0.2175898352193766,
           0.23664879888822712,
           0.2578916021441334,
           0.28409767718880286,
           0.3132817153067302,
           0.3440540003970618,
           0.37740718681755014,
           0.41631923764145323,
           0.4540401032360532,
           0.49056978360135,
           0.5276950565812984,
           0.5628350208457416,
           0.5910264046059162,
           0.6210045662100457,
           0.6456223942823109,
           0.6628945801072066,
           0.7057772483621203,
           0.7440937065713719,
           0.7998808814770697,
           0.870557871749057,
           0.9491760968830654,
           0.9745880484415327,
           1
          ],
          [
           0,
           0,
           0,
           0,
           0,
           0,
           0,
           0,
           0,
           0,
           0.004,
           0.008,
           0.012,
           0.027999999999999997,
           0.044000000000000004,
           0.055999999999999994,
           0.068,
           0.08,
           0.08,
           0.08,
           0.08,
           0.084,
           0.092,
           0.10400000000000001,
           0.11599999999999999,
           0.128,
           0.136,
           0.14400000000000002,
           0.14800000000000002,
           0.152,
           0.156,
           0.16399999999999998,
           0.172,
           0.188,
           0.212,
           0.24,
           0.264,
           0.28800000000000003,
           0.308,
           0.324,
           0.344,
           0.368,
           0.4,
           0.428,
           0.452,
           0.47600000000000003,
           0.504,
           0.52,
           0.54,
           0.564,
           0.6,
           0.636,
           0.6759999999999999,
           0.728,
           0.7879999999999999,
           0.8440000000000001,
           0.924,
           1
          ],
          [
           0,
           0,
           0,
           0,
           0,
           0,
           0,
           0,
           0,
           0,
           0.0036166365280289334,
           0.007233273056057867,
           0.0108499095840868,
           0.0162748643761302,
           0.0216998191681736,
           0.02350813743218807,
           0.027124773960217,
           0.0325497287522604,
           0.03978300180831827,
           0.05244122965641953,
           0.07233273056057866,
           0.0922242314647378,
           0.11392405063291139,
           0.14285714285714288,
           0.16998191681735986,
           0.19168173598553345,
           0.21880650994575046,
           0.24593128390596747,
           0.2730560578661845,
           0.3001808318264015,
           0.3273056057866185,
           0.3490054249547921,
           0.3761301989150091,
           0.39783001808318263,
           0.41772151898734183,
           0.43942133815551543,
           0.46835443037974683,
           0.49186256781193494,
           0.5189873417721519,
           0.5515370705244124,
           0.5877034358047016,
           0.6184448462929476,
           0.6491862567811935,
           0.6799276672694394,
           0.7106690777576853,
           0.7396021699819169,
           0.7667269439421338,
           0.7956600361663653,
           0.8173598553345389,
           0.840867992766727,
           0.8625678119349006,
           0.8878842676311032,
           0.9113924050632911,
           0.9349005424954793,
           0.952983725135624,
           0.9710669077757687,
           0.9873417721518988,
           1
          ],
          [
           0,
           0,
           0.00022239519626376074,
           0.0004447903925275215,
           0.0007783831869231625,
           0.0011119759813188036,
           0.001556766373846325,
           0.0020015567663738466,
           0.0026687423551651286,
           0.0033359279439564107,
           0.0041143111308795735,
           0.005115089514066496,
           0.00633826309351718,
           0.007450239074835984,
           0.009007005448682309,
           0.011008562215056156,
           0.014122094962748804,
           0.017458022906705215,
           0.021905926831980428,
           0.026465028355387527,
           0.03124652507505838,
           0.03658400978538864,
           0.043144668075169576,
           0.050261314355609925,
           0.05949071500055599,
           0.06883131324363394,
           0.07783831869231625,
           0.08628933615033915,
           0.09763149115979095,
           0.11075280773935282,
           0.12698765706660736,
           0.14600244634715892,
           0.1687979539641944,
           0.1885911264316691,
           0.20604914933837432,
           0.2236183698432114,
           0.24018681196486158,
           0.2559768708995886,
           0.2746580673857445,
           0.2961192038251974,
           0.3168019570777271,
           0.3375959079283888,
           0.36083620593795174,
           0.3857444679194929,
           0.4123206938730124,
           0.4430112309574113,
           0.47570332480818417,
           0.5069498498832425,
           0.5370843989769821,
           0.5669965528744579,
           0.598576670743912,
           0.6456132547536974,
           0.6994328922495274,
           0.7648170799510731,
           0.8305348604470144,
           0.8933615033915268,
           0.9527410207939508,
           1
          ],
          [
           0,
           0,
           0,
           0,
           0,
           0,
           0,
           0,
           0,
           0,
           0,
           0.002272727272727273,
           0.004545454545454546,
           0.006818181818181818,
           0.009090909090909092,
           0.013636363636363636,
           0.015909090909090907,
           0.022727272727272728,
           0.029545454545454545,
           0.04318181818181818,
           0.05454545454545454,
           0.06818181818181818,
           0.08409090909090909,
           0.1,
           0.10909090909090909,
           0.12272727272727274,
           0.1431818181818182,
           0.1590909090909091,
           0.17727272727272728,
           0.19772727272727272,
           0.22045454545454543,
           0.23636363636363636,
           0.2545454545454545,
           0.2727272727272727,
           0.29090909090909095,
           0.30454545454545456,
           0.32727272727272727,
           0.3522727272727273,
           0.3795454545454545,
           0.41363636363636364,
           0.4477272727272727,
           0.4772727272727273,
           0.5136363636363637,
           0.5499999999999999,
           0.5772727272727273,
           0.6068181818181818,
           0.634090909090909,
           0.65,
           0.6749999999999999,
           0.7090909090909091,
           0.7477272727272727,
           0.7818181818181817,
           0.8386363636363636,
           0.8818181818181817,
           0.9159090909090909,
           0.9522727272727273,
           0.9886363636363636,
           1
          ],
          [
           0,
           0,
           0,
           0,
           0,
           0,
           0,
           0,
           0,
           0,
           0,
           0,
           0,
           0.004329004329004329,
           0.008658008658008658,
           0.012987012987012986,
           0.017316017316017316,
           0.021645021645021644,
           0.021645021645021644,
           0.021645021645021644,
           0.021645021645021644,
           0.021645021645021644,
           0.021645021645021644,
           0.025974025974025972,
           0.0303030303030303,
           0.03463203463203463,
           0.03896103896103896,
           0.04329004329004329,
           0.04329004329004329,
           0.04329004329004329,
           0.04761904761904762,
           0.051948051948051945,
           0.0606060606060606,
           0.06926406926406926,
           0.07792207792207792,
           0.08658008658008658,
           0.09523809523809525,
           0.09956709956709955,
           0.10389610389610389,
           0.11255411255411255,
           0.12987012987012986,
           0.14718614718614717,
           0.1688311688311688,
           0.20779220779220778,
           0.24675324675324675,
           0.2857142857142857,
           0.3463203463203463,
           0.4069264069264069,
           0.45454545454545453,
           0.5151515151515151,
           0.5800865800865801,
           0.6406926406926406,
           0.7056277056277056,
           0.7748917748917747,
           0.8354978354978355,
           0.8961038961038961,
           0.9523809523809523,
           1
          ],
          [
           0,
           0,
           0,
           0,
           0,
           0,
           0,
           0,
           0,
           0,
           0,
           0,
           0,
           0,
           0,
           0,
           0,
           0.009259259259259259,
           0.018518518518518517,
           0.027777777777777776,
           0.037037037037037035,
           0.046296296296296294,
           0.046296296296296294,
           0.05555555555555555,
           0.07407407407407407,
           0.09259259259259259,
           0.1111111111111111,
           0.12962962962962962,
           0.13888888888888887,
           0.13888888888888887,
           0.13888888888888887,
           0.13888888888888887,
           0.13888888888888887,
           0.13888888888888887,
           0.13888888888888887,
           0.13888888888888887,
           0.13888888888888887,
           0.13888888888888887,
           0.13888888888888887,
           0.14814814814814814,
           0.15740740740740738,
           0.16666666666666666,
           0.1759259259259259,
           0.18518518518518517,
           0.21296296296296294,
           0.24074074074074073,
           0.2685185185185185,
           0.2962962962962963,
           0.3611111111111111,
           0.3981481481481481,
           0.4537037037037037,
           0.5185185185185185,
           0.6018518518518519,
           0.6666666666666666,
           0.7592592592592592,
           0.8518518518518517,
           0.9351851851851851,
           1
          ],
          [
           0,
           0,
           0,
           0,
           0,
           0,
           0,
           0,
           0.0019083969465648856,
           0.0038167938931297713,
           0.0076335877862595426,
           0.011450381679389313,
           0.015267175572519085,
           0.020992366412213744,
           0.026717557251908396,
           0.03244274809160305,
           0.03816793893129771,
           0.04580152671755725,
           0.05152671755725191,
           0.05725190839694656,
           0.06297709923664122,
           0.06870229007633588,
           0.07633587786259542,
           0.08969465648854963,
           0.10496183206106871,
           0.12022900763358779,
           0.13549618320610687,
           0.14885496183206107,
           0.1564885496183206,
           0.16412213740458015,
           0.1736641221374046,
           0.18893129770992367,
           0.20229007633587787,
           0.21755725190839695,
           0.23282442748091603,
           0.24427480916030536,
           0.25190839694656486,
           0.26145038167938933,
           0.2767175572519084,
           0.2919847328244275,
           0.3129770992366412,
           0.3454198473282443,
           0.38358778625954204,
           0.41603053435114506,
           0.4599236641221374,
           0.5057251908396947,
           0.5438931297709924,
           0.5782442748091603,
           0.6259541984732824,
           0.6736641221374046,
           0.7270992366412214,
           0.7767175572519085,
           0.8301526717557253,
           0.8702290076335878,
           0.9026717557251908,
           0.9312977099236641,
           0.9694656488549618,
           1
          ],
          [
           0,
           0,
           0,
           0,
           0,
           0,
           0,
           0,
           0,
           0.002906976744186047,
           0.005813953488372094,
           0.00872093023255814,
           0.011627906976744188,
           0.01744186046511628,
           0.020348837209302324,
           0.023255813953488375,
           0.03488372093023256,
           0.04651162790697675,
           0.06976744186046512,
           0.0930232558139535,
           0.1191860465116279,
           0.14825581395348836,
           0.18313953488372092,
           0.2063953488372093,
           0.2296511627906977,
           0.25872093023255816,
           0.28488372093023256,
           0.311046511627907,
           0.34011627906976744,
           0.372093023255814,
           0.39825581395348836,
           0.4186046511627907,
           0.436046511627907,
           0.4563953488372093,
           0.47383720930232565,
           0.49418604651162795,
           0.5174418604651163,
           0.5465116279069768,
           0.5668604651162791,
           0.5872093023255814,
           0.6046511627906977,
           0.619186046511628,
           0.625,
           0.6366279069767442,
           0.6540697674418605,
           0.6744186046511628,
           0.6976744186046512,
           0.7209302325581396,
           0.747093023255814,
           0.7761627906976745,
           0.8023255813953489,
           0.8343023255813954,
           0.866279069767442,
           0.8924418604651163,
           0.9127906976744186,
           0.9418604651162791,
           0.9709302325581395,
           1
          ],
          [
           0,
           0,
           0,
           0,
           0,
           0,
           0,
           0,
           0,
           0,
           0,
           0,
           0,
           0,
           0,
           0,
           0.011235955056179775,
           0.02247191011235955,
           0.03932584269662921,
           0.056179775280898875,
           0.07865168539325842,
           0.0898876404494382,
           0.10112359550561797,
           0.10674157303370786,
           0.11235955056179775,
           0.11235955056179775,
           0.11235955056179775,
           0.11235955056179775,
           0.11235955056179775,
           0.11235955056179775,
           0.11235955056179775,
           0.11235955056179775,
           0.11797752808988764,
           0.12359550561797754,
           0.1292134831460674,
           0.14606741573033707,
           0.16292134831460672,
           0.1797752808988764,
           0.19662921348314605,
           0.2191011235955056,
           0.23033707865168537,
           0.25280898876404495,
           0.2696629213483146,
           0.28651685393258425,
           0.3146067415730337,
           0.3426966292134831,
           0.3595505617977528,
           0.37640449438202245,
           0.41011235955056174,
           0.449438202247191,
           0.5,
           0.5617977528089887,
           0.6404494382022472,
           0.7303370786516854,
           0.8033707865168539,
           0.8820224719101123,
           0.9494382022471909,
           1
          ],
          [
           5.228211428870184e-05,
           0.00020912845715480736,
           0.0004705390285983165,
           0.000941078057196633,
           0.0014116170857949497,
           0.0018298740001045641,
           0.002143566685836775,
           0.0023526951429915827,
           0.004391697600250954,
           0.006901239086108642,
           0.009933601714853349,
           0.012965964343598054,
           0.015998326972342762,
           0.01934438228681968,
           0.02342238720133842,
           0.0284937522873425,
           0.03481988811627542,
           0.0427667694881581,
           0.05050452240288597,
           0.05782401840330423,
           0.06514351440372249,
           0.07471114131855493,
           0.08563810320489361,
           0.09792440006273855,
           0.11177916034924452,
           0.12516338160715218,
           0.1365086004078005,
           0.14591938097976684,
           0.1563758038375072,
           0.1688189470382182,
           0.18413760652480785,
           0.20191352538296647,
           0.22193757515553927,
           0.23866785172792387,
           0.25220891932869766,
           0.26475662675798606,
           0.2755267423014587,
           0.2940346107596591,
           0.3200188215611439,
           0.3529565535630261,
           0.3846917969362681,
           0.42081873790976104,
           0.45762534636900715,
           0.49605270037120297,
           0.5330684372876039,
           0.5754692319757411,
           0.6152559209494431,
           0.6454749830083127,
           0.6667538035238144,
           0.6916400899252366,
           0.7195587389554033,
           0.7519736498143984,
           0.7932242379881842,
           0.8431013750196057,
           0.887959429079312,
           0.9244523448528259,
           0.9632979557693313,
           1
          ],
          [
           0,
           0,
           0,
           0,
           0,
           0,
           0,
           0,
           0,
           0,
           0,
           0,
           0,
           0,
           0,
           0,
           0,
           0,
           0,
           0,
           0,
           0,
           0,
           0,
           0,
           0,
           0,
           0,
           0,
           0.015384615384615385,
           0.03076923076923077,
           0.04615384615384615,
           0.06153846153846154,
           0.07692307692307693,
           0.0923076923076923,
           0.10769230769230768,
           0.12307692307692308,
           0.13846153846153847,
           0.15384615384615385,
           0.15384615384615385,
           0.15384615384615385,
           0.15384615384615385,
           0.15384615384615385,
           0.16923076923076924,
           0.1846153846153846,
           0.21538461538461537,
           0.24615384615384617,
           0.3076923076923077,
           0.3692307692307692,
           0.46153846153846156,
           0.5384615384615384,
           0.6153846153846154,
           0.6615384615384615,
           0.7230769230769231,
           0.7692307692307693,
           0.8461538461538461,
           0.9230769230769231,
           1
          ]
         ]
        }
       ],
       "layout": {
        "height": 800,
        "template": {
         "data": {
          "bar": [
           {
            "error_x": {
             "color": "#2a3f5f"
            },
            "error_y": {
             "color": "#2a3f5f"
            },
            "marker": {
             "line": {
              "color": "#E5ECF6",
              "width": 0.5
             }
            },
            "type": "bar"
           }
          ],
          "barpolar": [
           {
            "marker": {
             "line": {
              "color": "#E5ECF6",
              "width": 0.5
             }
            },
            "type": "barpolar"
           }
          ],
          "carpet": [
           {
            "aaxis": {
             "endlinecolor": "#2a3f5f",
             "gridcolor": "white",
             "linecolor": "white",
             "minorgridcolor": "white",
             "startlinecolor": "#2a3f5f"
            },
            "baxis": {
             "endlinecolor": "#2a3f5f",
             "gridcolor": "white",
             "linecolor": "white",
             "minorgridcolor": "white",
             "startlinecolor": "#2a3f5f"
            },
            "type": "carpet"
           }
          ],
          "choropleth": [
           {
            "colorbar": {
             "outlinewidth": 0,
             "ticks": ""
            },
            "type": "choropleth"
           }
          ],
          "contour": [
           {
            "colorbar": {
             "outlinewidth": 0,
             "ticks": ""
            },
            "colorscale": [
             [
              0,
              "#0d0887"
             ],
             [
              0.1111111111111111,
              "#46039f"
             ],
             [
              0.2222222222222222,
              "#7201a8"
             ],
             [
              0.3333333333333333,
              "#9c179e"
             ],
             [
              0.4444444444444444,
              "#bd3786"
             ],
             [
              0.5555555555555556,
              "#d8576b"
             ],
             [
              0.6666666666666666,
              "#ed7953"
             ],
             [
              0.7777777777777778,
              "#fb9f3a"
             ],
             [
              0.8888888888888888,
              "#fdca26"
             ],
             [
              1,
              "#f0f921"
             ]
            ],
            "type": "contour"
           }
          ],
          "contourcarpet": [
           {
            "colorbar": {
             "outlinewidth": 0,
             "ticks": ""
            },
            "type": "contourcarpet"
           }
          ],
          "heatmap": [
           {
            "colorbar": {
             "outlinewidth": 0,
             "ticks": ""
            },
            "colorscale": [
             [
              0,
              "#0d0887"
             ],
             [
              0.1111111111111111,
              "#46039f"
             ],
             [
              0.2222222222222222,
              "#7201a8"
             ],
             [
              0.3333333333333333,
              "#9c179e"
             ],
             [
              0.4444444444444444,
              "#bd3786"
             ],
             [
              0.5555555555555556,
              "#d8576b"
             ],
             [
              0.6666666666666666,
              "#ed7953"
             ],
             [
              0.7777777777777778,
              "#fb9f3a"
             ],
             [
              0.8888888888888888,
              "#fdca26"
             ],
             [
              1,
              "#f0f921"
             ]
            ],
            "type": "heatmap"
           }
          ],
          "heatmapgl": [
           {
            "colorbar": {
             "outlinewidth": 0,
             "ticks": ""
            },
            "colorscale": [
             [
              0,
              "#0d0887"
             ],
             [
              0.1111111111111111,
              "#46039f"
             ],
             [
              0.2222222222222222,
              "#7201a8"
             ],
             [
              0.3333333333333333,
              "#9c179e"
             ],
             [
              0.4444444444444444,
              "#bd3786"
             ],
             [
              0.5555555555555556,
              "#d8576b"
             ],
             [
              0.6666666666666666,
              "#ed7953"
             ],
             [
              0.7777777777777778,
              "#fb9f3a"
             ],
             [
              0.8888888888888888,
              "#fdca26"
             ],
             [
              1,
              "#f0f921"
             ]
            ],
            "type": "heatmapgl"
           }
          ],
          "histogram": [
           {
            "marker": {
             "colorbar": {
              "outlinewidth": 0,
              "ticks": ""
             }
            },
            "type": "histogram"
           }
          ],
          "histogram2d": [
           {
            "colorbar": {
             "outlinewidth": 0,
             "ticks": ""
            },
            "colorscale": [
             [
              0,
              "#0d0887"
             ],
             [
              0.1111111111111111,
              "#46039f"
             ],
             [
              0.2222222222222222,
              "#7201a8"
             ],
             [
              0.3333333333333333,
              "#9c179e"
             ],
             [
              0.4444444444444444,
              "#bd3786"
             ],
             [
              0.5555555555555556,
              "#d8576b"
             ],
             [
              0.6666666666666666,
              "#ed7953"
             ],
             [
              0.7777777777777778,
              "#fb9f3a"
             ],
             [
              0.8888888888888888,
              "#fdca26"
             ],
             [
              1,
              "#f0f921"
             ]
            ],
            "type": "histogram2d"
           }
          ],
          "histogram2dcontour": [
           {
            "colorbar": {
             "outlinewidth": 0,
             "ticks": ""
            },
            "colorscale": [
             [
              0,
              "#0d0887"
             ],
             [
              0.1111111111111111,
              "#46039f"
             ],
             [
              0.2222222222222222,
              "#7201a8"
             ],
             [
              0.3333333333333333,
              "#9c179e"
             ],
             [
              0.4444444444444444,
              "#bd3786"
             ],
             [
              0.5555555555555556,
              "#d8576b"
             ],
             [
              0.6666666666666666,
              "#ed7953"
             ],
             [
              0.7777777777777778,
              "#fb9f3a"
             ],
             [
              0.8888888888888888,
              "#fdca26"
             ],
             [
              1,
              "#f0f921"
             ]
            ],
            "type": "histogram2dcontour"
           }
          ],
          "mesh3d": [
           {
            "colorbar": {
             "outlinewidth": 0,
             "ticks": ""
            },
            "type": "mesh3d"
           }
          ],
          "parcoords": [
           {
            "line": {
             "colorbar": {
              "outlinewidth": 0,
              "ticks": ""
             }
            },
            "type": "parcoords"
           }
          ],
          "pie": [
           {
            "automargin": true,
            "type": "pie"
           }
          ],
          "scatter": [
           {
            "marker": {
             "colorbar": {
              "outlinewidth": 0,
              "ticks": ""
             }
            },
            "type": "scatter"
           }
          ],
          "scatter3d": [
           {
            "line": {
             "colorbar": {
              "outlinewidth": 0,
              "ticks": ""
             }
            },
            "marker": {
             "colorbar": {
              "outlinewidth": 0,
              "ticks": ""
             }
            },
            "type": "scatter3d"
           }
          ],
          "scattercarpet": [
           {
            "marker": {
             "colorbar": {
              "outlinewidth": 0,
              "ticks": ""
             }
            },
            "type": "scattercarpet"
           }
          ],
          "scattergeo": [
           {
            "marker": {
             "colorbar": {
              "outlinewidth": 0,
              "ticks": ""
             }
            },
            "type": "scattergeo"
           }
          ],
          "scattergl": [
           {
            "marker": {
             "colorbar": {
              "outlinewidth": 0,
              "ticks": ""
             }
            },
            "type": "scattergl"
           }
          ],
          "scattermapbox": [
           {
            "marker": {
             "colorbar": {
              "outlinewidth": 0,
              "ticks": ""
             }
            },
            "type": "scattermapbox"
           }
          ],
          "scatterpolar": [
           {
            "marker": {
             "colorbar": {
              "outlinewidth": 0,
              "ticks": ""
             }
            },
            "type": "scatterpolar"
           }
          ],
          "scatterpolargl": [
           {
            "marker": {
             "colorbar": {
              "outlinewidth": 0,
              "ticks": ""
             }
            },
            "type": "scatterpolargl"
           }
          ],
          "scatterternary": [
           {
            "marker": {
             "colorbar": {
              "outlinewidth": 0,
              "ticks": ""
             }
            },
            "type": "scatterternary"
           }
          ],
          "surface": [
           {
            "colorbar": {
             "outlinewidth": 0,
             "ticks": ""
            },
            "colorscale": [
             [
              0,
              "#0d0887"
             ],
             [
              0.1111111111111111,
              "#46039f"
             ],
             [
              0.2222222222222222,
              "#7201a8"
             ],
             [
              0.3333333333333333,
              "#9c179e"
             ],
             [
              0.4444444444444444,
              "#bd3786"
             ],
             [
              0.5555555555555556,
              "#d8576b"
             ],
             [
              0.6666666666666666,
              "#ed7953"
             ],
             [
              0.7777777777777778,
              "#fb9f3a"
             ],
             [
              0.8888888888888888,
              "#fdca26"
             ],
             [
              1,
              "#f0f921"
             ]
            ],
            "type": "surface"
           }
          ],
          "table": [
           {
            "cells": {
             "fill": {
              "color": "#EBF0F8"
             },
             "line": {
              "color": "white"
             }
            },
            "header": {
             "fill": {
              "color": "#C8D4E3"
             },
             "line": {
              "color": "white"
             }
            },
            "type": "table"
           }
          ]
         },
         "layout": {
          "annotationdefaults": {
           "arrowcolor": "#2a3f5f",
           "arrowhead": 0,
           "arrowwidth": 1
          },
          "coloraxis": {
           "colorbar": {
            "outlinewidth": 0,
            "ticks": ""
           }
          },
          "colorscale": {
           "diverging": [
            [
             0,
             "#8e0152"
            ],
            [
             0.1,
             "#c51b7d"
            ],
            [
             0.2,
             "#de77ae"
            ],
            [
             0.3,
             "#f1b6da"
            ],
            [
             0.4,
             "#fde0ef"
            ],
            [
             0.5,
             "#f7f7f7"
            ],
            [
             0.6,
             "#e6f5d0"
            ],
            [
             0.7,
             "#b8e186"
            ],
            [
             0.8,
             "#7fbc41"
            ],
            [
             0.9,
             "#4d9221"
            ],
            [
             1,
             "#276419"
            ]
           ],
           "sequential": [
            [
             0,
             "#0d0887"
            ],
            [
             0.1111111111111111,
             "#46039f"
            ],
            [
             0.2222222222222222,
             "#7201a8"
            ],
            [
             0.3333333333333333,
             "#9c179e"
            ],
            [
             0.4444444444444444,
             "#bd3786"
            ],
            [
             0.5555555555555556,
             "#d8576b"
            ],
            [
             0.6666666666666666,
             "#ed7953"
            ],
            [
             0.7777777777777778,
             "#fb9f3a"
            ],
            [
             0.8888888888888888,
             "#fdca26"
            ],
            [
             1,
             "#f0f921"
            ]
           ],
           "sequentialminus": [
            [
             0,
             "#0d0887"
            ],
            [
             0.1111111111111111,
             "#46039f"
            ],
            [
             0.2222222222222222,
             "#7201a8"
            ],
            [
             0.3333333333333333,
             "#9c179e"
            ],
            [
             0.4444444444444444,
             "#bd3786"
            ],
            [
             0.5555555555555556,
             "#d8576b"
            ],
            [
             0.6666666666666666,
             "#ed7953"
            ],
            [
             0.7777777777777778,
             "#fb9f3a"
            ],
            [
             0.8888888888888888,
             "#fdca26"
            ],
            [
             1,
             "#f0f921"
            ]
           ]
          },
          "colorway": [
           "#636efa",
           "#EF553B",
           "#00cc96",
           "#ab63fa",
           "#FFA15A",
           "#19d3f3",
           "#FF6692",
           "#B6E880",
           "#FF97FF",
           "#FECB52"
          ],
          "font": {
           "color": "#2a3f5f"
          },
          "geo": {
           "bgcolor": "white",
           "lakecolor": "white",
           "landcolor": "#E5ECF6",
           "showlakes": true,
           "showland": true,
           "subunitcolor": "white"
          },
          "hoverlabel": {
           "align": "left"
          },
          "hovermode": "closest",
          "mapbox": {
           "style": "light"
          },
          "paper_bgcolor": "white",
          "plot_bgcolor": "#E5ECF6",
          "polar": {
           "angularaxis": {
            "gridcolor": "white",
            "linecolor": "white",
            "ticks": ""
           },
           "bgcolor": "#E5ECF6",
           "radialaxis": {
            "gridcolor": "white",
            "linecolor": "white",
            "ticks": ""
           }
          },
          "scene": {
           "xaxis": {
            "backgroundcolor": "#E5ECF6",
            "gridcolor": "white",
            "gridwidth": 2,
            "linecolor": "white",
            "showbackground": true,
            "ticks": "",
            "zerolinecolor": "white"
           },
           "yaxis": {
            "backgroundcolor": "#E5ECF6",
            "gridcolor": "white",
            "gridwidth": 2,
            "linecolor": "white",
            "showbackground": true,
            "ticks": "",
            "zerolinecolor": "white"
           },
           "zaxis": {
            "backgroundcolor": "#E5ECF6",
            "gridcolor": "white",
            "gridwidth": 2,
            "linecolor": "white",
            "showbackground": true,
            "ticks": "",
            "zerolinecolor": "white"
           }
          },
          "shapedefaults": {
           "line": {
            "color": "#2a3f5f"
           }
          },
          "ternary": {
           "aaxis": {
            "gridcolor": "white",
            "linecolor": "white",
            "ticks": ""
           },
           "baxis": {
            "gridcolor": "white",
            "linecolor": "white",
            "ticks": ""
           },
           "bgcolor": "#E5ECF6",
           "caxis": {
            "gridcolor": "white",
            "linecolor": "white",
            "ticks": ""
           }
          },
          "title": {
           "x": 0.05
          },
          "xaxis": {
           "automargin": true,
           "gridcolor": "white",
           "linecolor": "white",
           "ticks": "",
           "title": {
            "standoff": 15
           },
           "zerolinecolor": "white",
           "zerolinewidth": 2
          },
          "yaxis": {
           "automargin": true,
           "gridcolor": "white",
           "linecolor": "white",
           "ticks": "",
           "title": {
            "standoff": 15
           },
           "zerolinecolor": "white",
           "zerolinewidth": 2
          }
         }
        },
        "title": {
         "text": "Distribuição de novas mortes nas UFs (mavg = 5 days)"
        },
        "width": 600
       }
      },
      "text/html": [
       "<div>\n",
       "        \n",
       "        \n",
       "            <div id=\"8d8aa1e7-1f9e-4444-b06f-ad08c726ed5c\" class=\"plotly-graph-div\" style=\"height:800px; width:600px;\"></div>\n",
       "            <script type=\"text/javascript\">\n",
       "                require([\"plotly\"], function(Plotly) {\n",
       "                    window.PLOTLYENV=window.PLOTLYENV || {};\n",
       "                    \n",
       "                if (document.getElementById(\"8d8aa1e7-1f9e-4444-b06f-ad08c726ed5c\")) {\n",
       "                    Plotly.newPlot(\n",
       "                        '8d8aa1e7-1f9e-4444-b06f-ad08c726ed5c',\n",
       "                        [{\"colorscale\": [[0.0, \"rgb(0, 147, 146)\"], [0.16666666666666666, \"rgb(57, 177, 133)\"], [0.3333333333333333, \"rgb(156, 203, 134)\"], [0.5, \"rgb(233, 226, 156)\"], [0.6666666666666666, \"rgb(238, 180, 121)\"], [0.8333333333333334, \"rgb(232, 132, 113)\"], [1.0, \"rgb(207, 89, 126)\"]], \"type\": \"heatmap\", \"x\": [\"2020-03-17T00:00:00\", \"2020-03-18T00:00:00\", \"2020-03-19T00:00:00\", \"2020-03-20T00:00:00\", \"2020-03-21T00:00:00\", \"2020-03-22T00:00:00\", \"2020-03-23T00:00:00\", \"2020-03-24T00:00:00\", \"2020-03-25T00:00:00\", \"2020-03-26T00:00:00\", \"2020-03-27T00:00:00\", \"2020-03-28T00:00:00\", \"2020-03-29T00:00:00\", \"2020-03-30T00:00:00\", \"2020-03-31T00:00:00\", \"2020-04-01T00:00:00\", \"2020-04-02T00:00:00\", \"2020-04-03T00:00:00\", \"2020-04-04T00:00:00\", \"2020-04-05T00:00:00\", \"2020-04-06T00:00:00\", \"2020-04-07T00:00:00\", \"2020-04-08T00:00:00\", \"2020-04-09T00:00:00\", \"2020-04-10T00:00:00\", \"2020-04-11T00:00:00\", \"2020-04-12T00:00:00\", \"2020-04-13T00:00:00\", \"2020-04-14T00:00:00\", \"2020-04-15T00:00:00\", \"2020-04-16T00:00:00\", \"2020-04-17T00:00:00\", \"2020-04-18T00:00:00\", \"2020-04-19T00:00:00\", \"2020-04-20T00:00:00\", \"2020-04-21T00:00:00\", \"2020-04-22T00:00:00\", \"2020-04-23T00:00:00\", \"2020-04-24T00:00:00\", \"2020-04-25T00:00:00\", \"2020-04-26T00:00:00\", \"2020-04-27T00:00:00\", \"2020-04-28T00:00:00\", \"2020-04-29T00:00:00\", \"2020-04-30T00:00:00\", \"2020-05-01T00:00:00\", \"2020-05-02T00:00:00\", \"2020-05-03T00:00:00\", \"2020-05-04T00:00:00\", \"2020-05-05T00:00:00\", \"2020-05-06T00:00:00\", \"2020-05-07T00:00:00\", \"2020-05-08T00:00:00\", \"2020-05-09T00:00:00\", \"2020-05-10T00:00:00\", \"2020-05-11T00:00:00\", \"2020-05-12T00:00:00\", \"2020-05-13T00:00:00\"], \"y\": [\"AC\", \"AL\", \"AM\", \"AP\", \"BA\", \"CE\", \"DF\", \"ES\", \"GO\", \"MA\", \"MG\", \"MS\", \"MT\", \"PA\", \"PB\", \"PE\", \"PI\", \"PR\", \"RJ\", \"RN\", \"RO\", \"RR\", \"RS\", \"SC\", \"SE\", \"SP\", \"TO\"], \"z\": [[0.0, 0.0, 0.0, 0.0, 0.0, 0.0, 0.0, 0.0, 0.0, 0.0, 0.0, 0.0, 0.0, 0.0, 0.0, 0.0, 0.0, 0.0, 0.0, 0.0, 0.0043859649122807015, 0.013157894736842105, 0.021929824561403508, 0.03070175438596491, 0.039473684210526314, 0.043859649122807015, 0.043859649122807015, 0.048245614035087724, 0.05263157894736842, 0.06140350877192982, 0.07456140350877193, 0.08771929824561403, 0.10087719298245613, 0.11403508771929824, 0.13157894736842105, 0.14473684210526314, 0.15789473684210525, 0.17543859649122806, 0.19736842105263158, 0.21052631578947367, 0.22368421052631576, 0.25, 0.2763157894736842, 0.30701754385964913, 0.34210526315789475, 0.3771929824561403, 0.41228070175438597, 0.4517543859649123, 0.49561403508771934, 0.5394736842105263, 0.6096491228070176, 0.6710526315789473, 0.7280701754385965, 0.7807017543859649, 0.8333333333333333, 0.8728070175438596, 0.9385964912280701, 1.0], [0.0, 0.0, 0.0, 0.0, 0.0, 0.0, 0.0, 0.0, 0.0, 0.0, 0.0, 0.0, 0.0, 0.0, 0.001506024096385542, 0.003012048192771084, 0.004518072289156626, 0.00753012048192771, 0.010542168674698794, 0.012048192771084336, 0.013554216867469878, 0.01506024096385542, 0.01506024096385542, 0.016566265060240965, 0.018072289156626505, 0.01957831325301205, 0.02108433734939759, 0.024096385542168672, 0.025602409638554213, 0.027108433734939756, 0.028614457831325296, 0.03313253012048193, 0.0391566265060241, 0.05271084337349397, 0.07078313253012047, 0.09036144578313252, 0.10843373493975902, 0.12650602409638553, 0.14457831325301204, 0.161144578313253, 0.18072289156626503, 0.20180722891566263, 0.22289156626506024, 0.2439759036144578, 0.2710843373493976, 0.30271084337349397, 0.338855421686747, 0.38102409638554213, 0.4277108433734939, 0.4774096385542168, 0.5316265060240963, 0.591867469879518, 0.6581325301204819, 0.7213855421686746, 0.789156626506024, 0.8614457831325301, 0.9382530120481927, 1.0], [0.0, 0.0, 0.0, 0.0, 0.0, 0.0, 0.0, 0.00019241870309794111, 0.00038483740619588223, 0.0005772561092938233, 0.0007696748123917645, 0.0009620935154897055, 0.0009620935154897055, 0.0011545122185876466, 0.001539349624783529, 0.001924187030979411, 0.002309024437175293, 0.0034635366557629397, 0.00538772368674235, 0.007696748123917644, 0.0107754473734847, 0.014623821435443524, 0.01904945160669617, 0.02443717529343852, 0.031171829901866458, 0.03771406580719646, 0.045218395228016156, 0.05310756205503175, 0.0627284972099288, 0.07350394458341351, 0.08716567250336732, 0.10313642486049643, 0.12045410813931114, 0.13796421012122378, 0.1531652876659611, 0.16644217817971904, 0.17817971906869345, 0.19222628439484318, 0.2064652684240908, 0.2260919761400808, 0.24745045218395226, 0.26938618433711753, 0.29189917259957665, 0.31595151048681924, 0.3425052915143352, 0.37560130844718104, 0.4104290937079084, 0.44833557821820275, 0.4877814123532807, 0.5308832018472195, 0.5837983451991533, 0.6424860496440253, 0.7052145468539541, 0.7777563979218779, 0.846065037521647, 0.9007119492014624, 0.9568982105060612, 1.0], [0.0, 0.0, 0.0, 0.0, 0.0, 0.0, 0.0, 0.0, 0.0, 0.0, 0.0, 0.0, 0.0, 0.0, 0.0, 0.0, 0.0, 0.0, 0.0025906735751295338, 0.0051813471502590676, 0.010362694300518135, 0.015544041450777202, 0.02072538860103627, 0.023316062176165803, 0.025906735751295335, 0.03367875647668394, 0.04145077720207254, 0.05181347150259067, 0.06476683937823834, 0.07772020725388601, 0.09067357512953368, 0.10362694300518134, 0.11398963730569948, 0.12435233160621761, 0.13989637305699482, 0.14766839378238342, 0.15803108808290153, 0.17357512953367876, 0.1917098445595855, 0.20984455958549222, 0.23575129533678754, 0.266839378238342, 0.2979274611398964, 0.3316062176165803, 0.36787564766839376, 0.40414507772020725, 0.44041450777202074, 0.4792746113989637, 0.5259067357512953, 0.5803108808290155, 0.6295336787564767, 0.6839378238341969, 0.7435233160621761, 0.7953367875647668, 0.8393782383419689, 0.883419689119171, 0.9481865284974094, 1.0], [0.0, 0.0, 0.0, 0.0, 0.0, 0.0, 0.0, 0.0, 0.0, 0.0, 0.0, 0.0, 0.0009505703422053232, 0.0028517110266159692, 0.004752851711026616, 0.006653992395437262, 0.009505703422053232, 0.014258555133079848, 0.019011406844106463, 0.025665399239543727, 0.03326996197718631, 0.04372623574144486, 0.055133079847908745, 0.06653992395437262, 0.07604562737642585, 0.0865019011406844, 0.09315589353612168, 0.09695817490494296, 0.10361216730038023, 0.11216730038022814, 0.12452471482889733, 0.13783269961977185, 0.15399239543726234, 0.17110266159695817, 0.188212927756654, 0.20057034220532322, 0.21673003802281368, 0.2376425855513308, 0.2585551330798479, 0.282319391634981, 0.3070342205323194, 0.33555133079847904, 0.36501901140684406, 0.3963878326996198, 0.4287072243346008, 0.4695817490494296, 0.5076045627376425, 0.5399239543726235, 0.5779467680608364, 0.6150190114068441, 0.6549429657794678, 0.6939163498098859, 0.7461977186311787, 0.7984790874524714, 0.8517110266159695, 0.903041825095057, 0.9600760456273764, 1.0], [0.0, 0.0, 0.0, 0.0, 0.0, 0.0, 0.0, 0.0, 0.0, 0.0005063291139240507, 0.0010126582278481013, 0.0016877637130801688, 0.002531645569620253, 0.0033755274261603376, 0.004050632911392405, 0.005063291139240506, 0.004388185654008439, 0.007257383966244726, 0.010295358649789029, 0.015021097046413502, 0.019578059071729957, 0.026329113924050632, 0.03223628691983123, 0.0379746835443038, 0.04337552742616033, 0.049789029535864976, 0.05586497890295359, 0.06312236286919831, 0.07223628691983122, 0.08185654008438818, 0.09046413502109706, 0.10379746835443038, 0.11729957805907174, 0.13046413502109705, 0.14430379746835442, 0.16050632911392404, 0.17451476793248946, 0.18970464135021098, 0.20708860759493672, 0.22717299578059072, 0.25316455696202533, 0.279831223628692, 0.3044725738396625, 0.33097046413502107, 0.35898734177215186, 0.38649789029535864, 0.4270042194092827, 0.470717299578059, 0.5147679324894515, 0.5657383966244726, 0.6178902953586498, 0.6624472573839663, 0.7162869198312236, 0.7756962025316456, 0.829873417721519, 0.8875949367088607, 0.9517299578059072, 1.0], [0.0, 0.0, 0.0, 0.0, 0.0, 0.0, 0.0, 0.0, 0.0, 0.0, 0.0, 0.0, 0.004716981132075472, 0.014150943396226415, 0.02830188679245283, 0.04716981132075472, 0.07075471698113207, 0.09433962264150944, 0.1179245283018868, 0.13679245283018868, 0.16509433962264153, 0.19811320754716982, 0.22641509433962265, 0.25471698113207547, 0.28773584905660377, 0.30660377358490565, 0.31603773584905664, 0.33018867924528306, 0.34905660377358494, 0.36320754716981135, 0.3915094339622642, 0.43867924528301894, 0.4811320754716981, 0.5141509433962265, 0.5471698113207547, 0.5660377358490566, 0.5707547169811321, 0.5801886792452831, 0.589622641509434, 0.6037735849056605, 0.6179245283018868, 0.6320754716981133, 0.6415094339622641, 0.6509433962264152, 0.6650943396226415, 0.6839622641509434, 0.7028301886792453, 0.7264150943396227, 0.75, 0.768867924528302, 0.7877358490566038, 0.8018867924528302, 0.8160377358490567, 0.839622641509434, 0.8726415094339623, 0.9103773584905661, 0.9575471698113208, 1.0], [0.0, 0.0, 0.0, 0.0, 0.0, 0.0, 0.0, 0.0, 0.0, 0.0, 0.0, 0.0, 0.0, 0.0, 0.0, 0.0, 0.002066115702479339, 0.007231404958677685, 0.013429752066115703, 0.01962809917355372, 0.025826446280991736, 0.029958677685950414, 0.030991735537190084, 0.032024793388429756, 0.03409090909090909, 0.0371900826446281, 0.04545454545454546, 0.05681818181818182, 0.06818181818181818, 0.08161157024793389, 0.10020661157024793, 0.11363636363636365, 0.12603305785123967, 0.1415289256198347, 0.15392561983471076, 0.16012396694214875, 0.16942148760330578, 0.1828512396694215, 0.1962809917355372, 0.21487603305785125, 0.23863636363636365, 0.265495867768595, 0.3006198347107438, 0.33884297520661155, 0.381198347107438, 0.42665289256198347, 0.4690082644628099, 0.5082644628099174, 0.5485537190082644, 0.5898760330578513, 0.6363636363636364, 0.691115702479339, 0.7427685950413224, 0.7933884297520661, 0.8429752066115702, 0.8946280991735537, 0.9514462809917356, 1.0], [0.0, 0.0, 0.0, 0.0, 0.0, 0.0, 0.0, 0.0, 0.0, 0.0038461538461538464, 0.007692307692307693, 0.011538461538461537, 0.015384615384615385, 0.019230769230769232, 0.019230769230769232, 0.019230769230769232, 0.019230769230769232, 0.023076923076923075, 0.02692307692307692, 0.03461538461538462, 0.05, 0.06538461538461539, 0.08461538461538462, 0.10384615384615385, 0.12307692307692308, 0.1423076923076923, 0.1769230769230769, 0.2076923076923077, 0.23846153846153847, 0.2653846153846154, 0.28846153846153844, 0.29615384615384616, 0.3076923076923077, 0.31923076923076926, 0.3346153846153846, 0.34615384615384615, 0.36538461538461536, 0.38461538461538464, 0.40384615384615385, 0.4230769230769231, 0.4423076923076923, 0.46153846153846156, 0.4730769230769231, 0.4846153846153846, 0.5, 0.5153846153846154, 0.5269230769230769, 0.5384615384615384, 0.55, 0.573076923076923, 0.5961538461538461, 0.6538461538461539, 0.7307692307692307, 0.8076923076923077, 0.8653846153846154, 0.9230769230769231, 0.9538461538461539, 1.0], [0.0, 0.0, 0.0, 0.0, 0.0, 0.0, 0.0, 0.0, 0.0, 0.0, 0.0, 0.0, 0.0004786979415988511, 0.0009573958831977022, 0.0014360938247965534, 0.0019147917663954045, 0.0023934897079942556, 0.0023934897079942556, 0.0028721876495931067, 0.0033508855911919574, 0.004786979415988511, 0.009573958831977022, 0.014839636189564385, 0.0215414073719483, 0.030636668262326472, 0.040210627094303494, 0.04786979415988511, 0.057443752991862135, 0.06606031594064146, 0.07371948300622307, 0.08137865007180468, 0.08951651507898516, 0.09717568214456677, 0.1067496409765438, 0.11775969363331738, 0.1302058401148875, 0.14552417424605074, 0.1646720919100048, 0.18669219722355193, 0.2115844901866922, 0.2398276687410244, 0.2728578267113451, 0.3101962661560555, 0.350406893250359, 0.39444710387745335, 0.44183820009573954, 0.4858784107228339, 0.5256103398755385, 0.5672570607946386, 0.6089037817137386, 0.6476783149832456, 0.6921972235519387, 0.7429392053614169, 0.7946385830540929, 0.8463379607467688, 0.9028243178554332, 0.9573958831977022, 1.0], [0.0, 0.0, 0.0, 0.0, 0.0, 0.0, 0.0, 0.0, 0.0, 0.0, 0.0, 0.0, 0.0, 0.0016339869281045752, 0.004901960784313725, 0.00980392156862745, 0.016339869281045753, 0.026143790849673203, 0.03431372549019608, 0.04084967320261438, 0.05065359477124183, 0.06209150326797385, 0.07516339869281045, 0.08986928104575163, 0.10784313725490195, 0.12091503267973856, 0.13562091503267976, 0.1503267973856209, 0.16993464052287582, 0.19117647058823528, 0.2173202614379085, 0.24183006535947713, 0.2679738562091503, 0.28758169934640526, 0.3055555555555555, 0.3235294117647059, 0.3431372549019608, 0.3627450980392157, 0.38725490196078427, 0.41503267973856206, 0.44281045751633985, 0.4673202614379085, 0.5, 0.542483660130719, 0.5816993464052288, 0.6258169934640522, 0.6683006535947712, 0.6977124183006536, 0.7140522875816994, 0.7336601307189542, 0.7483660130718953, 0.7777777777777778, 0.8137254901960783, 0.8594771241830065, 0.9003267973856209, 0.9395424836601307, 0.9738562091503268, 1.0], [0.0, 0.0, 0.0, 0.0, 0.0, 0.0, 0.0, 0.0, 0.0, 0.0, 0.0, 0.0, 0.0, 0.0, 0.017543859649122806, 0.03508771929824561, 0.05263157894736842, 0.07017543859649122, 0.08771929824561403, 0.08771929824561403, 0.08771929824561403, 0.10526315789473684, 0.12280701754385964, 0.14035087719298245, 0.15789473684210525, 0.17543859649122806, 0.17543859649122806, 0.21052631578947367, 0.24561403508771928, 0.2807017543859649, 0.3333333333333333, 0.3859649122807018, 0.40350877192982454, 0.42105263157894735, 0.43859649122807015, 0.45614035087719296, 0.4736842105263158, 0.5087719298245613, 0.543859649122807, 0.5789473684210525, 0.5964912280701754, 0.6491228070175439, 0.6842105263157895, 0.719298245614035, 0.7543859649122806, 0.7894736842105263, 0.7894736842105263, 0.8070175438596491, 0.8245614035087719, 0.8421052631578947, 0.8596491228070176, 0.8771929824561403, 0.894736842105263, 0.9122807017543859, 0.9298245614035087, 0.9473684210526316, 0.9824561403508771, 1.0], [0.0, 0.0, 0.0, 0.0, 0.0, 0.0, 0.0, 0.0, 0.0, 0.0, 0.0, 0.0, 0.0, 0.0, 0.0, 0.0, 0.0, 0.011363636363636364, 0.022727272727272728, 0.03409090909090909, 0.045454545454545456, 0.056818181818181816, 0.056818181818181816, 0.06818181818181818, 0.07954545454545453, 0.10227272727272727, 0.125, 0.15909090909090906, 0.18181818181818182, 0.20454545454545453, 0.22727272727272727, 0.25, 0.2613636363636363, 0.2727272727272727, 0.2954545454545454, 0.3068181818181818, 0.3181818181818181, 0.3409090909090909, 0.37499999999999994, 0.40909090909090906, 0.4431818181818181, 0.47727272727272724, 0.5113636363636364, 0.5340909090909091, 0.5454545454545454, 0.5568181818181818, 0.5795454545454545, 0.5909090909090908, 0.6136363636363636, 0.6363636363636362, 0.6590909090909091, 0.6818181818181818, 0.7159090909090908, 0.7499999999999999, 0.8068181818181818, 0.875, 0.9431818181818182, 1.0], [0.0, 0.0, 0.0, 0.0, 0.0, 0.0, 0.0, 0.0, 0.0, 0.0, 0.0, 0.0, 0.0, 0.0, 0.0, 0.0002551671344730799, 0.0005103342689461598, 0.0007655014034192397, 0.0010206685378923196, 0.0012758356723653994, 0.0022965042102577188, 0.0033171727481500386, 0.0045930084205154376, 0.006124011227353917, 0.008165348303138557, 0.009696351109977035, 0.011992855320234756, 0.014034192396019394, 0.017606532278642513, 0.02066853789231947, 0.02449604490941567, 0.029089053329931107, 0.033937228884919624, 0.03725440163306966, 0.04082674151569278, 0.043888747129369736, 0.04669558560857362, 0.051798928298035216, 0.06506761929063537, 0.08037764735902016, 0.09977034957897424, 0.11992855320234755, 0.14008675682572086, 0.15794845623883644, 0.19086501658586374, 0.22888491962235266, 0.27583567236539935, 0.3230415922429191, 0.3710130135238582, 0.4095432508292932, 0.4470528195968359, 0.4934932380709365, 0.559071191630518, 0.6269456494003572, 0.702730288338862, 0.805052309262567, 0.913498341413626, 1.0], [0.0, 0.0, 0.0, 0.0, 0.0, 0.0, 0.0, 0.0, 0.0, 0.0, 0.0, 0.0, 0.0, 0.0, 0.0014164305949008501, 0.0028328611898017003, 0.00424929178470255, 0.005665722379603401, 0.009915014164305949, 0.0141643059490085, 0.01841359773371105, 0.022662889518413602, 0.031161473087818702, 0.042492917847025496, 0.052407932011331454, 0.06515580736543909, 0.07790368271954674, 0.09065155807365441, 0.10481586402266291, 0.12322946175637393, 0.141643059490085, 0.16288951841359775, 0.18130311614730882, 0.19688385269121816, 0.20963172804532582, 0.22804532577903686, 0.24504249291784705, 0.2662889518413598, 0.28611898016997167, 0.3087818696883853, 0.3243626062322946, 0.34277620396600567, 0.36118980169971676, 0.38385269121813037, 0.4093484419263456, 0.44334277620396606, 0.4759206798866856, 0.5070821529745042, 0.5396600566572238, 0.5750708215297451, 0.613314447592068, 0.6628895184135978, 0.7124645892351275, 0.7677053824362607, 0.8286118980169972, 0.8824362606232294, 0.943342776203966, 1.0], [0.0, 0.0, 0.0, 0.0, 0.0, 0.0, 0.0, 0.0, 0.00019853087155052612, 0.0005955926146515783, 0.0011911852293031565, 0.0019853087155052612, 0.0027794322017073653, 0.0035735556879094702, 0.004169148302561048, 0.004963271788763153, 0.005757395274965257, 0.006750049632717888, 0.008338296605122097, 0.011316259678379988, 0.015683938852491565, 0.020647210641254715, 0.027794322017073655, 0.03613261862219575, 0.0448679769704189, 0.053206273575541, 0.06333134802461783, 0.07444907683144729, 0.08616239825292833, 0.10164780623386938, 0.11911852293031566, 0.1391701409569188, 0.159618820726623, 0.17967043875322614, 0.197736748064324, 0.2175898352193766, 0.23664879888822712, 0.2578916021441334, 0.28409767718880286, 0.3132817153067302, 0.3440540003970618, 0.37740718681755014, 0.41631923764145323, 0.4540401032360532, 0.49056978360135, 0.5276950565812984, 0.5628350208457416, 0.5910264046059162, 0.6210045662100457, 0.6456223942823109, 0.6628945801072066, 0.7057772483621203, 0.7440937065713719, 0.7998808814770697, 0.870557871749057, 0.9491760968830654, 0.9745880484415327, 1.0], [0.0, 0.0, 0.0, 0.0, 0.0, 0.0, 0.0, 0.0, 0.0, 0.0, 0.004, 0.008, 0.012, 0.027999999999999997, 0.044000000000000004, 0.055999999999999994, 0.068, 0.08, 0.08, 0.08, 0.08, 0.084, 0.092, 0.10400000000000001, 0.11599999999999999, 0.128, 0.136, 0.14400000000000002, 0.14800000000000002, 0.152, 0.156, 0.16399999999999998, 0.172, 0.188, 0.212, 0.24, 0.264, 0.28800000000000003, 0.308, 0.324, 0.344, 0.368, 0.4, 0.428, 0.452, 0.47600000000000003, 0.504, 0.52, 0.54, 0.564, 0.6, 0.636, 0.6759999999999999, 0.728, 0.7879999999999999, 0.8440000000000001, 0.924, 1.0], [0.0, 0.0, 0.0, 0.0, 0.0, 0.0, 0.0, 0.0, 0.0, 0.0, 0.0036166365280289334, 0.007233273056057867, 0.0108499095840868, 0.0162748643761302, 0.0216998191681736, 0.02350813743218807, 0.027124773960217, 0.0325497287522604, 0.03978300180831827, 0.05244122965641953, 0.07233273056057866, 0.0922242314647378, 0.11392405063291139, 0.14285714285714288, 0.16998191681735986, 0.19168173598553345, 0.21880650994575046, 0.24593128390596747, 0.2730560578661845, 0.3001808318264015, 0.3273056057866185, 0.3490054249547921, 0.3761301989150091, 0.39783001808318263, 0.41772151898734183, 0.43942133815551543, 0.46835443037974683, 0.49186256781193494, 0.5189873417721519, 0.5515370705244124, 0.5877034358047016, 0.6184448462929476, 0.6491862567811935, 0.6799276672694394, 0.7106690777576853, 0.7396021699819169, 0.7667269439421338, 0.7956600361663653, 0.8173598553345389, 0.840867992766727, 0.8625678119349006, 0.8878842676311032, 0.9113924050632911, 0.9349005424954793, 0.952983725135624, 0.9710669077757687, 0.9873417721518988, 1.0], [0.0, 0.0, 0.00022239519626376074, 0.0004447903925275215, 0.0007783831869231625, 0.0011119759813188036, 0.001556766373846325, 0.0020015567663738466, 0.0026687423551651286, 0.0033359279439564107, 0.0041143111308795735, 0.005115089514066496, 0.00633826309351718, 0.007450239074835984, 0.009007005448682309, 0.011008562215056156, 0.014122094962748804, 0.017458022906705215, 0.021905926831980428, 0.026465028355387527, 0.03124652507505838, 0.03658400978538864, 0.043144668075169576, 0.050261314355609925, 0.05949071500055599, 0.06883131324363394, 0.07783831869231625, 0.08628933615033915, 0.09763149115979095, 0.11075280773935282, 0.12698765706660736, 0.14600244634715892, 0.1687979539641944, 0.1885911264316691, 0.20604914933837432, 0.2236183698432114, 0.24018681196486158, 0.2559768708995886, 0.2746580673857445, 0.2961192038251974, 0.3168019570777271, 0.3375959079283888, 0.36083620593795174, 0.3857444679194929, 0.4123206938730124, 0.4430112309574113, 0.47570332480818417, 0.5069498498832425, 0.5370843989769821, 0.5669965528744579, 0.598576670743912, 0.6456132547536974, 0.6994328922495274, 0.7648170799510731, 0.8305348604470144, 0.8933615033915268, 0.9527410207939508, 1.0], [0.0, 0.0, 0.0, 0.0, 0.0, 0.0, 0.0, 0.0, 0.0, 0.0, 0.0, 0.002272727272727273, 0.004545454545454546, 0.006818181818181818, 0.009090909090909092, 0.013636363636363636, 0.015909090909090907, 0.022727272727272728, 0.029545454545454545, 0.04318181818181818, 0.05454545454545454, 0.06818181818181818, 0.08409090909090909, 0.1, 0.10909090909090909, 0.12272727272727274, 0.1431818181818182, 0.1590909090909091, 0.17727272727272728, 0.19772727272727272, 0.22045454545454543, 0.23636363636363636, 0.2545454545454545, 0.2727272727272727, 0.29090909090909095, 0.30454545454545456, 0.32727272727272727, 0.3522727272727273, 0.3795454545454545, 0.41363636363636364, 0.4477272727272727, 0.4772727272727273, 0.5136363636363637, 0.5499999999999999, 0.5772727272727273, 0.6068181818181818, 0.634090909090909, 0.65, 0.6749999999999999, 0.7090909090909091, 0.7477272727272727, 0.7818181818181817, 0.8386363636363636, 0.8818181818181817, 0.9159090909090909, 0.9522727272727273, 0.9886363636363636, 1.0], [0.0, 0.0, 0.0, 0.0, 0.0, 0.0, 0.0, 0.0, 0.0, 0.0, 0.0, 0.0, 0.0, 0.004329004329004329, 0.008658008658008658, 0.012987012987012986, 0.017316017316017316, 0.021645021645021644, 0.021645021645021644, 0.021645021645021644, 0.021645021645021644, 0.021645021645021644, 0.021645021645021644, 0.025974025974025972, 0.0303030303030303, 0.03463203463203463, 0.03896103896103896, 0.04329004329004329, 0.04329004329004329, 0.04329004329004329, 0.04761904761904762, 0.051948051948051945, 0.0606060606060606, 0.06926406926406926, 0.07792207792207792, 0.08658008658008658, 0.09523809523809525, 0.09956709956709955, 0.10389610389610389, 0.11255411255411255, 0.12987012987012986, 0.14718614718614717, 0.1688311688311688, 0.20779220779220778, 0.24675324675324675, 0.2857142857142857, 0.3463203463203463, 0.4069264069264069, 0.45454545454545453, 0.5151515151515151, 0.5800865800865801, 0.6406926406926406, 0.7056277056277056, 0.7748917748917747, 0.8354978354978355, 0.8961038961038961, 0.9523809523809523, 1.0], [0.0, 0.0, 0.0, 0.0, 0.0, 0.0, 0.0, 0.0, 0.0, 0.0, 0.0, 0.0, 0.0, 0.0, 0.0, 0.0, 0.0, 0.009259259259259259, 0.018518518518518517, 0.027777777777777776, 0.037037037037037035, 0.046296296296296294, 0.046296296296296294, 0.05555555555555555, 0.07407407407407407, 0.09259259259259259, 0.1111111111111111, 0.12962962962962962, 0.13888888888888887, 0.13888888888888887, 0.13888888888888887, 0.13888888888888887, 0.13888888888888887, 0.13888888888888887, 0.13888888888888887, 0.13888888888888887, 0.13888888888888887, 0.13888888888888887, 0.13888888888888887, 0.14814814814814814, 0.15740740740740738, 0.16666666666666666, 0.1759259259259259, 0.18518518518518517, 0.21296296296296294, 0.24074074074074073, 0.2685185185185185, 0.2962962962962963, 0.3611111111111111, 0.3981481481481481, 0.4537037037037037, 0.5185185185185185, 0.6018518518518519, 0.6666666666666666, 0.7592592592592592, 0.8518518518518517, 0.9351851851851851, 1.0], [0.0, 0.0, 0.0, 0.0, 0.0, 0.0, 0.0, 0.0, 0.0019083969465648856, 0.0038167938931297713, 0.0076335877862595426, 0.011450381679389313, 0.015267175572519085, 0.020992366412213744, 0.026717557251908396, 0.03244274809160305, 0.03816793893129771, 0.04580152671755725, 0.05152671755725191, 0.05725190839694656, 0.06297709923664122, 0.06870229007633588, 0.07633587786259542, 0.08969465648854963, 0.10496183206106871, 0.12022900763358779, 0.13549618320610687, 0.14885496183206107, 0.1564885496183206, 0.16412213740458015, 0.1736641221374046, 0.18893129770992367, 0.20229007633587787, 0.21755725190839695, 0.23282442748091603, 0.24427480916030536, 0.25190839694656486, 0.26145038167938933, 0.2767175572519084, 0.2919847328244275, 0.3129770992366412, 0.3454198473282443, 0.38358778625954204, 0.41603053435114506, 0.4599236641221374, 0.5057251908396947, 0.5438931297709924, 0.5782442748091603, 0.6259541984732824, 0.6736641221374046, 0.7270992366412214, 0.7767175572519085, 0.8301526717557253, 0.8702290076335878, 0.9026717557251908, 0.9312977099236641, 0.9694656488549618, 1.0], [0.0, 0.0, 0.0, 0.0, 0.0, 0.0, 0.0, 0.0, 0.0, 0.002906976744186047, 0.005813953488372094, 0.00872093023255814, 0.011627906976744188, 0.01744186046511628, 0.020348837209302324, 0.023255813953488375, 0.03488372093023256, 0.04651162790697675, 0.06976744186046512, 0.0930232558139535, 0.1191860465116279, 0.14825581395348836, 0.18313953488372092, 0.2063953488372093, 0.2296511627906977, 0.25872093023255816, 0.28488372093023256, 0.311046511627907, 0.34011627906976744, 0.372093023255814, 0.39825581395348836, 0.4186046511627907, 0.436046511627907, 0.4563953488372093, 0.47383720930232565, 0.49418604651162795, 0.5174418604651163, 0.5465116279069768, 0.5668604651162791, 0.5872093023255814, 0.6046511627906977, 0.619186046511628, 0.625, 0.6366279069767442, 0.6540697674418605, 0.6744186046511628, 0.6976744186046512, 0.7209302325581396, 0.747093023255814, 0.7761627906976745, 0.8023255813953489, 0.8343023255813954, 0.866279069767442, 0.8924418604651163, 0.9127906976744186, 0.9418604651162791, 0.9709302325581395, 1.0], [0.0, 0.0, 0.0, 0.0, 0.0, 0.0, 0.0, 0.0, 0.0, 0.0, 0.0, 0.0, 0.0, 0.0, 0.0, 0.0, 0.011235955056179775, 0.02247191011235955, 0.03932584269662921, 0.056179775280898875, 0.07865168539325842, 0.0898876404494382, 0.10112359550561797, 0.10674157303370786, 0.11235955056179775, 0.11235955056179775, 0.11235955056179775, 0.11235955056179775, 0.11235955056179775, 0.11235955056179775, 0.11235955056179775, 0.11235955056179775, 0.11797752808988764, 0.12359550561797754, 0.1292134831460674, 0.14606741573033707, 0.16292134831460672, 0.1797752808988764, 0.19662921348314605, 0.2191011235955056, 0.23033707865168537, 0.25280898876404495, 0.2696629213483146, 0.28651685393258425, 0.3146067415730337, 0.3426966292134831, 0.3595505617977528, 0.37640449438202245, 0.41011235955056174, 0.449438202247191, 0.5, 0.5617977528089887, 0.6404494382022472, 0.7303370786516854, 0.8033707865168539, 0.8820224719101123, 0.9494382022471909, 1.0], [5.228211428870184e-05, 0.00020912845715480736, 0.0004705390285983165, 0.000941078057196633, 0.0014116170857949497, 0.0018298740001045641, 0.002143566685836775, 0.0023526951429915827, 0.004391697600250954, 0.006901239086108642, 0.009933601714853349, 0.012965964343598054, 0.015998326972342762, 0.01934438228681968, 0.02342238720133842, 0.0284937522873425, 0.03481988811627542, 0.0427667694881581, 0.05050452240288597, 0.05782401840330423, 0.06514351440372249, 0.07471114131855493, 0.08563810320489361, 0.09792440006273855, 0.11177916034924452, 0.12516338160715218, 0.1365086004078005, 0.14591938097976684, 0.1563758038375072, 0.1688189470382182, 0.18413760652480785, 0.20191352538296647, 0.22193757515553927, 0.23866785172792387, 0.25220891932869766, 0.26475662675798606, 0.2755267423014587, 0.2940346107596591, 0.3200188215611439, 0.3529565535630261, 0.3846917969362681, 0.42081873790976104, 0.45762534636900715, 0.49605270037120297, 0.5330684372876039, 0.5754692319757411, 0.6152559209494431, 0.6454749830083127, 0.6667538035238144, 0.6916400899252366, 0.7195587389554033, 0.7519736498143984, 0.7932242379881842, 0.8431013750196057, 0.887959429079312, 0.9244523448528259, 0.9632979557693313, 1.0], [0.0, 0.0, 0.0, 0.0, 0.0, 0.0, 0.0, 0.0, 0.0, 0.0, 0.0, 0.0, 0.0, 0.0, 0.0, 0.0, 0.0, 0.0, 0.0, 0.0, 0.0, 0.0, 0.0, 0.0, 0.0, 0.0, 0.0, 0.0, 0.0, 0.015384615384615385, 0.03076923076923077, 0.04615384615384615, 0.06153846153846154, 0.07692307692307693, 0.0923076923076923, 0.10769230769230768, 0.12307692307692308, 0.13846153846153847, 0.15384615384615385, 0.15384615384615385, 0.15384615384615385, 0.15384615384615385, 0.15384615384615385, 0.16923076923076924, 0.1846153846153846, 0.21538461538461537, 0.24615384615384617, 0.3076923076923077, 0.3692307692307692, 0.46153846153846156, 0.5384615384615384, 0.6153846153846154, 0.6615384615384615, 0.7230769230769231, 0.7692307692307693, 0.8461538461538461, 0.9230769230769231, 1.0]]}],\n",
       "                        {\"height\": 800, \"template\": {\"data\": {\"bar\": [{\"error_x\": {\"color\": \"#2a3f5f\"}, \"error_y\": {\"color\": \"#2a3f5f\"}, \"marker\": {\"line\": {\"color\": \"#E5ECF6\", \"width\": 0.5}}, \"type\": \"bar\"}], \"barpolar\": [{\"marker\": {\"line\": {\"color\": \"#E5ECF6\", \"width\": 0.5}}, \"type\": \"barpolar\"}], \"carpet\": [{\"aaxis\": {\"endlinecolor\": \"#2a3f5f\", \"gridcolor\": \"white\", \"linecolor\": \"white\", \"minorgridcolor\": \"white\", \"startlinecolor\": \"#2a3f5f\"}, \"baxis\": {\"endlinecolor\": \"#2a3f5f\", \"gridcolor\": \"white\", \"linecolor\": \"white\", \"minorgridcolor\": \"white\", \"startlinecolor\": \"#2a3f5f\"}, \"type\": \"carpet\"}], \"choropleth\": [{\"colorbar\": {\"outlinewidth\": 0, \"ticks\": \"\"}, \"type\": \"choropleth\"}], \"contour\": [{\"colorbar\": {\"outlinewidth\": 0, \"ticks\": \"\"}, \"colorscale\": [[0.0, \"#0d0887\"], [0.1111111111111111, \"#46039f\"], [0.2222222222222222, \"#7201a8\"], [0.3333333333333333, \"#9c179e\"], [0.4444444444444444, \"#bd3786\"], [0.5555555555555556, \"#d8576b\"], [0.6666666666666666, \"#ed7953\"], [0.7777777777777778, \"#fb9f3a\"], [0.8888888888888888, \"#fdca26\"], [1.0, \"#f0f921\"]], \"type\": \"contour\"}], \"contourcarpet\": [{\"colorbar\": {\"outlinewidth\": 0, \"ticks\": \"\"}, \"type\": \"contourcarpet\"}], \"heatmap\": [{\"colorbar\": {\"outlinewidth\": 0, \"ticks\": \"\"}, \"colorscale\": [[0.0, \"#0d0887\"], [0.1111111111111111, \"#46039f\"], [0.2222222222222222, \"#7201a8\"], [0.3333333333333333, \"#9c179e\"], [0.4444444444444444, \"#bd3786\"], [0.5555555555555556, \"#d8576b\"], [0.6666666666666666, \"#ed7953\"], [0.7777777777777778, \"#fb9f3a\"], [0.8888888888888888, \"#fdca26\"], [1.0, \"#f0f921\"]], \"type\": \"heatmap\"}], \"heatmapgl\": [{\"colorbar\": {\"outlinewidth\": 0, \"ticks\": \"\"}, \"colorscale\": [[0.0, \"#0d0887\"], [0.1111111111111111, \"#46039f\"], [0.2222222222222222, \"#7201a8\"], [0.3333333333333333, \"#9c179e\"], [0.4444444444444444, \"#bd3786\"], [0.5555555555555556, \"#d8576b\"], [0.6666666666666666, \"#ed7953\"], [0.7777777777777778, \"#fb9f3a\"], [0.8888888888888888, \"#fdca26\"], [1.0, \"#f0f921\"]], \"type\": \"heatmapgl\"}], \"histogram\": [{\"marker\": {\"colorbar\": {\"outlinewidth\": 0, \"ticks\": \"\"}}, \"type\": \"histogram\"}], \"histogram2d\": [{\"colorbar\": {\"outlinewidth\": 0, \"ticks\": \"\"}, \"colorscale\": [[0.0, \"#0d0887\"], [0.1111111111111111, \"#46039f\"], [0.2222222222222222, \"#7201a8\"], [0.3333333333333333, \"#9c179e\"], [0.4444444444444444, \"#bd3786\"], [0.5555555555555556, \"#d8576b\"], [0.6666666666666666, \"#ed7953\"], [0.7777777777777778, \"#fb9f3a\"], [0.8888888888888888, \"#fdca26\"], [1.0, \"#f0f921\"]], \"type\": \"histogram2d\"}], \"histogram2dcontour\": [{\"colorbar\": {\"outlinewidth\": 0, \"ticks\": \"\"}, \"colorscale\": [[0.0, \"#0d0887\"], [0.1111111111111111, \"#46039f\"], [0.2222222222222222, \"#7201a8\"], [0.3333333333333333, \"#9c179e\"], [0.4444444444444444, \"#bd3786\"], [0.5555555555555556, \"#d8576b\"], [0.6666666666666666, \"#ed7953\"], [0.7777777777777778, \"#fb9f3a\"], [0.8888888888888888, \"#fdca26\"], [1.0, \"#f0f921\"]], \"type\": \"histogram2dcontour\"}], \"mesh3d\": [{\"colorbar\": {\"outlinewidth\": 0, \"ticks\": \"\"}, \"type\": \"mesh3d\"}], \"parcoords\": [{\"line\": {\"colorbar\": {\"outlinewidth\": 0, \"ticks\": \"\"}}, \"type\": \"parcoords\"}], \"pie\": [{\"automargin\": true, \"type\": \"pie\"}], \"scatter\": [{\"marker\": {\"colorbar\": {\"outlinewidth\": 0, \"ticks\": \"\"}}, \"type\": \"scatter\"}], \"scatter3d\": [{\"line\": {\"colorbar\": {\"outlinewidth\": 0, \"ticks\": \"\"}}, \"marker\": {\"colorbar\": {\"outlinewidth\": 0, \"ticks\": \"\"}}, \"type\": \"scatter3d\"}], \"scattercarpet\": [{\"marker\": {\"colorbar\": {\"outlinewidth\": 0, \"ticks\": \"\"}}, \"type\": \"scattercarpet\"}], \"scattergeo\": [{\"marker\": {\"colorbar\": {\"outlinewidth\": 0, \"ticks\": \"\"}}, \"type\": \"scattergeo\"}], \"scattergl\": [{\"marker\": {\"colorbar\": {\"outlinewidth\": 0, \"ticks\": \"\"}}, \"type\": \"scattergl\"}], \"scattermapbox\": [{\"marker\": {\"colorbar\": {\"outlinewidth\": 0, \"ticks\": \"\"}}, \"type\": \"scattermapbox\"}], \"scatterpolar\": [{\"marker\": {\"colorbar\": {\"outlinewidth\": 0, \"ticks\": \"\"}}, \"type\": \"scatterpolar\"}], \"scatterpolargl\": [{\"marker\": {\"colorbar\": {\"outlinewidth\": 0, \"ticks\": \"\"}}, \"type\": \"scatterpolargl\"}], \"scatterternary\": [{\"marker\": {\"colorbar\": {\"outlinewidth\": 0, \"ticks\": \"\"}}, \"type\": \"scatterternary\"}], \"surface\": [{\"colorbar\": {\"outlinewidth\": 0, \"ticks\": \"\"}, \"colorscale\": [[0.0, \"#0d0887\"], [0.1111111111111111, \"#46039f\"], [0.2222222222222222, \"#7201a8\"], [0.3333333333333333, \"#9c179e\"], [0.4444444444444444, \"#bd3786\"], [0.5555555555555556, \"#d8576b\"], [0.6666666666666666, \"#ed7953\"], [0.7777777777777778, \"#fb9f3a\"], [0.8888888888888888, \"#fdca26\"], [1.0, \"#f0f921\"]], \"type\": \"surface\"}], \"table\": [{\"cells\": {\"fill\": {\"color\": \"#EBF0F8\"}, \"line\": {\"color\": \"white\"}}, \"header\": {\"fill\": {\"color\": \"#C8D4E3\"}, \"line\": {\"color\": \"white\"}}, \"type\": \"table\"}]}, \"layout\": {\"annotationdefaults\": {\"arrowcolor\": \"#2a3f5f\", \"arrowhead\": 0, \"arrowwidth\": 1}, \"coloraxis\": {\"colorbar\": {\"outlinewidth\": 0, \"ticks\": \"\"}}, \"colorscale\": {\"diverging\": [[0, \"#8e0152\"], [0.1, \"#c51b7d\"], [0.2, \"#de77ae\"], [0.3, \"#f1b6da\"], [0.4, \"#fde0ef\"], [0.5, \"#f7f7f7\"], [0.6, \"#e6f5d0\"], [0.7, \"#b8e186\"], [0.8, \"#7fbc41\"], [0.9, \"#4d9221\"], [1, \"#276419\"]], \"sequential\": [[0.0, \"#0d0887\"], [0.1111111111111111, \"#46039f\"], [0.2222222222222222, \"#7201a8\"], [0.3333333333333333, \"#9c179e\"], [0.4444444444444444, \"#bd3786\"], [0.5555555555555556, \"#d8576b\"], [0.6666666666666666, \"#ed7953\"], [0.7777777777777778, \"#fb9f3a\"], [0.8888888888888888, \"#fdca26\"], [1.0, \"#f0f921\"]], \"sequentialminus\": [[0.0, \"#0d0887\"], [0.1111111111111111, \"#46039f\"], [0.2222222222222222, \"#7201a8\"], [0.3333333333333333, \"#9c179e\"], [0.4444444444444444, \"#bd3786\"], [0.5555555555555556, \"#d8576b\"], [0.6666666666666666, \"#ed7953\"], [0.7777777777777778, \"#fb9f3a\"], [0.8888888888888888, \"#fdca26\"], [1.0, \"#f0f921\"]]}, \"colorway\": [\"#636efa\", \"#EF553B\", \"#00cc96\", \"#ab63fa\", \"#FFA15A\", \"#19d3f3\", \"#FF6692\", \"#B6E880\", \"#FF97FF\", \"#FECB52\"], \"font\": {\"color\": \"#2a3f5f\"}, \"geo\": {\"bgcolor\": \"white\", \"lakecolor\": \"white\", \"landcolor\": \"#E5ECF6\", \"showlakes\": true, \"showland\": true, \"subunitcolor\": \"white\"}, \"hoverlabel\": {\"align\": \"left\"}, \"hovermode\": \"closest\", \"mapbox\": {\"style\": \"light\"}, \"paper_bgcolor\": \"white\", \"plot_bgcolor\": \"#E5ECF6\", \"polar\": {\"angularaxis\": {\"gridcolor\": \"white\", \"linecolor\": \"white\", \"ticks\": \"\"}, \"bgcolor\": \"#E5ECF6\", \"radialaxis\": {\"gridcolor\": \"white\", \"linecolor\": \"white\", \"ticks\": \"\"}}, \"scene\": {\"xaxis\": {\"backgroundcolor\": \"#E5ECF6\", \"gridcolor\": \"white\", \"gridwidth\": 2, \"linecolor\": \"white\", \"showbackground\": true, \"ticks\": \"\", \"zerolinecolor\": \"white\"}, \"yaxis\": {\"backgroundcolor\": \"#E5ECF6\", \"gridcolor\": \"white\", \"gridwidth\": 2, \"linecolor\": \"white\", \"showbackground\": true, \"ticks\": \"\", \"zerolinecolor\": \"white\"}, \"zaxis\": {\"backgroundcolor\": \"#E5ECF6\", \"gridcolor\": \"white\", \"gridwidth\": 2, \"linecolor\": \"white\", \"showbackground\": true, \"ticks\": \"\", \"zerolinecolor\": \"white\"}}, \"shapedefaults\": {\"line\": {\"color\": \"#2a3f5f\"}}, \"ternary\": {\"aaxis\": {\"gridcolor\": \"white\", \"linecolor\": \"white\", \"ticks\": \"\"}, \"baxis\": {\"gridcolor\": \"white\", \"linecolor\": \"white\", \"ticks\": \"\"}, \"bgcolor\": \"#E5ECF6\", \"caxis\": {\"gridcolor\": \"white\", \"linecolor\": \"white\", \"ticks\": \"\"}}, \"title\": {\"x\": 0.05}, \"xaxis\": {\"automargin\": true, \"gridcolor\": \"white\", \"linecolor\": \"white\", \"ticks\": \"\", \"title\": {\"standoff\": 15}, \"zerolinecolor\": \"white\", \"zerolinewidth\": 2}, \"yaxis\": {\"automargin\": true, \"gridcolor\": \"white\", \"linecolor\": \"white\", \"ticks\": \"\", \"title\": {\"standoff\": 15}, \"zerolinecolor\": \"white\", \"zerolinewidth\": 2}}}, \"title\": {\"text\": \"Distribui\\u00e7\\u00e3o de novas mortes nas UFs (mavg = 5 days)\"}, \"width\": 600},\n",
       "                        {\"responsive\": true}\n",
       "                    ).then(function(){\n",
       "                            \n",
       "var gd = document.getElementById('8d8aa1e7-1f9e-4444-b06f-ad08c726ed5c');\n",
       "var x = new MutationObserver(function (mutations, observer) {{\n",
       "        var display = window.getComputedStyle(gd).display;\n",
       "        if (!display || display === 'none') {{\n",
       "            console.log([gd, 'removed!']);\n",
       "            Plotly.purge(gd);\n",
       "            observer.disconnect();\n",
       "        }}\n",
       "}});\n",
       "\n",
       "// Listen for the removal of the full notebook cells\n",
       "var notebookContainer = gd.closest('#notebook-container');\n",
       "if (notebookContainer) {{\n",
       "    x.observe(notebookContainer, {childList: true});\n",
       "}}\n",
       "\n",
       "// Listen for the clearing of the current output cell\n",
       "var outputEl = gd.closest('.output');\n",
       "if (outputEl) {{\n",
       "    x.observe(outputEl, {childList: true});\n",
       "}}\n",
       "\n",
       "                        })\n",
       "                };\n",
       "                });\n",
       "            </script>\n",
       "        </div>"
      ]
     },
     "metadata": {},
     "output_type": "display_data"
    }
   ],
   "source": [
    "plot_deaths_heatmap(df_deaths, 'state_id',\n",
    "                    title='Distribuição de novas mortes nas UFs (mavg = 5 days)')"
   ]
  },
  {
   "cell_type": "code",
   "execution_count": 30,
   "metadata": {},
   "outputs": [],
   "source": [
    "def plot_deaths_heatmap2(t, place_type, title,save_img=False):\n",
    "    \n",
    "    df_heatmap = t.reset_index()\\\n",
    "                          .pivot(index=place_type, \n",
    "                                  columns='last_updated', \n",
    "                                  values='rolling_deaths_new')\\\n",
    "                           .fillna(0)\\\n",
    "                           .apply(lambda x: x/x.max(), axis=1)\\\n",
    "                           .dropna(how='all')\n",
    "\n",
    "    # remove days with all states zero\n",
    "    df_heatmap = df_heatmap.loc[:, (df_heatmap != 0).any(axis=0)]\n",
    "    print(len(df_heatmap))\n",
    "    states_total_deaths = [t[t['state_id'] ==x]['deaths'].max() for x in df_heatmap.index]\n",
    "    idy = np.argsort(states_total_deaths) \n",
    "    \n",
    "    trace1 = go.Heatmap(_df_to_plotly(df_heatmap.iloc[idy,:]), \n",
    "                                    colorscale='temps')\n",
    "\n",
    "\n",
    "    trace2 = go.Bar(x=np.array(states_total_deaths)[idy],y=df_heatmap.iloc[idy,:].index,\n",
    "                    xaxis=\"x2\",yaxis=\"y2\",orientation='h')\n",
    "    d = [trace1,trace2]\n",
    "    layout = go.Layout(title=title,\n",
    "        plot_bgcolor='rgba(0,0,0,0)',\n",
    "        xaxis=dict(\n",
    "            domain=[0, 0.8]\n",
    "        ),\n",
    "        xaxis2=dict(\n",
    "            domain=[0.85, 1]\n",
    "        ),\n",
    "        yaxis=dict(tickmode='linear'\n",
    "        ),\n",
    "        yaxis2=dict(tickmode='linear',anchor='x2'\n",
    "        )\n",
    "        )\n",
    "\n",
    "    fig = go.Figure(data=d, layout=layout)\n",
    "    if save_img:\n",
    "        pio.write_image(fig,'Mortes_Brasil.jpeg',format='jpeg',width=1920, height=1080)\n",
    "    fig.show()"
   ]
  },
  {
   "cell_type": "code",
   "execution_count": 31,
   "metadata": {
    "scrolled": false
   },
   "outputs": [
    {
     "name": "stdout",
     "output_type": "stream",
     "text": [
      "27\n"
     ]
    },
    {
     "data": {
      "application/vnd.plotly.v1+json": {
       "config": {
        "plotlyServerURL": "https://plot.ly"
       },
       "data": [
        {
         "colorscale": [
          [
           0,
           "rgb(0, 147, 146)"
          ],
          [
           0.16666666666666666,
           "rgb(57, 177, 133)"
          ],
          [
           0.3333333333333333,
           "rgb(156, 203, 134)"
          ],
          [
           0.5,
           "rgb(233, 226, 156)"
          ],
          [
           0.6666666666666666,
           "rgb(238, 180, 121)"
          ],
          [
           0.8333333333333334,
           "rgb(232, 132, 113)"
          ],
          [
           1,
           "rgb(207, 89, 126)"
          ]
         ],
         "type": "heatmap",
         "x": [
          "2020-03-17T00:00:00",
          "2020-03-18T00:00:00",
          "2020-03-19T00:00:00",
          "2020-03-20T00:00:00",
          "2020-03-21T00:00:00",
          "2020-03-22T00:00:00",
          "2020-03-23T00:00:00",
          "2020-03-24T00:00:00",
          "2020-03-25T00:00:00",
          "2020-03-26T00:00:00",
          "2020-03-27T00:00:00",
          "2020-03-28T00:00:00",
          "2020-03-29T00:00:00",
          "2020-03-30T00:00:00",
          "2020-03-31T00:00:00",
          "2020-04-01T00:00:00",
          "2020-04-02T00:00:00",
          "2020-04-03T00:00:00",
          "2020-04-04T00:00:00",
          "2020-04-05T00:00:00",
          "2020-04-06T00:00:00",
          "2020-04-07T00:00:00",
          "2020-04-08T00:00:00",
          "2020-04-09T00:00:00",
          "2020-04-10T00:00:00",
          "2020-04-11T00:00:00",
          "2020-04-12T00:00:00",
          "2020-04-13T00:00:00",
          "2020-04-14T00:00:00",
          "2020-04-15T00:00:00",
          "2020-04-16T00:00:00",
          "2020-04-17T00:00:00",
          "2020-04-18T00:00:00",
          "2020-04-19T00:00:00",
          "2020-04-20T00:00:00",
          "2020-04-21T00:00:00",
          "2020-04-22T00:00:00",
          "2020-04-23T00:00:00",
          "2020-04-24T00:00:00",
          "2020-04-25T00:00:00",
          "2020-04-26T00:00:00",
          "2020-04-27T00:00:00",
          "2020-04-28T00:00:00",
          "2020-04-29T00:00:00",
          "2020-04-30T00:00:00",
          "2020-05-01T00:00:00",
          "2020-05-02T00:00:00",
          "2020-05-03T00:00:00",
          "2020-05-04T00:00:00",
          "2020-05-05T00:00:00",
          "2020-05-06T00:00:00",
          "2020-05-07T00:00:00",
          "2020-05-08T00:00:00",
          "2020-05-09T00:00:00",
          "2020-05-10T00:00:00",
          "2020-05-11T00:00:00",
          "2020-05-12T00:00:00",
          "2020-05-13T00:00:00"
         ],
         "y": [
          "MS",
          "TO",
          "MT",
          "RR",
          "SE",
          "DF",
          "RO",
          "AC",
          "PI",
          "GO",
          "SC",
          "AP",
          "RN",
          "RS",
          "PR",
          "MG",
          "AL",
          "PB",
          "ES",
          "BA",
          "MA",
          "PA",
          "PE",
          "AM",
          "CE",
          "RJ",
          "SP"
         ],
         "z": [
          [
           0,
           0,
           0,
           0,
           0,
           0,
           0,
           0,
           0,
           0,
           0,
           0,
           0,
           0,
           0.017543859649122806,
           0.03508771929824561,
           0.05263157894736842,
           0.07017543859649122,
           0.08771929824561403,
           0.08771929824561403,
           0.08771929824561403,
           0.10526315789473684,
           0.12280701754385964,
           0.14035087719298245,
           0.15789473684210525,
           0.17543859649122806,
           0.17543859649122806,
           0.21052631578947367,
           0.24561403508771928,
           0.2807017543859649,
           0.3333333333333333,
           0.3859649122807018,
           0.40350877192982454,
           0.42105263157894735,
           0.43859649122807015,
           0.45614035087719296,
           0.4736842105263158,
           0.5087719298245613,
           0.543859649122807,
           0.5789473684210525,
           0.5964912280701754,
           0.6491228070175439,
           0.6842105263157895,
           0.719298245614035,
           0.7543859649122806,
           0.7894736842105263,
           0.7894736842105263,
           0.8070175438596491,
           0.8245614035087719,
           0.8421052631578947,
           0.8596491228070176,
           0.8771929824561403,
           0.894736842105263,
           0.9122807017543859,
           0.9298245614035087,
           0.9473684210526316,
           0.9824561403508771,
           1
          ],
          [
           0,
           0,
           0,
           0,
           0,
           0,
           0,
           0,
           0,
           0,
           0,
           0,
           0,
           0,
           0,
           0,
           0,
           0,
           0,
           0,
           0,
           0,
           0,
           0,
           0,
           0,
           0,
           0,
           0,
           0.015384615384615385,
           0.03076923076923077,
           0.04615384615384615,
           0.06153846153846154,
           0.07692307692307693,
           0.0923076923076923,
           0.10769230769230768,
           0.12307692307692308,
           0.13846153846153847,
           0.15384615384615385,
           0.15384615384615385,
           0.15384615384615385,
           0.15384615384615385,
           0.15384615384615385,
           0.16923076923076924,
           0.1846153846153846,
           0.21538461538461537,
           0.24615384615384617,
           0.3076923076923077,
           0.3692307692307692,
           0.46153846153846156,
           0.5384615384615384,
           0.6153846153846154,
           0.6615384615384615,
           0.7230769230769231,
           0.7692307692307693,
           0.8461538461538461,
           0.9230769230769231,
           1
          ],
          [
           0,
           0,
           0,
           0,
           0,
           0,
           0,
           0,
           0,
           0,
           0,
           0,
           0,
           0,
           0,
           0,
           0,
           0.011363636363636364,
           0.022727272727272728,
           0.03409090909090909,
           0.045454545454545456,
           0.056818181818181816,
           0.056818181818181816,
           0.06818181818181818,
           0.07954545454545453,
           0.10227272727272727,
           0.125,
           0.15909090909090906,
           0.18181818181818182,
           0.20454545454545453,
           0.22727272727272727,
           0.25,
           0.2613636363636363,
           0.2727272727272727,
           0.2954545454545454,
           0.3068181818181818,
           0.3181818181818181,
           0.3409090909090909,
           0.37499999999999994,
           0.40909090909090906,
           0.4431818181818181,
           0.47727272727272724,
           0.5113636363636364,
           0.5340909090909091,
           0.5454545454545454,
           0.5568181818181818,
           0.5795454545454545,
           0.5909090909090908,
           0.6136363636363636,
           0.6363636363636362,
           0.6590909090909091,
           0.6818181818181818,
           0.7159090909090908,
           0.7499999999999999,
           0.8068181818181818,
           0.875,
           0.9431818181818182,
           1
          ],
          [
           0,
           0,
           0,
           0,
           0,
           0,
           0,
           0,
           0,
           0,
           0,
           0,
           0,
           0,
           0,
           0,
           0,
           0.009259259259259259,
           0.018518518518518517,
           0.027777777777777776,
           0.037037037037037035,
           0.046296296296296294,
           0.046296296296296294,
           0.05555555555555555,
           0.07407407407407407,
           0.09259259259259259,
           0.1111111111111111,
           0.12962962962962962,
           0.13888888888888887,
           0.13888888888888887,
           0.13888888888888887,
           0.13888888888888887,
           0.13888888888888887,
           0.13888888888888887,
           0.13888888888888887,
           0.13888888888888887,
           0.13888888888888887,
           0.13888888888888887,
           0.13888888888888887,
           0.14814814814814814,
           0.15740740740740738,
           0.16666666666666666,
           0.1759259259259259,
           0.18518518518518517,
           0.21296296296296294,
           0.24074074074074073,
           0.2685185185185185,
           0.2962962962962963,
           0.3611111111111111,
           0.3981481481481481,
           0.4537037037037037,
           0.5185185185185185,
           0.6018518518518519,
           0.6666666666666666,
           0.7592592592592592,
           0.8518518518518517,
           0.9351851851851851,
           1
          ],
          [
           0,
           0,
           0,
           0,
           0,
           0,
           0,
           0,
           0,
           0,
           0,
           0,
           0,
           0,
           0,
           0,
           0.011235955056179775,
           0.02247191011235955,
           0.03932584269662921,
           0.056179775280898875,
           0.07865168539325842,
           0.0898876404494382,
           0.10112359550561797,
           0.10674157303370786,
           0.11235955056179775,
           0.11235955056179775,
           0.11235955056179775,
           0.11235955056179775,
           0.11235955056179775,
           0.11235955056179775,
           0.11235955056179775,
           0.11235955056179775,
           0.11797752808988764,
           0.12359550561797754,
           0.1292134831460674,
           0.14606741573033707,
           0.16292134831460672,
           0.1797752808988764,
           0.19662921348314605,
           0.2191011235955056,
           0.23033707865168537,
           0.25280898876404495,
           0.2696629213483146,
           0.28651685393258425,
           0.3146067415730337,
           0.3426966292134831,
           0.3595505617977528,
           0.37640449438202245,
           0.41011235955056174,
           0.449438202247191,
           0.5,
           0.5617977528089887,
           0.6404494382022472,
           0.7303370786516854,
           0.8033707865168539,
           0.8820224719101123,
           0.9494382022471909,
           1
          ],
          [
           0,
           0,
           0,
           0,
           0,
           0,
           0,
           0,
           0,
           0,
           0,
           0,
           0.004716981132075472,
           0.014150943396226415,
           0.02830188679245283,
           0.04716981132075472,
           0.07075471698113207,
           0.09433962264150944,
           0.1179245283018868,
           0.13679245283018868,
           0.16509433962264153,
           0.19811320754716982,
           0.22641509433962265,
           0.25471698113207547,
           0.28773584905660377,
           0.30660377358490565,
           0.31603773584905664,
           0.33018867924528306,
           0.34905660377358494,
           0.36320754716981135,
           0.3915094339622642,
           0.43867924528301894,
           0.4811320754716981,
           0.5141509433962265,
           0.5471698113207547,
           0.5660377358490566,
           0.5707547169811321,
           0.5801886792452831,
           0.589622641509434,
           0.6037735849056605,
           0.6179245283018868,
           0.6320754716981133,
           0.6415094339622641,
           0.6509433962264152,
           0.6650943396226415,
           0.6839622641509434,
           0.7028301886792453,
           0.7264150943396227,
           0.75,
           0.768867924528302,
           0.7877358490566038,
           0.8018867924528302,
           0.8160377358490567,
           0.839622641509434,
           0.8726415094339623,
           0.9103773584905661,
           0.9575471698113208,
           1
          ],
          [
           0,
           0,
           0,
           0,
           0,
           0,
           0,
           0,
           0,
           0,
           0,
           0,
           0,
           0.004329004329004329,
           0.008658008658008658,
           0.012987012987012986,
           0.017316017316017316,
           0.021645021645021644,
           0.021645021645021644,
           0.021645021645021644,
           0.021645021645021644,
           0.021645021645021644,
           0.021645021645021644,
           0.025974025974025972,
           0.0303030303030303,
           0.03463203463203463,
           0.03896103896103896,
           0.04329004329004329,
           0.04329004329004329,
           0.04329004329004329,
           0.04761904761904762,
           0.051948051948051945,
           0.0606060606060606,
           0.06926406926406926,
           0.07792207792207792,
           0.08658008658008658,
           0.09523809523809525,
           0.09956709956709955,
           0.10389610389610389,
           0.11255411255411255,
           0.12987012987012986,
           0.14718614718614717,
           0.1688311688311688,
           0.20779220779220778,
           0.24675324675324675,
           0.2857142857142857,
           0.3463203463203463,
           0.4069264069264069,
           0.45454545454545453,
           0.5151515151515151,
           0.5800865800865801,
           0.6406926406926406,
           0.7056277056277056,
           0.7748917748917747,
           0.8354978354978355,
           0.8961038961038961,
           0.9523809523809523,
           1
          ],
          [
           0,
           0,
           0,
           0,
           0,
           0,
           0,
           0,
           0,
           0,
           0,
           0,
           0,
           0,
           0,
           0,
           0,
           0,
           0,
           0,
           0.0043859649122807015,
           0.013157894736842105,
           0.021929824561403508,
           0.03070175438596491,
           0.039473684210526314,
           0.043859649122807015,
           0.043859649122807015,
           0.048245614035087724,
           0.05263157894736842,
           0.06140350877192982,
           0.07456140350877193,
           0.08771929824561403,
           0.10087719298245613,
           0.11403508771929824,
           0.13157894736842105,
           0.14473684210526314,
           0.15789473684210525,
           0.17543859649122806,
           0.19736842105263158,
           0.21052631578947367,
           0.22368421052631576,
           0.25,
           0.2763157894736842,
           0.30701754385964913,
           0.34210526315789475,
           0.3771929824561403,
           0.41228070175438597,
           0.4517543859649123,
           0.49561403508771934,
           0.5394736842105263,
           0.6096491228070176,
           0.6710526315789473,
           0.7280701754385965,
           0.7807017543859649,
           0.8333333333333333,
           0.8728070175438596,
           0.9385964912280701,
           1
          ],
          [
           0,
           0,
           0,
           0,
           0,
           0,
           0,
           0,
           0,
           0,
           0.004,
           0.008,
           0.012,
           0.027999999999999997,
           0.044000000000000004,
           0.055999999999999994,
           0.068,
           0.08,
           0.08,
           0.08,
           0.08,
           0.084,
           0.092,
           0.10400000000000001,
           0.11599999999999999,
           0.128,
           0.136,
           0.14400000000000002,
           0.14800000000000002,
           0.152,
           0.156,
           0.16399999999999998,
           0.172,
           0.188,
           0.212,
           0.24,
           0.264,
           0.28800000000000003,
           0.308,
           0.324,
           0.344,
           0.368,
           0.4,
           0.428,
           0.452,
           0.47600000000000003,
           0.504,
           0.52,
           0.54,
           0.564,
           0.6,
           0.636,
           0.6759999999999999,
           0.728,
           0.7879999999999999,
           0.8440000000000001,
           0.924,
           1
          ],
          [
           0,
           0,
           0,
           0,
           0,
           0,
           0,
           0,
           0,
           0.0038461538461538464,
           0.007692307692307693,
           0.011538461538461537,
           0.015384615384615385,
           0.019230769230769232,
           0.019230769230769232,
           0.019230769230769232,
           0.019230769230769232,
           0.023076923076923075,
           0.02692307692307692,
           0.03461538461538462,
           0.05,
           0.06538461538461539,
           0.08461538461538462,
           0.10384615384615385,
           0.12307692307692308,
           0.1423076923076923,
           0.1769230769230769,
           0.2076923076923077,
           0.23846153846153847,
           0.2653846153846154,
           0.28846153846153844,
           0.29615384615384616,
           0.3076923076923077,
           0.31923076923076926,
           0.3346153846153846,
           0.34615384615384615,
           0.36538461538461536,
           0.38461538461538464,
           0.40384615384615385,
           0.4230769230769231,
           0.4423076923076923,
           0.46153846153846156,
           0.4730769230769231,
           0.4846153846153846,
           0.5,
           0.5153846153846154,
           0.5269230769230769,
           0.5384615384615384,
           0.55,
           0.573076923076923,
           0.5961538461538461,
           0.6538461538461539,
           0.7307692307692307,
           0.8076923076923077,
           0.8653846153846154,
           0.9230769230769231,
           0.9538461538461539,
           1
          ],
          [
           0,
           0,
           0,
           0,
           0,
           0,
           0,
           0,
           0,
           0.002906976744186047,
           0.005813953488372094,
           0.00872093023255814,
           0.011627906976744188,
           0.01744186046511628,
           0.020348837209302324,
           0.023255813953488375,
           0.03488372093023256,
           0.04651162790697675,
           0.06976744186046512,
           0.0930232558139535,
           0.1191860465116279,
           0.14825581395348836,
           0.18313953488372092,
           0.2063953488372093,
           0.2296511627906977,
           0.25872093023255816,
           0.28488372093023256,
           0.311046511627907,
           0.34011627906976744,
           0.372093023255814,
           0.39825581395348836,
           0.4186046511627907,
           0.436046511627907,
           0.4563953488372093,
           0.47383720930232565,
           0.49418604651162795,
           0.5174418604651163,
           0.5465116279069768,
           0.5668604651162791,
           0.5872093023255814,
           0.6046511627906977,
           0.619186046511628,
           0.625,
           0.6366279069767442,
           0.6540697674418605,
           0.6744186046511628,
           0.6976744186046512,
           0.7209302325581396,
           0.747093023255814,
           0.7761627906976745,
           0.8023255813953489,
           0.8343023255813954,
           0.866279069767442,
           0.8924418604651163,
           0.9127906976744186,
           0.9418604651162791,
           0.9709302325581395,
           1
          ],
          [
           0,
           0,
           0,
           0,
           0,
           0,
           0,
           0,
           0,
           0,
           0,
           0,
           0,
           0,
           0,
           0,
           0,
           0,
           0.0025906735751295338,
           0.0051813471502590676,
           0.010362694300518135,
           0.015544041450777202,
           0.02072538860103627,
           0.023316062176165803,
           0.025906735751295335,
           0.03367875647668394,
           0.04145077720207254,
           0.05181347150259067,
           0.06476683937823834,
           0.07772020725388601,
           0.09067357512953368,
           0.10362694300518134,
           0.11398963730569948,
           0.12435233160621761,
           0.13989637305699482,
           0.14766839378238342,
           0.15803108808290153,
           0.17357512953367876,
           0.1917098445595855,
           0.20984455958549222,
           0.23575129533678754,
           0.266839378238342,
           0.2979274611398964,
           0.3316062176165803,
           0.36787564766839376,
           0.40414507772020725,
           0.44041450777202074,
           0.4792746113989637,
           0.5259067357512953,
           0.5803108808290155,
           0.6295336787564767,
           0.6839378238341969,
           0.7435233160621761,
           0.7953367875647668,
           0.8393782383419689,
           0.883419689119171,
           0.9481865284974094,
           1
          ],
          [
           0,
           0,
           0,
           0,
           0,
           0,
           0,
           0,
           0,
           0,
           0,
           0.002272727272727273,
           0.004545454545454546,
           0.006818181818181818,
           0.009090909090909092,
           0.013636363636363636,
           0.015909090909090907,
           0.022727272727272728,
           0.029545454545454545,
           0.04318181818181818,
           0.05454545454545454,
           0.06818181818181818,
           0.08409090909090909,
           0.1,
           0.10909090909090909,
           0.12272727272727274,
           0.1431818181818182,
           0.1590909090909091,
           0.17727272727272728,
           0.19772727272727272,
           0.22045454545454543,
           0.23636363636363636,
           0.2545454545454545,
           0.2727272727272727,
           0.29090909090909095,
           0.30454545454545456,
           0.32727272727272727,
           0.3522727272727273,
           0.3795454545454545,
           0.41363636363636364,
           0.4477272727272727,
           0.4772727272727273,
           0.5136363636363637,
           0.5499999999999999,
           0.5772727272727273,
           0.6068181818181818,
           0.634090909090909,
           0.65,
           0.6749999999999999,
           0.7090909090909091,
           0.7477272727272727,
           0.7818181818181817,
           0.8386363636363636,
           0.8818181818181817,
           0.9159090909090909,
           0.9522727272727273,
           0.9886363636363636,
           1
          ],
          [
           0,
           0,
           0,
           0,
           0,
           0,
           0,
           0,
           0.0019083969465648856,
           0.0038167938931297713,
           0.0076335877862595426,
           0.011450381679389313,
           0.015267175572519085,
           0.020992366412213744,
           0.026717557251908396,
           0.03244274809160305,
           0.03816793893129771,
           0.04580152671755725,
           0.05152671755725191,
           0.05725190839694656,
           0.06297709923664122,
           0.06870229007633588,
           0.07633587786259542,
           0.08969465648854963,
           0.10496183206106871,
           0.12022900763358779,
           0.13549618320610687,
           0.14885496183206107,
           0.1564885496183206,
           0.16412213740458015,
           0.1736641221374046,
           0.18893129770992367,
           0.20229007633587787,
           0.21755725190839695,
           0.23282442748091603,
           0.24427480916030536,
           0.25190839694656486,
           0.26145038167938933,
           0.2767175572519084,
           0.2919847328244275,
           0.3129770992366412,
           0.3454198473282443,
           0.38358778625954204,
           0.41603053435114506,
           0.4599236641221374,
           0.5057251908396947,
           0.5438931297709924,
           0.5782442748091603,
           0.6259541984732824,
           0.6736641221374046,
           0.7270992366412214,
           0.7767175572519085,
           0.8301526717557253,
           0.8702290076335878,
           0.9026717557251908,
           0.9312977099236641,
           0.9694656488549618,
           1
          ],
          [
           0,
           0,
           0,
           0,
           0,
           0,
           0,
           0,
           0,
           0,
           0.0036166365280289334,
           0.007233273056057867,
           0.0108499095840868,
           0.0162748643761302,
           0.0216998191681736,
           0.02350813743218807,
           0.027124773960217,
           0.0325497287522604,
           0.03978300180831827,
           0.05244122965641953,
           0.07233273056057866,
           0.0922242314647378,
           0.11392405063291139,
           0.14285714285714288,
           0.16998191681735986,
           0.19168173598553345,
           0.21880650994575046,
           0.24593128390596747,
           0.2730560578661845,
           0.3001808318264015,
           0.3273056057866185,
           0.3490054249547921,
           0.3761301989150091,
           0.39783001808318263,
           0.41772151898734183,
           0.43942133815551543,
           0.46835443037974683,
           0.49186256781193494,
           0.5189873417721519,
           0.5515370705244124,
           0.5877034358047016,
           0.6184448462929476,
           0.6491862567811935,
           0.6799276672694394,
           0.7106690777576853,
           0.7396021699819169,
           0.7667269439421338,
           0.7956600361663653,
           0.8173598553345389,
           0.840867992766727,
           0.8625678119349006,
           0.8878842676311032,
           0.9113924050632911,
           0.9349005424954793,
           0.952983725135624,
           0.9710669077757687,
           0.9873417721518988,
           1
          ],
          [
           0,
           0,
           0,
           0,
           0,
           0,
           0,
           0,
           0,
           0,
           0,
           0,
           0,
           0.0016339869281045752,
           0.004901960784313725,
           0.00980392156862745,
           0.016339869281045753,
           0.026143790849673203,
           0.03431372549019608,
           0.04084967320261438,
           0.05065359477124183,
           0.06209150326797385,
           0.07516339869281045,
           0.08986928104575163,
           0.10784313725490195,
           0.12091503267973856,
           0.13562091503267976,
           0.1503267973856209,
           0.16993464052287582,
           0.19117647058823528,
           0.2173202614379085,
           0.24183006535947713,
           0.2679738562091503,
           0.28758169934640526,
           0.3055555555555555,
           0.3235294117647059,
           0.3431372549019608,
           0.3627450980392157,
           0.38725490196078427,
           0.41503267973856206,
           0.44281045751633985,
           0.4673202614379085,
           0.5,
           0.542483660130719,
           0.5816993464052288,
           0.6258169934640522,
           0.6683006535947712,
           0.6977124183006536,
           0.7140522875816994,
           0.7336601307189542,
           0.7483660130718953,
           0.7777777777777778,
           0.8137254901960783,
           0.8594771241830065,
           0.9003267973856209,
           0.9395424836601307,
           0.9738562091503268,
           1
          ],
          [
           0,
           0,
           0,
           0,
           0,
           0,
           0,
           0,
           0,
           0,
           0,
           0,
           0,
           0,
           0.001506024096385542,
           0.003012048192771084,
           0.004518072289156626,
           0.00753012048192771,
           0.010542168674698794,
           0.012048192771084336,
           0.013554216867469878,
           0.01506024096385542,
           0.01506024096385542,
           0.016566265060240965,
           0.018072289156626505,
           0.01957831325301205,
           0.02108433734939759,
           0.024096385542168672,
           0.025602409638554213,
           0.027108433734939756,
           0.028614457831325296,
           0.03313253012048193,
           0.0391566265060241,
           0.05271084337349397,
           0.07078313253012047,
           0.09036144578313252,
           0.10843373493975902,
           0.12650602409638553,
           0.14457831325301204,
           0.161144578313253,
           0.18072289156626503,
           0.20180722891566263,
           0.22289156626506024,
           0.2439759036144578,
           0.2710843373493976,
           0.30271084337349397,
           0.338855421686747,
           0.38102409638554213,
           0.4277108433734939,
           0.4774096385542168,
           0.5316265060240963,
           0.591867469879518,
           0.6581325301204819,
           0.7213855421686746,
           0.789156626506024,
           0.8614457831325301,
           0.9382530120481927,
           1
          ],
          [
           0,
           0,
           0,
           0,
           0,
           0,
           0,
           0,
           0,
           0,
           0,
           0,
           0,
           0,
           0.0014164305949008501,
           0.0028328611898017003,
           0.00424929178470255,
           0.005665722379603401,
           0.009915014164305949,
           0.0141643059490085,
           0.01841359773371105,
           0.022662889518413602,
           0.031161473087818702,
           0.042492917847025496,
           0.052407932011331454,
           0.06515580736543909,
           0.07790368271954674,
           0.09065155807365441,
           0.10481586402266291,
           0.12322946175637393,
           0.141643059490085,
           0.16288951841359775,
           0.18130311614730882,
           0.19688385269121816,
           0.20963172804532582,
           0.22804532577903686,
           0.24504249291784705,
           0.2662889518413598,
           0.28611898016997167,
           0.3087818696883853,
           0.3243626062322946,
           0.34277620396600567,
           0.36118980169971676,
           0.38385269121813037,
           0.4093484419263456,
           0.44334277620396606,
           0.4759206798866856,
           0.5070821529745042,
           0.5396600566572238,
           0.5750708215297451,
           0.613314447592068,
           0.6628895184135978,
           0.7124645892351275,
           0.7677053824362607,
           0.8286118980169972,
           0.8824362606232294,
           0.943342776203966,
           1
          ],
          [
           0,
           0,
           0,
           0,
           0,
           0,
           0,
           0,
           0,
           0,
           0,
           0,
           0,
           0,
           0,
           0,
           0.002066115702479339,
           0.007231404958677685,
           0.013429752066115703,
           0.01962809917355372,
           0.025826446280991736,
           0.029958677685950414,
           0.030991735537190084,
           0.032024793388429756,
           0.03409090909090909,
           0.0371900826446281,
           0.04545454545454546,
           0.05681818181818182,
           0.06818181818181818,
           0.08161157024793389,
           0.10020661157024793,
           0.11363636363636365,
           0.12603305785123967,
           0.1415289256198347,
           0.15392561983471076,
           0.16012396694214875,
           0.16942148760330578,
           0.1828512396694215,
           0.1962809917355372,
           0.21487603305785125,
           0.23863636363636365,
           0.265495867768595,
           0.3006198347107438,
           0.33884297520661155,
           0.381198347107438,
           0.42665289256198347,
           0.4690082644628099,
           0.5082644628099174,
           0.5485537190082644,
           0.5898760330578513,
           0.6363636363636364,
           0.691115702479339,
           0.7427685950413224,
           0.7933884297520661,
           0.8429752066115702,
           0.8946280991735537,
           0.9514462809917356,
           1
          ],
          [
           0,
           0,
           0,
           0,
           0,
           0,
           0,
           0,
           0,
           0,
           0,
           0,
           0.0009505703422053232,
           0.0028517110266159692,
           0.004752851711026616,
           0.006653992395437262,
           0.009505703422053232,
           0.014258555133079848,
           0.019011406844106463,
           0.025665399239543727,
           0.03326996197718631,
           0.04372623574144486,
           0.055133079847908745,
           0.06653992395437262,
           0.07604562737642585,
           0.0865019011406844,
           0.09315589353612168,
           0.09695817490494296,
           0.10361216730038023,
           0.11216730038022814,
           0.12452471482889733,
           0.13783269961977185,
           0.15399239543726234,
           0.17110266159695817,
           0.188212927756654,
           0.20057034220532322,
           0.21673003802281368,
           0.2376425855513308,
           0.2585551330798479,
           0.282319391634981,
           0.3070342205323194,
           0.33555133079847904,
           0.36501901140684406,
           0.3963878326996198,
           0.4287072243346008,
           0.4695817490494296,
           0.5076045627376425,
           0.5399239543726235,
           0.5779467680608364,
           0.6150190114068441,
           0.6549429657794678,
           0.6939163498098859,
           0.7461977186311787,
           0.7984790874524714,
           0.8517110266159695,
           0.903041825095057,
           0.9600760456273764,
           1
          ],
          [
           0,
           0,
           0,
           0,
           0,
           0,
           0,
           0,
           0,
           0,
           0,
           0,
           0.0004786979415988511,
           0.0009573958831977022,
           0.0014360938247965534,
           0.0019147917663954045,
           0.0023934897079942556,
           0.0023934897079942556,
           0.0028721876495931067,
           0.0033508855911919574,
           0.004786979415988511,
           0.009573958831977022,
           0.014839636189564385,
           0.0215414073719483,
           0.030636668262326472,
           0.040210627094303494,
           0.04786979415988511,
           0.057443752991862135,
           0.06606031594064146,
           0.07371948300622307,
           0.08137865007180468,
           0.08951651507898516,
           0.09717568214456677,
           0.1067496409765438,
           0.11775969363331738,
           0.1302058401148875,
           0.14552417424605074,
           0.1646720919100048,
           0.18669219722355193,
           0.2115844901866922,
           0.2398276687410244,
           0.2728578267113451,
           0.3101962661560555,
           0.350406893250359,
           0.39444710387745335,
           0.44183820009573954,
           0.4858784107228339,
           0.5256103398755385,
           0.5672570607946386,
           0.6089037817137386,
           0.6476783149832456,
           0.6921972235519387,
           0.7429392053614169,
           0.7946385830540929,
           0.8463379607467688,
           0.9028243178554332,
           0.9573958831977022,
           1
          ],
          [
           0,
           0,
           0,
           0,
           0,
           0,
           0,
           0,
           0,
           0,
           0,
           0,
           0,
           0,
           0,
           0.0002551671344730799,
           0.0005103342689461598,
           0.0007655014034192397,
           0.0010206685378923196,
           0.0012758356723653994,
           0.0022965042102577188,
           0.0033171727481500386,
           0.0045930084205154376,
           0.006124011227353917,
           0.008165348303138557,
           0.009696351109977035,
           0.011992855320234756,
           0.014034192396019394,
           0.017606532278642513,
           0.02066853789231947,
           0.02449604490941567,
           0.029089053329931107,
           0.033937228884919624,
           0.03725440163306966,
           0.04082674151569278,
           0.043888747129369736,
           0.04669558560857362,
           0.051798928298035216,
           0.06506761929063537,
           0.08037764735902016,
           0.09977034957897424,
           0.11992855320234755,
           0.14008675682572086,
           0.15794845623883644,
           0.19086501658586374,
           0.22888491962235266,
           0.27583567236539935,
           0.3230415922429191,
           0.3710130135238582,
           0.4095432508292932,
           0.4470528195968359,
           0.4934932380709365,
           0.559071191630518,
           0.6269456494003572,
           0.702730288338862,
           0.805052309262567,
           0.913498341413626,
           1
          ],
          [
           0,
           0,
           0,
           0,
           0,
           0,
           0,
           0,
           0.00019853087155052612,
           0.0005955926146515783,
           0.0011911852293031565,
           0.0019853087155052612,
           0.0027794322017073653,
           0.0035735556879094702,
           0.004169148302561048,
           0.004963271788763153,
           0.005757395274965257,
           0.006750049632717888,
           0.008338296605122097,
           0.011316259678379988,
           0.015683938852491565,
           0.020647210641254715,
           0.027794322017073655,
           0.03613261862219575,
           0.0448679769704189,
           0.053206273575541,
           0.06333134802461783,
           0.07444907683144729,
           0.08616239825292833,
           0.10164780623386938,
           0.11911852293031566,
           0.1391701409569188,
           0.159618820726623,
           0.17967043875322614,
           0.197736748064324,
           0.2175898352193766,
           0.23664879888822712,
           0.2578916021441334,
           0.28409767718880286,
           0.3132817153067302,
           0.3440540003970618,
           0.37740718681755014,
           0.41631923764145323,
           0.4540401032360532,
           0.49056978360135,
           0.5276950565812984,
           0.5628350208457416,
           0.5910264046059162,
           0.6210045662100457,
           0.6456223942823109,
           0.6628945801072066,
           0.7057772483621203,
           0.7440937065713719,
           0.7998808814770697,
           0.870557871749057,
           0.9491760968830654,
           0.9745880484415327,
           1
          ],
          [
           0,
           0,
           0,
           0,
           0,
           0,
           0,
           0.00019241870309794111,
           0.00038483740619588223,
           0.0005772561092938233,
           0.0007696748123917645,
           0.0009620935154897055,
           0.0009620935154897055,
           0.0011545122185876466,
           0.001539349624783529,
           0.001924187030979411,
           0.002309024437175293,
           0.0034635366557629397,
           0.00538772368674235,
           0.007696748123917644,
           0.0107754473734847,
           0.014623821435443524,
           0.01904945160669617,
           0.02443717529343852,
           0.031171829901866458,
           0.03771406580719646,
           0.045218395228016156,
           0.05310756205503175,
           0.0627284972099288,
           0.07350394458341351,
           0.08716567250336732,
           0.10313642486049643,
           0.12045410813931114,
           0.13796421012122378,
           0.1531652876659611,
           0.16644217817971904,
           0.17817971906869345,
           0.19222628439484318,
           0.2064652684240908,
           0.2260919761400808,
           0.24745045218395226,
           0.26938618433711753,
           0.29189917259957665,
           0.31595151048681924,
           0.3425052915143352,
           0.37560130844718104,
           0.4104290937079084,
           0.44833557821820275,
           0.4877814123532807,
           0.5308832018472195,
           0.5837983451991533,
           0.6424860496440253,
           0.7052145468539541,
           0.7777563979218779,
           0.846065037521647,
           0.9007119492014624,
           0.9568982105060612,
           1
          ],
          [
           0,
           0,
           0,
           0,
           0,
           0,
           0,
           0,
           0,
           0.0005063291139240507,
           0.0010126582278481013,
           0.0016877637130801688,
           0.002531645569620253,
           0.0033755274261603376,
           0.004050632911392405,
           0.005063291139240506,
           0.004388185654008439,
           0.007257383966244726,
           0.010295358649789029,
           0.015021097046413502,
           0.019578059071729957,
           0.026329113924050632,
           0.03223628691983123,
           0.0379746835443038,
           0.04337552742616033,
           0.049789029535864976,
           0.05586497890295359,
           0.06312236286919831,
           0.07223628691983122,
           0.08185654008438818,
           0.09046413502109706,
           0.10379746835443038,
           0.11729957805907174,
           0.13046413502109705,
           0.14430379746835442,
           0.16050632911392404,
           0.17451476793248946,
           0.18970464135021098,
           0.20708860759493672,
           0.22717299578059072,
           0.25316455696202533,
           0.279831223628692,
           0.3044725738396625,
           0.33097046413502107,
           0.35898734177215186,
           0.38649789029535864,
           0.4270042194092827,
           0.470717299578059,
           0.5147679324894515,
           0.5657383966244726,
           0.6178902953586498,
           0.6624472573839663,
           0.7162869198312236,
           0.7756962025316456,
           0.829873417721519,
           0.8875949367088607,
           0.9517299578059072,
           1
          ],
          [
           0,
           0,
           0.00022239519626376074,
           0.0004447903925275215,
           0.0007783831869231625,
           0.0011119759813188036,
           0.001556766373846325,
           0.0020015567663738466,
           0.0026687423551651286,
           0.0033359279439564107,
           0.0041143111308795735,
           0.005115089514066496,
           0.00633826309351718,
           0.007450239074835984,
           0.009007005448682309,
           0.011008562215056156,
           0.014122094962748804,
           0.017458022906705215,
           0.021905926831980428,
           0.026465028355387527,
           0.03124652507505838,
           0.03658400978538864,
           0.043144668075169576,
           0.050261314355609925,
           0.05949071500055599,
           0.06883131324363394,
           0.07783831869231625,
           0.08628933615033915,
           0.09763149115979095,
           0.11075280773935282,
           0.12698765706660736,
           0.14600244634715892,
           0.1687979539641944,
           0.1885911264316691,
           0.20604914933837432,
           0.2236183698432114,
           0.24018681196486158,
           0.2559768708995886,
           0.2746580673857445,
           0.2961192038251974,
           0.3168019570777271,
           0.3375959079283888,
           0.36083620593795174,
           0.3857444679194929,
           0.4123206938730124,
           0.4430112309574113,
           0.47570332480818417,
           0.5069498498832425,
           0.5370843989769821,
           0.5669965528744579,
           0.598576670743912,
           0.6456132547536974,
           0.6994328922495274,
           0.7648170799510731,
           0.8305348604470144,
           0.8933615033915268,
           0.9527410207939508,
           1
          ],
          [
           5.228211428870184e-05,
           0.00020912845715480736,
           0.0004705390285983165,
           0.000941078057196633,
           0.0014116170857949497,
           0.0018298740001045641,
           0.002143566685836775,
           0.0023526951429915827,
           0.004391697600250954,
           0.006901239086108642,
           0.009933601714853349,
           0.012965964343598054,
           0.015998326972342762,
           0.01934438228681968,
           0.02342238720133842,
           0.0284937522873425,
           0.03481988811627542,
           0.0427667694881581,
           0.05050452240288597,
           0.05782401840330423,
           0.06514351440372249,
           0.07471114131855493,
           0.08563810320489361,
           0.09792440006273855,
           0.11177916034924452,
           0.12516338160715218,
           0.1365086004078005,
           0.14591938097976684,
           0.1563758038375072,
           0.1688189470382182,
           0.18413760652480785,
           0.20191352538296647,
           0.22193757515553927,
           0.23866785172792387,
           0.25220891932869766,
           0.26475662675798606,
           0.2755267423014587,
           0.2940346107596591,
           0.3200188215611439,
           0.3529565535630261,
           0.3846917969362681,
           0.42081873790976104,
           0.45762534636900715,
           0.49605270037120297,
           0.5330684372876039,
           0.5754692319757411,
           0.6152559209494431,
           0.6454749830083127,
           0.6667538035238144,
           0.6916400899252366,
           0.7195587389554033,
           0.7519736498143984,
           0.7932242379881842,
           0.8431013750196057,
           0.887959429079312,
           0.9244523448528259,
           0.9632979557693313,
           1
          ]
         ]
        },
        {
         "orientation": "h",
         "type": "bar",
         "x": [
          12,
          14,
          19,
          23,
          37,
          45,
          50,
          52,
          57,
          61,
          73,
          86,
          90,
          111,
          113,
          127,
          147,
          154,
          211,
          223,
          444,
          913,
          1084,
          1098,
          1280,
          1928,
          4118
         ],
         "xaxis": "x2",
         "y": [
          "MS",
          "TO",
          "MT",
          "RR",
          "SE",
          "DF",
          "RO",
          "AC",
          "PI",
          "GO",
          "SC",
          "AP",
          "RN",
          "RS",
          "PR",
          "MG",
          "AL",
          "PB",
          "ES",
          "BA",
          "MA",
          "PA",
          "PE",
          "AM",
          "CE",
          "RJ",
          "SP"
         ],
         "yaxis": "y2"
        }
       ],
       "layout": {
        "plot_bgcolor": "rgba(0,0,0,0)",
        "template": {
         "data": {
          "bar": [
           {
            "error_x": {
             "color": "#2a3f5f"
            },
            "error_y": {
             "color": "#2a3f5f"
            },
            "marker": {
             "line": {
              "color": "#E5ECF6",
              "width": 0.5
             }
            },
            "type": "bar"
           }
          ],
          "barpolar": [
           {
            "marker": {
             "line": {
              "color": "#E5ECF6",
              "width": 0.5
             }
            },
            "type": "barpolar"
           }
          ],
          "carpet": [
           {
            "aaxis": {
             "endlinecolor": "#2a3f5f",
             "gridcolor": "white",
             "linecolor": "white",
             "minorgridcolor": "white",
             "startlinecolor": "#2a3f5f"
            },
            "baxis": {
             "endlinecolor": "#2a3f5f",
             "gridcolor": "white",
             "linecolor": "white",
             "minorgridcolor": "white",
             "startlinecolor": "#2a3f5f"
            },
            "type": "carpet"
           }
          ],
          "choropleth": [
           {
            "colorbar": {
             "outlinewidth": 0,
             "ticks": ""
            },
            "type": "choropleth"
           }
          ],
          "contour": [
           {
            "colorbar": {
             "outlinewidth": 0,
             "ticks": ""
            },
            "colorscale": [
             [
              0,
              "#0d0887"
             ],
             [
              0.1111111111111111,
              "#46039f"
             ],
             [
              0.2222222222222222,
              "#7201a8"
             ],
             [
              0.3333333333333333,
              "#9c179e"
             ],
             [
              0.4444444444444444,
              "#bd3786"
             ],
             [
              0.5555555555555556,
              "#d8576b"
             ],
             [
              0.6666666666666666,
              "#ed7953"
             ],
             [
              0.7777777777777778,
              "#fb9f3a"
             ],
             [
              0.8888888888888888,
              "#fdca26"
             ],
             [
              1,
              "#f0f921"
             ]
            ],
            "type": "contour"
           }
          ],
          "contourcarpet": [
           {
            "colorbar": {
             "outlinewidth": 0,
             "ticks": ""
            },
            "type": "contourcarpet"
           }
          ],
          "heatmap": [
           {
            "colorbar": {
             "outlinewidth": 0,
             "ticks": ""
            },
            "colorscale": [
             [
              0,
              "#0d0887"
             ],
             [
              0.1111111111111111,
              "#46039f"
             ],
             [
              0.2222222222222222,
              "#7201a8"
             ],
             [
              0.3333333333333333,
              "#9c179e"
             ],
             [
              0.4444444444444444,
              "#bd3786"
             ],
             [
              0.5555555555555556,
              "#d8576b"
             ],
             [
              0.6666666666666666,
              "#ed7953"
             ],
             [
              0.7777777777777778,
              "#fb9f3a"
             ],
             [
              0.8888888888888888,
              "#fdca26"
             ],
             [
              1,
              "#f0f921"
             ]
            ],
            "type": "heatmap"
           }
          ],
          "heatmapgl": [
           {
            "colorbar": {
             "outlinewidth": 0,
             "ticks": ""
            },
            "colorscale": [
             [
              0,
              "#0d0887"
             ],
             [
              0.1111111111111111,
              "#46039f"
             ],
             [
              0.2222222222222222,
              "#7201a8"
             ],
             [
              0.3333333333333333,
              "#9c179e"
             ],
             [
              0.4444444444444444,
              "#bd3786"
             ],
             [
              0.5555555555555556,
              "#d8576b"
             ],
             [
              0.6666666666666666,
              "#ed7953"
             ],
             [
              0.7777777777777778,
              "#fb9f3a"
             ],
             [
              0.8888888888888888,
              "#fdca26"
             ],
             [
              1,
              "#f0f921"
             ]
            ],
            "type": "heatmapgl"
           }
          ],
          "histogram": [
           {
            "marker": {
             "colorbar": {
              "outlinewidth": 0,
              "ticks": ""
             }
            },
            "type": "histogram"
           }
          ],
          "histogram2d": [
           {
            "colorbar": {
             "outlinewidth": 0,
             "ticks": ""
            },
            "colorscale": [
             [
              0,
              "#0d0887"
             ],
             [
              0.1111111111111111,
              "#46039f"
             ],
             [
              0.2222222222222222,
              "#7201a8"
             ],
             [
              0.3333333333333333,
              "#9c179e"
             ],
             [
              0.4444444444444444,
              "#bd3786"
             ],
             [
              0.5555555555555556,
              "#d8576b"
             ],
             [
              0.6666666666666666,
              "#ed7953"
             ],
             [
              0.7777777777777778,
              "#fb9f3a"
             ],
             [
              0.8888888888888888,
              "#fdca26"
             ],
             [
              1,
              "#f0f921"
             ]
            ],
            "type": "histogram2d"
           }
          ],
          "histogram2dcontour": [
           {
            "colorbar": {
             "outlinewidth": 0,
             "ticks": ""
            },
            "colorscale": [
             [
              0,
              "#0d0887"
             ],
             [
              0.1111111111111111,
              "#46039f"
             ],
             [
              0.2222222222222222,
              "#7201a8"
             ],
             [
              0.3333333333333333,
              "#9c179e"
             ],
             [
              0.4444444444444444,
              "#bd3786"
             ],
             [
              0.5555555555555556,
              "#d8576b"
             ],
             [
              0.6666666666666666,
              "#ed7953"
             ],
             [
              0.7777777777777778,
              "#fb9f3a"
             ],
             [
              0.8888888888888888,
              "#fdca26"
             ],
             [
              1,
              "#f0f921"
             ]
            ],
            "type": "histogram2dcontour"
           }
          ],
          "mesh3d": [
           {
            "colorbar": {
             "outlinewidth": 0,
             "ticks": ""
            },
            "type": "mesh3d"
           }
          ],
          "parcoords": [
           {
            "line": {
             "colorbar": {
              "outlinewidth": 0,
              "ticks": ""
             }
            },
            "type": "parcoords"
           }
          ],
          "pie": [
           {
            "automargin": true,
            "type": "pie"
           }
          ],
          "scatter": [
           {
            "marker": {
             "colorbar": {
              "outlinewidth": 0,
              "ticks": ""
             }
            },
            "type": "scatter"
           }
          ],
          "scatter3d": [
           {
            "line": {
             "colorbar": {
              "outlinewidth": 0,
              "ticks": ""
             }
            },
            "marker": {
             "colorbar": {
              "outlinewidth": 0,
              "ticks": ""
             }
            },
            "type": "scatter3d"
           }
          ],
          "scattercarpet": [
           {
            "marker": {
             "colorbar": {
              "outlinewidth": 0,
              "ticks": ""
             }
            },
            "type": "scattercarpet"
           }
          ],
          "scattergeo": [
           {
            "marker": {
             "colorbar": {
              "outlinewidth": 0,
              "ticks": ""
             }
            },
            "type": "scattergeo"
           }
          ],
          "scattergl": [
           {
            "marker": {
             "colorbar": {
              "outlinewidth": 0,
              "ticks": ""
             }
            },
            "type": "scattergl"
           }
          ],
          "scattermapbox": [
           {
            "marker": {
             "colorbar": {
              "outlinewidth": 0,
              "ticks": ""
             }
            },
            "type": "scattermapbox"
           }
          ],
          "scatterpolar": [
           {
            "marker": {
             "colorbar": {
              "outlinewidth": 0,
              "ticks": ""
             }
            },
            "type": "scatterpolar"
           }
          ],
          "scatterpolargl": [
           {
            "marker": {
             "colorbar": {
              "outlinewidth": 0,
              "ticks": ""
             }
            },
            "type": "scatterpolargl"
           }
          ],
          "scatterternary": [
           {
            "marker": {
             "colorbar": {
              "outlinewidth": 0,
              "ticks": ""
             }
            },
            "type": "scatterternary"
           }
          ],
          "surface": [
           {
            "colorbar": {
             "outlinewidth": 0,
             "ticks": ""
            },
            "colorscale": [
             [
              0,
              "#0d0887"
             ],
             [
              0.1111111111111111,
              "#46039f"
             ],
             [
              0.2222222222222222,
              "#7201a8"
             ],
             [
              0.3333333333333333,
              "#9c179e"
             ],
             [
              0.4444444444444444,
              "#bd3786"
             ],
             [
              0.5555555555555556,
              "#d8576b"
             ],
             [
              0.6666666666666666,
              "#ed7953"
             ],
             [
              0.7777777777777778,
              "#fb9f3a"
             ],
             [
              0.8888888888888888,
              "#fdca26"
             ],
             [
              1,
              "#f0f921"
             ]
            ],
            "type": "surface"
           }
          ],
          "table": [
           {
            "cells": {
             "fill": {
              "color": "#EBF0F8"
             },
             "line": {
              "color": "white"
             }
            },
            "header": {
             "fill": {
              "color": "#C8D4E3"
             },
             "line": {
              "color": "white"
             }
            },
            "type": "table"
           }
          ]
         },
         "layout": {
          "annotationdefaults": {
           "arrowcolor": "#2a3f5f",
           "arrowhead": 0,
           "arrowwidth": 1
          },
          "coloraxis": {
           "colorbar": {
            "outlinewidth": 0,
            "ticks": ""
           }
          },
          "colorscale": {
           "diverging": [
            [
             0,
             "#8e0152"
            ],
            [
             0.1,
             "#c51b7d"
            ],
            [
             0.2,
             "#de77ae"
            ],
            [
             0.3,
             "#f1b6da"
            ],
            [
             0.4,
             "#fde0ef"
            ],
            [
             0.5,
             "#f7f7f7"
            ],
            [
             0.6,
             "#e6f5d0"
            ],
            [
             0.7,
             "#b8e186"
            ],
            [
             0.8,
             "#7fbc41"
            ],
            [
             0.9,
             "#4d9221"
            ],
            [
             1,
             "#276419"
            ]
           ],
           "sequential": [
            [
             0,
             "#0d0887"
            ],
            [
             0.1111111111111111,
             "#46039f"
            ],
            [
             0.2222222222222222,
             "#7201a8"
            ],
            [
             0.3333333333333333,
             "#9c179e"
            ],
            [
             0.4444444444444444,
             "#bd3786"
            ],
            [
             0.5555555555555556,
             "#d8576b"
            ],
            [
             0.6666666666666666,
             "#ed7953"
            ],
            [
             0.7777777777777778,
             "#fb9f3a"
            ],
            [
             0.8888888888888888,
             "#fdca26"
            ],
            [
             1,
             "#f0f921"
            ]
           ],
           "sequentialminus": [
            [
             0,
             "#0d0887"
            ],
            [
             0.1111111111111111,
             "#46039f"
            ],
            [
             0.2222222222222222,
             "#7201a8"
            ],
            [
             0.3333333333333333,
             "#9c179e"
            ],
            [
             0.4444444444444444,
             "#bd3786"
            ],
            [
             0.5555555555555556,
             "#d8576b"
            ],
            [
             0.6666666666666666,
             "#ed7953"
            ],
            [
             0.7777777777777778,
             "#fb9f3a"
            ],
            [
             0.8888888888888888,
             "#fdca26"
            ],
            [
             1,
             "#f0f921"
            ]
           ]
          },
          "colorway": [
           "#636efa",
           "#EF553B",
           "#00cc96",
           "#ab63fa",
           "#FFA15A",
           "#19d3f3",
           "#FF6692",
           "#B6E880",
           "#FF97FF",
           "#FECB52"
          ],
          "font": {
           "color": "#2a3f5f"
          },
          "geo": {
           "bgcolor": "white",
           "lakecolor": "white",
           "landcolor": "#E5ECF6",
           "showlakes": true,
           "showland": true,
           "subunitcolor": "white"
          },
          "hoverlabel": {
           "align": "left"
          },
          "hovermode": "closest",
          "mapbox": {
           "style": "light"
          },
          "paper_bgcolor": "white",
          "plot_bgcolor": "#E5ECF6",
          "polar": {
           "angularaxis": {
            "gridcolor": "white",
            "linecolor": "white",
            "ticks": ""
           },
           "bgcolor": "#E5ECF6",
           "radialaxis": {
            "gridcolor": "white",
            "linecolor": "white",
            "ticks": ""
           }
          },
          "scene": {
           "xaxis": {
            "backgroundcolor": "#E5ECF6",
            "gridcolor": "white",
            "gridwidth": 2,
            "linecolor": "white",
            "showbackground": true,
            "ticks": "",
            "zerolinecolor": "white"
           },
           "yaxis": {
            "backgroundcolor": "#E5ECF6",
            "gridcolor": "white",
            "gridwidth": 2,
            "linecolor": "white",
            "showbackground": true,
            "ticks": "",
            "zerolinecolor": "white"
           },
           "zaxis": {
            "backgroundcolor": "#E5ECF6",
            "gridcolor": "white",
            "gridwidth": 2,
            "linecolor": "white",
            "showbackground": true,
            "ticks": "",
            "zerolinecolor": "white"
           }
          },
          "shapedefaults": {
           "line": {
            "color": "#2a3f5f"
           }
          },
          "ternary": {
           "aaxis": {
            "gridcolor": "white",
            "linecolor": "white",
            "ticks": ""
           },
           "baxis": {
            "gridcolor": "white",
            "linecolor": "white",
            "ticks": ""
           },
           "bgcolor": "#E5ECF6",
           "caxis": {
            "gridcolor": "white",
            "linecolor": "white",
            "ticks": ""
           }
          },
          "title": {
           "x": 0.05
          },
          "xaxis": {
           "automargin": true,
           "gridcolor": "white",
           "linecolor": "white",
           "ticks": "",
           "title": {
            "standoff": 15
           },
           "zerolinecolor": "white",
           "zerolinewidth": 2
          },
          "yaxis": {
           "automargin": true,
           "gridcolor": "white",
           "linecolor": "white",
           "ticks": "",
           "title": {
            "standoff": 15
           },
           "zerolinecolor": "white",
           "zerolinewidth": 2
          }
         }
        },
        "title": {
         "text": "Distribuição de novas mortes nas UFs (mavg = 5 days)"
        },
        "xaxis": {
         "domain": [
          0,
          0.8
         ]
        },
        "xaxis2": {
         "domain": [
          0.85,
          1
         ]
        },
        "yaxis": {
         "tickmode": "linear"
        },
        "yaxis2": {
         "anchor": "x2",
         "tickmode": "linear"
        }
       }
      },
      "text/html": [
       "<div>\n",
       "        \n",
       "        \n",
       "            <div id=\"5ee6585a-4a5a-4af2-8e5d-0347c2a0cacc\" class=\"plotly-graph-div\" style=\"height:525px; width:100%;\"></div>\n",
       "            <script type=\"text/javascript\">\n",
       "                require([\"plotly\"], function(Plotly) {\n",
       "                    window.PLOTLYENV=window.PLOTLYENV || {};\n",
       "                    \n",
       "                if (document.getElementById(\"5ee6585a-4a5a-4af2-8e5d-0347c2a0cacc\")) {\n",
       "                    Plotly.newPlot(\n",
       "                        '5ee6585a-4a5a-4af2-8e5d-0347c2a0cacc',\n",
       "                        [{\"colorscale\": [[0.0, \"rgb(0, 147, 146)\"], [0.16666666666666666, \"rgb(57, 177, 133)\"], [0.3333333333333333, \"rgb(156, 203, 134)\"], [0.5, \"rgb(233, 226, 156)\"], [0.6666666666666666, \"rgb(238, 180, 121)\"], [0.8333333333333334, \"rgb(232, 132, 113)\"], [1.0, \"rgb(207, 89, 126)\"]], \"type\": \"heatmap\", \"x\": [\"2020-03-17T00:00:00\", \"2020-03-18T00:00:00\", \"2020-03-19T00:00:00\", \"2020-03-20T00:00:00\", \"2020-03-21T00:00:00\", \"2020-03-22T00:00:00\", \"2020-03-23T00:00:00\", \"2020-03-24T00:00:00\", \"2020-03-25T00:00:00\", \"2020-03-26T00:00:00\", \"2020-03-27T00:00:00\", \"2020-03-28T00:00:00\", \"2020-03-29T00:00:00\", \"2020-03-30T00:00:00\", \"2020-03-31T00:00:00\", \"2020-04-01T00:00:00\", \"2020-04-02T00:00:00\", \"2020-04-03T00:00:00\", \"2020-04-04T00:00:00\", \"2020-04-05T00:00:00\", \"2020-04-06T00:00:00\", \"2020-04-07T00:00:00\", \"2020-04-08T00:00:00\", \"2020-04-09T00:00:00\", \"2020-04-10T00:00:00\", \"2020-04-11T00:00:00\", \"2020-04-12T00:00:00\", \"2020-04-13T00:00:00\", \"2020-04-14T00:00:00\", \"2020-04-15T00:00:00\", \"2020-04-16T00:00:00\", \"2020-04-17T00:00:00\", \"2020-04-18T00:00:00\", \"2020-04-19T00:00:00\", \"2020-04-20T00:00:00\", \"2020-04-21T00:00:00\", \"2020-04-22T00:00:00\", \"2020-04-23T00:00:00\", \"2020-04-24T00:00:00\", \"2020-04-25T00:00:00\", \"2020-04-26T00:00:00\", \"2020-04-27T00:00:00\", \"2020-04-28T00:00:00\", \"2020-04-29T00:00:00\", \"2020-04-30T00:00:00\", \"2020-05-01T00:00:00\", \"2020-05-02T00:00:00\", \"2020-05-03T00:00:00\", \"2020-05-04T00:00:00\", \"2020-05-05T00:00:00\", \"2020-05-06T00:00:00\", \"2020-05-07T00:00:00\", \"2020-05-08T00:00:00\", \"2020-05-09T00:00:00\", \"2020-05-10T00:00:00\", \"2020-05-11T00:00:00\", \"2020-05-12T00:00:00\", \"2020-05-13T00:00:00\"], \"y\": [\"MS\", \"TO\", \"MT\", \"RR\", \"SE\", \"DF\", \"RO\", \"AC\", \"PI\", \"GO\", \"SC\", \"AP\", \"RN\", \"RS\", \"PR\", \"MG\", \"AL\", \"PB\", \"ES\", \"BA\", \"MA\", \"PA\", \"PE\", \"AM\", \"CE\", \"RJ\", \"SP\"], \"z\": [[0.0, 0.0, 0.0, 0.0, 0.0, 0.0, 0.0, 0.0, 0.0, 0.0, 0.0, 0.0, 0.0, 0.0, 0.017543859649122806, 0.03508771929824561, 0.05263157894736842, 0.07017543859649122, 0.08771929824561403, 0.08771929824561403, 0.08771929824561403, 0.10526315789473684, 0.12280701754385964, 0.14035087719298245, 0.15789473684210525, 0.17543859649122806, 0.17543859649122806, 0.21052631578947367, 0.24561403508771928, 0.2807017543859649, 0.3333333333333333, 0.3859649122807018, 0.40350877192982454, 0.42105263157894735, 0.43859649122807015, 0.45614035087719296, 0.4736842105263158, 0.5087719298245613, 0.543859649122807, 0.5789473684210525, 0.5964912280701754, 0.6491228070175439, 0.6842105263157895, 0.719298245614035, 0.7543859649122806, 0.7894736842105263, 0.7894736842105263, 0.8070175438596491, 0.8245614035087719, 0.8421052631578947, 0.8596491228070176, 0.8771929824561403, 0.894736842105263, 0.9122807017543859, 0.9298245614035087, 0.9473684210526316, 0.9824561403508771, 1.0], [0.0, 0.0, 0.0, 0.0, 0.0, 0.0, 0.0, 0.0, 0.0, 0.0, 0.0, 0.0, 0.0, 0.0, 0.0, 0.0, 0.0, 0.0, 0.0, 0.0, 0.0, 0.0, 0.0, 0.0, 0.0, 0.0, 0.0, 0.0, 0.0, 0.015384615384615385, 0.03076923076923077, 0.04615384615384615, 0.06153846153846154, 0.07692307692307693, 0.0923076923076923, 0.10769230769230768, 0.12307692307692308, 0.13846153846153847, 0.15384615384615385, 0.15384615384615385, 0.15384615384615385, 0.15384615384615385, 0.15384615384615385, 0.16923076923076924, 0.1846153846153846, 0.21538461538461537, 0.24615384615384617, 0.3076923076923077, 0.3692307692307692, 0.46153846153846156, 0.5384615384615384, 0.6153846153846154, 0.6615384615384615, 0.7230769230769231, 0.7692307692307693, 0.8461538461538461, 0.9230769230769231, 1.0], [0.0, 0.0, 0.0, 0.0, 0.0, 0.0, 0.0, 0.0, 0.0, 0.0, 0.0, 0.0, 0.0, 0.0, 0.0, 0.0, 0.0, 0.011363636363636364, 0.022727272727272728, 0.03409090909090909, 0.045454545454545456, 0.056818181818181816, 0.056818181818181816, 0.06818181818181818, 0.07954545454545453, 0.10227272727272727, 0.125, 0.15909090909090906, 0.18181818181818182, 0.20454545454545453, 0.22727272727272727, 0.25, 0.2613636363636363, 0.2727272727272727, 0.2954545454545454, 0.3068181818181818, 0.3181818181818181, 0.3409090909090909, 0.37499999999999994, 0.40909090909090906, 0.4431818181818181, 0.47727272727272724, 0.5113636363636364, 0.5340909090909091, 0.5454545454545454, 0.5568181818181818, 0.5795454545454545, 0.5909090909090908, 0.6136363636363636, 0.6363636363636362, 0.6590909090909091, 0.6818181818181818, 0.7159090909090908, 0.7499999999999999, 0.8068181818181818, 0.875, 0.9431818181818182, 1.0], [0.0, 0.0, 0.0, 0.0, 0.0, 0.0, 0.0, 0.0, 0.0, 0.0, 0.0, 0.0, 0.0, 0.0, 0.0, 0.0, 0.0, 0.009259259259259259, 0.018518518518518517, 0.027777777777777776, 0.037037037037037035, 0.046296296296296294, 0.046296296296296294, 0.05555555555555555, 0.07407407407407407, 0.09259259259259259, 0.1111111111111111, 0.12962962962962962, 0.13888888888888887, 0.13888888888888887, 0.13888888888888887, 0.13888888888888887, 0.13888888888888887, 0.13888888888888887, 0.13888888888888887, 0.13888888888888887, 0.13888888888888887, 0.13888888888888887, 0.13888888888888887, 0.14814814814814814, 0.15740740740740738, 0.16666666666666666, 0.1759259259259259, 0.18518518518518517, 0.21296296296296294, 0.24074074074074073, 0.2685185185185185, 0.2962962962962963, 0.3611111111111111, 0.3981481481481481, 0.4537037037037037, 0.5185185185185185, 0.6018518518518519, 0.6666666666666666, 0.7592592592592592, 0.8518518518518517, 0.9351851851851851, 1.0], [0.0, 0.0, 0.0, 0.0, 0.0, 0.0, 0.0, 0.0, 0.0, 0.0, 0.0, 0.0, 0.0, 0.0, 0.0, 0.0, 0.011235955056179775, 0.02247191011235955, 0.03932584269662921, 0.056179775280898875, 0.07865168539325842, 0.0898876404494382, 0.10112359550561797, 0.10674157303370786, 0.11235955056179775, 0.11235955056179775, 0.11235955056179775, 0.11235955056179775, 0.11235955056179775, 0.11235955056179775, 0.11235955056179775, 0.11235955056179775, 0.11797752808988764, 0.12359550561797754, 0.1292134831460674, 0.14606741573033707, 0.16292134831460672, 0.1797752808988764, 0.19662921348314605, 0.2191011235955056, 0.23033707865168537, 0.25280898876404495, 0.2696629213483146, 0.28651685393258425, 0.3146067415730337, 0.3426966292134831, 0.3595505617977528, 0.37640449438202245, 0.41011235955056174, 0.449438202247191, 0.5, 0.5617977528089887, 0.6404494382022472, 0.7303370786516854, 0.8033707865168539, 0.8820224719101123, 0.9494382022471909, 1.0], [0.0, 0.0, 0.0, 0.0, 0.0, 0.0, 0.0, 0.0, 0.0, 0.0, 0.0, 0.0, 0.004716981132075472, 0.014150943396226415, 0.02830188679245283, 0.04716981132075472, 0.07075471698113207, 0.09433962264150944, 0.1179245283018868, 0.13679245283018868, 0.16509433962264153, 0.19811320754716982, 0.22641509433962265, 0.25471698113207547, 0.28773584905660377, 0.30660377358490565, 0.31603773584905664, 0.33018867924528306, 0.34905660377358494, 0.36320754716981135, 0.3915094339622642, 0.43867924528301894, 0.4811320754716981, 0.5141509433962265, 0.5471698113207547, 0.5660377358490566, 0.5707547169811321, 0.5801886792452831, 0.589622641509434, 0.6037735849056605, 0.6179245283018868, 0.6320754716981133, 0.6415094339622641, 0.6509433962264152, 0.6650943396226415, 0.6839622641509434, 0.7028301886792453, 0.7264150943396227, 0.75, 0.768867924528302, 0.7877358490566038, 0.8018867924528302, 0.8160377358490567, 0.839622641509434, 0.8726415094339623, 0.9103773584905661, 0.9575471698113208, 1.0], [0.0, 0.0, 0.0, 0.0, 0.0, 0.0, 0.0, 0.0, 0.0, 0.0, 0.0, 0.0, 0.0, 0.004329004329004329, 0.008658008658008658, 0.012987012987012986, 0.017316017316017316, 0.021645021645021644, 0.021645021645021644, 0.021645021645021644, 0.021645021645021644, 0.021645021645021644, 0.021645021645021644, 0.025974025974025972, 0.0303030303030303, 0.03463203463203463, 0.03896103896103896, 0.04329004329004329, 0.04329004329004329, 0.04329004329004329, 0.04761904761904762, 0.051948051948051945, 0.0606060606060606, 0.06926406926406926, 0.07792207792207792, 0.08658008658008658, 0.09523809523809525, 0.09956709956709955, 0.10389610389610389, 0.11255411255411255, 0.12987012987012986, 0.14718614718614717, 0.1688311688311688, 0.20779220779220778, 0.24675324675324675, 0.2857142857142857, 0.3463203463203463, 0.4069264069264069, 0.45454545454545453, 0.5151515151515151, 0.5800865800865801, 0.6406926406926406, 0.7056277056277056, 0.7748917748917747, 0.8354978354978355, 0.8961038961038961, 0.9523809523809523, 1.0], [0.0, 0.0, 0.0, 0.0, 0.0, 0.0, 0.0, 0.0, 0.0, 0.0, 0.0, 0.0, 0.0, 0.0, 0.0, 0.0, 0.0, 0.0, 0.0, 0.0, 0.0043859649122807015, 0.013157894736842105, 0.021929824561403508, 0.03070175438596491, 0.039473684210526314, 0.043859649122807015, 0.043859649122807015, 0.048245614035087724, 0.05263157894736842, 0.06140350877192982, 0.07456140350877193, 0.08771929824561403, 0.10087719298245613, 0.11403508771929824, 0.13157894736842105, 0.14473684210526314, 0.15789473684210525, 0.17543859649122806, 0.19736842105263158, 0.21052631578947367, 0.22368421052631576, 0.25, 0.2763157894736842, 0.30701754385964913, 0.34210526315789475, 0.3771929824561403, 0.41228070175438597, 0.4517543859649123, 0.49561403508771934, 0.5394736842105263, 0.6096491228070176, 0.6710526315789473, 0.7280701754385965, 0.7807017543859649, 0.8333333333333333, 0.8728070175438596, 0.9385964912280701, 1.0], [0.0, 0.0, 0.0, 0.0, 0.0, 0.0, 0.0, 0.0, 0.0, 0.0, 0.004, 0.008, 0.012, 0.027999999999999997, 0.044000000000000004, 0.055999999999999994, 0.068, 0.08, 0.08, 0.08, 0.08, 0.084, 0.092, 0.10400000000000001, 0.11599999999999999, 0.128, 0.136, 0.14400000000000002, 0.14800000000000002, 0.152, 0.156, 0.16399999999999998, 0.172, 0.188, 0.212, 0.24, 0.264, 0.28800000000000003, 0.308, 0.324, 0.344, 0.368, 0.4, 0.428, 0.452, 0.47600000000000003, 0.504, 0.52, 0.54, 0.564, 0.6, 0.636, 0.6759999999999999, 0.728, 0.7879999999999999, 0.8440000000000001, 0.924, 1.0], [0.0, 0.0, 0.0, 0.0, 0.0, 0.0, 0.0, 0.0, 0.0, 0.0038461538461538464, 0.007692307692307693, 0.011538461538461537, 0.015384615384615385, 0.019230769230769232, 0.019230769230769232, 0.019230769230769232, 0.019230769230769232, 0.023076923076923075, 0.02692307692307692, 0.03461538461538462, 0.05, 0.06538461538461539, 0.08461538461538462, 0.10384615384615385, 0.12307692307692308, 0.1423076923076923, 0.1769230769230769, 0.2076923076923077, 0.23846153846153847, 0.2653846153846154, 0.28846153846153844, 0.29615384615384616, 0.3076923076923077, 0.31923076923076926, 0.3346153846153846, 0.34615384615384615, 0.36538461538461536, 0.38461538461538464, 0.40384615384615385, 0.4230769230769231, 0.4423076923076923, 0.46153846153846156, 0.4730769230769231, 0.4846153846153846, 0.5, 0.5153846153846154, 0.5269230769230769, 0.5384615384615384, 0.55, 0.573076923076923, 0.5961538461538461, 0.6538461538461539, 0.7307692307692307, 0.8076923076923077, 0.8653846153846154, 0.9230769230769231, 0.9538461538461539, 1.0], [0.0, 0.0, 0.0, 0.0, 0.0, 0.0, 0.0, 0.0, 0.0, 0.002906976744186047, 0.005813953488372094, 0.00872093023255814, 0.011627906976744188, 0.01744186046511628, 0.020348837209302324, 0.023255813953488375, 0.03488372093023256, 0.04651162790697675, 0.06976744186046512, 0.0930232558139535, 0.1191860465116279, 0.14825581395348836, 0.18313953488372092, 0.2063953488372093, 0.2296511627906977, 0.25872093023255816, 0.28488372093023256, 0.311046511627907, 0.34011627906976744, 0.372093023255814, 0.39825581395348836, 0.4186046511627907, 0.436046511627907, 0.4563953488372093, 0.47383720930232565, 0.49418604651162795, 0.5174418604651163, 0.5465116279069768, 0.5668604651162791, 0.5872093023255814, 0.6046511627906977, 0.619186046511628, 0.625, 0.6366279069767442, 0.6540697674418605, 0.6744186046511628, 0.6976744186046512, 0.7209302325581396, 0.747093023255814, 0.7761627906976745, 0.8023255813953489, 0.8343023255813954, 0.866279069767442, 0.8924418604651163, 0.9127906976744186, 0.9418604651162791, 0.9709302325581395, 1.0], [0.0, 0.0, 0.0, 0.0, 0.0, 0.0, 0.0, 0.0, 0.0, 0.0, 0.0, 0.0, 0.0, 0.0, 0.0, 0.0, 0.0, 0.0, 0.0025906735751295338, 0.0051813471502590676, 0.010362694300518135, 0.015544041450777202, 0.02072538860103627, 0.023316062176165803, 0.025906735751295335, 0.03367875647668394, 0.04145077720207254, 0.05181347150259067, 0.06476683937823834, 0.07772020725388601, 0.09067357512953368, 0.10362694300518134, 0.11398963730569948, 0.12435233160621761, 0.13989637305699482, 0.14766839378238342, 0.15803108808290153, 0.17357512953367876, 0.1917098445595855, 0.20984455958549222, 0.23575129533678754, 0.266839378238342, 0.2979274611398964, 0.3316062176165803, 0.36787564766839376, 0.40414507772020725, 0.44041450777202074, 0.4792746113989637, 0.5259067357512953, 0.5803108808290155, 0.6295336787564767, 0.6839378238341969, 0.7435233160621761, 0.7953367875647668, 0.8393782383419689, 0.883419689119171, 0.9481865284974094, 1.0], [0.0, 0.0, 0.0, 0.0, 0.0, 0.0, 0.0, 0.0, 0.0, 0.0, 0.0, 0.002272727272727273, 0.004545454545454546, 0.006818181818181818, 0.009090909090909092, 0.013636363636363636, 0.015909090909090907, 0.022727272727272728, 0.029545454545454545, 0.04318181818181818, 0.05454545454545454, 0.06818181818181818, 0.08409090909090909, 0.1, 0.10909090909090909, 0.12272727272727274, 0.1431818181818182, 0.1590909090909091, 0.17727272727272728, 0.19772727272727272, 0.22045454545454543, 0.23636363636363636, 0.2545454545454545, 0.2727272727272727, 0.29090909090909095, 0.30454545454545456, 0.32727272727272727, 0.3522727272727273, 0.3795454545454545, 0.41363636363636364, 0.4477272727272727, 0.4772727272727273, 0.5136363636363637, 0.5499999999999999, 0.5772727272727273, 0.6068181818181818, 0.634090909090909, 0.65, 0.6749999999999999, 0.7090909090909091, 0.7477272727272727, 0.7818181818181817, 0.8386363636363636, 0.8818181818181817, 0.9159090909090909, 0.9522727272727273, 0.9886363636363636, 1.0], [0.0, 0.0, 0.0, 0.0, 0.0, 0.0, 0.0, 0.0, 0.0019083969465648856, 0.0038167938931297713, 0.0076335877862595426, 0.011450381679389313, 0.015267175572519085, 0.020992366412213744, 0.026717557251908396, 0.03244274809160305, 0.03816793893129771, 0.04580152671755725, 0.05152671755725191, 0.05725190839694656, 0.06297709923664122, 0.06870229007633588, 0.07633587786259542, 0.08969465648854963, 0.10496183206106871, 0.12022900763358779, 0.13549618320610687, 0.14885496183206107, 0.1564885496183206, 0.16412213740458015, 0.1736641221374046, 0.18893129770992367, 0.20229007633587787, 0.21755725190839695, 0.23282442748091603, 0.24427480916030536, 0.25190839694656486, 0.26145038167938933, 0.2767175572519084, 0.2919847328244275, 0.3129770992366412, 0.3454198473282443, 0.38358778625954204, 0.41603053435114506, 0.4599236641221374, 0.5057251908396947, 0.5438931297709924, 0.5782442748091603, 0.6259541984732824, 0.6736641221374046, 0.7270992366412214, 0.7767175572519085, 0.8301526717557253, 0.8702290076335878, 0.9026717557251908, 0.9312977099236641, 0.9694656488549618, 1.0], [0.0, 0.0, 0.0, 0.0, 0.0, 0.0, 0.0, 0.0, 0.0, 0.0, 0.0036166365280289334, 0.007233273056057867, 0.0108499095840868, 0.0162748643761302, 0.0216998191681736, 0.02350813743218807, 0.027124773960217, 0.0325497287522604, 0.03978300180831827, 0.05244122965641953, 0.07233273056057866, 0.0922242314647378, 0.11392405063291139, 0.14285714285714288, 0.16998191681735986, 0.19168173598553345, 0.21880650994575046, 0.24593128390596747, 0.2730560578661845, 0.3001808318264015, 0.3273056057866185, 0.3490054249547921, 0.3761301989150091, 0.39783001808318263, 0.41772151898734183, 0.43942133815551543, 0.46835443037974683, 0.49186256781193494, 0.5189873417721519, 0.5515370705244124, 0.5877034358047016, 0.6184448462929476, 0.6491862567811935, 0.6799276672694394, 0.7106690777576853, 0.7396021699819169, 0.7667269439421338, 0.7956600361663653, 0.8173598553345389, 0.840867992766727, 0.8625678119349006, 0.8878842676311032, 0.9113924050632911, 0.9349005424954793, 0.952983725135624, 0.9710669077757687, 0.9873417721518988, 1.0], [0.0, 0.0, 0.0, 0.0, 0.0, 0.0, 0.0, 0.0, 0.0, 0.0, 0.0, 0.0, 0.0, 0.0016339869281045752, 0.004901960784313725, 0.00980392156862745, 0.016339869281045753, 0.026143790849673203, 0.03431372549019608, 0.04084967320261438, 0.05065359477124183, 0.06209150326797385, 0.07516339869281045, 0.08986928104575163, 0.10784313725490195, 0.12091503267973856, 0.13562091503267976, 0.1503267973856209, 0.16993464052287582, 0.19117647058823528, 0.2173202614379085, 0.24183006535947713, 0.2679738562091503, 0.28758169934640526, 0.3055555555555555, 0.3235294117647059, 0.3431372549019608, 0.3627450980392157, 0.38725490196078427, 0.41503267973856206, 0.44281045751633985, 0.4673202614379085, 0.5, 0.542483660130719, 0.5816993464052288, 0.6258169934640522, 0.6683006535947712, 0.6977124183006536, 0.7140522875816994, 0.7336601307189542, 0.7483660130718953, 0.7777777777777778, 0.8137254901960783, 0.8594771241830065, 0.9003267973856209, 0.9395424836601307, 0.9738562091503268, 1.0], [0.0, 0.0, 0.0, 0.0, 0.0, 0.0, 0.0, 0.0, 0.0, 0.0, 0.0, 0.0, 0.0, 0.0, 0.001506024096385542, 0.003012048192771084, 0.004518072289156626, 0.00753012048192771, 0.010542168674698794, 0.012048192771084336, 0.013554216867469878, 0.01506024096385542, 0.01506024096385542, 0.016566265060240965, 0.018072289156626505, 0.01957831325301205, 0.02108433734939759, 0.024096385542168672, 0.025602409638554213, 0.027108433734939756, 0.028614457831325296, 0.03313253012048193, 0.0391566265060241, 0.05271084337349397, 0.07078313253012047, 0.09036144578313252, 0.10843373493975902, 0.12650602409638553, 0.14457831325301204, 0.161144578313253, 0.18072289156626503, 0.20180722891566263, 0.22289156626506024, 0.2439759036144578, 0.2710843373493976, 0.30271084337349397, 0.338855421686747, 0.38102409638554213, 0.4277108433734939, 0.4774096385542168, 0.5316265060240963, 0.591867469879518, 0.6581325301204819, 0.7213855421686746, 0.789156626506024, 0.8614457831325301, 0.9382530120481927, 1.0], [0.0, 0.0, 0.0, 0.0, 0.0, 0.0, 0.0, 0.0, 0.0, 0.0, 0.0, 0.0, 0.0, 0.0, 0.0014164305949008501, 0.0028328611898017003, 0.00424929178470255, 0.005665722379603401, 0.009915014164305949, 0.0141643059490085, 0.01841359773371105, 0.022662889518413602, 0.031161473087818702, 0.042492917847025496, 0.052407932011331454, 0.06515580736543909, 0.07790368271954674, 0.09065155807365441, 0.10481586402266291, 0.12322946175637393, 0.141643059490085, 0.16288951841359775, 0.18130311614730882, 0.19688385269121816, 0.20963172804532582, 0.22804532577903686, 0.24504249291784705, 0.2662889518413598, 0.28611898016997167, 0.3087818696883853, 0.3243626062322946, 0.34277620396600567, 0.36118980169971676, 0.38385269121813037, 0.4093484419263456, 0.44334277620396606, 0.4759206798866856, 0.5070821529745042, 0.5396600566572238, 0.5750708215297451, 0.613314447592068, 0.6628895184135978, 0.7124645892351275, 0.7677053824362607, 0.8286118980169972, 0.8824362606232294, 0.943342776203966, 1.0], [0.0, 0.0, 0.0, 0.0, 0.0, 0.0, 0.0, 0.0, 0.0, 0.0, 0.0, 0.0, 0.0, 0.0, 0.0, 0.0, 0.002066115702479339, 0.007231404958677685, 0.013429752066115703, 0.01962809917355372, 0.025826446280991736, 0.029958677685950414, 0.030991735537190084, 0.032024793388429756, 0.03409090909090909, 0.0371900826446281, 0.04545454545454546, 0.05681818181818182, 0.06818181818181818, 0.08161157024793389, 0.10020661157024793, 0.11363636363636365, 0.12603305785123967, 0.1415289256198347, 0.15392561983471076, 0.16012396694214875, 0.16942148760330578, 0.1828512396694215, 0.1962809917355372, 0.21487603305785125, 0.23863636363636365, 0.265495867768595, 0.3006198347107438, 0.33884297520661155, 0.381198347107438, 0.42665289256198347, 0.4690082644628099, 0.5082644628099174, 0.5485537190082644, 0.5898760330578513, 0.6363636363636364, 0.691115702479339, 0.7427685950413224, 0.7933884297520661, 0.8429752066115702, 0.8946280991735537, 0.9514462809917356, 1.0], [0.0, 0.0, 0.0, 0.0, 0.0, 0.0, 0.0, 0.0, 0.0, 0.0, 0.0, 0.0, 0.0009505703422053232, 0.0028517110266159692, 0.004752851711026616, 0.006653992395437262, 0.009505703422053232, 0.014258555133079848, 0.019011406844106463, 0.025665399239543727, 0.03326996197718631, 0.04372623574144486, 0.055133079847908745, 0.06653992395437262, 0.07604562737642585, 0.0865019011406844, 0.09315589353612168, 0.09695817490494296, 0.10361216730038023, 0.11216730038022814, 0.12452471482889733, 0.13783269961977185, 0.15399239543726234, 0.17110266159695817, 0.188212927756654, 0.20057034220532322, 0.21673003802281368, 0.2376425855513308, 0.2585551330798479, 0.282319391634981, 0.3070342205323194, 0.33555133079847904, 0.36501901140684406, 0.3963878326996198, 0.4287072243346008, 0.4695817490494296, 0.5076045627376425, 0.5399239543726235, 0.5779467680608364, 0.6150190114068441, 0.6549429657794678, 0.6939163498098859, 0.7461977186311787, 0.7984790874524714, 0.8517110266159695, 0.903041825095057, 0.9600760456273764, 1.0], [0.0, 0.0, 0.0, 0.0, 0.0, 0.0, 0.0, 0.0, 0.0, 0.0, 0.0, 0.0, 0.0004786979415988511, 0.0009573958831977022, 0.0014360938247965534, 0.0019147917663954045, 0.0023934897079942556, 0.0023934897079942556, 0.0028721876495931067, 0.0033508855911919574, 0.004786979415988511, 0.009573958831977022, 0.014839636189564385, 0.0215414073719483, 0.030636668262326472, 0.040210627094303494, 0.04786979415988511, 0.057443752991862135, 0.06606031594064146, 0.07371948300622307, 0.08137865007180468, 0.08951651507898516, 0.09717568214456677, 0.1067496409765438, 0.11775969363331738, 0.1302058401148875, 0.14552417424605074, 0.1646720919100048, 0.18669219722355193, 0.2115844901866922, 0.2398276687410244, 0.2728578267113451, 0.3101962661560555, 0.350406893250359, 0.39444710387745335, 0.44183820009573954, 0.4858784107228339, 0.5256103398755385, 0.5672570607946386, 0.6089037817137386, 0.6476783149832456, 0.6921972235519387, 0.7429392053614169, 0.7946385830540929, 0.8463379607467688, 0.9028243178554332, 0.9573958831977022, 1.0], [0.0, 0.0, 0.0, 0.0, 0.0, 0.0, 0.0, 0.0, 0.0, 0.0, 0.0, 0.0, 0.0, 0.0, 0.0, 0.0002551671344730799, 0.0005103342689461598, 0.0007655014034192397, 0.0010206685378923196, 0.0012758356723653994, 0.0022965042102577188, 0.0033171727481500386, 0.0045930084205154376, 0.006124011227353917, 0.008165348303138557, 0.009696351109977035, 0.011992855320234756, 0.014034192396019394, 0.017606532278642513, 0.02066853789231947, 0.02449604490941567, 0.029089053329931107, 0.033937228884919624, 0.03725440163306966, 0.04082674151569278, 0.043888747129369736, 0.04669558560857362, 0.051798928298035216, 0.06506761929063537, 0.08037764735902016, 0.09977034957897424, 0.11992855320234755, 0.14008675682572086, 0.15794845623883644, 0.19086501658586374, 0.22888491962235266, 0.27583567236539935, 0.3230415922429191, 0.3710130135238582, 0.4095432508292932, 0.4470528195968359, 0.4934932380709365, 0.559071191630518, 0.6269456494003572, 0.702730288338862, 0.805052309262567, 0.913498341413626, 1.0], [0.0, 0.0, 0.0, 0.0, 0.0, 0.0, 0.0, 0.0, 0.00019853087155052612, 0.0005955926146515783, 0.0011911852293031565, 0.0019853087155052612, 0.0027794322017073653, 0.0035735556879094702, 0.004169148302561048, 0.004963271788763153, 0.005757395274965257, 0.006750049632717888, 0.008338296605122097, 0.011316259678379988, 0.015683938852491565, 0.020647210641254715, 0.027794322017073655, 0.03613261862219575, 0.0448679769704189, 0.053206273575541, 0.06333134802461783, 0.07444907683144729, 0.08616239825292833, 0.10164780623386938, 0.11911852293031566, 0.1391701409569188, 0.159618820726623, 0.17967043875322614, 0.197736748064324, 0.2175898352193766, 0.23664879888822712, 0.2578916021441334, 0.28409767718880286, 0.3132817153067302, 0.3440540003970618, 0.37740718681755014, 0.41631923764145323, 0.4540401032360532, 0.49056978360135, 0.5276950565812984, 0.5628350208457416, 0.5910264046059162, 0.6210045662100457, 0.6456223942823109, 0.6628945801072066, 0.7057772483621203, 0.7440937065713719, 0.7998808814770697, 0.870557871749057, 0.9491760968830654, 0.9745880484415327, 1.0], [0.0, 0.0, 0.0, 0.0, 0.0, 0.0, 0.0, 0.00019241870309794111, 0.00038483740619588223, 0.0005772561092938233, 0.0007696748123917645, 0.0009620935154897055, 0.0009620935154897055, 0.0011545122185876466, 0.001539349624783529, 0.001924187030979411, 0.002309024437175293, 0.0034635366557629397, 0.00538772368674235, 0.007696748123917644, 0.0107754473734847, 0.014623821435443524, 0.01904945160669617, 0.02443717529343852, 0.031171829901866458, 0.03771406580719646, 0.045218395228016156, 0.05310756205503175, 0.0627284972099288, 0.07350394458341351, 0.08716567250336732, 0.10313642486049643, 0.12045410813931114, 0.13796421012122378, 0.1531652876659611, 0.16644217817971904, 0.17817971906869345, 0.19222628439484318, 0.2064652684240908, 0.2260919761400808, 0.24745045218395226, 0.26938618433711753, 0.29189917259957665, 0.31595151048681924, 0.3425052915143352, 0.37560130844718104, 0.4104290937079084, 0.44833557821820275, 0.4877814123532807, 0.5308832018472195, 0.5837983451991533, 0.6424860496440253, 0.7052145468539541, 0.7777563979218779, 0.846065037521647, 0.9007119492014624, 0.9568982105060612, 1.0], [0.0, 0.0, 0.0, 0.0, 0.0, 0.0, 0.0, 0.0, 0.0, 0.0005063291139240507, 0.0010126582278481013, 0.0016877637130801688, 0.002531645569620253, 0.0033755274261603376, 0.004050632911392405, 0.005063291139240506, 0.004388185654008439, 0.007257383966244726, 0.010295358649789029, 0.015021097046413502, 0.019578059071729957, 0.026329113924050632, 0.03223628691983123, 0.0379746835443038, 0.04337552742616033, 0.049789029535864976, 0.05586497890295359, 0.06312236286919831, 0.07223628691983122, 0.08185654008438818, 0.09046413502109706, 0.10379746835443038, 0.11729957805907174, 0.13046413502109705, 0.14430379746835442, 0.16050632911392404, 0.17451476793248946, 0.18970464135021098, 0.20708860759493672, 0.22717299578059072, 0.25316455696202533, 0.279831223628692, 0.3044725738396625, 0.33097046413502107, 0.35898734177215186, 0.38649789029535864, 0.4270042194092827, 0.470717299578059, 0.5147679324894515, 0.5657383966244726, 0.6178902953586498, 0.6624472573839663, 0.7162869198312236, 0.7756962025316456, 0.829873417721519, 0.8875949367088607, 0.9517299578059072, 1.0], [0.0, 0.0, 0.00022239519626376074, 0.0004447903925275215, 0.0007783831869231625, 0.0011119759813188036, 0.001556766373846325, 0.0020015567663738466, 0.0026687423551651286, 0.0033359279439564107, 0.0041143111308795735, 0.005115089514066496, 0.00633826309351718, 0.007450239074835984, 0.009007005448682309, 0.011008562215056156, 0.014122094962748804, 0.017458022906705215, 0.021905926831980428, 0.026465028355387527, 0.03124652507505838, 0.03658400978538864, 0.043144668075169576, 0.050261314355609925, 0.05949071500055599, 0.06883131324363394, 0.07783831869231625, 0.08628933615033915, 0.09763149115979095, 0.11075280773935282, 0.12698765706660736, 0.14600244634715892, 0.1687979539641944, 0.1885911264316691, 0.20604914933837432, 0.2236183698432114, 0.24018681196486158, 0.2559768708995886, 0.2746580673857445, 0.2961192038251974, 0.3168019570777271, 0.3375959079283888, 0.36083620593795174, 0.3857444679194929, 0.4123206938730124, 0.4430112309574113, 0.47570332480818417, 0.5069498498832425, 0.5370843989769821, 0.5669965528744579, 0.598576670743912, 0.6456132547536974, 0.6994328922495274, 0.7648170799510731, 0.8305348604470144, 0.8933615033915268, 0.9527410207939508, 1.0], [5.228211428870184e-05, 0.00020912845715480736, 0.0004705390285983165, 0.000941078057196633, 0.0014116170857949497, 0.0018298740001045641, 0.002143566685836775, 0.0023526951429915827, 0.004391697600250954, 0.006901239086108642, 0.009933601714853349, 0.012965964343598054, 0.015998326972342762, 0.01934438228681968, 0.02342238720133842, 0.0284937522873425, 0.03481988811627542, 0.0427667694881581, 0.05050452240288597, 0.05782401840330423, 0.06514351440372249, 0.07471114131855493, 0.08563810320489361, 0.09792440006273855, 0.11177916034924452, 0.12516338160715218, 0.1365086004078005, 0.14591938097976684, 0.1563758038375072, 0.1688189470382182, 0.18413760652480785, 0.20191352538296647, 0.22193757515553927, 0.23866785172792387, 0.25220891932869766, 0.26475662675798606, 0.2755267423014587, 0.2940346107596591, 0.3200188215611439, 0.3529565535630261, 0.3846917969362681, 0.42081873790976104, 0.45762534636900715, 0.49605270037120297, 0.5330684372876039, 0.5754692319757411, 0.6152559209494431, 0.6454749830083127, 0.6667538035238144, 0.6916400899252366, 0.7195587389554033, 0.7519736498143984, 0.7932242379881842, 0.8431013750196057, 0.887959429079312, 0.9244523448528259, 0.9632979557693313, 1.0]]}, {\"orientation\": \"h\", \"type\": \"bar\", \"x\": [12.0, 14.0, 19.0, 23.0, 37.0, 45.0, 50.0, 52.0, 57.0, 61.0, 73.0, 86.0, 90.0, 111.0, 113.0, 127.0, 147.0, 154.0, 211.0, 223.0, 444.0, 913.0, 1084.0, 1098.0, 1280.0, 1928.0, 4118.0], \"xaxis\": \"x2\", \"y\": [\"MS\", \"TO\", \"MT\", \"RR\", \"SE\", \"DF\", \"RO\", \"AC\", \"PI\", \"GO\", \"SC\", \"AP\", \"RN\", \"RS\", \"PR\", \"MG\", \"AL\", \"PB\", \"ES\", \"BA\", \"MA\", \"PA\", \"PE\", \"AM\", \"CE\", \"RJ\", \"SP\"], \"yaxis\": \"y2\"}],\n",
       "                        {\"plot_bgcolor\": \"rgba(0,0,0,0)\", \"template\": {\"data\": {\"bar\": [{\"error_x\": {\"color\": \"#2a3f5f\"}, \"error_y\": {\"color\": \"#2a3f5f\"}, \"marker\": {\"line\": {\"color\": \"#E5ECF6\", \"width\": 0.5}}, \"type\": \"bar\"}], \"barpolar\": [{\"marker\": {\"line\": {\"color\": \"#E5ECF6\", \"width\": 0.5}}, \"type\": \"barpolar\"}], \"carpet\": [{\"aaxis\": {\"endlinecolor\": \"#2a3f5f\", \"gridcolor\": \"white\", \"linecolor\": \"white\", \"minorgridcolor\": \"white\", \"startlinecolor\": \"#2a3f5f\"}, \"baxis\": {\"endlinecolor\": \"#2a3f5f\", \"gridcolor\": \"white\", \"linecolor\": \"white\", \"minorgridcolor\": \"white\", \"startlinecolor\": \"#2a3f5f\"}, \"type\": \"carpet\"}], \"choropleth\": [{\"colorbar\": {\"outlinewidth\": 0, \"ticks\": \"\"}, \"type\": \"choropleth\"}], \"contour\": [{\"colorbar\": {\"outlinewidth\": 0, \"ticks\": \"\"}, \"colorscale\": [[0.0, \"#0d0887\"], [0.1111111111111111, \"#46039f\"], [0.2222222222222222, \"#7201a8\"], [0.3333333333333333, \"#9c179e\"], [0.4444444444444444, \"#bd3786\"], [0.5555555555555556, \"#d8576b\"], [0.6666666666666666, \"#ed7953\"], [0.7777777777777778, \"#fb9f3a\"], [0.8888888888888888, \"#fdca26\"], [1.0, \"#f0f921\"]], \"type\": \"contour\"}], \"contourcarpet\": [{\"colorbar\": {\"outlinewidth\": 0, \"ticks\": \"\"}, \"type\": \"contourcarpet\"}], \"heatmap\": [{\"colorbar\": {\"outlinewidth\": 0, \"ticks\": \"\"}, \"colorscale\": [[0.0, \"#0d0887\"], [0.1111111111111111, \"#46039f\"], [0.2222222222222222, \"#7201a8\"], [0.3333333333333333, \"#9c179e\"], [0.4444444444444444, \"#bd3786\"], [0.5555555555555556, \"#d8576b\"], [0.6666666666666666, \"#ed7953\"], [0.7777777777777778, \"#fb9f3a\"], [0.8888888888888888, \"#fdca26\"], [1.0, \"#f0f921\"]], \"type\": \"heatmap\"}], \"heatmapgl\": [{\"colorbar\": {\"outlinewidth\": 0, \"ticks\": \"\"}, \"colorscale\": [[0.0, \"#0d0887\"], [0.1111111111111111, \"#46039f\"], [0.2222222222222222, \"#7201a8\"], [0.3333333333333333, \"#9c179e\"], [0.4444444444444444, \"#bd3786\"], [0.5555555555555556, \"#d8576b\"], [0.6666666666666666, \"#ed7953\"], [0.7777777777777778, \"#fb9f3a\"], [0.8888888888888888, \"#fdca26\"], [1.0, \"#f0f921\"]], \"type\": \"heatmapgl\"}], \"histogram\": [{\"marker\": {\"colorbar\": {\"outlinewidth\": 0, \"ticks\": \"\"}}, \"type\": \"histogram\"}], \"histogram2d\": [{\"colorbar\": {\"outlinewidth\": 0, \"ticks\": \"\"}, \"colorscale\": [[0.0, \"#0d0887\"], [0.1111111111111111, \"#46039f\"], [0.2222222222222222, \"#7201a8\"], [0.3333333333333333, \"#9c179e\"], [0.4444444444444444, \"#bd3786\"], [0.5555555555555556, \"#d8576b\"], [0.6666666666666666, \"#ed7953\"], [0.7777777777777778, \"#fb9f3a\"], [0.8888888888888888, \"#fdca26\"], [1.0, \"#f0f921\"]], \"type\": \"histogram2d\"}], \"histogram2dcontour\": [{\"colorbar\": {\"outlinewidth\": 0, \"ticks\": \"\"}, \"colorscale\": [[0.0, \"#0d0887\"], [0.1111111111111111, \"#46039f\"], [0.2222222222222222, \"#7201a8\"], [0.3333333333333333, \"#9c179e\"], [0.4444444444444444, \"#bd3786\"], [0.5555555555555556, \"#d8576b\"], [0.6666666666666666, \"#ed7953\"], [0.7777777777777778, \"#fb9f3a\"], [0.8888888888888888, \"#fdca26\"], [1.0, \"#f0f921\"]], \"type\": \"histogram2dcontour\"}], \"mesh3d\": [{\"colorbar\": {\"outlinewidth\": 0, \"ticks\": \"\"}, \"type\": \"mesh3d\"}], \"parcoords\": [{\"line\": {\"colorbar\": {\"outlinewidth\": 0, \"ticks\": \"\"}}, \"type\": \"parcoords\"}], \"pie\": [{\"automargin\": true, \"type\": \"pie\"}], \"scatter\": [{\"marker\": {\"colorbar\": {\"outlinewidth\": 0, \"ticks\": \"\"}}, \"type\": \"scatter\"}], \"scatter3d\": [{\"line\": {\"colorbar\": {\"outlinewidth\": 0, \"ticks\": \"\"}}, \"marker\": {\"colorbar\": {\"outlinewidth\": 0, \"ticks\": \"\"}}, \"type\": \"scatter3d\"}], \"scattercarpet\": [{\"marker\": {\"colorbar\": {\"outlinewidth\": 0, \"ticks\": \"\"}}, \"type\": \"scattercarpet\"}], \"scattergeo\": [{\"marker\": {\"colorbar\": {\"outlinewidth\": 0, \"ticks\": \"\"}}, \"type\": \"scattergeo\"}], \"scattergl\": [{\"marker\": {\"colorbar\": {\"outlinewidth\": 0, \"ticks\": \"\"}}, \"type\": \"scattergl\"}], \"scattermapbox\": [{\"marker\": {\"colorbar\": {\"outlinewidth\": 0, \"ticks\": \"\"}}, \"type\": \"scattermapbox\"}], \"scatterpolar\": [{\"marker\": {\"colorbar\": {\"outlinewidth\": 0, \"ticks\": \"\"}}, \"type\": \"scatterpolar\"}], \"scatterpolargl\": [{\"marker\": {\"colorbar\": {\"outlinewidth\": 0, \"ticks\": \"\"}}, \"type\": \"scatterpolargl\"}], \"scatterternary\": [{\"marker\": {\"colorbar\": {\"outlinewidth\": 0, \"ticks\": \"\"}}, \"type\": \"scatterternary\"}], \"surface\": [{\"colorbar\": {\"outlinewidth\": 0, \"ticks\": \"\"}, \"colorscale\": [[0.0, \"#0d0887\"], [0.1111111111111111, \"#46039f\"], [0.2222222222222222, \"#7201a8\"], [0.3333333333333333, \"#9c179e\"], [0.4444444444444444, \"#bd3786\"], [0.5555555555555556, \"#d8576b\"], [0.6666666666666666, \"#ed7953\"], [0.7777777777777778, \"#fb9f3a\"], [0.8888888888888888, \"#fdca26\"], [1.0, \"#f0f921\"]], \"type\": \"surface\"}], \"table\": [{\"cells\": {\"fill\": {\"color\": \"#EBF0F8\"}, \"line\": {\"color\": \"white\"}}, \"header\": {\"fill\": {\"color\": \"#C8D4E3\"}, \"line\": {\"color\": \"white\"}}, \"type\": \"table\"}]}, \"layout\": {\"annotationdefaults\": {\"arrowcolor\": \"#2a3f5f\", \"arrowhead\": 0, \"arrowwidth\": 1}, \"coloraxis\": {\"colorbar\": {\"outlinewidth\": 0, \"ticks\": \"\"}}, \"colorscale\": {\"diverging\": [[0, \"#8e0152\"], [0.1, \"#c51b7d\"], [0.2, \"#de77ae\"], [0.3, \"#f1b6da\"], [0.4, \"#fde0ef\"], [0.5, \"#f7f7f7\"], [0.6, \"#e6f5d0\"], [0.7, \"#b8e186\"], [0.8, \"#7fbc41\"], [0.9, \"#4d9221\"], [1, \"#276419\"]], \"sequential\": [[0.0, \"#0d0887\"], [0.1111111111111111, \"#46039f\"], [0.2222222222222222, \"#7201a8\"], [0.3333333333333333, \"#9c179e\"], [0.4444444444444444, \"#bd3786\"], [0.5555555555555556, \"#d8576b\"], [0.6666666666666666, \"#ed7953\"], [0.7777777777777778, \"#fb9f3a\"], [0.8888888888888888, \"#fdca26\"], [1.0, \"#f0f921\"]], \"sequentialminus\": [[0.0, \"#0d0887\"], [0.1111111111111111, \"#46039f\"], [0.2222222222222222, \"#7201a8\"], [0.3333333333333333, \"#9c179e\"], [0.4444444444444444, \"#bd3786\"], [0.5555555555555556, \"#d8576b\"], [0.6666666666666666, \"#ed7953\"], [0.7777777777777778, \"#fb9f3a\"], [0.8888888888888888, \"#fdca26\"], [1.0, \"#f0f921\"]]}, \"colorway\": [\"#636efa\", \"#EF553B\", \"#00cc96\", \"#ab63fa\", \"#FFA15A\", \"#19d3f3\", \"#FF6692\", \"#B6E880\", \"#FF97FF\", \"#FECB52\"], \"font\": {\"color\": \"#2a3f5f\"}, \"geo\": {\"bgcolor\": \"white\", \"lakecolor\": \"white\", \"landcolor\": \"#E5ECF6\", \"showlakes\": true, \"showland\": true, \"subunitcolor\": \"white\"}, \"hoverlabel\": {\"align\": \"left\"}, \"hovermode\": \"closest\", \"mapbox\": {\"style\": \"light\"}, \"paper_bgcolor\": \"white\", \"plot_bgcolor\": \"#E5ECF6\", \"polar\": {\"angularaxis\": {\"gridcolor\": \"white\", \"linecolor\": \"white\", \"ticks\": \"\"}, \"bgcolor\": \"#E5ECF6\", \"radialaxis\": {\"gridcolor\": \"white\", \"linecolor\": \"white\", \"ticks\": \"\"}}, \"scene\": {\"xaxis\": {\"backgroundcolor\": \"#E5ECF6\", \"gridcolor\": \"white\", \"gridwidth\": 2, \"linecolor\": \"white\", \"showbackground\": true, \"ticks\": \"\", \"zerolinecolor\": \"white\"}, \"yaxis\": {\"backgroundcolor\": \"#E5ECF6\", \"gridcolor\": \"white\", \"gridwidth\": 2, \"linecolor\": \"white\", \"showbackground\": true, \"ticks\": \"\", \"zerolinecolor\": \"white\"}, \"zaxis\": {\"backgroundcolor\": \"#E5ECF6\", \"gridcolor\": \"white\", \"gridwidth\": 2, \"linecolor\": \"white\", \"showbackground\": true, \"ticks\": \"\", \"zerolinecolor\": \"white\"}}, \"shapedefaults\": {\"line\": {\"color\": \"#2a3f5f\"}}, \"ternary\": {\"aaxis\": {\"gridcolor\": \"white\", \"linecolor\": \"white\", \"ticks\": \"\"}, \"baxis\": {\"gridcolor\": \"white\", \"linecolor\": \"white\", \"ticks\": \"\"}, \"bgcolor\": \"#E5ECF6\", \"caxis\": {\"gridcolor\": \"white\", \"linecolor\": \"white\", \"ticks\": \"\"}}, \"title\": {\"x\": 0.05}, \"xaxis\": {\"automargin\": true, \"gridcolor\": \"white\", \"linecolor\": \"white\", \"ticks\": \"\", \"title\": {\"standoff\": 15}, \"zerolinecolor\": \"white\", \"zerolinewidth\": 2}, \"yaxis\": {\"automargin\": true, \"gridcolor\": \"white\", \"linecolor\": \"white\", \"ticks\": \"\", \"title\": {\"standoff\": 15}, \"zerolinecolor\": \"white\", \"zerolinewidth\": 2}}}, \"title\": {\"text\": \"Distribui\\u00e7\\u00e3o de novas mortes nas UFs (mavg = 5 days)\"}, \"xaxis\": {\"domain\": [0, 0.8]}, \"xaxis2\": {\"domain\": [0.85, 1]}, \"yaxis\": {\"tickmode\": \"linear\"}, \"yaxis2\": {\"anchor\": \"x2\", \"tickmode\": \"linear\"}},\n",
       "                        {\"responsive\": true}\n",
       "                    ).then(function(){\n",
       "                            \n",
       "var gd = document.getElementById('5ee6585a-4a5a-4af2-8e5d-0347c2a0cacc');\n",
       "var x = new MutationObserver(function (mutations, observer) {{\n",
       "        var display = window.getComputedStyle(gd).display;\n",
       "        if (!display || display === 'none') {{\n",
       "            console.log([gd, 'removed!']);\n",
       "            Plotly.purge(gd);\n",
       "            observer.disconnect();\n",
       "        }}\n",
       "}});\n",
       "\n",
       "// Listen for the removal of the full notebook cells\n",
       "var notebookContainer = gd.closest('#notebook-container');\n",
       "if (notebookContainer) {{\n",
       "    x.observe(notebookContainer, {childList: true});\n",
       "}}\n",
       "\n",
       "// Listen for the clearing of the current output cell\n",
       "var outputEl = gd.closest('.output');\n",
       "if (outputEl) {{\n",
       "    x.observe(outputEl, {childList: true});\n",
       "}}\n",
       "\n",
       "                        })\n",
       "                };\n",
       "                });\n",
       "            </script>\n",
       "        </div>"
      ]
     },
     "metadata": {},
     "output_type": "display_data"
    }
   ],
   "source": [
    "plot_deaths_heatmap2(df_deaths,\n",
    "                     place_type='state_id',\n",
    "                    title='Distribuição de novas mortes nas UFs (mavg = 5 days)',\n",
    "                    save_img=False)"
   ]
  },
  {
   "cell_type": "markdown",
   "metadata": {},
   "source": [
    "## Cities heatmap"
   ]
  },
  {
   "cell_type": "code",
   "execution_count": 35,
   "metadata": {},
   "outputs": [
    {
     "name": "stdout",
     "output_type": "stream",
     "text": [
      "Collecting psutil\n",
      "  Downloading psutil-5.7.0.tar.gz (449 kB)\n",
      "\u001b[K     |████████████████████████████████| 449 kB 447 kB/s eta 0:00:01\n",
      "\u001b[?25hBuilding wheels for collected packages: psutil\n",
      "  Building wheel for psutil (setup.py) ... \u001b[?25ldone\n",
      "\u001b[?25h  Created wheel for psutil: filename=psutil-5.7.0-cp37-cp37m-macosx_10_14_x86_64.whl size=226893 sha256=7a669e7c30e5302ed45a1f20c0956a5b9f201affca07dda7459066f63feaf513\n",
      "  Stored in directory: /Users/fernandascovino/Library/Caches/pip/wheels/b6/e7/50/aee9cc966163d74430f13f208171dee22f11efa4a4a826661c\n",
      "Successfully built psutil\n",
      "Installing collected packages: psutil\n",
      "Successfully installed psutil-5.7.0\n",
      "\u001b[33mWARNING: You are using pip version 20.0.2; however, version 20.1 is available.\n",
      "You should consider upgrading via the '/Users/fernandascovino/Projects/simulacovid/venvanalysis/bin/python3.7 -m pip install --upgrade pip' command.\u001b[0m\n"
     ]
    }
   ],
   "source": [
    "! pip install psutil"
   ]
  },
  {
   "cell_type": "code",
   "execution_count": 36,
   "metadata": {},
   "outputs": [],
   "source": [
    "def get_rolling_amount(grp):\n",
    "    return grp.rolling(5, min_periods=1, on='last_updated')['deaths'].mean()\n",
    "\n",
    "df_cities_deaths = df[~df['deaths'].isnull()][['state_id','city_name', 'last_updated', 'deaths']]\\\n",
    "                                                .groupby(['state_id','city_name', 'last_updated'])['deaths']\\\n",
    "                                                .sum()\\\n",
    "                                                .reset_index()\n",
    "\n",
    "df_cities_deaths['rolling_deaths_new'] = df_cities_deaths.groupby('city_name', \n",
    "                                                    as_index=False, \n",
    "                                                    group_keys=False)\\\n",
    "                                           .apply(get_rolling_amount)"
   ]
  },
  {
   "cell_type": "code",
   "execution_count": 39,
   "metadata": {},
   "outputs": [],
   "source": [
    "import plotly.io as pio\n",
    "\n",
    "def plot_cities_deaths_heatmap(t, state, place_type,min_deaths, title, colors='temps',save_img=False):\n",
    "    t = t[t['state_id']==state]\n",
    "    df_heatmap = t.reset_index()\\\n",
    "                          .pivot(index=place_type, \n",
    "                                  columns='last_updated', \n",
    "                                  values='rolling_deaths_new')\\\n",
    "                           .fillna(0)\\\n",
    "                           .apply(lambda x: x/x.max(), axis=1)\\\n",
    "                           .dropna(how='all')\n",
    "\n",
    "    # remove days with all states zero\n",
    "    df_heatmap = df_heatmap.loc[:, (df_heatmap != 0).any(axis=0)]\n",
    "    print(len(df_heatmap))\n",
    "\n",
    "    city_total_deaths = [t[t['city_name'] ==x]['deaths'].max() for x in df_heatmap.index]\n",
    "    idy = np.argsort(city_total_deaths)\n",
    "    idx = np.array(city_total_deaths,dtype=np.int32)[idy] > min_deaths\n",
    "\n",
    "    \n",
    "    try:\n",
    "        trace1 = go.Heatmap(_df_to_plotly(df_heatmap.iloc[idy,:].loc[idx,:].drop('0',axis=1)), \n",
    "                                        colorscale=colors,showscale=False)\n",
    "    except:\n",
    "        trace1 = go.Heatmap(_df_to_plotly(df_heatmap.iloc[idy,:].loc[idx,:]), \n",
    "                                        colorscale=colors,showscale=False)\n",
    "\n",
    "    trace2 = go.Bar(x=np.array(city_total_deaths)[idy][idx],y=df_heatmap.iloc[idy,:].loc[idx,:].index,\n",
    "                    xaxis=\"x2\",yaxis=\"y2\",orientation='h')\n",
    "    d = [trace1,trace2]\n",
    "    layout = go.Layout(title=title,\n",
    "        plot_bgcolor='rgba(0,0,0,0)',\n",
    "        xaxis=dict(\n",
    "            domain=[0, 0.7]\n",
    "        ),\n",
    "        xaxis2=dict(\n",
    "            domain=[0.8, 1],\n",
    "            showticklabels=True\n",
    "        ),\n",
    "        yaxis=dict(tickmode='linear'\n",
    "        ),\n",
    "        yaxis2=dict(tickmode='linear',anchor='x2'\n",
    "        )\n",
    "        \n",
    "    )\n",
    "\n",
    "    fig = go.Figure(data=d, layout=layout)\n",
    "#     if save_img:\n",
    "#         pio.write_image(fig,'Mortes_{}.jpeg'.format(state),format='jpeg',width=1920, height=1080)\n",
    "    fig.show()"
   ]
  },
  {
   "cell_type": "code",
   "execution_count": 40,
   "metadata": {},
   "outputs": [
    {
     "name": "stdout",
     "output_type": "stream",
     "text": [
      "91\n"
     ]
    },
    {
     "data": {
      "application/vnd.plotly.v1+json": {
       "config": {
        "plotlyServerURL": "https://plot.ly"
       },
       "data": [
        {
         "colorscale": [
          [
           0,
           "rgb(0, 147, 146)"
          ],
          [
           0.16666666666666666,
           "rgb(57, 177, 133)"
          ],
          [
           0.3333333333333333,
           "rgb(156, 203, 134)"
          ],
          [
           0.5,
           "rgb(233, 226, 156)"
          ],
          [
           0.6666666666666666,
           "rgb(238, 180, 121)"
          ],
          [
           0.8333333333333334,
           "rgb(232, 132, 113)"
          ],
          [
           1,
           "rgb(207, 89, 126)"
          ]
         ],
         "showscale": false,
         "type": "heatmap",
         "x": [
          "2020-03-26T00:00:00",
          "2020-03-27T00:00:00",
          "2020-03-28T00:00:00",
          "2020-03-29T00:00:00",
          "2020-03-30T00:00:00",
          "2020-03-31T00:00:00",
          "2020-04-01T00:00:00",
          "2020-04-02T00:00:00",
          "2020-04-03T00:00:00",
          "2020-04-04T00:00:00",
          "2020-04-05T00:00:00",
          "2020-04-06T00:00:00",
          "2020-04-07T00:00:00",
          "2020-04-08T00:00:00",
          "2020-04-09T00:00:00",
          "2020-04-10T00:00:00",
          "2020-04-11T00:00:00",
          "2020-04-12T00:00:00",
          "2020-04-13T00:00:00",
          "2020-04-14T00:00:00",
          "2020-04-15T00:00:00",
          "2020-04-16T00:00:00",
          "2020-04-17T00:00:00",
          "2020-04-18T00:00:00",
          "2020-04-19T00:00:00",
          "2020-04-20T00:00:00",
          "2020-04-21T00:00:00",
          "2020-04-22T00:00:00",
          "2020-04-23T00:00:00",
          "2020-04-24T00:00:00",
          "2020-04-25T00:00:00",
          "2020-04-26T00:00:00",
          "2020-04-27T00:00:00",
          "2020-04-28T00:00:00",
          "2020-04-29T00:00:00",
          "2020-04-30T00:00:00",
          "2020-05-01T00:00:00",
          "2020-05-02T00:00:00",
          "2020-05-03T00:00:00",
          "2020-05-04T00:00:00",
          "2020-05-05T00:00:00",
          "2020-05-06T00:00:00",
          "2020-05-07T00:00:00",
          "2020-05-08T00:00:00",
          "2020-05-09T00:00:00",
          "2020-05-10T00:00:00",
          "2020-05-11T00:00:00",
          "2020-05-12T00:00:00",
          "2020-05-13T00:00:00"
         ],
         "y": [
          "Itaitinga",
          "Pacatuba",
          "Sobral",
          "Itapipoca",
          "Maranguape",
          "Caucaia",
          "Maracanaú",
          "Fortaleza"
         ],
         "z": [
          [
           0,
           0,
           0,
           0,
           0,
           0,
           0,
           0,
           0,
           0,
           0,
           0.017543859649122806,
           0.03508771929824561,
           0.05263157894736842,
           0.07017543859649122,
           0.08771929824561403,
           0.08771929824561403,
           0.08771929824561403,
           0.08771929824561403,
           0.08771929824561403,
           0.08771929824561403,
           0.08771929824561403,
           0.08771929824561403,
           0.08771929824561403,
           0.08771929824561403,
           0.08771929824561403,
           0.08771929824561403,
           0.08771929824561403,
           0.08771929824561403,
           0.08771929824561403,
           0.08771929824561403,
           0.08771929824561403,
           0.08771929824561403,
           0.08771929824561403,
           0.08771929824561403,
           0.12280701754385964,
           0.15789473684210525,
           0.1929824561403509,
           0.22807017543859648,
           0.2807017543859649,
           0.3333333333333333,
           0.3859649122807018,
           0.45614035087719296,
           0.543859649122807,
           0.6140350877192983,
           0.7017543859649122,
           0.8070175438596491,
           0.9122807017543859,
           1
          ],
          [
           0,
           0,
           0,
           0,
           0,
           0,
           0,
           0,
           0,
           0,
           0,
           0,
           0,
           0,
           0,
           0,
           0,
           0,
           0,
           0,
           0,
           0,
           0,
           0,
           0,
           0,
           0,
           0,
           0,
           0.015384615384615385,
           0.03076923076923077,
           0.04615384615384615,
           0.06153846153846154,
           0.0923076923076923,
           0.12307692307692308,
           0.15384615384615385,
           0.1846153846153846,
           0.21538461538461537,
           0.23076923076923078,
           0.23076923076923078,
           0.23076923076923078,
           0.24615384615384617,
           0.26153846153846155,
           0.27692307692307694,
           0.4,
           0.5538461538461539,
           0.6923076923076923,
           0.8461538461538461,
           1
          ],
          [
           0,
           0,
           0,
           0,
           0,
           0,
           0,
           0,
           0,
           0,
           0,
           0,
           0,
           0,
           0,
           0,
           0,
           0,
           0,
           0,
           0,
           0,
           0,
           0,
           0,
           0,
           0,
           0,
           0.044444444444444446,
           0.08888888888888889,
           0.13333333333333333,
           0.17777777777777778,
           0.2222222222222222,
           0.26666666666666666,
           0.3333333333333333,
           0.37777777777777777,
           0.4444444444444444,
           0.5111111111111111,
           0.5555555555555556,
           0.5555555555555556,
           0.5777777777777778,
           0.5777777777777778,
           0.5777777777777778,
           0.5555555555555556,
           0.5555555555555556,
           0.5555555555555556,
           0.5555555555555556,
           0.7777777777777778,
           1
          ],
          [
           0,
           0,
           0,
           0,
           0,
           0,
           0,
           0,
           0,
           0,
           0,
           0,
           0,
           0,
           0,
           0,
           0,
           0,
           0,
           0,
           0,
           0,
           0,
           0,
           0,
           0,
           0,
           0,
           0,
           0,
           0,
           0,
           0,
           0,
           0,
           0.012658227848101266,
           0.05063291139240506,
           0.10126582278481013,
           0.15189873417721517,
           0.2151898734177215,
           0.26582278481012656,
           0.29113924050632906,
           0.3164556962025316,
           0.36708860759493667,
           0.430379746835443,
           0.5443037974683543,
           0.6962025316455696,
           0.860759493670886,
           1
          ],
          [
           0,
           0,
           0,
           0,
           0,
           0,
           0,
           0,
           0,
           0,
           0,
           0,
           0,
           0,
           0,
           0,
           0,
           0,
           0.021052631578947368,
           0.042105263157894736,
           0.06315789473684211,
           0.08421052631578947,
           0.10526315789473684,
           0.10526315789473684,
           0.10526315789473684,
           0.10526315789473684,
           0.10526315789473684,
           0.10526315789473684,
           0.10526315789473684,
           0.10526315789473684,
           0.10526315789473684,
           0.12631578947368421,
           0.15789473684210525,
           0.18947368421052632,
           0.2210526315789474,
           0.28421052631578947,
           0.3368421052631579,
           0.37894736842105264,
           0.431578947368421,
           0.4947368421052632,
           0.5473684210526316,
           0.6,
           0.6631578947368421,
           0.7157894736842105,
           0.7894736842105263,
           0.8421052631578947,
           0.8947368421052632,
           0.9473684210526315,
           1
          ],
          [
           0,
           0,
           0,
           0,
           0,
           0,
           0,
           0,
           0,
           0,
           0,
           0,
           0,
           0.00625,
           0.0125,
           0.01875,
           0.025,
           0.03125,
           0.03125,
           0.0375,
           0.05,
           0.06875,
           0.09375,
           0.11875,
           0.1375,
           0.15625,
           0.175,
           0.19375,
           0.2125,
           0.23125,
           0.24375,
           0.2625,
           0.275,
           0.2875,
           0.30625,
           0.325,
           0.35625,
           0.39375,
           0.4375,
           0.475,
           0.5375,
           0.575,
           0.6125,
           0.6875,
           0.7625,
           0.825,
           0.89375,
           0.96875,
           1
          ],
          [
           0,
           0,
           0,
           0,
           0,
           0,
           0,
           0,
           0,
           0,
           0.004761904761904762,
           0.009523809523809525,
           0.014285714285714285,
           0.01904761904761905,
           0.023809523809523808,
           0.023809523809523808,
           0.023809523809523808,
           0.023809523809523808,
           0.023809523809523808,
           0.023809523809523808,
           0.0380952380952381,
           0.05238095238095238,
           0.06666666666666667,
           0.08095238095238096,
           0.1,
           0.10476190476190476,
           0.10952380952380951,
           0.11904761904761904,
           0.13333333333333333,
           0.1523809523809524,
           0.17142857142857143,
           0.20476190476190476,
           0.23809523809523808,
           0.26666666666666666,
           0.29047619047619044,
           0.3190476190476191,
           0.3333333333333333,
           0.35714285714285715,
           0.38095238095238093,
           0.4095238095238095,
           0.4714285714285714,
           0.5523809523809524,
           0.6238095238095238,
           0.7095238095238096,
           0.7904761904761906,
           0.8380952380952381,
           0.8809523809523809,
           0.9476190476190476,
           1
          ],
          [
           0.0006753714542998649,
           0.0013507429085997298,
           0.00225123818099955,
           0.003376857271499325,
           0.0045024763619991,
           0.005177847816298964,
           0.00585321927059883,
           0.00495272399819901,
           0.007654209815398469,
           0.010580819450697885,
           0.015083295812696984,
           0.01981089599279604,
           0.02656461053579469,
           0.03286807744259343,
           0.038946420531292214,
           0.045024763619991,
           0.0520036019810896,
           0.05853219270598829,
           0.06596127870328682,
           0.07519135524538496,
           0.08419630796938316,
           0.0925258892390815,
           0.1060333183250788,
           0.12021611886537596,
           0.13417379558757317,
           0.15015758667266998,
           0.1683926159387663,
           0.18415128320576316,
           0.20013507429086,
           0.21814497973885638,
           0.23953174245835213,
           0.2663214768122467,
           0.294912201710941,
           0.3212516884286357,
           0.34849167041873036,
           0.3759567762269248,
           0.40252138676271954,
           0.4434939216569113,
           0.48829356145880237,
           0.5342188203511932,
           0.585321927059883,
           0.6389013957676722,
           0.6830256641152633,
           0.7354795137325529,
           0.7931112111661415,
           0.8453399369653309,
           0.89981990094552,
           0.9574515983791085,
           1
          ]
         ]
        },
        {
         "orientation": "h",
         "type": "bar",
         "x": [
          13,
          14,
          15,
          19,
          20,
          34,
          47,
          950
         ],
         "xaxis": "x2",
         "y": [
          "Itaitinga",
          "Pacatuba",
          "Sobral",
          "Itapipoca",
          "Maranguape",
          "Caucaia",
          "Maracanaú",
          "Fortaleza"
         ],
         "yaxis": "y2"
        }
       ],
       "layout": {
        "plot_bgcolor": "rgba(0,0,0,0)",
        "template": {
         "data": {
          "bar": [
           {
            "error_x": {
             "color": "#2a3f5f"
            },
            "error_y": {
             "color": "#2a3f5f"
            },
            "marker": {
             "line": {
              "color": "#E5ECF6",
              "width": 0.5
             }
            },
            "type": "bar"
           }
          ],
          "barpolar": [
           {
            "marker": {
             "line": {
              "color": "#E5ECF6",
              "width": 0.5
             }
            },
            "type": "barpolar"
           }
          ],
          "carpet": [
           {
            "aaxis": {
             "endlinecolor": "#2a3f5f",
             "gridcolor": "white",
             "linecolor": "white",
             "minorgridcolor": "white",
             "startlinecolor": "#2a3f5f"
            },
            "baxis": {
             "endlinecolor": "#2a3f5f",
             "gridcolor": "white",
             "linecolor": "white",
             "minorgridcolor": "white",
             "startlinecolor": "#2a3f5f"
            },
            "type": "carpet"
           }
          ],
          "choropleth": [
           {
            "colorbar": {
             "outlinewidth": 0,
             "ticks": ""
            },
            "type": "choropleth"
           }
          ],
          "contour": [
           {
            "colorbar": {
             "outlinewidth": 0,
             "ticks": ""
            },
            "colorscale": [
             [
              0,
              "#0d0887"
             ],
             [
              0.1111111111111111,
              "#46039f"
             ],
             [
              0.2222222222222222,
              "#7201a8"
             ],
             [
              0.3333333333333333,
              "#9c179e"
             ],
             [
              0.4444444444444444,
              "#bd3786"
             ],
             [
              0.5555555555555556,
              "#d8576b"
             ],
             [
              0.6666666666666666,
              "#ed7953"
             ],
             [
              0.7777777777777778,
              "#fb9f3a"
             ],
             [
              0.8888888888888888,
              "#fdca26"
             ],
             [
              1,
              "#f0f921"
             ]
            ],
            "type": "contour"
           }
          ],
          "contourcarpet": [
           {
            "colorbar": {
             "outlinewidth": 0,
             "ticks": ""
            },
            "type": "contourcarpet"
           }
          ],
          "heatmap": [
           {
            "colorbar": {
             "outlinewidth": 0,
             "ticks": ""
            },
            "colorscale": [
             [
              0,
              "#0d0887"
             ],
             [
              0.1111111111111111,
              "#46039f"
             ],
             [
              0.2222222222222222,
              "#7201a8"
             ],
             [
              0.3333333333333333,
              "#9c179e"
             ],
             [
              0.4444444444444444,
              "#bd3786"
             ],
             [
              0.5555555555555556,
              "#d8576b"
             ],
             [
              0.6666666666666666,
              "#ed7953"
             ],
             [
              0.7777777777777778,
              "#fb9f3a"
             ],
             [
              0.8888888888888888,
              "#fdca26"
             ],
             [
              1,
              "#f0f921"
             ]
            ],
            "type": "heatmap"
           }
          ],
          "heatmapgl": [
           {
            "colorbar": {
             "outlinewidth": 0,
             "ticks": ""
            },
            "colorscale": [
             [
              0,
              "#0d0887"
             ],
             [
              0.1111111111111111,
              "#46039f"
             ],
             [
              0.2222222222222222,
              "#7201a8"
             ],
             [
              0.3333333333333333,
              "#9c179e"
             ],
             [
              0.4444444444444444,
              "#bd3786"
             ],
             [
              0.5555555555555556,
              "#d8576b"
             ],
             [
              0.6666666666666666,
              "#ed7953"
             ],
             [
              0.7777777777777778,
              "#fb9f3a"
             ],
             [
              0.8888888888888888,
              "#fdca26"
             ],
             [
              1,
              "#f0f921"
             ]
            ],
            "type": "heatmapgl"
           }
          ],
          "histogram": [
           {
            "marker": {
             "colorbar": {
              "outlinewidth": 0,
              "ticks": ""
             }
            },
            "type": "histogram"
           }
          ],
          "histogram2d": [
           {
            "colorbar": {
             "outlinewidth": 0,
             "ticks": ""
            },
            "colorscale": [
             [
              0,
              "#0d0887"
             ],
             [
              0.1111111111111111,
              "#46039f"
             ],
             [
              0.2222222222222222,
              "#7201a8"
             ],
             [
              0.3333333333333333,
              "#9c179e"
             ],
             [
              0.4444444444444444,
              "#bd3786"
             ],
             [
              0.5555555555555556,
              "#d8576b"
             ],
             [
              0.6666666666666666,
              "#ed7953"
             ],
             [
              0.7777777777777778,
              "#fb9f3a"
             ],
             [
              0.8888888888888888,
              "#fdca26"
             ],
             [
              1,
              "#f0f921"
             ]
            ],
            "type": "histogram2d"
           }
          ],
          "histogram2dcontour": [
           {
            "colorbar": {
             "outlinewidth": 0,
             "ticks": ""
            },
            "colorscale": [
             [
              0,
              "#0d0887"
             ],
             [
              0.1111111111111111,
              "#46039f"
             ],
             [
              0.2222222222222222,
              "#7201a8"
             ],
             [
              0.3333333333333333,
              "#9c179e"
             ],
             [
              0.4444444444444444,
              "#bd3786"
             ],
             [
              0.5555555555555556,
              "#d8576b"
             ],
             [
              0.6666666666666666,
              "#ed7953"
             ],
             [
              0.7777777777777778,
              "#fb9f3a"
             ],
             [
              0.8888888888888888,
              "#fdca26"
             ],
             [
              1,
              "#f0f921"
             ]
            ],
            "type": "histogram2dcontour"
           }
          ],
          "mesh3d": [
           {
            "colorbar": {
             "outlinewidth": 0,
             "ticks": ""
            },
            "type": "mesh3d"
           }
          ],
          "parcoords": [
           {
            "line": {
             "colorbar": {
              "outlinewidth": 0,
              "ticks": ""
             }
            },
            "type": "parcoords"
           }
          ],
          "pie": [
           {
            "automargin": true,
            "type": "pie"
           }
          ],
          "scatter": [
           {
            "marker": {
             "colorbar": {
              "outlinewidth": 0,
              "ticks": ""
             }
            },
            "type": "scatter"
           }
          ],
          "scatter3d": [
           {
            "line": {
             "colorbar": {
              "outlinewidth": 0,
              "ticks": ""
             }
            },
            "marker": {
             "colorbar": {
              "outlinewidth": 0,
              "ticks": ""
             }
            },
            "type": "scatter3d"
           }
          ],
          "scattercarpet": [
           {
            "marker": {
             "colorbar": {
              "outlinewidth": 0,
              "ticks": ""
             }
            },
            "type": "scattercarpet"
           }
          ],
          "scattergeo": [
           {
            "marker": {
             "colorbar": {
              "outlinewidth": 0,
              "ticks": ""
             }
            },
            "type": "scattergeo"
           }
          ],
          "scattergl": [
           {
            "marker": {
             "colorbar": {
              "outlinewidth": 0,
              "ticks": ""
             }
            },
            "type": "scattergl"
           }
          ],
          "scattermapbox": [
           {
            "marker": {
             "colorbar": {
              "outlinewidth": 0,
              "ticks": ""
             }
            },
            "type": "scattermapbox"
           }
          ],
          "scatterpolar": [
           {
            "marker": {
             "colorbar": {
              "outlinewidth": 0,
              "ticks": ""
             }
            },
            "type": "scatterpolar"
           }
          ],
          "scatterpolargl": [
           {
            "marker": {
             "colorbar": {
              "outlinewidth": 0,
              "ticks": ""
             }
            },
            "type": "scatterpolargl"
           }
          ],
          "scatterternary": [
           {
            "marker": {
             "colorbar": {
              "outlinewidth": 0,
              "ticks": ""
             }
            },
            "type": "scatterternary"
           }
          ],
          "surface": [
           {
            "colorbar": {
             "outlinewidth": 0,
             "ticks": ""
            },
            "colorscale": [
             [
              0,
              "#0d0887"
             ],
             [
              0.1111111111111111,
              "#46039f"
             ],
             [
              0.2222222222222222,
              "#7201a8"
             ],
             [
              0.3333333333333333,
              "#9c179e"
             ],
             [
              0.4444444444444444,
              "#bd3786"
             ],
             [
              0.5555555555555556,
              "#d8576b"
             ],
             [
              0.6666666666666666,
              "#ed7953"
             ],
             [
              0.7777777777777778,
              "#fb9f3a"
             ],
             [
              0.8888888888888888,
              "#fdca26"
             ],
             [
              1,
              "#f0f921"
             ]
            ],
            "type": "surface"
           }
          ],
          "table": [
           {
            "cells": {
             "fill": {
              "color": "#EBF0F8"
             },
             "line": {
              "color": "white"
             }
            },
            "header": {
             "fill": {
              "color": "#C8D4E3"
             },
             "line": {
              "color": "white"
             }
            },
            "type": "table"
           }
          ]
         },
         "layout": {
          "annotationdefaults": {
           "arrowcolor": "#2a3f5f",
           "arrowhead": 0,
           "arrowwidth": 1
          },
          "coloraxis": {
           "colorbar": {
            "outlinewidth": 0,
            "ticks": ""
           }
          },
          "colorscale": {
           "diverging": [
            [
             0,
             "#8e0152"
            ],
            [
             0.1,
             "#c51b7d"
            ],
            [
             0.2,
             "#de77ae"
            ],
            [
             0.3,
             "#f1b6da"
            ],
            [
             0.4,
             "#fde0ef"
            ],
            [
             0.5,
             "#f7f7f7"
            ],
            [
             0.6,
             "#e6f5d0"
            ],
            [
             0.7,
             "#b8e186"
            ],
            [
             0.8,
             "#7fbc41"
            ],
            [
             0.9,
             "#4d9221"
            ],
            [
             1,
             "#276419"
            ]
           ],
           "sequential": [
            [
             0,
             "#0d0887"
            ],
            [
             0.1111111111111111,
             "#46039f"
            ],
            [
             0.2222222222222222,
             "#7201a8"
            ],
            [
             0.3333333333333333,
             "#9c179e"
            ],
            [
             0.4444444444444444,
             "#bd3786"
            ],
            [
             0.5555555555555556,
             "#d8576b"
            ],
            [
             0.6666666666666666,
             "#ed7953"
            ],
            [
             0.7777777777777778,
             "#fb9f3a"
            ],
            [
             0.8888888888888888,
             "#fdca26"
            ],
            [
             1,
             "#f0f921"
            ]
           ],
           "sequentialminus": [
            [
             0,
             "#0d0887"
            ],
            [
             0.1111111111111111,
             "#46039f"
            ],
            [
             0.2222222222222222,
             "#7201a8"
            ],
            [
             0.3333333333333333,
             "#9c179e"
            ],
            [
             0.4444444444444444,
             "#bd3786"
            ],
            [
             0.5555555555555556,
             "#d8576b"
            ],
            [
             0.6666666666666666,
             "#ed7953"
            ],
            [
             0.7777777777777778,
             "#fb9f3a"
            ],
            [
             0.8888888888888888,
             "#fdca26"
            ],
            [
             1,
             "#f0f921"
            ]
           ]
          },
          "colorway": [
           "#636efa",
           "#EF553B",
           "#00cc96",
           "#ab63fa",
           "#FFA15A",
           "#19d3f3",
           "#FF6692",
           "#B6E880",
           "#FF97FF",
           "#FECB52"
          ],
          "font": {
           "color": "#2a3f5f"
          },
          "geo": {
           "bgcolor": "white",
           "lakecolor": "white",
           "landcolor": "#E5ECF6",
           "showlakes": true,
           "showland": true,
           "subunitcolor": "white"
          },
          "hoverlabel": {
           "align": "left"
          },
          "hovermode": "closest",
          "mapbox": {
           "style": "light"
          },
          "paper_bgcolor": "white",
          "plot_bgcolor": "#E5ECF6",
          "polar": {
           "angularaxis": {
            "gridcolor": "white",
            "linecolor": "white",
            "ticks": ""
           },
           "bgcolor": "#E5ECF6",
           "radialaxis": {
            "gridcolor": "white",
            "linecolor": "white",
            "ticks": ""
           }
          },
          "scene": {
           "xaxis": {
            "backgroundcolor": "#E5ECF6",
            "gridcolor": "white",
            "gridwidth": 2,
            "linecolor": "white",
            "showbackground": true,
            "ticks": "",
            "zerolinecolor": "white"
           },
           "yaxis": {
            "backgroundcolor": "#E5ECF6",
            "gridcolor": "white",
            "gridwidth": 2,
            "linecolor": "white",
            "showbackground": true,
            "ticks": "",
            "zerolinecolor": "white"
           },
           "zaxis": {
            "backgroundcolor": "#E5ECF6",
            "gridcolor": "white",
            "gridwidth": 2,
            "linecolor": "white",
            "showbackground": true,
            "ticks": "",
            "zerolinecolor": "white"
           }
          },
          "shapedefaults": {
           "line": {
            "color": "#2a3f5f"
           }
          },
          "ternary": {
           "aaxis": {
            "gridcolor": "white",
            "linecolor": "white",
            "ticks": ""
           },
           "baxis": {
            "gridcolor": "white",
            "linecolor": "white",
            "ticks": ""
           },
           "bgcolor": "#E5ECF6",
           "caxis": {
            "gridcolor": "white",
            "linecolor": "white",
            "ticks": ""
           }
          },
          "title": {
           "x": 0.05
          },
          "xaxis": {
           "automargin": true,
           "gridcolor": "white",
           "linecolor": "white",
           "ticks": "",
           "title": {
            "standoff": 15
           },
           "zerolinecolor": "white",
           "zerolinewidth": 2
          },
          "yaxis": {
           "automargin": true,
           "gridcolor": "white",
           "linecolor": "white",
           "ticks": "",
           "title": {
            "standoff": 15
           },
           "zerolinecolor": "white",
           "zerolinewidth": 2
          }
         }
        },
        "title": {
         "text": "Distribuição de novas mortes em CE"
        },
        "xaxis": {
         "domain": [
          0,
          0.7
         ]
        },
        "xaxis2": {
         "domain": [
          0.8,
          1
         ],
         "showticklabels": true
        },
        "yaxis": {
         "tickmode": "linear"
        },
        "yaxis2": {
         "anchor": "x2",
         "tickmode": "linear"
        }
       }
      },
      "text/html": [
       "<div>\n",
       "        \n",
       "        \n",
       "            <div id=\"d059b2c4-41d0-43d8-bda7-89b360e02aac\" class=\"plotly-graph-div\" style=\"height:525px; width:100%;\"></div>\n",
       "            <script type=\"text/javascript\">\n",
       "                require([\"plotly\"], function(Plotly) {\n",
       "                    window.PLOTLYENV=window.PLOTLYENV || {};\n",
       "                    \n",
       "                if (document.getElementById(\"d059b2c4-41d0-43d8-bda7-89b360e02aac\")) {\n",
       "                    Plotly.newPlot(\n",
       "                        'd059b2c4-41d0-43d8-bda7-89b360e02aac',\n",
       "                        [{\"colorscale\": [[0.0, \"rgb(0, 147, 146)\"], [0.16666666666666666, \"rgb(57, 177, 133)\"], [0.3333333333333333, \"rgb(156, 203, 134)\"], [0.5, \"rgb(233, 226, 156)\"], [0.6666666666666666, \"rgb(238, 180, 121)\"], [0.8333333333333334, \"rgb(232, 132, 113)\"], [1.0, \"rgb(207, 89, 126)\"]], \"showscale\": false, \"type\": \"heatmap\", \"x\": [\"2020-03-26T00:00:00\", \"2020-03-27T00:00:00\", \"2020-03-28T00:00:00\", \"2020-03-29T00:00:00\", \"2020-03-30T00:00:00\", \"2020-03-31T00:00:00\", \"2020-04-01T00:00:00\", \"2020-04-02T00:00:00\", \"2020-04-03T00:00:00\", \"2020-04-04T00:00:00\", \"2020-04-05T00:00:00\", \"2020-04-06T00:00:00\", \"2020-04-07T00:00:00\", \"2020-04-08T00:00:00\", \"2020-04-09T00:00:00\", \"2020-04-10T00:00:00\", \"2020-04-11T00:00:00\", \"2020-04-12T00:00:00\", \"2020-04-13T00:00:00\", \"2020-04-14T00:00:00\", \"2020-04-15T00:00:00\", \"2020-04-16T00:00:00\", \"2020-04-17T00:00:00\", \"2020-04-18T00:00:00\", \"2020-04-19T00:00:00\", \"2020-04-20T00:00:00\", \"2020-04-21T00:00:00\", \"2020-04-22T00:00:00\", \"2020-04-23T00:00:00\", \"2020-04-24T00:00:00\", \"2020-04-25T00:00:00\", \"2020-04-26T00:00:00\", \"2020-04-27T00:00:00\", \"2020-04-28T00:00:00\", \"2020-04-29T00:00:00\", \"2020-04-30T00:00:00\", \"2020-05-01T00:00:00\", \"2020-05-02T00:00:00\", \"2020-05-03T00:00:00\", \"2020-05-04T00:00:00\", \"2020-05-05T00:00:00\", \"2020-05-06T00:00:00\", \"2020-05-07T00:00:00\", \"2020-05-08T00:00:00\", \"2020-05-09T00:00:00\", \"2020-05-10T00:00:00\", \"2020-05-11T00:00:00\", \"2020-05-12T00:00:00\", \"2020-05-13T00:00:00\"], \"y\": [\"Itaitinga\", \"Pacatuba\", \"Sobral\", \"Itapipoca\", \"Maranguape\", \"Caucaia\", \"Maracana\\u00fa\", \"Fortaleza\"], \"z\": [[0.0, 0.0, 0.0, 0.0, 0.0, 0.0, 0.0, 0.0, 0.0, 0.0, 0.0, 0.017543859649122806, 0.03508771929824561, 0.05263157894736842, 0.07017543859649122, 0.08771929824561403, 0.08771929824561403, 0.08771929824561403, 0.08771929824561403, 0.08771929824561403, 0.08771929824561403, 0.08771929824561403, 0.08771929824561403, 0.08771929824561403, 0.08771929824561403, 0.08771929824561403, 0.08771929824561403, 0.08771929824561403, 0.08771929824561403, 0.08771929824561403, 0.08771929824561403, 0.08771929824561403, 0.08771929824561403, 0.08771929824561403, 0.08771929824561403, 0.12280701754385964, 0.15789473684210525, 0.1929824561403509, 0.22807017543859648, 0.2807017543859649, 0.3333333333333333, 0.3859649122807018, 0.45614035087719296, 0.543859649122807, 0.6140350877192983, 0.7017543859649122, 0.8070175438596491, 0.9122807017543859, 1.0], [0.0, 0.0, 0.0, 0.0, 0.0, 0.0, 0.0, 0.0, 0.0, 0.0, 0.0, 0.0, 0.0, 0.0, 0.0, 0.0, 0.0, 0.0, 0.0, 0.0, 0.0, 0.0, 0.0, 0.0, 0.0, 0.0, 0.0, 0.0, 0.0, 0.015384615384615385, 0.03076923076923077, 0.04615384615384615, 0.06153846153846154, 0.0923076923076923, 0.12307692307692308, 0.15384615384615385, 0.1846153846153846, 0.21538461538461537, 0.23076923076923078, 0.23076923076923078, 0.23076923076923078, 0.24615384615384617, 0.26153846153846155, 0.27692307692307694, 0.4, 0.5538461538461539, 0.6923076923076923, 0.8461538461538461, 1.0], [0.0, 0.0, 0.0, 0.0, 0.0, 0.0, 0.0, 0.0, 0.0, 0.0, 0.0, 0.0, 0.0, 0.0, 0.0, 0.0, 0.0, 0.0, 0.0, 0.0, 0.0, 0.0, 0.0, 0.0, 0.0, 0.0, 0.0, 0.0, 0.044444444444444446, 0.08888888888888889, 0.13333333333333333, 0.17777777777777778, 0.2222222222222222, 0.26666666666666666, 0.3333333333333333, 0.37777777777777777, 0.4444444444444444, 0.5111111111111111, 0.5555555555555556, 0.5555555555555556, 0.5777777777777778, 0.5777777777777778, 0.5777777777777778, 0.5555555555555556, 0.5555555555555556, 0.5555555555555556, 0.5555555555555556, 0.7777777777777778, 1.0], [0.0, 0.0, 0.0, 0.0, 0.0, 0.0, 0.0, 0.0, 0.0, 0.0, 0.0, 0.0, 0.0, 0.0, 0.0, 0.0, 0.0, 0.0, 0.0, 0.0, 0.0, 0.0, 0.0, 0.0, 0.0, 0.0, 0.0, 0.0, 0.0, 0.0, 0.0, 0.0, 0.0, 0.0, 0.0, 0.012658227848101266, 0.05063291139240506, 0.10126582278481013, 0.15189873417721517, 0.2151898734177215, 0.26582278481012656, 0.29113924050632906, 0.3164556962025316, 0.36708860759493667, 0.430379746835443, 0.5443037974683543, 0.6962025316455696, 0.860759493670886, 1.0], [0.0, 0.0, 0.0, 0.0, 0.0, 0.0, 0.0, 0.0, 0.0, 0.0, 0.0, 0.0, 0.0, 0.0, 0.0, 0.0, 0.0, 0.0, 0.021052631578947368, 0.042105263157894736, 0.06315789473684211, 0.08421052631578947, 0.10526315789473684, 0.10526315789473684, 0.10526315789473684, 0.10526315789473684, 0.10526315789473684, 0.10526315789473684, 0.10526315789473684, 0.10526315789473684, 0.10526315789473684, 0.12631578947368421, 0.15789473684210525, 0.18947368421052632, 0.2210526315789474, 0.28421052631578947, 0.3368421052631579, 0.37894736842105264, 0.431578947368421, 0.4947368421052632, 0.5473684210526316, 0.6, 0.6631578947368421, 0.7157894736842105, 0.7894736842105263, 0.8421052631578947, 0.8947368421052632, 0.9473684210526315, 1.0], [0.0, 0.0, 0.0, 0.0, 0.0, 0.0, 0.0, 0.0, 0.0, 0.0, 0.0, 0.0, 0.0, 0.00625, 0.0125, 0.01875, 0.025, 0.03125, 0.03125, 0.0375, 0.05, 0.06875, 0.09375, 0.11875, 0.1375, 0.15625, 0.175, 0.19375, 0.2125, 0.23125, 0.24375, 0.2625, 0.275, 0.2875, 0.30625, 0.325, 0.35625, 0.39375, 0.4375, 0.475, 0.5375, 0.575, 0.6125, 0.6875, 0.7625, 0.825, 0.89375, 0.96875, 1.0], [0.0, 0.0, 0.0, 0.0, 0.0, 0.0, 0.0, 0.0, 0.0, 0.0, 0.004761904761904762, 0.009523809523809525, 0.014285714285714285, 0.01904761904761905, 0.023809523809523808, 0.023809523809523808, 0.023809523809523808, 0.023809523809523808, 0.023809523809523808, 0.023809523809523808, 0.0380952380952381, 0.05238095238095238, 0.06666666666666667, 0.08095238095238096, 0.1, 0.10476190476190476, 0.10952380952380951, 0.11904761904761904, 0.13333333333333333, 0.1523809523809524, 0.17142857142857143, 0.20476190476190476, 0.23809523809523808, 0.26666666666666666, 0.29047619047619044, 0.3190476190476191, 0.3333333333333333, 0.35714285714285715, 0.38095238095238093, 0.4095238095238095, 0.4714285714285714, 0.5523809523809524, 0.6238095238095238, 0.7095238095238096, 0.7904761904761906, 0.8380952380952381, 0.8809523809523809, 0.9476190476190476, 1.0], [0.0006753714542998649, 0.0013507429085997298, 0.00225123818099955, 0.003376857271499325, 0.0045024763619991, 0.005177847816298964, 0.00585321927059883, 0.00495272399819901, 0.007654209815398469, 0.010580819450697885, 0.015083295812696984, 0.01981089599279604, 0.02656461053579469, 0.03286807744259343, 0.038946420531292214, 0.045024763619991, 0.0520036019810896, 0.05853219270598829, 0.06596127870328682, 0.07519135524538496, 0.08419630796938316, 0.0925258892390815, 0.1060333183250788, 0.12021611886537596, 0.13417379558757317, 0.15015758667266998, 0.1683926159387663, 0.18415128320576316, 0.20013507429086, 0.21814497973885638, 0.23953174245835213, 0.2663214768122467, 0.294912201710941, 0.3212516884286357, 0.34849167041873036, 0.3759567762269248, 0.40252138676271954, 0.4434939216569113, 0.48829356145880237, 0.5342188203511932, 0.585321927059883, 0.6389013957676722, 0.6830256641152633, 0.7354795137325529, 0.7931112111661415, 0.8453399369653309, 0.89981990094552, 0.9574515983791085, 1.0]]}, {\"orientation\": \"h\", \"type\": \"bar\", \"x\": [13.0, 14.0, 15.0, 19.0, 20.0, 34.0, 47.0, 950.0], \"xaxis\": \"x2\", \"y\": [\"Itaitinga\", \"Pacatuba\", \"Sobral\", \"Itapipoca\", \"Maranguape\", \"Caucaia\", \"Maracana\\u00fa\", \"Fortaleza\"], \"yaxis\": \"y2\"}],\n",
       "                        {\"plot_bgcolor\": \"rgba(0,0,0,0)\", \"template\": {\"data\": {\"bar\": [{\"error_x\": {\"color\": \"#2a3f5f\"}, \"error_y\": {\"color\": \"#2a3f5f\"}, \"marker\": {\"line\": {\"color\": \"#E5ECF6\", \"width\": 0.5}}, \"type\": \"bar\"}], \"barpolar\": [{\"marker\": {\"line\": {\"color\": \"#E5ECF6\", \"width\": 0.5}}, \"type\": \"barpolar\"}], \"carpet\": [{\"aaxis\": {\"endlinecolor\": \"#2a3f5f\", \"gridcolor\": \"white\", \"linecolor\": \"white\", \"minorgridcolor\": \"white\", \"startlinecolor\": \"#2a3f5f\"}, \"baxis\": {\"endlinecolor\": \"#2a3f5f\", \"gridcolor\": \"white\", \"linecolor\": \"white\", \"minorgridcolor\": \"white\", \"startlinecolor\": \"#2a3f5f\"}, \"type\": \"carpet\"}], \"choropleth\": [{\"colorbar\": {\"outlinewidth\": 0, \"ticks\": \"\"}, \"type\": \"choropleth\"}], \"contour\": [{\"colorbar\": {\"outlinewidth\": 0, \"ticks\": \"\"}, \"colorscale\": [[0.0, \"#0d0887\"], [0.1111111111111111, \"#46039f\"], [0.2222222222222222, \"#7201a8\"], [0.3333333333333333, \"#9c179e\"], [0.4444444444444444, \"#bd3786\"], [0.5555555555555556, \"#d8576b\"], [0.6666666666666666, \"#ed7953\"], [0.7777777777777778, \"#fb9f3a\"], [0.8888888888888888, \"#fdca26\"], [1.0, \"#f0f921\"]], \"type\": \"contour\"}], \"contourcarpet\": [{\"colorbar\": {\"outlinewidth\": 0, \"ticks\": \"\"}, \"type\": \"contourcarpet\"}], \"heatmap\": [{\"colorbar\": {\"outlinewidth\": 0, \"ticks\": \"\"}, \"colorscale\": [[0.0, \"#0d0887\"], [0.1111111111111111, \"#46039f\"], [0.2222222222222222, \"#7201a8\"], [0.3333333333333333, \"#9c179e\"], [0.4444444444444444, \"#bd3786\"], [0.5555555555555556, \"#d8576b\"], [0.6666666666666666, \"#ed7953\"], [0.7777777777777778, \"#fb9f3a\"], [0.8888888888888888, \"#fdca26\"], [1.0, \"#f0f921\"]], \"type\": \"heatmap\"}], \"heatmapgl\": [{\"colorbar\": {\"outlinewidth\": 0, \"ticks\": \"\"}, \"colorscale\": [[0.0, \"#0d0887\"], [0.1111111111111111, \"#46039f\"], [0.2222222222222222, \"#7201a8\"], [0.3333333333333333, \"#9c179e\"], [0.4444444444444444, \"#bd3786\"], [0.5555555555555556, \"#d8576b\"], [0.6666666666666666, \"#ed7953\"], [0.7777777777777778, \"#fb9f3a\"], [0.8888888888888888, \"#fdca26\"], [1.0, \"#f0f921\"]], \"type\": \"heatmapgl\"}], \"histogram\": [{\"marker\": {\"colorbar\": {\"outlinewidth\": 0, \"ticks\": \"\"}}, \"type\": \"histogram\"}], \"histogram2d\": [{\"colorbar\": {\"outlinewidth\": 0, \"ticks\": \"\"}, \"colorscale\": [[0.0, \"#0d0887\"], [0.1111111111111111, \"#46039f\"], [0.2222222222222222, \"#7201a8\"], [0.3333333333333333, \"#9c179e\"], [0.4444444444444444, \"#bd3786\"], [0.5555555555555556, \"#d8576b\"], [0.6666666666666666, \"#ed7953\"], [0.7777777777777778, \"#fb9f3a\"], [0.8888888888888888, \"#fdca26\"], [1.0, \"#f0f921\"]], \"type\": \"histogram2d\"}], \"histogram2dcontour\": [{\"colorbar\": {\"outlinewidth\": 0, \"ticks\": \"\"}, \"colorscale\": [[0.0, \"#0d0887\"], [0.1111111111111111, \"#46039f\"], [0.2222222222222222, \"#7201a8\"], [0.3333333333333333, \"#9c179e\"], [0.4444444444444444, \"#bd3786\"], [0.5555555555555556, \"#d8576b\"], [0.6666666666666666, \"#ed7953\"], [0.7777777777777778, \"#fb9f3a\"], [0.8888888888888888, \"#fdca26\"], [1.0, \"#f0f921\"]], \"type\": \"histogram2dcontour\"}], \"mesh3d\": [{\"colorbar\": {\"outlinewidth\": 0, \"ticks\": \"\"}, \"type\": \"mesh3d\"}], \"parcoords\": [{\"line\": {\"colorbar\": {\"outlinewidth\": 0, \"ticks\": \"\"}}, \"type\": \"parcoords\"}], \"pie\": [{\"automargin\": true, \"type\": \"pie\"}], \"scatter\": [{\"marker\": {\"colorbar\": {\"outlinewidth\": 0, \"ticks\": \"\"}}, \"type\": \"scatter\"}], \"scatter3d\": [{\"line\": {\"colorbar\": {\"outlinewidth\": 0, \"ticks\": \"\"}}, \"marker\": {\"colorbar\": {\"outlinewidth\": 0, \"ticks\": \"\"}}, \"type\": \"scatter3d\"}], \"scattercarpet\": [{\"marker\": {\"colorbar\": {\"outlinewidth\": 0, \"ticks\": \"\"}}, \"type\": \"scattercarpet\"}], \"scattergeo\": [{\"marker\": {\"colorbar\": {\"outlinewidth\": 0, \"ticks\": \"\"}}, \"type\": \"scattergeo\"}], \"scattergl\": [{\"marker\": {\"colorbar\": {\"outlinewidth\": 0, \"ticks\": \"\"}}, \"type\": \"scattergl\"}], \"scattermapbox\": [{\"marker\": {\"colorbar\": {\"outlinewidth\": 0, \"ticks\": \"\"}}, \"type\": \"scattermapbox\"}], \"scatterpolar\": [{\"marker\": {\"colorbar\": {\"outlinewidth\": 0, \"ticks\": \"\"}}, \"type\": \"scatterpolar\"}], \"scatterpolargl\": [{\"marker\": {\"colorbar\": {\"outlinewidth\": 0, \"ticks\": \"\"}}, \"type\": \"scatterpolargl\"}], \"scatterternary\": [{\"marker\": {\"colorbar\": {\"outlinewidth\": 0, \"ticks\": \"\"}}, \"type\": \"scatterternary\"}], \"surface\": [{\"colorbar\": {\"outlinewidth\": 0, \"ticks\": \"\"}, \"colorscale\": [[0.0, \"#0d0887\"], [0.1111111111111111, \"#46039f\"], [0.2222222222222222, \"#7201a8\"], [0.3333333333333333, \"#9c179e\"], [0.4444444444444444, \"#bd3786\"], [0.5555555555555556, \"#d8576b\"], [0.6666666666666666, \"#ed7953\"], [0.7777777777777778, \"#fb9f3a\"], [0.8888888888888888, \"#fdca26\"], [1.0, \"#f0f921\"]], \"type\": \"surface\"}], \"table\": [{\"cells\": {\"fill\": {\"color\": \"#EBF0F8\"}, \"line\": {\"color\": \"white\"}}, \"header\": {\"fill\": {\"color\": \"#C8D4E3\"}, \"line\": {\"color\": \"white\"}}, \"type\": \"table\"}]}, \"layout\": {\"annotationdefaults\": {\"arrowcolor\": \"#2a3f5f\", \"arrowhead\": 0, \"arrowwidth\": 1}, \"coloraxis\": {\"colorbar\": {\"outlinewidth\": 0, \"ticks\": \"\"}}, \"colorscale\": {\"diverging\": [[0, \"#8e0152\"], [0.1, \"#c51b7d\"], [0.2, \"#de77ae\"], [0.3, \"#f1b6da\"], [0.4, \"#fde0ef\"], [0.5, \"#f7f7f7\"], [0.6, \"#e6f5d0\"], [0.7, \"#b8e186\"], [0.8, \"#7fbc41\"], [0.9, \"#4d9221\"], [1, \"#276419\"]], \"sequential\": [[0.0, \"#0d0887\"], [0.1111111111111111, \"#46039f\"], [0.2222222222222222, \"#7201a8\"], [0.3333333333333333, \"#9c179e\"], [0.4444444444444444, \"#bd3786\"], [0.5555555555555556, \"#d8576b\"], [0.6666666666666666, \"#ed7953\"], [0.7777777777777778, \"#fb9f3a\"], [0.8888888888888888, \"#fdca26\"], [1.0, \"#f0f921\"]], \"sequentialminus\": [[0.0, \"#0d0887\"], [0.1111111111111111, \"#46039f\"], [0.2222222222222222, \"#7201a8\"], [0.3333333333333333, \"#9c179e\"], [0.4444444444444444, \"#bd3786\"], [0.5555555555555556, \"#d8576b\"], [0.6666666666666666, \"#ed7953\"], [0.7777777777777778, \"#fb9f3a\"], [0.8888888888888888, \"#fdca26\"], [1.0, \"#f0f921\"]]}, \"colorway\": [\"#636efa\", \"#EF553B\", \"#00cc96\", \"#ab63fa\", \"#FFA15A\", \"#19d3f3\", \"#FF6692\", \"#B6E880\", \"#FF97FF\", \"#FECB52\"], \"font\": {\"color\": \"#2a3f5f\"}, \"geo\": {\"bgcolor\": \"white\", \"lakecolor\": \"white\", \"landcolor\": \"#E5ECF6\", \"showlakes\": true, \"showland\": true, \"subunitcolor\": \"white\"}, \"hoverlabel\": {\"align\": \"left\"}, \"hovermode\": \"closest\", \"mapbox\": {\"style\": \"light\"}, \"paper_bgcolor\": \"white\", \"plot_bgcolor\": \"#E5ECF6\", \"polar\": {\"angularaxis\": {\"gridcolor\": \"white\", \"linecolor\": \"white\", \"ticks\": \"\"}, \"bgcolor\": \"#E5ECF6\", \"radialaxis\": {\"gridcolor\": \"white\", \"linecolor\": \"white\", \"ticks\": \"\"}}, \"scene\": {\"xaxis\": {\"backgroundcolor\": \"#E5ECF6\", \"gridcolor\": \"white\", \"gridwidth\": 2, \"linecolor\": \"white\", \"showbackground\": true, \"ticks\": \"\", \"zerolinecolor\": \"white\"}, \"yaxis\": {\"backgroundcolor\": \"#E5ECF6\", \"gridcolor\": \"white\", \"gridwidth\": 2, \"linecolor\": \"white\", \"showbackground\": true, \"ticks\": \"\", \"zerolinecolor\": \"white\"}, \"zaxis\": {\"backgroundcolor\": \"#E5ECF6\", \"gridcolor\": \"white\", \"gridwidth\": 2, \"linecolor\": \"white\", \"showbackground\": true, \"ticks\": \"\", \"zerolinecolor\": \"white\"}}, \"shapedefaults\": {\"line\": {\"color\": \"#2a3f5f\"}}, \"ternary\": {\"aaxis\": {\"gridcolor\": \"white\", \"linecolor\": \"white\", \"ticks\": \"\"}, \"baxis\": {\"gridcolor\": \"white\", \"linecolor\": \"white\", \"ticks\": \"\"}, \"bgcolor\": \"#E5ECF6\", \"caxis\": {\"gridcolor\": \"white\", \"linecolor\": \"white\", \"ticks\": \"\"}}, \"title\": {\"x\": 0.05}, \"xaxis\": {\"automargin\": true, \"gridcolor\": \"white\", \"linecolor\": \"white\", \"ticks\": \"\", \"title\": {\"standoff\": 15}, \"zerolinecolor\": \"white\", \"zerolinewidth\": 2}, \"yaxis\": {\"automargin\": true, \"gridcolor\": \"white\", \"linecolor\": \"white\", \"ticks\": \"\", \"title\": {\"standoff\": 15}, \"zerolinecolor\": \"white\", \"zerolinewidth\": 2}}}, \"title\": {\"text\": \"Distribui\\u00e7\\u00e3o de novas mortes em CE\"}, \"xaxis\": {\"domain\": [0, 0.7]}, \"xaxis2\": {\"domain\": [0.8, 1], \"showticklabels\": true}, \"yaxis\": {\"tickmode\": \"linear\"}, \"yaxis2\": {\"anchor\": \"x2\", \"tickmode\": \"linear\"}},\n",
       "                        {\"responsive\": true}\n",
       "                    ).then(function(){\n",
       "                            \n",
       "var gd = document.getElementById('d059b2c4-41d0-43d8-bda7-89b360e02aac');\n",
       "var x = new MutationObserver(function (mutations, observer) {{\n",
       "        var display = window.getComputedStyle(gd).display;\n",
       "        if (!display || display === 'none') {{\n",
       "            console.log([gd, 'removed!']);\n",
       "            Plotly.purge(gd);\n",
       "            observer.disconnect();\n",
       "        }}\n",
       "}});\n",
       "\n",
       "// Listen for the removal of the full notebook cells\n",
       "var notebookContainer = gd.closest('#notebook-container');\n",
       "if (notebookContainer) {{\n",
       "    x.observe(notebookContainer, {childList: true});\n",
       "}}\n",
       "\n",
       "// Listen for the clearing of the current output cell\n",
       "var outputEl = gd.closest('.output');\n",
       "if (outputEl) {{\n",
       "    x.observe(outputEl, {childList: true});\n",
       "}}\n",
       "\n",
       "                        })\n",
       "                };\n",
       "                });\n",
       "            </script>\n",
       "        </div>"
      ]
     },
     "metadata": {},
     "output_type": "display_data"
    }
   ],
   "source": [
    "UF='CE'\n",
    "plot_cities_deaths_heatmap(df_cities_deaths,\n",
    "                           state=UF,\n",
    "                           place_type='city_name',\n",
    "                           min_deaths=10,\n",
    "                           title='Distribuição de novas mortes em {}'.format(UF),\n",
    "                           colors='temps',\n",
    "                           save_img=True)\n"
   ]
  },
  {
   "cell_type": "code",
   "execution_count": 41,
   "metadata": {},
   "outputs": [],
   "source": [
    "import geopandas as gpd"
   ]
  },
  {
   "cell_type": "code",
   "execution_count": 42,
   "metadata": {},
   "outputs": [
    {
     "data": {
      "application/vnd.plotly.v1+json": {
       "config": {
        "plotlyServerURL": "https://plot.ly"
       },
       "data": [
        {
         "colorscale": [
          [
           0,
           "#636efa"
          ],
          [
           1,
           "#636efa"
          ]
         ],
         "geo": "geo",
         "hoverlabel": {
          "namelength": 0
         },
         "hovertemplate": "locations=%{location}",
         "locationmode": "country names",
         "locations": [
          "Brazil"
         ],
         "name": "",
         "showlegend": true,
         "showscale": false,
         "type": "choropleth",
         "z": [
          1
         ]
        }
       ],
       "layout": {
        "geo": {
         "center": {},
         "domain": {
          "x": [
           0,
           1
          ],
          "y": [
           0,
           1
          ]
         }
        },
        "legend": {
         "tracegroupgap": 0
        },
        "margin": {
         "t": 60
        },
        "template": {
         "data": {
          "bar": [
           {
            "error_x": {
             "color": "#2a3f5f"
            },
            "error_y": {
             "color": "#2a3f5f"
            },
            "marker": {
             "line": {
              "color": "#E5ECF6",
              "width": 0.5
             }
            },
            "type": "bar"
           }
          ],
          "barpolar": [
           {
            "marker": {
             "line": {
              "color": "#E5ECF6",
              "width": 0.5
             }
            },
            "type": "barpolar"
           }
          ],
          "carpet": [
           {
            "aaxis": {
             "endlinecolor": "#2a3f5f",
             "gridcolor": "white",
             "linecolor": "white",
             "minorgridcolor": "white",
             "startlinecolor": "#2a3f5f"
            },
            "baxis": {
             "endlinecolor": "#2a3f5f",
             "gridcolor": "white",
             "linecolor": "white",
             "minorgridcolor": "white",
             "startlinecolor": "#2a3f5f"
            },
            "type": "carpet"
           }
          ],
          "choropleth": [
           {
            "colorbar": {
             "outlinewidth": 0,
             "ticks": ""
            },
            "type": "choropleth"
           }
          ],
          "contour": [
           {
            "colorbar": {
             "outlinewidth": 0,
             "ticks": ""
            },
            "colorscale": [
             [
              0,
              "#0d0887"
             ],
             [
              0.1111111111111111,
              "#46039f"
             ],
             [
              0.2222222222222222,
              "#7201a8"
             ],
             [
              0.3333333333333333,
              "#9c179e"
             ],
             [
              0.4444444444444444,
              "#bd3786"
             ],
             [
              0.5555555555555556,
              "#d8576b"
             ],
             [
              0.6666666666666666,
              "#ed7953"
             ],
             [
              0.7777777777777778,
              "#fb9f3a"
             ],
             [
              0.8888888888888888,
              "#fdca26"
             ],
             [
              1,
              "#f0f921"
             ]
            ],
            "type": "contour"
           }
          ],
          "contourcarpet": [
           {
            "colorbar": {
             "outlinewidth": 0,
             "ticks": ""
            },
            "type": "contourcarpet"
           }
          ],
          "heatmap": [
           {
            "colorbar": {
             "outlinewidth": 0,
             "ticks": ""
            },
            "colorscale": [
             [
              0,
              "#0d0887"
             ],
             [
              0.1111111111111111,
              "#46039f"
             ],
             [
              0.2222222222222222,
              "#7201a8"
             ],
             [
              0.3333333333333333,
              "#9c179e"
             ],
             [
              0.4444444444444444,
              "#bd3786"
             ],
             [
              0.5555555555555556,
              "#d8576b"
             ],
             [
              0.6666666666666666,
              "#ed7953"
             ],
             [
              0.7777777777777778,
              "#fb9f3a"
             ],
             [
              0.8888888888888888,
              "#fdca26"
             ],
             [
              1,
              "#f0f921"
             ]
            ],
            "type": "heatmap"
           }
          ],
          "heatmapgl": [
           {
            "colorbar": {
             "outlinewidth": 0,
             "ticks": ""
            },
            "colorscale": [
             [
              0,
              "#0d0887"
             ],
             [
              0.1111111111111111,
              "#46039f"
             ],
             [
              0.2222222222222222,
              "#7201a8"
             ],
             [
              0.3333333333333333,
              "#9c179e"
             ],
             [
              0.4444444444444444,
              "#bd3786"
             ],
             [
              0.5555555555555556,
              "#d8576b"
             ],
             [
              0.6666666666666666,
              "#ed7953"
             ],
             [
              0.7777777777777778,
              "#fb9f3a"
             ],
             [
              0.8888888888888888,
              "#fdca26"
             ],
             [
              1,
              "#f0f921"
             ]
            ],
            "type": "heatmapgl"
           }
          ],
          "histogram": [
           {
            "marker": {
             "colorbar": {
              "outlinewidth": 0,
              "ticks": ""
             }
            },
            "type": "histogram"
           }
          ],
          "histogram2d": [
           {
            "colorbar": {
             "outlinewidth": 0,
             "ticks": ""
            },
            "colorscale": [
             [
              0,
              "#0d0887"
             ],
             [
              0.1111111111111111,
              "#46039f"
             ],
             [
              0.2222222222222222,
              "#7201a8"
             ],
             [
              0.3333333333333333,
              "#9c179e"
             ],
             [
              0.4444444444444444,
              "#bd3786"
             ],
             [
              0.5555555555555556,
              "#d8576b"
             ],
             [
              0.6666666666666666,
              "#ed7953"
             ],
             [
              0.7777777777777778,
              "#fb9f3a"
             ],
             [
              0.8888888888888888,
              "#fdca26"
             ],
             [
              1,
              "#f0f921"
             ]
            ],
            "type": "histogram2d"
           }
          ],
          "histogram2dcontour": [
           {
            "colorbar": {
             "outlinewidth": 0,
             "ticks": ""
            },
            "colorscale": [
             [
              0,
              "#0d0887"
             ],
             [
              0.1111111111111111,
              "#46039f"
             ],
             [
              0.2222222222222222,
              "#7201a8"
             ],
             [
              0.3333333333333333,
              "#9c179e"
             ],
             [
              0.4444444444444444,
              "#bd3786"
             ],
             [
              0.5555555555555556,
              "#d8576b"
             ],
             [
              0.6666666666666666,
              "#ed7953"
             ],
             [
              0.7777777777777778,
              "#fb9f3a"
             ],
             [
              0.8888888888888888,
              "#fdca26"
             ],
             [
              1,
              "#f0f921"
             ]
            ],
            "type": "histogram2dcontour"
           }
          ],
          "mesh3d": [
           {
            "colorbar": {
             "outlinewidth": 0,
             "ticks": ""
            },
            "type": "mesh3d"
           }
          ],
          "parcoords": [
           {
            "line": {
             "colorbar": {
              "outlinewidth": 0,
              "ticks": ""
             }
            },
            "type": "parcoords"
           }
          ],
          "pie": [
           {
            "automargin": true,
            "type": "pie"
           }
          ],
          "scatter": [
           {
            "marker": {
             "colorbar": {
              "outlinewidth": 0,
              "ticks": ""
             }
            },
            "type": "scatter"
           }
          ],
          "scatter3d": [
           {
            "line": {
             "colorbar": {
              "outlinewidth": 0,
              "ticks": ""
             }
            },
            "marker": {
             "colorbar": {
              "outlinewidth": 0,
              "ticks": ""
             }
            },
            "type": "scatter3d"
           }
          ],
          "scattercarpet": [
           {
            "marker": {
             "colorbar": {
              "outlinewidth": 0,
              "ticks": ""
             }
            },
            "type": "scattercarpet"
           }
          ],
          "scattergeo": [
           {
            "marker": {
             "colorbar": {
              "outlinewidth": 0,
              "ticks": ""
             }
            },
            "type": "scattergeo"
           }
          ],
          "scattergl": [
           {
            "marker": {
             "colorbar": {
              "outlinewidth": 0,
              "ticks": ""
             }
            },
            "type": "scattergl"
           }
          ],
          "scattermapbox": [
           {
            "marker": {
             "colorbar": {
              "outlinewidth": 0,
              "ticks": ""
             }
            },
            "type": "scattermapbox"
           }
          ],
          "scatterpolar": [
           {
            "marker": {
             "colorbar": {
              "outlinewidth": 0,
              "ticks": ""
             }
            },
            "type": "scatterpolar"
           }
          ],
          "scatterpolargl": [
           {
            "marker": {
             "colorbar": {
              "outlinewidth": 0,
              "ticks": ""
             }
            },
            "type": "scatterpolargl"
           }
          ],
          "scatterternary": [
           {
            "marker": {
             "colorbar": {
              "outlinewidth": 0,
              "ticks": ""
             }
            },
            "type": "scatterternary"
           }
          ],
          "surface": [
           {
            "colorbar": {
             "outlinewidth": 0,
             "ticks": ""
            },
            "colorscale": [
             [
              0,
              "#0d0887"
             ],
             [
              0.1111111111111111,
              "#46039f"
             ],
             [
              0.2222222222222222,
              "#7201a8"
             ],
             [
              0.3333333333333333,
              "#9c179e"
             ],
             [
              0.4444444444444444,
              "#bd3786"
             ],
             [
              0.5555555555555556,
              "#d8576b"
             ],
             [
              0.6666666666666666,
              "#ed7953"
             ],
             [
              0.7777777777777778,
              "#fb9f3a"
             ],
             [
              0.8888888888888888,
              "#fdca26"
             ],
             [
              1,
              "#f0f921"
             ]
            ],
            "type": "surface"
           }
          ],
          "table": [
           {
            "cells": {
             "fill": {
              "color": "#EBF0F8"
             },
             "line": {
              "color": "white"
             }
            },
            "header": {
             "fill": {
              "color": "#C8D4E3"
             },
             "line": {
              "color": "white"
             }
            },
            "type": "table"
           }
          ]
         },
         "layout": {
          "annotationdefaults": {
           "arrowcolor": "#2a3f5f",
           "arrowhead": 0,
           "arrowwidth": 1
          },
          "coloraxis": {
           "colorbar": {
            "outlinewidth": 0,
            "ticks": ""
           }
          },
          "colorscale": {
           "diverging": [
            [
             0,
             "#8e0152"
            ],
            [
             0.1,
             "#c51b7d"
            ],
            [
             0.2,
             "#de77ae"
            ],
            [
             0.3,
             "#f1b6da"
            ],
            [
             0.4,
             "#fde0ef"
            ],
            [
             0.5,
             "#f7f7f7"
            ],
            [
             0.6,
             "#e6f5d0"
            ],
            [
             0.7,
             "#b8e186"
            ],
            [
             0.8,
             "#7fbc41"
            ],
            [
             0.9,
             "#4d9221"
            ],
            [
             1,
             "#276419"
            ]
           ],
           "sequential": [
            [
             0,
             "#0d0887"
            ],
            [
             0.1111111111111111,
             "#46039f"
            ],
            [
             0.2222222222222222,
             "#7201a8"
            ],
            [
             0.3333333333333333,
             "#9c179e"
            ],
            [
             0.4444444444444444,
             "#bd3786"
            ],
            [
             0.5555555555555556,
             "#d8576b"
            ],
            [
             0.6666666666666666,
             "#ed7953"
            ],
            [
             0.7777777777777778,
             "#fb9f3a"
            ],
            [
             0.8888888888888888,
             "#fdca26"
            ],
            [
             1,
             "#f0f921"
            ]
           ],
           "sequentialminus": [
            [
             0,
             "#0d0887"
            ],
            [
             0.1111111111111111,
             "#46039f"
            ],
            [
             0.2222222222222222,
             "#7201a8"
            ],
            [
             0.3333333333333333,
             "#9c179e"
            ],
            [
             0.4444444444444444,
             "#bd3786"
            ],
            [
             0.5555555555555556,
             "#d8576b"
            ],
            [
             0.6666666666666666,
             "#ed7953"
            ],
            [
             0.7777777777777778,
             "#fb9f3a"
            ],
            [
             0.8888888888888888,
             "#fdca26"
            ],
            [
             1,
             "#f0f921"
            ]
           ]
          },
          "colorway": [
           "#636efa",
           "#EF553B",
           "#00cc96",
           "#ab63fa",
           "#FFA15A",
           "#19d3f3",
           "#FF6692",
           "#B6E880",
           "#FF97FF",
           "#FECB52"
          ],
          "font": {
           "color": "#2a3f5f"
          },
          "geo": {
           "bgcolor": "white",
           "lakecolor": "white",
           "landcolor": "#E5ECF6",
           "showlakes": true,
           "showland": true,
           "subunitcolor": "white"
          },
          "hoverlabel": {
           "align": "left"
          },
          "hovermode": "closest",
          "mapbox": {
           "style": "light"
          },
          "paper_bgcolor": "white",
          "plot_bgcolor": "#E5ECF6",
          "polar": {
           "angularaxis": {
            "gridcolor": "white",
            "linecolor": "white",
            "ticks": ""
           },
           "bgcolor": "#E5ECF6",
           "radialaxis": {
            "gridcolor": "white",
            "linecolor": "white",
            "ticks": ""
           }
          },
          "scene": {
           "xaxis": {
            "backgroundcolor": "#E5ECF6",
            "gridcolor": "white",
            "gridwidth": 2,
            "linecolor": "white",
            "showbackground": true,
            "ticks": "",
            "zerolinecolor": "white"
           },
           "yaxis": {
            "backgroundcolor": "#E5ECF6",
            "gridcolor": "white",
            "gridwidth": 2,
            "linecolor": "white",
            "showbackground": true,
            "ticks": "",
            "zerolinecolor": "white"
           },
           "zaxis": {
            "backgroundcolor": "#E5ECF6",
            "gridcolor": "white",
            "gridwidth": 2,
            "linecolor": "white",
            "showbackground": true,
            "ticks": "",
            "zerolinecolor": "white"
           }
          },
          "shapedefaults": {
           "line": {
            "color": "#2a3f5f"
           }
          },
          "ternary": {
           "aaxis": {
            "gridcolor": "white",
            "linecolor": "white",
            "ticks": ""
           },
           "baxis": {
            "gridcolor": "white",
            "linecolor": "white",
            "ticks": ""
           },
           "bgcolor": "#E5ECF6",
           "caxis": {
            "gridcolor": "white",
            "linecolor": "white",
            "ticks": ""
           }
          },
          "title": {
           "x": 0.05
          },
          "xaxis": {
           "automargin": true,
           "gridcolor": "white",
           "linecolor": "white",
           "ticks": "",
           "title": {
            "standoff": 15
           },
           "zerolinecolor": "white",
           "zerolinewidth": 2
          },
          "yaxis": {
           "automargin": true,
           "gridcolor": "white",
           "linecolor": "white",
           "ticks": "",
           "title": {
            "standoff": 15
           },
           "zerolinecolor": "white",
           "zerolinewidth": 2
          }
         }
        }
       }
      },
      "text/html": [
       "<div>\n",
       "        \n",
       "        \n",
       "            <div id=\"9749d107-ec74-4432-bfdd-f77b99e4553a\" class=\"plotly-graph-div\" style=\"height:525px; width:100%;\"></div>\n",
       "            <script type=\"text/javascript\">\n",
       "                require([\"plotly\"], function(Plotly) {\n",
       "                    window.PLOTLYENV=window.PLOTLYENV || {};\n",
       "                    \n",
       "                if (document.getElementById(\"9749d107-ec74-4432-bfdd-f77b99e4553a\")) {\n",
       "                    Plotly.newPlot(\n",
       "                        '9749d107-ec74-4432-bfdd-f77b99e4553a',\n",
       "                        [{\"colorscale\": [[0.0, \"#636efa\"], [1.0, \"#636efa\"]], \"geo\": \"geo\", \"hoverlabel\": {\"namelength\": 0}, \"hovertemplate\": \"locations=%{location}\", \"locationmode\": \"country names\", \"locations\": [\"Brazil\"], \"name\": \"\", \"showlegend\": true, \"showscale\": false, \"type\": \"choropleth\", \"z\": [1]}],\n",
       "                        {\"geo\": {\"center\": {}, \"domain\": {\"x\": [0.0, 1.0], \"y\": [0.0, 1.0]}}, \"legend\": {\"tracegroupgap\": 0}, \"margin\": {\"t\": 60}, \"template\": {\"data\": {\"bar\": [{\"error_x\": {\"color\": \"#2a3f5f\"}, \"error_y\": {\"color\": \"#2a3f5f\"}, \"marker\": {\"line\": {\"color\": \"#E5ECF6\", \"width\": 0.5}}, \"type\": \"bar\"}], \"barpolar\": [{\"marker\": {\"line\": {\"color\": \"#E5ECF6\", \"width\": 0.5}}, \"type\": \"barpolar\"}], \"carpet\": [{\"aaxis\": {\"endlinecolor\": \"#2a3f5f\", \"gridcolor\": \"white\", \"linecolor\": \"white\", \"minorgridcolor\": \"white\", \"startlinecolor\": \"#2a3f5f\"}, \"baxis\": {\"endlinecolor\": \"#2a3f5f\", \"gridcolor\": \"white\", \"linecolor\": \"white\", \"minorgridcolor\": \"white\", \"startlinecolor\": \"#2a3f5f\"}, \"type\": \"carpet\"}], \"choropleth\": [{\"colorbar\": {\"outlinewidth\": 0, \"ticks\": \"\"}, \"type\": \"choropleth\"}], \"contour\": [{\"colorbar\": {\"outlinewidth\": 0, \"ticks\": \"\"}, \"colorscale\": [[0.0, \"#0d0887\"], [0.1111111111111111, \"#46039f\"], [0.2222222222222222, \"#7201a8\"], [0.3333333333333333, \"#9c179e\"], [0.4444444444444444, \"#bd3786\"], [0.5555555555555556, \"#d8576b\"], [0.6666666666666666, \"#ed7953\"], [0.7777777777777778, \"#fb9f3a\"], [0.8888888888888888, \"#fdca26\"], [1.0, \"#f0f921\"]], \"type\": \"contour\"}], \"contourcarpet\": [{\"colorbar\": {\"outlinewidth\": 0, \"ticks\": \"\"}, \"type\": \"contourcarpet\"}], \"heatmap\": [{\"colorbar\": {\"outlinewidth\": 0, \"ticks\": \"\"}, \"colorscale\": [[0.0, \"#0d0887\"], [0.1111111111111111, \"#46039f\"], [0.2222222222222222, \"#7201a8\"], [0.3333333333333333, \"#9c179e\"], [0.4444444444444444, \"#bd3786\"], [0.5555555555555556, \"#d8576b\"], [0.6666666666666666, \"#ed7953\"], [0.7777777777777778, \"#fb9f3a\"], [0.8888888888888888, \"#fdca26\"], [1.0, \"#f0f921\"]], \"type\": \"heatmap\"}], \"heatmapgl\": [{\"colorbar\": {\"outlinewidth\": 0, \"ticks\": \"\"}, \"colorscale\": [[0.0, \"#0d0887\"], [0.1111111111111111, \"#46039f\"], [0.2222222222222222, \"#7201a8\"], [0.3333333333333333, \"#9c179e\"], [0.4444444444444444, \"#bd3786\"], [0.5555555555555556, \"#d8576b\"], [0.6666666666666666, \"#ed7953\"], [0.7777777777777778, \"#fb9f3a\"], [0.8888888888888888, \"#fdca26\"], [1.0, \"#f0f921\"]], \"type\": \"heatmapgl\"}], \"histogram\": [{\"marker\": {\"colorbar\": {\"outlinewidth\": 0, \"ticks\": \"\"}}, \"type\": \"histogram\"}], \"histogram2d\": [{\"colorbar\": {\"outlinewidth\": 0, \"ticks\": \"\"}, \"colorscale\": [[0.0, \"#0d0887\"], [0.1111111111111111, \"#46039f\"], [0.2222222222222222, \"#7201a8\"], [0.3333333333333333, \"#9c179e\"], [0.4444444444444444, \"#bd3786\"], [0.5555555555555556, \"#d8576b\"], [0.6666666666666666, \"#ed7953\"], [0.7777777777777778, \"#fb9f3a\"], [0.8888888888888888, \"#fdca26\"], [1.0, \"#f0f921\"]], \"type\": \"histogram2d\"}], \"histogram2dcontour\": [{\"colorbar\": {\"outlinewidth\": 0, \"ticks\": \"\"}, \"colorscale\": [[0.0, \"#0d0887\"], [0.1111111111111111, \"#46039f\"], [0.2222222222222222, \"#7201a8\"], [0.3333333333333333, \"#9c179e\"], [0.4444444444444444, \"#bd3786\"], [0.5555555555555556, \"#d8576b\"], [0.6666666666666666, \"#ed7953\"], [0.7777777777777778, \"#fb9f3a\"], [0.8888888888888888, \"#fdca26\"], [1.0, \"#f0f921\"]], \"type\": \"histogram2dcontour\"}], \"mesh3d\": [{\"colorbar\": {\"outlinewidth\": 0, \"ticks\": \"\"}, \"type\": \"mesh3d\"}], \"parcoords\": [{\"line\": {\"colorbar\": {\"outlinewidth\": 0, \"ticks\": \"\"}}, \"type\": \"parcoords\"}], \"pie\": [{\"automargin\": true, \"type\": \"pie\"}], \"scatter\": [{\"marker\": {\"colorbar\": {\"outlinewidth\": 0, \"ticks\": \"\"}}, \"type\": \"scatter\"}], \"scatter3d\": [{\"line\": {\"colorbar\": {\"outlinewidth\": 0, \"ticks\": \"\"}}, \"marker\": {\"colorbar\": {\"outlinewidth\": 0, \"ticks\": \"\"}}, \"type\": \"scatter3d\"}], \"scattercarpet\": [{\"marker\": {\"colorbar\": {\"outlinewidth\": 0, \"ticks\": \"\"}}, \"type\": \"scattercarpet\"}], \"scattergeo\": [{\"marker\": {\"colorbar\": {\"outlinewidth\": 0, \"ticks\": \"\"}}, \"type\": \"scattergeo\"}], \"scattergl\": [{\"marker\": {\"colorbar\": {\"outlinewidth\": 0, \"ticks\": \"\"}}, \"type\": \"scattergl\"}], \"scattermapbox\": [{\"marker\": {\"colorbar\": {\"outlinewidth\": 0, \"ticks\": \"\"}}, \"type\": \"scattermapbox\"}], \"scatterpolar\": [{\"marker\": {\"colorbar\": {\"outlinewidth\": 0, \"ticks\": \"\"}}, \"type\": \"scatterpolar\"}], \"scatterpolargl\": [{\"marker\": {\"colorbar\": {\"outlinewidth\": 0, \"ticks\": \"\"}}, \"type\": \"scatterpolargl\"}], \"scatterternary\": [{\"marker\": {\"colorbar\": {\"outlinewidth\": 0, \"ticks\": \"\"}}, \"type\": \"scatterternary\"}], \"surface\": [{\"colorbar\": {\"outlinewidth\": 0, \"ticks\": \"\"}, \"colorscale\": [[0.0, \"#0d0887\"], [0.1111111111111111, \"#46039f\"], [0.2222222222222222, \"#7201a8\"], [0.3333333333333333, \"#9c179e\"], [0.4444444444444444, \"#bd3786\"], [0.5555555555555556, \"#d8576b\"], [0.6666666666666666, \"#ed7953\"], [0.7777777777777778, \"#fb9f3a\"], [0.8888888888888888, \"#fdca26\"], [1.0, \"#f0f921\"]], \"type\": \"surface\"}], \"table\": [{\"cells\": {\"fill\": {\"color\": \"#EBF0F8\"}, \"line\": {\"color\": \"white\"}}, \"header\": {\"fill\": {\"color\": \"#C8D4E3\"}, \"line\": {\"color\": \"white\"}}, \"type\": \"table\"}]}, \"layout\": {\"annotationdefaults\": {\"arrowcolor\": \"#2a3f5f\", \"arrowhead\": 0, \"arrowwidth\": 1}, \"coloraxis\": {\"colorbar\": {\"outlinewidth\": 0, \"ticks\": \"\"}}, \"colorscale\": {\"diverging\": [[0, \"#8e0152\"], [0.1, \"#c51b7d\"], [0.2, \"#de77ae\"], [0.3, \"#f1b6da\"], [0.4, \"#fde0ef\"], [0.5, \"#f7f7f7\"], [0.6, \"#e6f5d0\"], [0.7, \"#b8e186\"], [0.8, \"#7fbc41\"], [0.9, \"#4d9221\"], [1, \"#276419\"]], \"sequential\": [[0.0, \"#0d0887\"], [0.1111111111111111, \"#46039f\"], [0.2222222222222222, \"#7201a8\"], [0.3333333333333333, \"#9c179e\"], [0.4444444444444444, \"#bd3786\"], [0.5555555555555556, \"#d8576b\"], [0.6666666666666666, \"#ed7953\"], [0.7777777777777778, \"#fb9f3a\"], [0.8888888888888888, \"#fdca26\"], [1.0, \"#f0f921\"]], \"sequentialminus\": [[0.0, \"#0d0887\"], [0.1111111111111111, \"#46039f\"], [0.2222222222222222, \"#7201a8\"], [0.3333333333333333, \"#9c179e\"], [0.4444444444444444, \"#bd3786\"], [0.5555555555555556, \"#d8576b\"], [0.6666666666666666, \"#ed7953\"], [0.7777777777777778, \"#fb9f3a\"], [0.8888888888888888, \"#fdca26\"], [1.0, \"#f0f921\"]]}, \"colorway\": [\"#636efa\", \"#EF553B\", \"#00cc96\", \"#ab63fa\", \"#FFA15A\", \"#19d3f3\", \"#FF6692\", \"#B6E880\", \"#FF97FF\", \"#FECB52\"], \"font\": {\"color\": \"#2a3f5f\"}, \"geo\": {\"bgcolor\": \"white\", \"lakecolor\": \"white\", \"landcolor\": \"#E5ECF6\", \"showlakes\": true, \"showland\": true, \"subunitcolor\": \"white\"}, \"hoverlabel\": {\"align\": \"left\"}, \"hovermode\": \"closest\", \"mapbox\": {\"style\": \"light\"}, \"paper_bgcolor\": \"white\", \"plot_bgcolor\": \"#E5ECF6\", \"polar\": {\"angularaxis\": {\"gridcolor\": \"white\", \"linecolor\": \"white\", \"ticks\": \"\"}, \"bgcolor\": \"#E5ECF6\", \"radialaxis\": {\"gridcolor\": \"white\", \"linecolor\": \"white\", \"ticks\": \"\"}}, \"scene\": {\"xaxis\": {\"backgroundcolor\": \"#E5ECF6\", \"gridcolor\": \"white\", \"gridwidth\": 2, \"linecolor\": \"white\", \"showbackground\": true, \"ticks\": \"\", \"zerolinecolor\": \"white\"}, \"yaxis\": {\"backgroundcolor\": \"#E5ECF6\", \"gridcolor\": \"white\", \"gridwidth\": 2, \"linecolor\": \"white\", \"showbackground\": true, \"ticks\": \"\", \"zerolinecolor\": \"white\"}, \"zaxis\": {\"backgroundcolor\": \"#E5ECF6\", \"gridcolor\": \"white\", \"gridwidth\": 2, \"linecolor\": \"white\", \"showbackground\": true, \"ticks\": \"\", \"zerolinecolor\": \"white\"}}, \"shapedefaults\": {\"line\": {\"color\": \"#2a3f5f\"}}, \"ternary\": {\"aaxis\": {\"gridcolor\": \"white\", \"linecolor\": \"white\", \"ticks\": \"\"}, \"baxis\": {\"gridcolor\": \"white\", \"linecolor\": \"white\", \"ticks\": \"\"}, \"bgcolor\": \"#E5ECF6\", \"caxis\": {\"gridcolor\": \"white\", \"linecolor\": \"white\", \"ticks\": \"\"}}, \"title\": {\"x\": 0.05}, \"xaxis\": {\"automargin\": true, \"gridcolor\": \"white\", \"linecolor\": \"white\", \"ticks\": \"\", \"title\": {\"standoff\": 15}, \"zerolinecolor\": \"white\", \"zerolinewidth\": 2}, \"yaxis\": {\"automargin\": true, \"gridcolor\": \"white\", \"linecolor\": \"white\", \"ticks\": \"\", \"title\": {\"standoff\": 15}, \"zerolinecolor\": \"white\", \"zerolinewidth\": 2}}}},\n",
       "                        {\"responsive\": true}\n",
       "                    ).then(function(){\n",
       "                            \n",
       "var gd = document.getElementById('9749d107-ec74-4432-bfdd-f77b99e4553a');\n",
       "var x = new MutationObserver(function (mutations, observer) {{\n",
       "        var display = window.getComputedStyle(gd).display;\n",
       "        if (!display || display === 'none') {{\n",
       "            console.log([gd, 'removed!']);\n",
       "            Plotly.purge(gd);\n",
       "            observer.disconnect();\n",
       "        }}\n",
       "}});\n",
       "\n",
       "// Listen for the removal of the full notebook cells\n",
       "var notebookContainer = gd.closest('#notebook-container');\n",
       "if (notebookContainer) {{\n",
       "    x.observe(notebookContainer, {childList: true});\n",
       "}}\n",
       "\n",
       "// Listen for the clearing of the current output cell\n",
       "var outputEl = gd.closest('.output');\n",
       "if (outputEl) {{\n",
       "    x.observe(outputEl, {childList: true});\n",
       "}}\n",
       "\n",
       "                        })\n",
       "                };\n",
       "                });\n",
       "            </script>\n",
       "        </div>"
      ]
     },
     "metadata": {},
     "output_type": "display_data"
    }
   ],
   "source": [
    "import plotly.express as px\n",
    "\n",
    "fig = px.choropleth( locationmode=\"country names\",  locations = [\"Brazil\"])\n",
    "fig.show()"
   ]
  },
  {
   "cell_type": "code",
   "execution_count": null,
   "metadata": {},
   "outputs": [],
   "source": []
  }
 ],
 "metadata": {
  "kernelspec": {
   "display_name": "Python 3",
   "language": "python",
   "name": "python3"
  },
  "language_info": {
   "codemirror_mode": {
    "name": "ipython",
    "version": 3
   },
   "file_extension": ".py",
   "mimetype": "text/x-python",
   "name": "python",
   "nbconvert_exporter": "python",
   "pygments_lexer": "ipython3",
   "version": "3.7.4"
  },
  "toc": {
   "base_numbering": 1,
   "nav_menu": {},
   "number_sections": true,
   "sideBar": true,
   "skip_h1_title": true,
   "title_cell": "Table of Contents",
   "title_sidebar": "Contents",
   "toc_cell": true,
   "toc_position": {},
   "toc_section_display": true,
   "toc_window_display": false
  }
 },
 "nbformat": 4,
 "nbformat_minor": 4
}
