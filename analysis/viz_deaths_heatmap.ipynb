{
 "cells": [
  {
   "cell_type": "markdown",
   "metadata": {},
   "source": [
    "#  Deaths heatmap\n",
    "---\n",
    "\n",
    "Inspired by: https://twitter.com/VictimOfMaths/status/1258783876870176770?s=09"
   ]
  },
  {
   "cell_type": "markdown",
   "metadata": {
    "toc": true
   },
   "source": [
    "<h1>Table of Contents<span class=\"tocSkip\"></span></h1>\n",
    "<div class=\"toc\"><ul class=\"toc-item\"><li><span><a href=\"#Import-packages\" data-toc-modified-id=\"Import-packages-1\"><span class=\"toc-item-num\">1&nbsp;&nbsp;</span>Import packages</a></span></li><li><span><a href=\"#Import-data\" data-toc-modified-id=\"Import-data-2\"><span class=\"toc-item-num\">2&nbsp;&nbsp;</span>Import data</a></span></li><li><span><a href=\"#States-heatmap\" data-toc-modified-id=\"States-heatmap-3\"><span class=\"toc-item-num\">3&nbsp;&nbsp;</span>States heatmap</a></span></li><li><span><a href=\"#Cities-heatmap\" data-toc-modified-id=\"Cities-heatmap-4\"><span class=\"toc-item-num\">4&nbsp;&nbsp;</span>Cities heatmap</a></span></li></ul></div>"
   ]
  },
  {
   "cell_type": "markdown",
   "metadata": {},
   "source": [
    "## Import packages"
   ]
  },
  {
   "cell_type": "code",
   "execution_count": 3,
   "metadata": {},
   "outputs": [
    {
     "name": "stderr",
     "output_type": "stream",
     "text": [
      "/Users/fernandascovino/Projects/qualsetorreabrir/venvanalysis/lib/python3.7/site-packages/ipykernel_launcher.py:6: YAMLLoadWarning: calling yaml.load() without Loader=... is deprecated, as the default Loader is unsafe. Please read https://msg.pyyaml.org/load for full details.\n",
      "  \n"
     ]
    }
   ],
   "source": [
    "import sys\n",
    "sys.path.append(\"..\")\n",
    "sys.path.append(\"../src\")\n",
    "\n",
    "import yaml\n",
    "config = yaml.load(open('../src/configs/config.yaml', 'r'))"
   ]
  },
  {
   "cell_type": "code",
   "execution_count": 4,
   "metadata": {},
   "outputs": [
    {
     "data": {
      "text/html": [
       "        <script type=\"text/javascript\">\n",
       "        window.PlotlyConfig = {MathJaxConfig: 'local'};\n",
       "        if (window.MathJax) {MathJax.Hub.Config({SVG: {font: \"STIX-Web\"}});}\n",
       "        if (typeof require !== 'undefined') {\n",
       "        require.undef(\"plotly\");\n",
       "        requirejs.config({\n",
       "            paths: {\n",
       "                'plotly': ['https://cdn.plot.ly/plotly-latest.min']\n",
       "            }\n",
       "        });\n",
       "        require(['plotly'], function(Plotly) {\n",
       "            window._Plotly = Plotly;\n",
       "        });\n",
       "        }\n",
       "        </script>\n",
       "        "
      ]
     },
     "metadata": {},
     "output_type": "display_data"
    },
    {
     "data": {
      "text/html": [
       "        <script type=\"text/javascript\">\n",
       "        window.PlotlyConfig = {MathJaxConfig: 'local'};\n",
       "        if (window.MathJax) {MathJax.Hub.Config({SVG: {font: \"STIX-Web\"}});}\n",
       "        if (typeof require !== 'undefined') {\n",
       "        require.undef(\"plotly\");\n",
       "        requirejs.config({\n",
       "            paths: {\n",
       "                'plotly': ['https://cdn.plot.ly/plotly-latest.min']\n",
       "            }\n",
       "        });\n",
       "        require(['plotly'], function(Plotly) {\n",
       "            window._Plotly = Plotly;\n",
       "        });\n",
       "        }\n",
       "        </script>\n",
       "        "
      ]
     },
     "metadata": {},
     "output_type": "display_data"
    }
   ],
   "source": [
    "%reload_ext autoreload\n",
    "%autoreload 2\n",
    "\n",
    "from paths import RAW_PATH, TREAT_PATH, OUTPUT_PATH, FIGURES_PATH, THEMES_PATH\n",
    "\n",
    "from copy import deepcopy\n",
    "import numpy as np\n",
    "import pandas as pd\n",
    "pd.options.display.max_columns = 999\n",
    "\n",
    "import warnings\n",
    "\n",
    "warnings.filterwarnings('ignore')\n",
    "\n",
    "# Plotting\n",
    "import plotly\n",
    "import plotly.graph_objs as go\n",
    "import cufflinks as cf\n",
    "plotly.offline.init_notebook_mode(connected=True)\n",
    "\n",
    "# Setting cufflinks\n",
    "import textwrap\n",
    "import cufflinks as cf\n",
    "cf.go_offline()\n",
    "cf.set_config_file(offline=False, world_readable=True)\n",
    "\n",
    "# Centering and fixing title\n",
    "def iplottitle(title, width=40):\n",
    "    return '<br>'.join(textwrap.wrap(title, width))\n",
    "\n",
    "# Adding custom colorscales (to add one: themes/custom_colorscales.yaml)\n",
    "import yaml\n",
    "custom_colorscales = yaml.load(open(THEMES_PATH / 'custom_colorscales.yaml', 'r'))\n",
    "cf.colors._custom_scales['qual'].update(custom_colorscales)\n",
    "cf.colors.reset_scales()\n",
    "\n",
    "# Setting cuffilinks template (use it with .iplot(theme='custom')\n",
    "cf.themes.THEMES['custom'] = yaml.load(open(THEMES_PATH / 'cufflinks_template.yaml', 'r'))"
   ]
  },
  {
   "cell_type": "markdown",
   "metadata": {},
   "source": [
    "## Import data"
   ]
  },
  {
   "cell_type": "code",
   "execution_count": 7,
   "metadata": {},
   "outputs": [
    {
     "data": {
      "text/html": [
       "<div>\n",
       "<style scoped>\n",
       "    .dataframe tbody tr th:only-of-type {\n",
       "        vertical-align: middle;\n",
       "    }\n",
       "\n",
       "    .dataframe tbody tr th {\n",
       "        vertical-align: top;\n",
       "    }\n",
       "\n",
       "    .dataframe thead th {\n",
       "        text-align: right;\n",
       "    }\n",
       "</style>\n",
       "<table border=\"1\" class=\"dataframe\">\n",
       "  <thead>\n",
       "    <tr style=\"text-align: right;\">\n",
       "      <th></th>\n",
       "      <th>city</th>\n",
       "      <th>city_id</th>\n",
       "      <th>last_updated</th>\n",
       "      <th>epidemiological_week</th>\n",
       "      <th>estimated_population_2019</th>\n",
       "      <th>is_last</th>\n",
       "      <th>is_repeated</th>\n",
       "      <th>confirmed_cases</th>\n",
       "      <th>last_available_confirmed_per_100k_inhabitants</th>\n",
       "      <th>last_available_date</th>\n",
       "      <th>last_available_death_rate</th>\n",
       "      <th>deaths</th>\n",
       "      <th>order_for_place</th>\n",
       "      <th>place_type</th>\n",
       "      <th>state</th>\n",
       "      <th>daily_cases</th>\n",
       "      <th>new_deaths</th>\n",
       "      <th>infectious_period_cases</th>\n",
       "      <th>state_notification_rate</th>\n",
       "      <th>notification_rate</th>\n",
       "      <th>active_cases</th>\n",
       "    </tr>\n",
       "  </thead>\n",
       "  <tbody>\n",
       "    <tr>\n",
       "      <th>0</th>\n",
       "      <td>São Paulo</td>\n",
       "      <td>3550308</td>\n",
       "      <td>2020-02-25</td>\n",
       "      <td>9</td>\n",
       "      <td>12252023.0</td>\n",
       "      <td>False</td>\n",
       "      <td>False</td>\n",
       "      <td>1</td>\n",
       "      <td>0.00816</td>\n",
       "      <td>2020-02-25</td>\n",
       "      <td>0.0000</td>\n",
       "      <td>0</td>\n",
       "      <td>1</td>\n",
       "      <td>city</td>\n",
       "      <td>SP</td>\n",
       "      <td>1</td>\n",
       "      <td>0</td>\n",
       "      <td>1.0</td>\n",
       "      <td>NaN</td>\n",
       "      <td>NaN</td>\n",
       "      <td>NaN</td>\n",
       "    </tr>\n",
       "    <tr>\n",
       "      <th>1</th>\n",
       "      <td>São Paulo</td>\n",
       "      <td>3550308</td>\n",
       "      <td>2020-02-26</td>\n",
       "      <td>9</td>\n",
       "      <td>12252023.0</td>\n",
       "      <td>False</td>\n",
       "      <td>False</td>\n",
       "      <td>1</td>\n",
       "      <td>0.00816</td>\n",
       "      <td>2020-02-26</td>\n",
       "      <td>0.0000</td>\n",
       "      <td>0</td>\n",
       "      <td>2</td>\n",
       "      <td>city</td>\n",
       "      <td>SP</td>\n",
       "      <td>0</td>\n",
       "      <td>0</td>\n",
       "      <td>1.0</td>\n",
       "      <td>NaN</td>\n",
       "      <td>NaN</td>\n",
       "      <td>NaN</td>\n",
       "    </tr>\n",
       "    <tr>\n",
       "      <th>2</th>\n",
       "      <td>São Paulo</td>\n",
       "      <td>3550308</td>\n",
       "      <td>2020-02-27</td>\n",
       "      <td>9</td>\n",
       "      <td>12252023.0</td>\n",
       "      <td>False</td>\n",
       "      <td>False</td>\n",
       "      <td>1</td>\n",
       "      <td>0.00816</td>\n",
       "      <td>2020-02-27</td>\n",
       "      <td>0.0000</td>\n",
       "      <td>0</td>\n",
       "      <td>3</td>\n",
       "      <td>city</td>\n",
       "      <td>SP</td>\n",
       "      <td>0</td>\n",
       "      <td>0</td>\n",
       "      <td>1.0</td>\n",
       "      <td>NaN</td>\n",
       "      <td>NaN</td>\n",
       "      <td>NaN</td>\n",
       "    </tr>\n",
       "    <tr>\n",
       "      <th>3</th>\n",
       "      <td>São Paulo</td>\n",
       "      <td>3550308</td>\n",
       "      <td>2020-02-28</td>\n",
       "      <td>9</td>\n",
       "      <td>12252023.0</td>\n",
       "      <td>False</td>\n",
       "      <td>False</td>\n",
       "      <td>2</td>\n",
       "      <td>0.01632</td>\n",
       "      <td>2020-02-28</td>\n",
       "      <td>0.0000</td>\n",
       "      <td>0</td>\n",
       "      <td>4</td>\n",
       "      <td>city</td>\n",
       "      <td>SP</td>\n",
       "      <td>1</td>\n",
       "      <td>0</td>\n",
       "      <td>2.0</td>\n",
       "      <td>NaN</td>\n",
       "      <td>NaN</td>\n",
       "      <td>NaN</td>\n",
       "    </tr>\n",
       "    <tr>\n",
       "      <th>4</th>\n",
       "      <td>São Paulo</td>\n",
       "      <td>3550308</td>\n",
       "      <td>2020-02-29</td>\n",
       "      <td>9</td>\n",
       "      <td>12252023.0</td>\n",
       "      <td>False</td>\n",
       "      <td>False</td>\n",
       "      <td>2</td>\n",
       "      <td>0.01632</td>\n",
       "      <td>2020-02-29</td>\n",
       "      <td>0.0000</td>\n",
       "      <td>0</td>\n",
       "      <td>5</td>\n",
       "      <td>city</td>\n",
       "      <td>SP</td>\n",
       "      <td>0</td>\n",
       "      <td>0</td>\n",
       "      <td>2.0</td>\n",
       "      <td>NaN</td>\n",
       "      <td>NaN</td>\n",
       "      <td>NaN</td>\n",
       "    </tr>\n",
       "    <tr>\n",
       "      <th>...</th>\n",
       "      <td>...</td>\n",
       "      <td>...</td>\n",
       "      <td>...</td>\n",
       "      <td>...</td>\n",
       "      <td>...</td>\n",
       "      <td>...</td>\n",
       "      <td>...</td>\n",
       "      <td>...</td>\n",
       "      <td>...</td>\n",
       "      <td>...</td>\n",
       "      <td>...</td>\n",
       "      <td>...</td>\n",
       "      <td>...</td>\n",
       "      <td>...</td>\n",
       "      <td>...</td>\n",
       "      <td>...</td>\n",
       "      <td>...</td>\n",
       "      <td>...</td>\n",
       "      <td>...</td>\n",
       "      <td>...</td>\n",
       "      <td>...</td>\n",
       "    </tr>\n",
       "    <tr>\n",
       "      <th>47708</th>\n",
       "      <td>Uruaçu</td>\n",
       "      <td>5221601</td>\n",
       "      <td>2020-05-04</td>\n",
       "      <td>19</td>\n",
       "      <td>40532.0</td>\n",
       "      <td>False</td>\n",
       "      <td>True</td>\n",
       "      <td>2</td>\n",
       "      <td>4.93437</td>\n",
       "      <td>2020-05-03</td>\n",
       "      <td>0.0000</td>\n",
       "      <td>0</td>\n",
       "      <td>23</td>\n",
       "      <td>city</td>\n",
       "      <td>GO</td>\n",
       "      <td>0</td>\n",
       "      <td>0</td>\n",
       "      <td>2.0</td>\n",
       "      <td>0.551335</td>\n",
       "      <td>0.551335</td>\n",
       "      <td>4.0</td>\n",
       "    </tr>\n",
       "    <tr>\n",
       "      <th>47709</th>\n",
       "      <td>Urutaí</td>\n",
       "      <td>5221809</td>\n",
       "      <td>2020-05-04</td>\n",
       "      <td>19</td>\n",
       "      <td>3072.0</td>\n",
       "      <td>False</td>\n",
       "      <td>True</td>\n",
       "      <td>0</td>\n",
       "      <td>0.00000</td>\n",
       "      <td>2020-05-03</td>\n",
       "      <td>0.0000</td>\n",
       "      <td>0</td>\n",
       "      <td>8</td>\n",
       "      <td>city</td>\n",
       "      <td>GO</td>\n",
       "      <td>0</td>\n",
       "      <td>0</td>\n",
       "      <td>0.0</td>\n",
       "      <td>0.551335</td>\n",
       "      <td>0.551335</td>\n",
       "      <td>0.0</td>\n",
       "    </tr>\n",
       "    <tr>\n",
       "      <th>47710</th>\n",
       "      <td>Valparaíso de Goiás</td>\n",
       "      <td>5221858</td>\n",
       "      <td>2020-05-04</td>\n",
       "      <td>19</td>\n",
       "      <td>168468.0</td>\n",
       "      <td>False</td>\n",
       "      <td>True</td>\n",
       "      <td>17</td>\n",
       "      <td>10.09094</td>\n",
       "      <td>2020-05-03</td>\n",
       "      <td>0.0588</td>\n",
       "      <td>1</td>\n",
       "      <td>42</td>\n",
       "      <td>city</td>\n",
       "      <td>GO</td>\n",
       "      <td>0</td>\n",
       "      <td>0</td>\n",
       "      <td>10.0</td>\n",
       "      <td>0.551335</td>\n",
       "      <td>0.288571</td>\n",
       "      <td>35.0</td>\n",
       "    </tr>\n",
       "    <tr>\n",
       "      <th>47711</th>\n",
       "      <td>Vianópolis</td>\n",
       "      <td>5222005</td>\n",
       "      <td>2020-05-04</td>\n",
       "      <td>19</td>\n",
       "      <td>13863.0</td>\n",
       "      <td>False</td>\n",
       "      <td>True</td>\n",
       "      <td>1</td>\n",
       "      <td>7.21345</td>\n",
       "      <td>2020-05-03</td>\n",
       "      <td>0.0000</td>\n",
       "      <td>0</td>\n",
       "      <td>28</td>\n",
       "      <td>city</td>\n",
       "      <td>GO</td>\n",
       "      <td>0</td>\n",
       "      <td>0</td>\n",
       "      <td>0.0</td>\n",
       "      <td>0.551335</td>\n",
       "      <td>0.551335</td>\n",
       "      <td>0.0</td>\n",
       "    </tr>\n",
       "    <tr>\n",
       "      <th>47573</th>\n",
       "      <td>Brasília</td>\n",
       "      <td>5300108</td>\n",
       "      <td>2020-05-04</td>\n",
       "      <td>19</td>\n",
       "      <td>3015268.0</td>\n",
       "      <td>False</td>\n",
       "      <td>True</td>\n",
       "      <td>1616</td>\n",
       "      <td>53.59391</td>\n",
       "      <td>2020-05-03</td>\n",
       "      <td>0.0204</td>\n",
       "      <td>33</td>\n",
       "      <td>59</td>\n",
       "      <td>city</td>\n",
       "      <td>DF</td>\n",
       "      <td>0</td>\n",
       "      <td>0</td>\n",
       "      <td>799.0</td>\n",
       "      <td>0.922206</td>\n",
       "      <td>0.922206</td>\n",
       "      <td>866.0</td>\n",
       "    </tr>\n",
       "  </tbody>\n",
       "</table>\n",
       "<p>49480 rows × 21 columns</p>\n",
       "</div>"
      ],
      "text/plain": [
       "                      city  city_id last_updated  epidemiological_week  \\\n",
       "0                São Paulo  3550308   2020-02-25                     9   \n",
       "1                São Paulo  3550308   2020-02-26                     9   \n",
       "2                São Paulo  3550308   2020-02-27                     9   \n",
       "3                São Paulo  3550308   2020-02-28                     9   \n",
       "4                São Paulo  3550308   2020-02-29                     9   \n",
       "...                    ...      ...          ...                   ...   \n",
       "47708               Uruaçu  5221601   2020-05-04                    19   \n",
       "47709               Urutaí  5221809   2020-05-04                    19   \n",
       "47710  Valparaíso de Goiás  5221858   2020-05-04                    19   \n",
       "47711           Vianópolis  5222005   2020-05-04                    19   \n",
       "47573             Brasília  5300108   2020-05-04                    19   \n",
       "\n",
       "       estimated_population_2019  is_last  is_repeated  confirmed_cases  \\\n",
       "0                     12252023.0    False        False                1   \n",
       "1                     12252023.0    False        False                1   \n",
       "2                     12252023.0    False        False                1   \n",
       "3                     12252023.0    False        False                2   \n",
       "4                     12252023.0    False        False                2   \n",
       "...                          ...      ...          ...              ...   \n",
       "47708                    40532.0    False         True                2   \n",
       "47709                     3072.0    False         True                0   \n",
       "47710                   168468.0    False         True               17   \n",
       "47711                    13863.0    False         True                1   \n",
       "47573                  3015268.0    False         True             1616   \n",
       "\n",
       "       last_available_confirmed_per_100k_inhabitants last_available_date  \\\n",
       "0                                            0.00816          2020-02-25   \n",
       "1                                            0.00816          2020-02-26   \n",
       "2                                            0.00816          2020-02-27   \n",
       "3                                            0.01632          2020-02-28   \n",
       "4                                            0.01632          2020-02-29   \n",
       "...                                              ...                 ...   \n",
       "47708                                        4.93437          2020-05-03   \n",
       "47709                                        0.00000          2020-05-03   \n",
       "47710                                       10.09094          2020-05-03   \n",
       "47711                                        7.21345          2020-05-03   \n",
       "47573                                       53.59391          2020-05-03   \n",
       "\n",
       "       last_available_death_rate  deaths  order_for_place place_type state  \\\n",
       "0                         0.0000       0                1       city    SP   \n",
       "1                         0.0000       0                2       city    SP   \n",
       "2                         0.0000       0                3       city    SP   \n",
       "3                         0.0000       0                4       city    SP   \n",
       "4                         0.0000       0                5       city    SP   \n",
       "...                          ...     ...              ...        ...   ...   \n",
       "47708                     0.0000       0               23       city    GO   \n",
       "47709                     0.0000       0                8       city    GO   \n",
       "47710                     0.0588       1               42       city    GO   \n",
       "47711                     0.0000       0               28       city    GO   \n",
       "47573                     0.0204      33               59       city    DF   \n",
       "\n",
       "       daily_cases  new_deaths  infectious_period_cases  \\\n",
       "0                1           0                      1.0   \n",
       "1                0           0                      1.0   \n",
       "2                0           0                      1.0   \n",
       "3                1           0                      2.0   \n",
       "4                0           0                      2.0   \n",
       "...            ...         ...                      ...   \n",
       "47708            0           0                      2.0   \n",
       "47709            0           0                      0.0   \n",
       "47710            0           0                     10.0   \n",
       "47711            0           0                      0.0   \n",
       "47573            0           0                    799.0   \n",
       "\n",
       "       state_notification_rate  notification_rate  active_cases  \n",
       "0                          NaN                NaN           NaN  \n",
       "1                          NaN                NaN           NaN  \n",
       "2                          NaN                NaN           NaN  \n",
       "3                          NaN                NaN           NaN  \n",
       "4                          NaN                NaN           NaN  \n",
       "...                        ...                ...           ...  \n",
       "47708                 0.551335           0.551335           4.0  \n",
       "47709                 0.551335           0.551335           0.0  \n",
       "47710                 0.551335           0.288571          35.0  \n",
       "47711                 0.551335           0.551335           0.0  \n",
       "47573                 0.922206           0.922206         866.0  \n",
       "\n",
       "[49480 rows x 21 columns]"
      ]
     },
     "execution_count": 7,
     "metadata": {},
     "output_type": "execute_result"
    }
   ],
   "source": [
    "df = pd.read_csv('data/raw/br_cases_city_daily_notification_rate.csv', index_col=0)\n",
    "df"
   ]
  },
  {
   "cell_type": "markdown",
   "metadata": {},
   "source": [
    "## States heatmap"
   ]
  },
  {
   "cell_type": "code",
   "execution_count": 13,
   "metadata": {},
   "outputs": [],
   "source": [
    "def get_rolling_amount(grp):\n",
    "    return grp.rolling(5, min_periods=1, on='last_updated')['deaths'].mean()\n",
    "\n",
    "df_deaths = df[~df['deaths'].isnull()][['state', 'last_updated', 'deaths']]\\\n",
    "                                                .groupby(['state', 'last_updated'])['deaths']\\\n",
    "                                                .sum()\\\n",
    "                                                .reset_index()\n",
    "\n",
    "df_deaths['rolling_deaths_new'] = df_deaths.groupby('state', \n",
    "                                                    as_index=False, \n",
    "                                                    group_keys=False)\\\n",
    "                                           .apply(get_rolling_amount)"
   ]
  },
  {
   "cell_type": "code",
   "execution_count": 14,
   "metadata": {},
   "outputs": [
    {
     "data": {
      "text/html": [
       "<div>\n",
       "<style scoped>\n",
       "    .dataframe tbody tr th:only-of-type {\n",
       "        vertical-align: middle;\n",
       "    }\n",
       "\n",
       "    .dataframe tbody tr th {\n",
       "        vertical-align: top;\n",
       "    }\n",
       "\n",
       "    .dataframe thead th {\n",
       "        text-align: right;\n",
       "    }\n",
       "</style>\n",
       "<table border=\"1\" class=\"dataframe\">\n",
       "  <thead>\n",
       "    <tr style=\"text-align: right;\">\n",
       "      <th></th>\n",
       "      <th>state</th>\n",
       "      <th>last_updated</th>\n",
       "      <th>deaths</th>\n",
       "      <th>rolling_deaths_new</th>\n",
       "    </tr>\n",
       "  </thead>\n",
       "  <tbody>\n",
       "    <tr>\n",
       "      <th>0</th>\n",
       "      <td>AC</td>\n",
       "      <td>2020-03-17</td>\n",
       "      <td>0</td>\n",
       "      <td>0.0</td>\n",
       "    </tr>\n",
       "    <tr>\n",
       "      <th>1</th>\n",
       "      <td>AC</td>\n",
       "      <td>2020-03-18</td>\n",
       "      <td>0</td>\n",
       "      <td>0.0</td>\n",
       "    </tr>\n",
       "    <tr>\n",
       "      <th>2</th>\n",
       "      <td>AC</td>\n",
       "      <td>2020-03-19</td>\n",
       "      <td>0</td>\n",
       "      <td>0.0</td>\n",
       "    </tr>\n",
       "    <tr>\n",
       "      <th>3</th>\n",
       "      <td>AC</td>\n",
       "      <td>2020-03-20</td>\n",
       "      <td>0</td>\n",
       "      <td>0.0</td>\n",
       "    </tr>\n",
       "    <tr>\n",
       "      <th>4</th>\n",
       "      <td>AC</td>\n",
       "      <td>2020-03-21</td>\n",
       "      <td>0</td>\n",
       "      <td>0.0</td>\n",
       "    </tr>\n",
       "    <tr>\n",
       "      <th>...</th>\n",
       "      <td>...</td>\n",
       "      <td>...</td>\n",
       "      <td>...</td>\n",
       "      <td>...</td>\n",
       "    </tr>\n",
       "    <tr>\n",
       "      <th>1410</th>\n",
       "      <td>TO</td>\n",
       "      <td>2020-04-30</td>\n",
       "      <td>3</td>\n",
       "      <td>2.4</td>\n",
       "    </tr>\n",
       "    <tr>\n",
       "      <th>1411</th>\n",
       "      <td>TO</td>\n",
       "      <td>2020-05-01</td>\n",
       "      <td>4</td>\n",
       "      <td>2.8</td>\n",
       "    </tr>\n",
       "    <tr>\n",
       "      <th>1412</th>\n",
       "      <td>TO</td>\n",
       "      <td>2020-05-02</td>\n",
       "      <td>4</td>\n",
       "      <td>3.2</td>\n",
       "    </tr>\n",
       "    <tr>\n",
       "      <th>1413</th>\n",
       "      <td>TO</td>\n",
       "      <td>2020-05-03</td>\n",
       "      <td>4</td>\n",
       "      <td>3.6</td>\n",
       "    </tr>\n",
       "    <tr>\n",
       "      <th>1414</th>\n",
       "      <td>TO</td>\n",
       "      <td>2020-05-04</td>\n",
       "      <td>4</td>\n",
       "      <td>3.8</td>\n",
       "    </tr>\n",
       "  </tbody>\n",
       "</table>\n",
       "<p>1415 rows × 4 columns</p>\n",
       "</div>"
      ],
      "text/plain": [
       "     state last_updated  deaths  rolling_deaths_new\n",
       "0       AC   2020-03-17       0                 0.0\n",
       "1       AC   2020-03-18       0                 0.0\n",
       "2       AC   2020-03-19       0                 0.0\n",
       "3       AC   2020-03-20       0                 0.0\n",
       "4       AC   2020-03-21       0                 0.0\n",
       "...    ...          ...     ...                 ...\n",
       "1410    TO   2020-04-30       3                 2.4\n",
       "1411    TO   2020-05-01       4                 2.8\n",
       "1412    TO   2020-05-02       4                 3.2\n",
       "1413    TO   2020-05-03       4                 3.6\n",
       "1414    TO   2020-05-04       4                 3.8\n",
       "\n",
       "[1415 rows x 4 columns]"
      ]
     },
     "execution_count": 14,
     "metadata": {},
     "output_type": "execute_result"
    }
   ],
   "source": [
    "df_deaths"
   ]
  },
  {
   "cell_type": "code",
   "execution_count": 18,
   "metadata": {},
   "outputs": [],
   "source": [
    "def _df_to_plotly(df):\n",
    "    return {'z': df.values.tolist(),\n",
    "            'x': df.columns.tolist(),\n",
    "            'y': df.index.tolist()}\n",
    "    \n",
    "def plot_deaths_heatmap(t, place_type, title):\n",
    "    \n",
    "    df_heatmap = t.reset_index()\\\n",
    "                          .pivot(index=place_type, \n",
    "                                  columns='last_updated', \n",
    "                                  values='rolling_deaths_new')\\\n",
    "                           .fillna(0)\\\n",
    "                           .apply(lambda x: x/x.max(), axis=1)\\\n",
    "                           .dropna(how='all')\n",
    "\n",
    "    # remove days with all states zero\n",
    "    df_heatmap = df_heatmap.loc[:, (df_heatmap != 0).any(axis=0)]\n",
    "    print(len(df_heatmap))\n",
    "\n",
    "    fig = go.Figure(data=go.Heatmap(_df_to_plotly(df_heatmap), \n",
    "                                    colorscale='temps'), \n",
    "                    layout={'width': 600,\n",
    "                            'height': 800,\n",
    "                            'title': title})\n",
    "    fig.show()"
   ]
  },
  {
   "cell_type": "code",
   "execution_count": 19,
   "metadata": {},
   "outputs": [
    {
     "name": "stdout",
     "output_type": "stream",
     "text": [
      "27\n"
     ]
    },
    {
     "data": {
      "application/vnd.plotly.v1+json": {
       "config": {
        "plotlyServerURL": "https://plot.ly"
       },
       "data": [
        {
         "colorscale": [
          [
           0,
           "rgb(0, 147, 146)"
          ],
          [
           0.16666666666666666,
           "rgb(57, 177, 133)"
          ],
          [
           0.3333333333333333,
           "rgb(156, 203, 134)"
          ],
          [
           0.5,
           "rgb(233, 226, 156)"
          ],
          [
           0.6666666666666666,
           "rgb(238, 180, 121)"
          ],
          [
           0.8333333333333334,
           "rgb(232, 132, 113)"
          ],
          [
           1,
           "rgb(207, 89, 126)"
          ]
         ],
         "type": "heatmap",
         "x": [
          "2020-03-17",
          "2020-03-18",
          "2020-03-19",
          "2020-03-20",
          "2020-03-21",
          "2020-03-22",
          "2020-03-23",
          "2020-03-24",
          "2020-03-25",
          "2020-03-26",
          "2020-03-27",
          "2020-03-28",
          "2020-03-29",
          "2020-03-30",
          "2020-03-31",
          "2020-04-01",
          "2020-04-02",
          "2020-04-03",
          "2020-04-04",
          "2020-04-05",
          "2020-04-06",
          "2020-04-07",
          "2020-04-08",
          "2020-04-09",
          "2020-04-10",
          "2020-04-11",
          "2020-04-12",
          "2020-04-13",
          "2020-04-14",
          "2020-04-15",
          "2020-04-16",
          "2020-04-17",
          "2020-04-18",
          "2020-04-19",
          "2020-04-20",
          "2020-04-21",
          "2020-04-22",
          "2020-04-23",
          "2020-04-24",
          "2020-04-25",
          "2020-04-26",
          "2020-04-27",
          "2020-04-28",
          "2020-04-29",
          "2020-04-30",
          "2020-05-01",
          "2020-05-02",
          "2020-05-03",
          "2020-05-04"
         ],
         "y": [
          "AC",
          "AL",
          "AM",
          "AP",
          "BA",
          "CE",
          "DF",
          "ES",
          "GO",
          "MA",
          "MG",
          "MS",
          "MT",
          "PA",
          "PB",
          "PE",
          "PI",
          "PR",
          "RJ",
          "RN",
          "RO",
          "RR",
          "RS",
          "SC",
          "SE",
          "SP",
          "TO"
         ],
         "z": [
          [
           0,
           0,
           0,
           0,
           0,
           0,
           0,
           0,
           0,
           0,
           0,
           0,
           0,
           0,
           0,
           0,
           0,
           0,
           0,
           0,
           0.009090909090909092,
           0.02727272727272727,
           0.045454545454545456,
           0.06363636363636363,
           0.08181818181818182,
           0.09090909090909091,
           0.09090909090909091,
           0.1,
           0.10909090909090909,
           0.12727272727272726,
           0.15454545454545454,
           0.18181818181818182,
           0.20909090909090908,
           0.23636363636363636,
           0.2727272727272727,
           0.3,
           0.32727272727272727,
           0.36363636363636365,
           0.4090909090909091,
           0.43636363636363634,
           0.4636363636363636,
           0.5181818181818182,
           0.5727272727272728,
           0.6363636363636364,
           0.7090909090909091,
           0.7818181818181817,
           0.8545454545454546,
           0.9363636363636364,
           1
          ],
          [
           0,
           0,
           0,
           0,
           0,
           0,
           0,
           0,
           0,
           0,
           0,
           0,
           0,
           0,
           0.0036231884057971015,
           0.007246376811594203,
           0.010869565217391304,
           0.018115942028985508,
           0.02536231884057971,
           0.028985507246376812,
           0.03260869565217391,
           0.036231884057971016,
           0.036231884057971016,
           0.03985507246376812,
           0.043478260869565216,
           0.04710144927536232,
           0.05072463768115942,
           0.057971014492753624,
           0.06159420289855072,
           0.06521739130434782,
           0.06884057971014491,
           0.07971014492753624,
           0.09420289855072464,
           0.12681159420289853,
           0.17028985507246377,
           0.21739130434782608,
           0.2608695652173913,
           0.30434782608695654,
           0.34782608695652173,
           0.3876811594202898,
           0.43478260869565216,
           0.4855072463768116,
           0.5362318840579711,
           0.5869565217391304,
           0.6521739130434783,
           0.7282608695652174,
           0.8152173913043478,
           0.9166666666666666,
           1
          ],
          [
           0,
           0,
           0,
           0,
           0,
           0,
           0,
           0.000400320256204964,
           0.000800640512409928,
           0.0012009607686148918,
           0.001601281024819856,
           0.0020016012810248197,
           0.0020016012810248197,
           0.0024019215372297837,
           0.003202562049639712,
           0.0040032025620496394,
           0.004803843074459567,
           0.007205764611689351,
           0.01120896717373899,
           0.016012810248198558,
           0.02241793434747798,
           0.030424339471577258,
           0.039631705364291434,
           0.05084067253803042,
           0.06485188150520416,
           0.07846277021617294,
           0.09407526020816653,
           0.11048839071257005,
           0.13050440352281825,
           0.15292233787029624,
           0.18134507606084865,
           0.21457165732586067,
           0.25060048038430743,
           0.2870296236989592,
           0.3186549239391513,
           0.34627702161729385,
           0.3706965572457966,
           0.399919935948759,
           0.4295436349079263,
           0.47037630104083267,
           0.5148118494795836,
           0.5604483586869495,
           0.6072858286629302,
           0.6573258606885508,
           0.7125700560448358,
           0.7814251401120896,
           0.8538831064851882,
           0.932746196957566,
           1
          ],
          [
           0,
           0,
           0,
           0,
           0,
           0,
           0,
           0,
           0,
           0,
           0,
           0,
           0,
           0,
           0,
           0,
           0,
           0,
           0.005076142131979696,
           0.010152284263959392,
           0.020304568527918784,
           0.030456852791878174,
           0.04060913705583757,
           0.045685279187817264,
           0.050761421319796954,
           0.06598984771573604,
           0.08121827411167513,
           0.10152284263959391,
           0.12690355329949238,
           0.15228426395939088,
           0.17766497461928935,
           0.20304568527918782,
           0.22335025380710663,
           0.2436548223350254,
           0.2741116751269036,
           0.2893401015228427,
           0.3096446700507614,
           0.3401015228426396,
           0.3756345177664975,
           0.41116751269035534,
           0.4619289340101523,
           0.5228426395939086,
           0.583756345177665,
           0.6497461928934011,
           0.7208121827411167,
           0.7918781725888325,
           0.8629441624365483,
           0.9390862944162437,
           1
          ],
          [
           0,
           0,
           0,
           0,
           0,
           0,
           0,
           0,
           0,
           0,
           0,
           0,
           0.0016806722689075631,
           0.0050420168067226885,
           0.008403361344537815,
           0.011764705882352941,
           0.01680672268907563,
           0.025210084033613446,
           0.03361344537815126,
           0.04537815126050421,
           0.058823529411764705,
           0.07731092436974789,
           0.09747899159663866,
           0.11764705882352941,
           0.13445378151260504,
           0.15294117647058822,
           0.1647058823529412,
           0.17142857142857143,
           0.18319327731092439,
           0.19831932773109245,
           0.22016806722689075,
           0.24369747899159663,
           0.2722689075630252,
           0.3025210084033613,
           0.3327731092436975,
           0.3546218487394958,
           0.3831932773109244,
           0.42016806722689076,
           0.45714285714285713,
           0.4991596638655462,
           0.5428571428571428,
           0.5932773109243697,
           0.6453781512605041,
           0.7008403361344538,
           0.7579831932773109,
           0.8302521008403361,
           0.8974789915966387,
           0.9546218487394957,
           1
          ],
          [
           0,
           0,
           0,
           0,
           0,
           0,
           0,
           0,
           0,
           0.0009950248756218905,
           0.001990049751243781,
           0.003316749585406302,
           0.004975124378109453,
           0.006633499170812604,
           0.007960199004975124,
           0.009950248756218905,
           0.008623548922056384,
           0.014262023217247097,
           0.02023217247097844,
           0.029519071310116086,
           0.0384742951907131,
           0.051741293532338306,
           0.06334991708126037,
           0.07462686567164178,
           0.08524046434494195,
           0.0978441127694859,
           0.1097844112769486,
           0.12404643449419568,
           0.14195688225538972,
           0.16086235489220563,
           0.17777777777777778,
           0.20398009950248755,
           0.23051409618573798,
           0.2563847429519071,
           0.2835820895522388,
           0.31542288557213927,
           0.34295190713101165,
           0.37280265339966834,
           0.40696517412935324,
           0.4464344941956882,
           0.4975124378109453,
           0.5499170812603649,
           0.5983416252072968,
           0.6504145936981758,
           0.7054726368159203,
           0.7595356550580431,
           0.8391376451077943,
           0.9250414593698175,
           1
          ],
          [
           0,
           0,
           0,
           0,
           0,
           0,
           0,
           0,
           0,
           0,
           0,
           0,
           0.006289308176100629,
           0.018867924528301886,
           0.03773584905660377,
           0.06289308176100629,
           0.09433962264150943,
           0.12578616352201258,
           0.15723270440251572,
           0.18238993710691823,
           0.22012578616352202,
           0.2641509433962264,
           0.3018867924528302,
           0.339622641509434,
           0.38364779874213834,
           0.40880503144654085,
           0.42138364779874216,
           0.44025157232704404,
           0.46540880503144655,
           0.48427672955974843,
           0.5220125786163522,
           0.5849056603773585,
           0.6415094339622641,
           0.6855345911949685,
           0.7295597484276729,
           0.7547169811320754,
           0.761006289308176,
           0.7735849056603774,
           0.7861635220125786,
           0.8050314465408805,
           0.8238993710691823,
           0.8427672955974843,
           0.8553459119496855,
           0.8679245283018868,
           0.8867924528301886,
           0.9119496855345912,
           0.9371069182389937,
           0.9685534591194969,
           1
          ],
          [
           0,
           0,
           0,
           0,
           0,
           0,
           0,
           0,
           0,
           0,
           0,
           0,
           0,
           0,
           0,
           0,
           0.003824091778202677,
           0.013384321223709368,
           0.0248565965583174,
           0.036328871892925434,
           0.047801147227533466,
           0.055449330783938815,
           0.05736137667304016,
           0.0592734225621415,
           0.06309751434034416,
           0.06883365200764818,
           0.08413001912045891,
           0.10516252390057362,
           0.12619502868068833,
           0.15105162523900575,
           0.18546845124282982,
           0.21032504780114725,
           0.2332695984703633,
           0.26195028680688337,
           0.28489483747609945,
           0.2963671128107075,
           0.3135755258126195,
           0.3384321223709369,
           0.3632887189292543,
           0.3977055449330784,
           0.44168260038240925,
           0.491395793499044,
           0.5564053537284895,
           0.627151051625239,
           0.7055449330783939,
           0.7896749521988528,
           0.8680688336520077,
           0.9407265774378586,
           1
          ],
          [
           0,
           0,
           0,
           0,
           0,
           0,
           0,
           0,
           0,
           0.006993006993006993,
           0.013986013986013986,
           0.020979020979020976,
           0.027972027972027972,
           0.03496503496503496,
           0.03496503496503496,
           0.03496503496503496,
           0.03496503496503496,
           0.04195804195804195,
           0.048951048951048945,
           0.06293706293706293,
           0.09090909090909091,
           0.11888111888111887,
           0.15384615384615385,
           0.1888111888111888,
           0.22377622377622378,
           0.25874125874125875,
           0.3216783216783216,
           0.3776223776223776,
           0.43356643356643354,
           0.4825174825174825,
           0.5244755244755245,
           0.5384615384615384,
           0.5594405594405594,
           0.5804195804195804,
           0.6083916083916083,
           0.6293706293706294,
           0.6643356643356643,
           0.6993006993006993,
           0.7342657342657343,
           0.7692307692307692,
           0.8041958041958042,
           0.8391608391608392,
           0.8601398601398601,
           0.881118881118881,
           0.9090909090909091,
           0.9370629370629371,
           0.9580419580419579,
           0.979020979020979,
           1
          ],
          [
           0,
           0,
           0,
           0,
           0,
           0,
           0,
           0,
           0,
           0,
           0,
           0,
           0.0008598452278589854,
           0.0017196904557179708,
           0.0025795356835769563,
           0.0034393809114359416,
           0.004299226139294927,
           0.004299226139294927,
           0.005159071367153913,
           0.0060189165950128975,
           0.008598452278589854,
           0.017196904557179708,
           0.02665520206362855,
           0.03869303525365434,
           0.055030094582975066,
           0.07222699914015478,
           0.08598452278589853,
           0.10318142734307825,
           0.11865864144454,
           0.13241616509028376,
           0.1461736887360275,
           0.16079105760963028,
           0.17454858125537404,
           0.19174548581255374,
           0.2115219260533104,
           0.23387790197764402,
           0.26139294926913154,
           0.29578675838349094,
           0.3353396388650043,
           0.38005159071367156,
           0.4307824591573517,
           0.4901117798796217,
           0.5571797076526225,
           0.6294067067927773,
           0.708512467755804,
           0.7936371453138436,
           0.8727429062768702,
           0.944110060189166,
           1
          ],
          [
           0,
           0,
           0,
           0,
           0,
           0,
           0,
           0,
           0,
           0,
           0,
           0,
           0,
           0.002288329519450801,
           0.006864988558352402,
           0.013729977116704805,
           0.02288329519450801,
           0.036613272311212815,
           0.04805491990846682,
           0.05720823798627002,
           0.07093821510297482,
           0.08695652173913042,
           0.10526315789473682,
           0.12585812356979403,
           0.15102974828375285,
           0.16933638443935928,
           0.18993135011441648,
           0.21052631578947364,
           0.23798627002288328,
           0.2677345537757437,
           0.30434782608695654,
           0.33867276887871856,
           0.3752860411899313,
           0.40274599542334094,
           0.4279176201372997,
           0.45308924485125857,
           0.48054919908466814,
           0.5080091533180777,
           0.5423340961098397,
           0.5812356979405033,
           0.620137299771167,
           0.6544622425629291,
           0.700228832951945,
           0.7597254004576659,
           0.8146453089244851,
           0.8764302059496566,
           0.9359267734553774,
           0.977116704805492,
           1
          ],
          [
           0,
           0,
           0,
           0,
           0,
           0,
           0,
           0,
           0,
           0,
           0,
           0,
           0,
           0,
           0.02127659574468085,
           0.0425531914893617,
           0.06382978723404255,
           0.0851063829787234,
           0.10638297872340426,
           0.10638297872340426,
           0.10638297872340426,
           0.1276595744680851,
           0.14893617021276595,
           0.1702127659574468,
           0.19148936170212766,
           0.2127659574468085,
           0.2127659574468085,
           0.2553191489361702,
           0.2978723404255319,
           0.3404255319148936,
           0.40425531914893614,
           0.46808510638297873,
           0.4893617021276595,
           0.5106382978723404,
           0.5319148936170213,
           0.5531914893617021,
           0.574468085106383,
           0.6170212765957447,
           0.6595744680851063,
           0.702127659574468,
           0.7234042553191489,
           0.7872340425531915,
           0.8297872340425532,
           0.8723404255319148,
           0.9148936170212765,
           0.9574468085106382,
           0.9574468085106382,
           0.978723404255319,
           1
          ],
          [
           0,
           0,
           0,
           0,
           0,
           0,
           0,
           0,
           0,
           0,
           0,
           0,
           0,
           0,
           0,
           0,
           0,
           0.01886792452830189,
           0.03773584905660378,
           0.05660377358490566,
           0.07547169811320756,
           0.09433962264150944,
           0.09433962264150944,
           0.11320754716981132,
           0.1320754716981132,
           0.169811320754717,
           0.2075471698113208,
           0.2641509433962264,
           0.30188679245283023,
           0.339622641509434,
           0.37735849056603776,
           0.4150943396226416,
           0.43396226415094336,
           0.4528301886792453,
           0.4905660377358491,
           0.5094339622641509,
           0.5283018867924528,
           0.5660377358490566,
           0.6226415094339622,
           0.679245283018868,
           0.7358490566037736,
           0.7924528301886793,
           0.8490566037735849,
           0.8867924528301887,
           0.9056603773584906,
           0.9245283018867926,
           0.9622641509433962,
           0.9811320754716982,
           1
          ],
          [
           0,
           0,
           0,
           0,
           0,
           0,
           0,
           0,
           0,
           0,
           0,
           0,
           0,
           0,
           0,
           0.0007007708479327261,
           0.0014015416958654521,
           0.002102312543798178,
           0.0028030833917309043,
           0.0035038542396636303,
           0.006306937631394535,
           0.009110021023125438,
           0.01261387526278907,
           0.016818500350385426,
           0.022424667133847234,
           0.026629292221443588,
           0.032936229852838124,
           0.038542396636299936,
           0.0483531885073581,
           0.056762438682550806,
           0.0672740014015417,
           0.07988787666433077,
           0.09320252277505257,
           0.102312543798178,
           0.11212333566923617,
           0.12053258584442887,
           0.12824106517168887,
           0.1422564821303434,
           0.17869656622284513,
           0.22074281709880872,
           0.2740014015416959,
           0.3293622985283812,
           0.3847231955150666,
           0.4337771548703574,
           0.524176594253679,
           0.6285914505956552,
           0.7575332866152769,
           0.8871758934828311,
           1
          ],
          [
           0,
           0,
           0,
           0,
           0,
           0,
           0,
           0,
           0,
           0,
           0,
           0,
           0,
           0,
           0.002666666666666667,
           0.005333333333333334,
           0.008,
           0.010666666666666668,
           0.018666666666666665,
           0.02666666666666667,
           0.034666666666666665,
           0.04266666666666667,
           0.05866666666666667,
           0.08,
           0.09866666666666667,
           0.12266666666666666,
           0.14666666666666667,
           0.1706666666666667,
           0.19733333333333333,
           0.23199999999999998,
           0.26666666666666666,
           0.30666666666666664,
           0.3413333333333334,
           0.3706666666666667,
           0.39466666666666667,
           0.42933333333333334,
           0.4613333333333334,
           0.5013333333333333,
           0.5386666666666666,
           0.5813333333333334,
           0.6106666666666666,
           0.6453333333333333,
           0.68,
           0.7226666666666667,
           0.7706666666666666,
           0.8346666666666667,
           0.896,
           0.9546666666666666,
           1
          ],
          [
           0,
           0,
           0,
           0,
           0,
           0,
           0,
           0,
           0.00032862306933946765,
           0.0009858692080184027,
           0.0019717384160368055,
           0.003286230693394676,
           0.004600722970752547,
           0.005915215248110417,
           0.0069010844561288205,
           0.00821557673348669,
           0.00953006901084456,
           0.011173184357541898,
           0.013802168912257641,
           0.018731514952349655,
           0.025961222477817944,
           0.034176799211304634,
           0.046007229707525465,
           0.059809398619783107,
           0.07426881367071969,
           0.08807098258297733,
           0.10483075911929017,
           0.12323365100230035,
           0.14262241209332893,
           0.16825501150180744,
           0.19717384160368057,
           0.23036477160696678,
           0.264212947748932,
           0.2974038777522182,
           0.32730857706210975,
           0.3601708839960565,
           0.3917186986526454,
           0.42688136707196844,
           0.47025961222477813,
           0.5185672034176799,
           0.5695037791652974,
           0.6247124548143279,
           0.6891225764048635,
           0.7515609595793624,
           0.8120276043378245,
           0.8734801183043049,
           0.9316464015773906,
           0.9707525468287873,
           1
          ],
          [
           0,
           0,
           0,
           0,
           0,
           0,
           0,
           0,
           0,
           0,
           0.007462686567164179,
           0.014925373134328358,
           0.022388059701492536,
           0.05223880597014925,
           0.08208955223880597,
           0.1044776119402985,
           0.12686567164179105,
           0.14925373134328357,
           0.14925373134328357,
           0.14925373134328357,
           0.14925373134328357,
           0.15671641791044777,
           0.17164179104477612,
           0.19402985074626866,
           0.21641791044776118,
           0.23880597014925373,
           0.2537313432835821,
           0.26865671641791045,
           0.27611940298507465,
           0.2835820895522388,
           0.291044776119403,
           0.3059701492537313,
           0.3208955223880597,
           0.35074626865671643,
           0.39552238805970147,
           0.44776119402985076,
           0.4925373134328358,
           0.5373134328358209,
           0.5746268656716418,
           0.6044776119402985,
           0.6417910447761194,
           0.6865671641791045,
           0.7462686567164178,
           0.7985074626865671,
           0.8432835820895522,
           0.8880597014925373,
           0.9402985074626865,
           0.9701492537313433,
           1
          ],
          [
           0,
           0,
           0,
           0,
           0,
           0,
           0,
           0,
           0,
           0,
           0.0044943820224719105,
           0.008988764044943821,
           0.01348314606741573,
           0.020224719101123598,
           0.02696629213483146,
           0.029213483146067417,
           0.033707865168539325,
           0.040449438202247195,
           0.04943820224719102,
           0.0651685393258427,
           0.0898876404494382,
           0.1146067415730337,
           0.14157303370786517,
           0.17752808988764046,
           0.21123595505617979,
           0.23820224719101124,
           0.27191011235955054,
           0.3056179775280899,
           0.3393258426966292,
           0.3730337078651686,
           0.4067415730337079,
           0.4337078651685393,
           0.46741573033707867,
           0.4943820224719101,
           0.5191011235955056,
           0.5460674157303371,
           0.5820224719101124,
           0.6112359550561798,
           0.6449438202247191,
           0.6853932584269663,
           0.7303370786516854,
           0.7685393258426967,
           0.8067415730337079,
           0.8449438202247191,
           0.8831460674157303,
           0.9191011235955056,
           0.952808988764045,
           0.9820224719101124,
           1
          ],
          [
           0,
           0,
           0.00041806020066889637,
           0.0008361204013377927,
           0.001463210702341137,
           0.0020903010033444815,
           0.002926421404682274,
           0.003762541806020067,
           0.005016722408026756,
           0.006270903010033445,
           0.007734113712374583,
           0.009615384615384616,
           0.011914715719063546,
           0.014005016722408028,
           0.0169314381270903,
           0.020693979933110368,
           0.026546822742474916,
           0.03281772575250836,
           0.04117892976588629,
           0.049749163879598664,
           0.058737458193979936,
           0.06877090301003344,
           0.08110367892976589,
           0.09448160535117058,
           0.11183110367892977,
           0.12938963210702342,
           0.14632107023411373,
           0.16220735785953178,
           0.1835284280936455,
           0.20819397993311037,
           0.2387123745819398,
           0.2744565217391305,
           0.31730769230769235,
           0.35451505016722407,
           0.3873327759197325,
           0.42035953177257523,
           0.45150501672240806,
           0.48118729096989965,
           0.516304347826087,
           0.5566471571906355,
           0.5955267558528428,
           0.6346153846153847,
           0.6783026755852843,
           0.7251254180602007,
           0.7750836120401339,
           0.8327759197324415,
           0.8942307692307693,
           0.9529682274247492,
           1
          ],
          [
           0,
           0,
           0,
           0,
           0,
           0,
           0,
           0,
           0,
           0,
           0,
           0.0036363636363636364,
           0.007272727272727273,
           0.010909090909090908,
           0.014545454545454545,
           0.021818181818181816,
           0.025454545454545452,
           0.03636363636363636,
           0.04727272727272727,
           0.06909090909090909,
           0.08727272727272727,
           0.10909090909090909,
           0.13454545454545455,
           0.16,
           0.17454545454545453,
           0.19636363636363638,
           0.2290909090909091,
           0.2545454545454545,
           0.28363636363636363,
           0.31636363636363635,
           0.3527272727272727,
           0.3781818181818182,
           0.40727272727272723,
           0.43636363636363634,
           0.46545454545454545,
           0.4872727272727273,
           0.5236363636363637,
           0.5636363636363636,
           0.6072727272727273,
           0.6618181818181817,
           0.7163636363636363,
           0.7636363636363637,
           0.8218181818181819,
           0.88,
           0.9236363636363636,
           0.9636363636363636,
           0.9927272727272728,
           1,
           1
          ],
          [
           0,
           0,
           0,
           0,
           0,
           0,
           0,
           0,
           0,
           0,
           0,
           0,
           0,
           0.009615384615384616,
           0.019230769230769232,
           0.028846153846153844,
           0.038461538461538464,
           0.04807692307692307,
           0.04807692307692307,
           0.04807692307692307,
           0.04807692307692307,
           0.04807692307692307,
           0.04807692307692307,
           0.05769230769230769,
           0.0673076923076923,
           0.07692307692307693,
           0.08653846153846154,
           0.09615384615384615,
           0.09615384615384615,
           0.09615384615384615,
           0.10576923076923077,
           0.11538461538461538,
           0.1346153846153846,
           0.15384615384615385,
           0.17307692307692307,
           0.1923076923076923,
           0.21153846153846154,
           0.22115384615384612,
           0.23076923076923075,
           0.25,
           0.28846153846153844,
           0.3269230769230769,
           0.375,
           0.4615384615384615,
           0.5480769230769231,
           0.6346153846153846,
           0.7692307692307692,
           0.9038461538461539,
           1
          ],
          [
           0,
           0,
           0,
           0,
           0,
           0,
           0,
           0,
           0,
           0,
           0,
           0,
           0,
           0,
           0,
           0,
           0,
           0.028571428571428574,
           0.05714285714285715,
           0.08571428571428572,
           0.1142857142857143,
           0.14285714285714285,
           0.14285714285714285,
           0.17142857142857143,
           0.2285714285714286,
           0.2857142857142857,
           0.34285714285714286,
           0.39999999999999997,
           0.42857142857142855,
           0.42857142857142855,
           0.42857142857142855,
           0.42857142857142855,
           0.42857142857142855,
           0.42857142857142855,
           0.42857142857142855,
           0.42857142857142855,
           0.42857142857142855,
           0.42857142857142855,
           0.42857142857142855,
           0.4571428571428572,
           0.4857142857142857,
           0.5142857142857143,
           0.5428571428571428,
           0.5714285714285714,
           0.6571428571428571,
           0.7428571428571429,
           0.8285714285714285,
           0.9142857142857144,
           1
          ],
          [
           0,
           0,
           0,
           0,
           0,
           0,
           0,
           0,
           0.0031347962382445144,
           0.006269592476489029,
           0.012539184952978058,
           0.018808777429467086,
           0.025078369905956115,
           0.03448275862068966,
           0.0438871473354232,
           0.05329153605015674,
           0.06269592476489029,
           0.07523510971786834,
           0.08463949843260189,
           0.09404388714733543,
           0.10344827586206896,
           0.11285266457680251,
           0.12539184952978058,
           0.14733542319749218,
           0.1724137931034483,
           0.1974921630094044,
           0.2225705329153605,
           0.2445141065830721,
           0.25705329153605017,
           0.26959247648902823,
           0.2852664576802508,
           0.3103448275862069,
           0.3322884012539185,
           0.35736677115987464,
           0.3824451410658307,
           0.40125391849529785,
           0.41379310344827586,
           0.42946708463949845,
           0.4545454545454546,
           0.4796238244514107,
           0.5141065830721003,
           0.5673981191222571,
           0.6300940438871474,
           0.6833855799373041,
           0.755485893416928,
           0.8307210031347962,
           0.8934169278996865,
           0.9498432601880878,
           1
          ],
          [
           0,
           0,
           0,
           0,
           0,
           0,
           0,
           0,
           0,
           0.003937007874015749,
           0.007874015748031498,
           0.011811023622047244,
           0.015748031496062995,
           0.023622047244094488,
           0.027559055118110236,
           0.03149606299212599,
           0.047244094488188976,
           0.06299212598425198,
           0.09448818897637795,
           0.12598425196850396,
           0.16141732283464566,
           0.20078740157480315,
           0.24803149606299213,
           0.2795275590551181,
           0.31102362204724415,
           0.3503937007874016,
           0.38582677165354334,
           0.421259842519685,
           0.46062992125984253,
           0.5039370078740159,
           0.5393700787401575,
           0.5669291338582677,
           0.5905511811023623,
           0.6181102362204725,
           0.641732283464567,
           0.6692913385826772,
           0.7007874015748032,
           0.7401574803149606,
           0.767716535433071,
           0.7952755905511811,
           0.8188976377952757,
           0.8385826771653544,
           0.8464566929133859,
           0.8622047244094488,
           0.8858267716535434,
           0.9133858267716536,
           0.9448818897637796,
           0.9763779527559056,
           1
          ],
          [
           0,
           0,
           0,
           0,
           0,
           0,
           0,
           0,
           0,
           0,
           0,
           0,
           0,
           0,
           0,
           0,
           0.028571428571428574,
           0.05714285714285715,
           0.09999999999999999,
           0.14285714285714285,
           0.19999999999999998,
           0.2285714285714286,
           0.2571428571428572,
           0.2714285714285714,
           0.2857142857142857,
           0.2857142857142857,
           0.2857142857142857,
           0.2857142857142857,
           0.2857142857142857,
           0.2857142857142857,
           0.2857142857142857,
           0.2857142857142857,
           0.3,
           0.31428571428571433,
           0.32857142857142857,
           0.37142857142857144,
           0.41428571428571426,
           0.4571428571428572,
           0.5,
           0.5571428571428572,
           0.5857142857142856,
           0.6428571428571429,
           0.6857142857142857,
           0.7285714285714285,
           0.7999999999999999,
           0.8714285714285713,
           0.9142857142857144,
           0.9571428571428572,
           1
          ],
          [
           7.857928650007859e-05,
           0.00031431714600031437,
           0.0007072135785007072,
           0.0014144271570014145,
           0.002121640735502122,
           0.0027502750275027505,
           0.003221750746503222,
           0.0035360678925035363,
           0.006600660066006602,
           0.010372465818010372,
           0.014930064435014932,
           0.019487663052019488,
           0.02404526166902405,
           0.029074336005029077,
           0.0352035203520352,
           0.04282571114254283,
           0.05233380480905233,
           0.06427785635706428,
           0.07590759075907591,
           0.08690869086908691,
           0.09790979097909791,
           0.1122898004086123,
           0.12871287128712874,
           0.1471790036146472,
           0.16800251453716802,
           0.18811881188118815,
           0.2051705170517052,
           0.21931478862171935,
           0.23503064592173506,
           0.25373251610875375,
           0.2767562470532768,
           0.3034732044633035,
           0.3335690711928336,
           0.35871444287285875,
           0.37906647807637905,
           0.39792550683639794,
           0.41411283985541414,
           0.44192990727644194,
           0.48098381266698104,
           0.5304887631620305,
           0.5781863900675782,
           0.6324846770391325,
           0.6878044947351878,
           0.7455602703127456,
           0.8011944051548012,
           0.864922206506365,
           0.9247210435329247,
           0.9701398711299701,
           1
          ],
          [
           0,
           0,
           0,
           0,
           0,
           0,
           0,
           0,
           0,
           0,
           0,
           0,
           0,
           0,
           0,
           0,
           0,
           0,
           0,
           0,
           0,
           0,
           0,
           0,
           0,
           0,
           0,
           0,
           0,
           0.052631578947368425,
           0.10526315789473685,
           0.15789473684210525,
           0.2105263157894737,
           0.2631578947368421,
           0.3157894736842105,
           0.3684210526315789,
           0.4210526315789474,
           0.4736842105263158,
           0.5263157894736842,
           0.5263157894736842,
           0.5263157894736842,
           0.5263157894736842,
           0.5263157894736842,
           0.5789473684210527,
           0.631578947368421,
           0.7368421052631579,
           0.8421052631578948,
           0.9473684210526316,
           1
          ]
         ]
        }
       ],
       "layout": {
        "height": 800,
        "template": {
         "data": {
          "bar": [
           {
            "error_x": {
             "color": "#2a3f5f"
            },
            "error_y": {
             "color": "#2a3f5f"
            },
            "marker": {
             "line": {
              "color": "#E5ECF6",
              "width": 0.5
             }
            },
            "type": "bar"
           }
          ],
          "barpolar": [
           {
            "marker": {
             "line": {
              "color": "#E5ECF6",
              "width": 0.5
             }
            },
            "type": "barpolar"
           }
          ],
          "carpet": [
           {
            "aaxis": {
             "endlinecolor": "#2a3f5f",
             "gridcolor": "white",
             "linecolor": "white",
             "minorgridcolor": "white",
             "startlinecolor": "#2a3f5f"
            },
            "baxis": {
             "endlinecolor": "#2a3f5f",
             "gridcolor": "white",
             "linecolor": "white",
             "minorgridcolor": "white",
             "startlinecolor": "#2a3f5f"
            },
            "type": "carpet"
           }
          ],
          "choropleth": [
           {
            "colorbar": {
             "outlinewidth": 0,
             "ticks": ""
            },
            "type": "choropleth"
           }
          ],
          "contour": [
           {
            "colorbar": {
             "outlinewidth": 0,
             "ticks": ""
            },
            "colorscale": [
             [
              0,
              "#0d0887"
             ],
             [
              0.1111111111111111,
              "#46039f"
             ],
             [
              0.2222222222222222,
              "#7201a8"
             ],
             [
              0.3333333333333333,
              "#9c179e"
             ],
             [
              0.4444444444444444,
              "#bd3786"
             ],
             [
              0.5555555555555556,
              "#d8576b"
             ],
             [
              0.6666666666666666,
              "#ed7953"
             ],
             [
              0.7777777777777778,
              "#fb9f3a"
             ],
             [
              0.8888888888888888,
              "#fdca26"
             ],
             [
              1,
              "#f0f921"
             ]
            ],
            "type": "contour"
           }
          ],
          "contourcarpet": [
           {
            "colorbar": {
             "outlinewidth": 0,
             "ticks": ""
            },
            "type": "contourcarpet"
           }
          ],
          "heatmap": [
           {
            "colorbar": {
             "outlinewidth": 0,
             "ticks": ""
            },
            "colorscale": [
             [
              0,
              "#0d0887"
             ],
             [
              0.1111111111111111,
              "#46039f"
             ],
             [
              0.2222222222222222,
              "#7201a8"
             ],
             [
              0.3333333333333333,
              "#9c179e"
             ],
             [
              0.4444444444444444,
              "#bd3786"
             ],
             [
              0.5555555555555556,
              "#d8576b"
             ],
             [
              0.6666666666666666,
              "#ed7953"
             ],
             [
              0.7777777777777778,
              "#fb9f3a"
             ],
             [
              0.8888888888888888,
              "#fdca26"
             ],
             [
              1,
              "#f0f921"
             ]
            ],
            "type": "heatmap"
           }
          ],
          "heatmapgl": [
           {
            "colorbar": {
             "outlinewidth": 0,
             "ticks": ""
            },
            "colorscale": [
             [
              0,
              "#0d0887"
             ],
             [
              0.1111111111111111,
              "#46039f"
             ],
             [
              0.2222222222222222,
              "#7201a8"
             ],
             [
              0.3333333333333333,
              "#9c179e"
             ],
             [
              0.4444444444444444,
              "#bd3786"
             ],
             [
              0.5555555555555556,
              "#d8576b"
             ],
             [
              0.6666666666666666,
              "#ed7953"
             ],
             [
              0.7777777777777778,
              "#fb9f3a"
             ],
             [
              0.8888888888888888,
              "#fdca26"
             ],
             [
              1,
              "#f0f921"
             ]
            ],
            "type": "heatmapgl"
           }
          ],
          "histogram": [
           {
            "marker": {
             "colorbar": {
              "outlinewidth": 0,
              "ticks": ""
             }
            },
            "type": "histogram"
           }
          ],
          "histogram2d": [
           {
            "colorbar": {
             "outlinewidth": 0,
             "ticks": ""
            },
            "colorscale": [
             [
              0,
              "#0d0887"
             ],
             [
              0.1111111111111111,
              "#46039f"
             ],
             [
              0.2222222222222222,
              "#7201a8"
             ],
             [
              0.3333333333333333,
              "#9c179e"
             ],
             [
              0.4444444444444444,
              "#bd3786"
             ],
             [
              0.5555555555555556,
              "#d8576b"
             ],
             [
              0.6666666666666666,
              "#ed7953"
             ],
             [
              0.7777777777777778,
              "#fb9f3a"
             ],
             [
              0.8888888888888888,
              "#fdca26"
             ],
             [
              1,
              "#f0f921"
             ]
            ],
            "type": "histogram2d"
           }
          ],
          "histogram2dcontour": [
           {
            "colorbar": {
             "outlinewidth": 0,
             "ticks": ""
            },
            "colorscale": [
             [
              0,
              "#0d0887"
             ],
             [
              0.1111111111111111,
              "#46039f"
             ],
             [
              0.2222222222222222,
              "#7201a8"
             ],
             [
              0.3333333333333333,
              "#9c179e"
             ],
             [
              0.4444444444444444,
              "#bd3786"
             ],
             [
              0.5555555555555556,
              "#d8576b"
             ],
             [
              0.6666666666666666,
              "#ed7953"
             ],
             [
              0.7777777777777778,
              "#fb9f3a"
             ],
             [
              0.8888888888888888,
              "#fdca26"
             ],
             [
              1,
              "#f0f921"
             ]
            ],
            "type": "histogram2dcontour"
           }
          ],
          "mesh3d": [
           {
            "colorbar": {
             "outlinewidth": 0,
             "ticks": ""
            },
            "type": "mesh3d"
           }
          ],
          "parcoords": [
           {
            "line": {
             "colorbar": {
              "outlinewidth": 0,
              "ticks": ""
             }
            },
            "type": "parcoords"
           }
          ],
          "pie": [
           {
            "automargin": true,
            "type": "pie"
           }
          ],
          "scatter": [
           {
            "marker": {
             "colorbar": {
              "outlinewidth": 0,
              "ticks": ""
             }
            },
            "type": "scatter"
           }
          ],
          "scatter3d": [
           {
            "line": {
             "colorbar": {
              "outlinewidth": 0,
              "ticks": ""
             }
            },
            "marker": {
             "colorbar": {
              "outlinewidth": 0,
              "ticks": ""
             }
            },
            "type": "scatter3d"
           }
          ],
          "scattercarpet": [
           {
            "marker": {
             "colorbar": {
              "outlinewidth": 0,
              "ticks": ""
             }
            },
            "type": "scattercarpet"
           }
          ],
          "scattergeo": [
           {
            "marker": {
             "colorbar": {
              "outlinewidth": 0,
              "ticks": ""
             }
            },
            "type": "scattergeo"
           }
          ],
          "scattergl": [
           {
            "marker": {
             "colorbar": {
              "outlinewidth": 0,
              "ticks": ""
             }
            },
            "type": "scattergl"
           }
          ],
          "scattermapbox": [
           {
            "marker": {
             "colorbar": {
              "outlinewidth": 0,
              "ticks": ""
             }
            },
            "type": "scattermapbox"
           }
          ],
          "scatterpolar": [
           {
            "marker": {
             "colorbar": {
              "outlinewidth": 0,
              "ticks": ""
             }
            },
            "type": "scatterpolar"
           }
          ],
          "scatterpolargl": [
           {
            "marker": {
             "colorbar": {
              "outlinewidth": 0,
              "ticks": ""
             }
            },
            "type": "scatterpolargl"
           }
          ],
          "scatterternary": [
           {
            "marker": {
             "colorbar": {
              "outlinewidth": 0,
              "ticks": ""
             }
            },
            "type": "scatterternary"
           }
          ],
          "surface": [
           {
            "colorbar": {
             "outlinewidth": 0,
             "ticks": ""
            },
            "colorscale": [
             [
              0,
              "#0d0887"
             ],
             [
              0.1111111111111111,
              "#46039f"
             ],
             [
              0.2222222222222222,
              "#7201a8"
             ],
             [
              0.3333333333333333,
              "#9c179e"
             ],
             [
              0.4444444444444444,
              "#bd3786"
             ],
             [
              0.5555555555555556,
              "#d8576b"
             ],
             [
              0.6666666666666666,
              "#ed7953"
             ],
             [
              0.7777777777777778,
              "#fb9f3a"
             ],
             [
              0.8888888888888888,
              "#fdca26"
             ],
             [
              1,
              "#f0f921"
             ]
            ],
            "type": "surface"
           }
          ],
          "table": [
           {
            "cells": {
             "fill": {
              "color": "#EBF0F8"
             },
             "line": {
              "color": "white"
             }
            },
            "header": {
             "fill": {
              "color": "#C8D4E3"
             },
             "line": {
              "color": "white"
             }
            },
            "type": "table"
           }
          ]
         },
         "layout": {
          "annotationdefaults": {
           "arrowcolor": "#2a3f5f",
           "arrowhead": 0,
           "arrowwidth": 1
          },
          "coloraxis": {
           "colorbar": {
            "outlinewidth": 0,
            "ticks": ""
           }
          },
          "colorscale": {
           "diverging": [
            [
             0,
             "#8e0152"
            ],
            [
             0.1,
             "#c51b7d"
            ],
            [
             0.2,
             "#de77ae"
            ],
            [
             0.3,
             "#f1b6da"
            ],
            [
             0.4,
             "#fde0ef"
            ],
            [
             0.5,
             "#f7f7f7"
            ],
            [
             0.6,
             "#e6f5d0"
            ],
            [
             0.7,
             "#b8e186"
            ],
            [
             0.8,
             "#7fbc41"
            ],
            [
             0.9,
             "#4d9221"
            ],
            [
             1,
             "#276419"
            ]
           ],
           "sequential": [
            [
             0,
             "#0d0887"
            ],
            [
             0.1111111111111111,
             "#46039f"
            ],
            [
             0.2222222222222222,
             "#7201a8"
            ],
            [
             0.3333333333333333,
             "#9c179e"
            ],
            [
             0.4444444444444444,
             "#bd3786"
            ],
            [
             0.5555555555555556,
             "#d8576b"
            ],
            [
             0.6666666666666666,
             "#ed7953"
            ],
            [
             0.7777777777777778,
             "#fb9f3a"
            ],
            [
             0.8888888888888888,
             "#fdca26"
            ],
            [
             1,
             "#f0f921"
            ]
           ],
           "sequentialminus": [
            [
             0,
             "#0d0887"
            ],
            [
             0.1111111111111111,
             "#46039f"
            ],
            [
             0.2222222222222222,
             "#7201a8"
            ],
            [
             0.3333333333333333,
             "#9c179e"
            ],
            [
             0.4444444444444444,
             "#bd3786"
            ],
            [
             0.5555555555555556,
             "#d8576b"
            ],
            [
             0.6666666666666666,
             "#ed7953"
            ],
            [
             0.7777777777777778,
             "#fb9f3a"
            ],
            [
             0.8888888888888888,
             "#fdca26"
            ],
            [
             1,
             "#f0f921"
            ]
           ]
          },
          "colorway": [
           "#636efa",
           "#EF553B",
           "#00cc96",
           "#ab63fa",
           "#FFA15A",
           "#19d3f3",
           "#FF6692",
           "#B6E880",
           "#FF97FF",
           "#FECB52"
          ],
          "font": {
           "color": "#2a3f5f"
          },
          "geo": {
           "bgcolor": "white",
           "lakecolor": "white",
           "landcolor": "#E5ECF6",
           "showlakes": true,
           "showland": true,
           "subunitcolor": "white"
          },
          "hoverlabel": {
           "align": "left"
          },
          "hovermode": "closest",
          "mapbox": {
           "style": "light"
          },
          "paper_bgcolor": "white",
          "plot_bgcolor": "#E5ECF6",
          "polar": {
           "angularaxis": {
            "gridcolor": "white",
            "linecolor": "white",
            "ticks": ""
           },
           "bgcolor": "#E5ECF6",
           "radialaxis": {
            "gridcolor": "white",
            "linecolor": "white",
            "ticks": ""
           }
          },
          "scene": {
           "xaxis": {
            "backgroundcolor": "#E5ECF6",
            "gridcolor": "white",
            "gridwidth": 2,
            "linecolor": "white",
            "showbackground": true,
            "ticks": "",
            "zerolinecolor": "white"
           },
           "yaxis": {
            "backgroundcolor": "#E5ECF6",
            "gridcolor": "white",
            "gridwidth": 2,
            "linecolor": "white",
            "showbackground": true,
            "ticks": "",
            "zerolinecolor": "white"
           },
           "zaxis": {
            "backgroundcolor": "#E5ECF6",
            "gridcolor": "white",
            "gridwidth": 2,
            "linecolor": "white",
            "showbackground": true,
            "ticks": "",
            "zerolinecolor": "white"
           }
          },
          "shapedefaults": {
           "line": {
            "color": "#2a3f5f"
           }
          },
          "ternary": {
           "aaxis": {
            "gridcolor": "white",
            "linecolor": "white",
            "ticks": ""
           },
           "baxis": {
            "gridcolor": "white",
            "linecolor": "white",
            "ticks": ""
           },
           "bgcolor": "#E5ECF6",
           "caxis": {
            "gridcolor": "white",
            "linecolor": "white",
            "ticks": ""
           }
          },
          "title": {
           "x": 0.05
          },
          "xaxis": {
           "automargin": true,
           "gridcolor": "white",
           "linecolor": "white",
           "ticks": "",
           "title": {
            "standoff": 15
           },
           "zerolinecolor": "white",
           "zerolinewidth": 2
          },
          "yaxis": {
           "automargin": true,
           "gridcolor": "white",
           "linecolor": "white",
           "ticks": "",
           "title": {
            "standoff": 15
           },
           "zerolinecolor": "white",
           "zerolinewidth": 2
          }
         }
        },
        "title": {
         "text": "Distribuição de novas mortes nas UFs (mavg = 5 days)"
        },
        "width": 600
       }
      },
      "text/html": [
       "<div>\n",
       "        \n",
       "        \n",
       "            <div id=\"f03dc966-2227-4dc8-8e67-872bee7c2b93\" class=\"plotly-graph-div\" style=\"height:800px; width:600px;\"></div>\n",
       "            <script type=\"text/javascript\">\n",
       "                require([\"plotly\"], function(Plotly) {\n",
       "                    window.PLOTLYENV=window.PLOTLYENV || {};\n",
       "                    \n",
       "                if (document.getElementById(\"f03dc966-2227-4dc8-8e67-872bee7c2b93\")) {\n",
       "                    Plotly.newPlot(\n",
       "                        'f03dc966-2227-4dc8-8e67-872bee7c2b93',\n",
       "                        [{\"colorscale\": [[0.0, \"rgb(0, 147, 146)\"], [0.16666666666666666, \"rgb(57, 177, 133)\"], [0.3333333333333333, \"rgb(156, 203, 134)\"], [0.5, \"rgb(233, 226, 156)\"], [0.6666666666666666, \"rgb(238, 180, 121)\"], [0.8333333333333334, \"rgb(232, 132, 113)\"], [1.0, \"rgb(207, 89, 126)\"]], \"type\": \"heatmap\", \"x\": [\"2020-03-17\", \"2020-03-18\", \"2020-03-19\", \"2020-03-20\", \"2020-03-21\", \"2020-03-22\", \"2020-03-23\", \"2020-03-24\", \"2020-03-25\", \"2020-03-26\", \"2020-03-27\", \"2020-03-28\", \"2020-03-29\", \"2020-03-30\", \"2020-03-31\", \"2020-04-01\", \"2020-04-02\", \"2020-04-03\", \"2020-04-04\", \"2020-04-05\", \"2020-04-06\", \"2020-04-07\", \"2020-04-08\", \"2020-04-09\", \"2020-04-10\", \"2020-04-11\", \"2020-04-12\", \"2020-04-13\", \"2020-04-14\", \"2020-04-15\", \"2020-04-16\", \"2020-04-17\", \"2020-04-18\", \"2020-04-19\", \"2020-04-20\", \"2020-04-21\", \"2020-04-22\", \"2020-04-23\", \"2020-04-24\", \"2020-04-25\", \"2020-04-26\", \"2020-04-27\", \"2020-04-28\", \"2020-04-29\", \"2020-04-30\", \"2020-05-01\", \"2020-05-02\", \"2020-05-03\", \"2020-05-04\"], \"y\": [\"AC\", \"AL\", \"AM\", \"AP\", \"BA\", \"CE\", \"DF\", \"ES\", \"GO\", \"MA\", \"MG\", \"MS\", \"MT\", \"PA\", \"PB\", \"PE\", \"PI\", \"PR\", \"RJ\", \"RN\", \"RO\", \"RR\", \"RS\", \"SC\", \"SE\", \"SP\", \"TO\"], \"z\": [[0.0, 0.0, 0.0, 0.0, 0.0, 0.0, 0.0, 0.0, 0.0, 0.0, 0.0, 0.0, 0.0, 0.0, 0.0, 0.0, 0.0, 0.0, 0.0, 0.0, 0.009090909090909092, 0.02727272727272727, 0.045454545454545456, 0.06363636363636363, 0.08181818181818182, 0.09090909090909091, 0.09090909090909091, 0.1, 0.10909090909090909, 0.12727272727272726, 0.15454545454545454, 0.18181818181818182, 0.20909090909090908, 0.23636363636363636, 0.2727272727272727, 0.3, 0.32727272727272727, 0.36363636363636365, 0.4090909090909091, 0.43636363636363634, 0.4636363636363636, 0.5181818181818182, 0.5727272727272728, 0.6363636363636364, 0.7090909090909091, 0.7818181818181817, 0.8545454545454546, 0.9363636363636364, 1.0], [0.0, 0.0, 0.0, 0.0, 0.0, 0.0, 0.0, 0.0, 0.0, 0.0, 0.0, 0.0, 0.0, 0.0, 0.0036231884057971015, 0.007246376811594203, 0.010869565217391304, 0.018115942028985508, 0.02536231884057971, 0.028985507246376812, 0.03260869565217391, 0.036231884057971016, 0.036231884057971016, 0.03985507246376812, 0.043478260869565216, 0.04710144927536232, 0.05072463768115942, 0.057971014492753624, 0.06159420289855072, 0.06521739130434782, 0.06884057971014491, 0.07971014492753624, 0.09420289855072464, 0.12681159420289853, 0.17028985507246377, 0.21739130434782608, 0.2608695652173913, 0.30434782608695654, 0.34782608695652173, 0.3876811594202898, 0.43478260869565216, 0.4855072463768116, 0.5362318840579711, 0.5869565217391304, 0.6521739130434783, 0.7282608695652174, 0.8152173913043478, 0.9166666666666666, 1.0], [0.0, 0.0, 0.0, 0.0, 0.0, 0.0, 0.0, 0.000400320256204964, 0.000800640512409928, 0.0012009607686148918, 0.001601281024819856, 0.0020016012810248197, 0.0020016012810248197, 0.0024019215372297837, 0.003202562049639712, 0.0040032025620496394, 0.004803843074459567, 0.007205764611689351, 0.01120896717373899, 0.016012810248198558, 0.02241793434747798, 0.030424339471577258, 0.039631705364291434, 0.05084067253803042, 0.06485188150520416, 0.07846277021617294, 0.09407526020816653, 0.11048839071257005, 0.13050440352281825, 0.15292233787029624, 0.18134507606084865, 0.21457165732586067, 0.25060048038430743, 0.2870296236989592, 0.3186549239391513, 0.34627702161729385, 0.3706965572457966, 0.399919935948759, 0.4295436349079263, 0.47037630104083267, 0.5148118494795836, 0.5604483586869495, 0.6072858286629302, 0.6573258606885508, 0.7125700560448358, 0.7814251401120896, 0.8538831064851882, 0.932746196957566, 1.0], [0.0, 0.0, 0.0, 0.0, 0.0, 0.0, 0.0, 0.0, 0.0, 0.0, 0.0, 0.0, 0.0, 0.0, 0.0, 0.0, 0.0, 0.0, 0.005076142131979696, 0.010152284263959392, 0.020304568527918784, 0.030456852791878174, 0.04060913705583757, 0.045685279187817264, 0.050761421319796954, 0.06598984771573604, 0.08121827411167513, 0.10152284263959391, 0.12690355329949238, 0.15228426395939088, 0.17766497461928935, 0.20304568527918782, 0.22335025380710663, 0.2436548223350254, 0.2741116751269036, 0.2893401015228427, 0.3096446700507614, 0.3401015228426396, 0.3756345177664975, 0.41116751269035534, 0.4619289340101523, 0.5228426395939086, 0.583756345177665, 0.6497461928934011, 0.7208121827411167, 0.7918781725888325, 0.8629441624365483, 0.9390862944162437, 1.0], [0.0, 0.0, 0.0, 0.0, 0.0, 0.0, 0.0, 0.0, 0.0, 0.0, 0.0, 0.0, 0.0016806722689075631, 0.0050420168067226885, 0.008403361344537815, 0.011764705882352941, 0.01680672268907563, 0.025210084033613446, 0.03361344537815126, 0.04537815126050421, 0.058823529411764705, 0.07731092436974789, 0.09747899159663866, 0.11764705882352941, 0.13445378151260504, 0.15294117647058822, 0.1647058823529412, 0.17142857142857143, 0.18319327731092439, 0.19831932773109245, 0.22016806722689075, 0.24369747899159663, 0.2722689075630252, 0.3025210084033613, 0.3327731092436975, 0.3546218487394958, 0.3831932773109244, 0.42016806722689076, 0.45714285714285713, 0.4991596638655462, 0.5428571428571428, 0.5932773109243697, 0.6453781512605041, 0.7008403361344538, 0.7579831932773109, 0.8302521008403361, 0.8974789915966387, 0.9546218487394957, 1.0], [0.0, 0.0, 0.0, 0.0, 0.0, 0.0, 0.0, 0.0, 0.0, 0.0009950248756218905, 0.001990049751243781, 0.003316749585406302, 0.004975124378109453, 0.006633499170812604, 0.007960199004975124, 0.009950248756218905, 0.008623548922056384, 0.014262023217247097, 0.02023217247097844, 0.029519071310116086, 0.0384742951907131, 0.051741293532338306, 0.06334991708126037, 0.07462686567164178, 0.08524046434494195, 0.0978441127694859, 0.1097844112769486, 0.12404643449419568, 0.14195688225538972, 0.16086235489220563, 0.17777777777777778, 0.20398009950248755, 0.23051409618573798, 0.2563847429519071, 0.2835820895522388, 0.31542288557213927, 0.34295190713101165, 0.37280265339966834, 0.40696517412935324, 0.4464344941956882, 0.4975124378109453, 0.5499170812603649, 0.5983416252072968, 0.6504145936981758, 0.7054726368159203, 0.7595356550580431, 0.8391376451077943, 0.9250414593698175, 1.0], [0.0, 0.0, 0.0, 0.0, 0.0, 0.0, 0.0, 0.0, 0.0, 0.0, 0.0, 0.0, 0.006289308176100629, 0.018867924528301886, 0.03773584905660377, 0.06289308176100629, 0.09433962264150943, 0.12578616352201258, 0.15723270440251572, 0.18238993710691823, 0.22012578616352202, 0.2641509433962264, 0.3018867924528302, 0.339622641509434, 0.38364779874213834, 0.40880503144654085, 0.42138364779874216, 0.44025157232704404, 0.46540880503144655, 0.48427672955974843, 0.5220125786163522, 0.5849056603773585, 0.6415094339622641, 0.6855345911949685, 0.7295597484276729, 0.7547169811320754, 0.761006289308176, 0.7735849056603774, 0.7861635220125786, 0.8050314465408805, 0.8238993710691823, 0.8427672955974843, 0.8553459119496855, 0.8679245283018868, 0.8867924528301886, 0.9119496855345912, 0.9371069182389937, 0.9685534591194969, 1.0], [0.0, 0.0, 0.0, 0.0, 0.0, 0.0, 0.0, 0.0, 0.0, 0.0, 0.0, 0.0, 0.0, 0.0, 0.0, 0.0, 0.003824091778202677, 0.013384321223709368, 0.0248565965583174, 0.036328871892925434, 0.047801147227533466, 0.055449330783938815, 0.05736137667304016, 0.0592734225621415, 0.06309751434034416, 0.06883365200764818, 0.08413001912045891, 0.10516252390057362, 0.12619502868068833, 0.15105162523900575, 0.18546845124282982, 0.21032504780114725, 0.2332695984703633, 0.26195028680688337, 0.28489483747609945, 0.2963671128107075, 0.3135755258126195, 0.3384321223709369, 0.3632887189292543, 0.3977055449330784, 0.44168260038240925, 0.491395793499044, 0.5564053537284895, 0.627151051625239, 0.7055449330783939, 0.7896749521988528, 0.8680688336520077, 0.9407265774378586, 1.0], [0.0, 0.0, 0.0, 0.0, 0.0, 0.0, 0.0, 0.0, 0.0, 0.006993006993006993, 0.013986013986013986, 0.020979020979020976, 0.027972027972027972, 0.03496503496503496, 0.03496503496503496, 0.03496503496503496, 0.03496503496503496, 0.04195804195804195, 0.048951048951048945, 0.06293706293706293, 0.09090909090909091, 0.11888111888111887, 0.15384615384615385, 0.1888111888111888, 0.22377622377622378, 0.25874125874125875, 0.3216783216783216, 0.3776223776223776, 0.43356643356643354, 0.4825174825174825, 0.5244755244755245, 0.5384615384615384, 0.5594405594405594, 0.5804195804195804, 0.6083916083916083, 0.6293706293706294, 0.6643356643356643, 0.6993006993006993, 0.7342657342657343, 0.7692307692307692, 0.8041958041958042, 0.8391608391608392, 0.8601398601398601, 0.881118881118881, 0.9090909090909091, 0.9370629370629371, 0.9580419580419579, 0.979020979020979, 1.0], [0.0, 0.0, 0.0, 0.0, 0.0, 0.0, 0.0, 0.0, 0.0, 0.0, 0.0, 0.0, 0.0008598452278589854, 0.0017196904557179708, 0.0025795356835769563, 0.0034393809114359416, 0.004299226139294927, 0.004299226139294927, 0.005159071367153913, 0.0060189165950128975, 0.008598452278589854, 0.017196904557179708, 0.02665520206362855, 0.03869303525365434, 0.055030094582975066, 0.07222699914015478, 0.08598452278589853, 0.10318142734307825, 0.11865864144454, 0.13241616509028376, 0.1461736887360275, 0.16079105760963028, 0.17454858125537404, 0.19174548581255374, 0.2115219260533104, 0.23387790197764402, 0.26139294926913154, 0.29578675838349094, 0.3353396388650043, 0.38005159071367156, 0.4307824591573517, 0.4901117798796217, 0.5571797076526225, 0.6294067067927773, 0.708512467755804, 0.7936371453138436, 0.8727429062768702, 0.944110060189166, 1.0], [0.0, 0.0, 0.0, 0.0, 0.0, 0.0, 0.0, 0.0, 0.0, 0.0, 0.0, 0.0, 0.0, 0.002288329519450801, 0.006864988558352402, 0.013729977116704805, 0.02288329519450801, 0.036613272311212815, 0.04805491990846682, 0.05720823798627002, 0.07093821510297482, 0.08695652173913042, 0.10526315789473682, 0.12585812356979403, 0.15102974828375285, 0.16933638443935928, 0.18993135011441648, 0.21052631578947364, 0.23798627002288328, 0.2677345537757437, 0.30434782608695654, 0.33867276887871856, 0.3752860411899313, 0.40274599542334094, 0.4279176201372997, 0.45308924485125857, 0.48054919908466814, 0.5080091533180777, 0.5423340961098397, 0.5812356979405033, 0.620137299771167, 0.6544622425629291, 0.700228832951945, 0.7597254004576659, 0.8146453089244851, 0.8764302059496566, 0.9359267734553774, 0.977116704805492, 1.0], [0.0, 0.0, 0.0, 0.0, 0.0, 0.0, 0.0, 0.0, 0.0, 0.0, 0.0, 0.0, 0.0, 0.0, 0.02127659574468085, 0.0425531914893617, 0.06382978723404255, 0.0851063829787234, 0.10638297872340426, 0.10638297872340426, 0.10638297872340426, 0.1276595744680851, 0.14893617021276595, 0.1702127659574468, 0.19148936170212766, 0.2127659574468085, 0.2127659574468085, 0.2553191489361702, 0.2978723404255319, 0.3404255319148936, 0.40425531914893614, 0.46808510638297873, 0.4893617021276595, 0.5106382978723404, 0.5319148936170213, 0.5531914893617021, 0.574468085106383, 0.6170212765957447, 0.6595744680851063, 0.702127659574468, 0.7234042553191489, 0.7872340425531915, 0.8297872340425532, 0.8723404255319148, 0.9148936170212765, 0.9574468085106382, 0.9574468085106382, 0.978723404255319, 1.0], [0.0, 0.0, 0.0, 0.0, 0.0, 0.0, 0.0, 0.0, 0.0, 0.0, 0.0, 0.0, 0.0, 0.0, 0.0, 0.0, 0.0, 0.01886792452830189, 0.03773584905660378, 0.05660377358490566, 0.07547169811320756, 0.09433962264150944, 0.09433962264150944, 0.11320754716981132, 0.1320754716981132, 0.169811320754717, 0.2075471698113208, 0.2641509433962264, 0.30188679245283023, 0.339622641509434, 0.37735849056603776, 0.4150943396226416, 0.43396226415094336, 0.4528301886792453, 0.4905660377358491, 0.5094339622641509, 0.5283018867924528, 0.5660377358490566, 0.6226415094339622, 0.679245283018868, 0.7358490566037736, 0.7924528301886793, 0.8490566037735849, 0.8867924528301887, 0.9056603773584906, 0.9245283018867926, 0.9622641509433962, 0.9811320754716982, 1.0], [0.0, 0.0, 0.0, 0.0, 0.0, 0.0, 0.0, 0.0, 0.0, 0.0, 0.0, 0.0, 0.0, 0.0, 0.0, 0.0007007708479327261, 0.0014015416958654521, 0.002102312543798178, 0.0028030833917309043, 0.0035038542396636303, 0.006306937631394535, 0.009110021023125438, 0.01261387526278907, 0.016818500350385426, 0.022424667133847234, 0.026629292221443588, 0.032936229852838124, 0.038542396636299936, 0.0483531885073581, 0.056762438682550806, 0.0672740014015417, 0.07988787666433077, 0.09320252277505257, 0.102312543798178, 0.11212333566923617, 0.12053258584442887, 0.12824106517168887, 0.1422564821303434, 0.17869656622284513, 0.22074281709880872, 0.2740014015416959, 0.3293622985283812, 0.3847231955150666, 0.4337771548703574, 0.524176594253679, 0.6285914505956552, 0.7575332866152769, 0.8871758934828311, 1.0], [0.0, 0.0, 0.0, 0.0, 0.0, 0.0, 0.0, 0.0, 0.0, 0.0, 0.0, 0.0, 0.0, 0.0, 0.002666666666666667, 0.005333333333333334, 0.008, 0.010666666666666668, 0.018666666666666665, 0.02666666666666667, 0.034666666666666665, 0.04266666666666667, 0.05866666666666667, 0.08, 0.09866666666666667, 0.12266666666666666, 0.14666666666666667, 0.1706666666666667, 0.19733333333333333, 0.23199999999999998, 0.26666666666666666, 0.30666666666666664, 0.3413333333333334, 0.3706666666666667, 0.39466666666666667, 0.42933333333333334, 0.4613333333333334, 0.5013333333333333, 0.5386666666666666, 0.5813333333333334, 0.6106666666666666, 0.6453333333333333, 0.68, 0.7226666666666667, 0.7706666666666666, 0.8346666666666667, 0.896, 0.9546666666666666, 1.0], [0.0, 0.0, 0.0, 0.0, 0.0, 0.0, 0.0, 0.0, 0.00032862306933946765, 0.0009858692080184027, 0.0019717384160368055, 0.003286230693394676, 0.004600722970752547, 0.005915215248110417, 0.0069010844561288205, 0.00821557673348669, 0.00953006901084456, 0.011173184357541898, 0.013802168912257641, 0.018731514952349655, 0.025961222477817944, 0.034176799211304634, 0.046007229707525465, 0.059809398619783107, 0.07426881367071969, 0.08807098258297733, 0.10483075911929017, 0.12323365100230035, 0.14262241209332893, 0.16825501150180744, 0.19717384160368057, 0.23036477160696678, 0.264212947748932, 0.2974038777522182, 0.32730857706210975, 0.3601708839960565, 0.3917186986526454, 0.42688136707196844, 0.47025961222477813, 0.5185672034176799, 0.5695037791652974, 0.6247124548143279, 0.6891225764048635, 0.7515609595793624, 0.8120276043378245, 0.8734801183043049, 0.9316464015773906, 0.9707525468287873, 1.0], [0.0, 0.0, 0.0, 0.0, 0.0, 0.0, 0.0, 0.0, 0.0, 0.0, 0.007462686567164179, 0.014925373134328358, 0.022388059701492536, 0.05223880597014925, 0.08208955223880597, 0.1044776119402985, 0.12686567164179105, 0.14925373134328357, 0.14925373134328357, 0.14925373134328357, 0.14925373134328357, 0.15671641791044777, 0.17164179104477612, 0.19402985074626866, 0.21641791044776118, 0.23880597014925373, 0.2537313432835821, 0.26865671641791045, 0.27611940298507465, 0.2835820895522388, 0.291044776119403, 0.3059701492537313, 0.3208955223880597, 0.35074626865671643, 0.39552238805970147, 0.44776119402985076, 0.4925373134328358, 0.5373134328358209, 0.5746268656716418, 0.6044776119402985, 0.6417910447761194, 0.6865671641791045, 0.7462686567164178, 0.7985074626865671, 0.8432835820895522, 0.8880597014925373, 0.9402985074626865, 0.9701492537313433, 1.0], [0.0, 0.0, 0.0, 0.0, 0.0, 0.0, 0.0, 0.0, 0.0, 0.0, 0.0044943820224719105, 0.008988764044943821, 0.01348314606741573, 0.020224719101123598, 0.02696629213483146, 0.029213483146067417, 0.033707865168539325, 0.040449438202247195, 0.04943820224719102, 0.0651685393258427, 0.0898876404494382, 0.1146067415730337, 0.14157303370786517, 0.17752808988764046, 0.21123595505617979, 0.23820224719101124, 0.27191011235955054, 0.3056179775280899, 0.3393258426966292, 0.3730337078651686, 0.4067415730337079, 0.4337078651685393, 0.46741573033707867, 0.4943820224719101, 0.5191011235955056, 0.5460674157303371, 0.5820224719101124, 0.6112359550561798, 0.6449438202247191, 0.6853932584269663, 0.7303370786516854, 0.7685393258426967, 0.8067415730337079, 0.8449438202247191, 0.8831460674157303, 0.9191011235955056, 0.952808988764045, 0.9820224719101124, 1.0], [0.0, 0.0, 0.00041806020066889637, 0.0008361204013377927, 0.001463210702341137, 0.0020903010033444815, 0.002926421404682274, 0.003762541806020067, 0.005016722408026756, 0.006270903010033445, 0.007734113712374583, 0.009615384615384616, 0.011914715719063546, 0.014005016722408028, 0.0169314381270903, 0.020693979933110368, 0.026546822742474916, 0.03281772575250836, 0.04117892976588629, 0.049749163879598664, 0.058737458193979936, 0.06877090301003344, 0.08110367892976589, 0.09448160535117058, 0.11183110367892977, 0.12938963210702342, 0.14632107023411373, 0.16220735785953178, 0.1835284280936455, 0.20819397993311037, 0.2387123745819398, 0.2744565217391305, 0.31730769230769235, 0.35451505016722407, 0.3873327759197325, 0.42035953177257523, 0.45150501672240806, 0.48118729096989965, 0.516304347826087, 0.5566471571906355, 0.5955267558528428, 0.6346153846153847, 0.6783026755852843, 0.7251254180602007, 0.7750836120401339, 0.8327759197324415, 0.8942307692307693, 0.9529682274247492, 1.0], [0.0, 0.0, 0.0, 0.0, 0.0, 0.0, 0.0, 0.0, 0.0, 0.0, 0.0, 0.0036363636363636364, 0.007272727272727273, 0.010909090909090908, 0.014545454545454545, 0.021818181818181816, 0.025454545454545452, 0.03636363636363636, 0.04727272727272727, 0.06909090909090909, 0.08727272727272727, 0.10909090909090909, 0.13454545454545455, 0.16, 0.17454545454545453, 0.19636363636363638, 0.2290909090909091, 0.2545454545454545, 0.28363636363636363, 0.31636363636363635, 0.3527272727272727, 0.3781818181818182, 0.40727272727272723, 0.43636363636363634, 0.46545454545454545, 0.4872727272727273, 0.5236363636363637, 0.5636363636363636, 0.6072727272727273, 0.6618181818181817, 0.7163636363636363, 0.7636363636363637, 0.8218181818181819, 0.88, 0.9236363636363636, 0.9636363636363636, 0.9927272727272728, 1.0, 1.0], [0.0, 0.0, 0.0, 0.0, 0.0, 0.0, 0.0, 0.0, 0.0, 0.0, 0.0, 0.0, 0.0, 0.009615384615384616, 0.019230769230769232, 0.028846153846153844, 0.038461538461538464, 0.04807692307692307, 0.04807692307692307, 0.04807692307692307, 0.04807692307692307, 0.04807692307692307, 0.04807692307692307, 0.05769230769230769, 0.0673076923076923, 0.07692307692307693, 0.08653846153846154, 0.09615384615384615, 0.09615384615384615, 0.09615384615384615, 0.10576923076923077, 0.11538461538461538, 0.1346153846153846, 0.15384615384615385, 0.17307692307692307, 0.1923076923076923, 0.21153846153846154, 0.22115384615384612, 0.23076923076923075, 0.25, 0.28846153846153844, 0.3269230769230769, 0.375, 0.4615384615384615, 0.5480769230769231, 0.6346153846153846, 0.7692307692307692, 0.9038461538461539, 1.0], [0.0, 0.0, 0.0, 0.0, 0.0, 0.0, 0.0, 0.0, 0.0, 0.0, 0.0, 0.0, 0.0, 0.0, 0.0, 0.0, 0.0, 0.028571428571428574, 0.05714285714285715, 0.08571428571428572, 0.1142857142857143, 0.14285714285714285, 0.14285714285714285, 0.17142857142857143, 0.2285714285714286, 0.2857142857142857, 0.34285714285714286, 0.39999999999999997, 0.42857142857142855, 0.42857142857142855, 0.42857142857142855, 0.42857142857142855, 0.42857142857142855, 0.42857142857142855, 0.42857142857142855, 0.42857142857142855, 0.42857142857142855, 0.42857142857142855, 0.42857142857142855, 0.4571428571428572, 0.4857142857142857, 0.5142857142857143, 0.5428571428571428, 0.5714285714285714, 0.6571428571428571, 0.7428571428571429, 0.8285714285714285, 0.9142857142857144, 1.0], [0.0, 0.0, 0.0, 0.0, 0.0, 0.0, 0.0, 0.0, 0.0031347962382445144, 0.006269592476489029, 0.012539184952978058, 0.018808777429467086, 0.025078369905956115, 0.03448275862068966, 0.0438871473354232, 0.05329153605015674, 0.06269592476489029, 0.07523510971786834, 0.08463949843260189, 0.09404388714733543, 0.10344827586206896, 0.11285266457680251, 0.12539184952978058, 0.14733542319749218, 0.1724137931034483, 0.1974921630094044, 0.2225705329153605, 0.2445141065830721, 0.25705329153605017, 0.26959247648902823, 0.2852664576802508, 0.3103448275862069, 0.3322884012539185, 0.35736677115987464, 0.3824451410658307, 0.40125391849529785, 0.41379310344827586, 0.42946708463949845, 0.4545454545454546, 0.4796238244514107, 0.5141065830721003, 0.5673981191222571, 0.6300940438871474, 0.6833855799373041, 0.755485893416928, 0.8307210031347962, 0.8934169278996865, 0.9498432601880878, 1.0], [0.0, 0.0, 0.0, 0.0, 0.0, 0.0, 0.0, 0.0, 0.0, 0.003937007874015749, 0.007874015748031498, 0.011811023622047244, 0.015748031496062995, 0.023622047244094488, 0.027559055118110236, 0.03149606299212599, 0.047244094488188976, 0.06299212598425198, 0.09448818897637795, 0.12598425196850396, 0.16141732283464566, 0.20078740157480315, 0.24803149606299213, 0.2795275590551181, 0.31102362204724415, 0.3503937007874016, 0.38582677165354334, 0.421259842519685, 0.46062992125984253, 0.5039370078740159, 0.5393700787401575, 0.5669291338582677, 0.5905511811023623, 0.6181102362204725, 0.641732283464567, 0.6692913385826772, 0.7007874015748032, 0.7401574803149606, 0.767716535433071, 0.7952755905511811, 0.8188976377952757, 0.8385826771653544, 0.8464566929133859, 0.8622047244094488, 0.8858267716535434, 0.9133858267716536, 0.9448818897637796, 0.9763779527559056, 1.0], [0.0, 0.0, 0.0, 0.0, 0.0, 0.0, 0.0, 0.0, 0.0, 0.0, 0.0, 0.0, 0.0, 0.0, 0.0, 0.0, 0.028571428571428574, 0.05714285714285715, 0.09999999999999999, 0.14285714285714285, 0.19999999999999998, 0.2285714285714286, 0.2571428571428572, 0.2714285714285714, 0.2857142857142857, 0.2857142857142857, 0.2857142857142857, 0.2857142857142857, 0.2857142857142857, 0.2857142857142857, 0.2857142857142857, 0.2857142857142857, 0.3, 0.31428571428571433, 0.32857142857142857, 0.37142857142857144, 0.41428571428571426, 0.4571428571428572, 0.5, 0.5571428571428572, 0.5857142857142856, 0.6428571428571429, 0.6857142857142857, 0.7285714285714285, 0.7999999999999999, 0.8714285714285713, 0.9142857142857144, 0.9571428571428572, 1.0], [7.857928650007859e-05, 0.00031431714600031437, 0.0007072135785007072, 0.0014144271570014145, 0.002121640735502122, 0.0027502750275027505, 0.003221750746503222, 0.0035360678925035363, 0.006600660066006602, 0.010372465818010372, 0.014930064435014932, 0.019487663052019488, 0.02404526166902405, 0.029074336005029077, 0.0352035203520352, 0.04282571114254283, 0.05233380480905233, 0.06427785635706428, 0.07590759075907591, 0.08690869086908691, 0.09790979097909791, 0.1122898004086123, 0.12871287128712874, 0.1471790036146472, 0.16800251453716802, 0.18811881188118815, 0.2051705170517052, 0.21931478862171935, 0.23503064592173506, 0.25373251610875375, 0.2767562470532768, 0.3034732044633035, 0.3335690711928336, 0.35871444287285875, 0.37906647807637905, 0.39792550683639794, 0.41411283985541414, 0.44192990727644194, 0.48098381266698104, 0.5304887631620305, 0.5781863900675782, 0.6324846770391325, 0.6878044947351878, 0.7455602703127456, 0.8011944051548012, 0.864922206506365, 0.9247210435329247, 0.9701398711299701, 1.0], [0.0, 0.0, 0.0, 0.0, 0.0, 0.0, 0.0, 0.0, 0.0, 0.0, 0.0, 0.0, 0.0, 0.0, 0.0, 0.0, 0.0, 0.0, 0.0, 0.0, 0.0, 0.0, 0.0, 0.0, 0.0, 0.0, 0.0, 0.0, 0.0, 0.052631578947368425, 0.10526315789473685, 0.15789473684210525, 0.2105263157894737, 0.2631578947368421, 0.3157894736842105, 0.3684210526315789, 0.4210526315789474, 0.4736842105263158, 0.5263157894736842, 0.5263157894736842, 0.5263157894736842, 0.5263157894736842, 0.5263157894736842, 0.5789473684210527, 0.631578947368421, 0.7368421052631579, 0.8421052631578948, 0.9473684210526316, 1.0]]}],\n",
       "                        {\"height\": 800, \"template\": {\"data\": {\"bar\": [{\"error_x\": {\"color\": \"#2a3f5f\"}, \"error_y\": {\"color\": \"#2a3f5f\"}, \"marker\": {\"line\": {\"color\": \"#E5ECF6\", \"width\": 0.5}}, \"type\": \"bar\"}], \"barpolar\": [{\"marker\": {\"line\": {\"color\": \"#E5ECF6\", \"width\": 0.5}}, \"type\": \"barpolar\"}], \"carpet\": [{\"aaxis\": {\"endlinecolor\": \"#2a3f5f\", \"gridcolor\": \"white\", \"linecolor\": \"white\", \"minorgridcolor\": \"white\", \"startlinecolor\": \"#2a3f5f\"}, \"baxis\": {\"endlinecolor\": \"#2a3f5f\", \"gridcolor\": \"white\", \"linecolor\": \"white\", \"minorgridcolor\": \"white\", \"startlinecolor\": \"#2a3f5f\"}, \"type\": \"carpet\"}], \"choropleth\": [{\"colorbar\": {\"outlinewidth\": 0, \"ticks\": \"\"}, \"type\": \"choropleth\"}], \"contour\": [{\"colorbar\": {\"outlinewidth\": 0, \"ticks\": \"\"}, \"colorscale\": [[0.0, \"#0d0887\"], [0.1111111111111111, \"#46039f\"], [0.2222222222222222, \"#7201a8\"], [0.3333333333333333, \"#9c179e\"], [0.4444444444444444, \"#bd3786\"], [0.5555555555555556, \"#d8576b\"], [0.6666666666666666, \"#ed7953\"], [0.7777777777777778, \"#fb9f3a\"], [0.8888888888888888, \"#fdca26\"], [1.0, \"#f0f921\"]], \"type\": \"contour\"}], \"contourcarpet\": [{\"colorbar\": {\"outlinewidth\": 0, \"ticks\": \"\"}, \"type\": \"contourcarpet\"}], \"heatmap\": [{\"colorbar\": {\"outlinewidth\": 0, \"ticks\": \"\"}, \"colorscale\": [[0.0, \"#0d0887\"], [0.1111111111111111, \"#46039f\"], [0.2222222222222222, \"#7201a8\"], [0.3333333333333333, \"#9c179e\"], [0.4444444444444444, \"#bd3786\"], [0.5555555555555556, \"#d8576b\"], [0.6666666666666666, \"#ed7953\"], [0.7777777777777778, \"#fb9f3a\"], [0.8888888888888888, \"#fdca26\"], [1.0, \"#f0f921\"]], \"type\": \"heatmap\"}], \"heatmapgl\": [{\"colorbar\": {\"outlinewidth\": 0, \"ticks\": \"\"}, \"colorscale\": [[0.0, \"#0d0887\"], [0.1111111111111111, \"#46039f\"], [0.2222222222222222, \"#7201a8\"], [0.3333333333333333, \"#9c179e\"], [0.4444444444444444, \"#bd3786\"], [0.5555555555555556, \"#d8576b\"], [0.6666666666666666, \"#ed7953\"], [0.7777777777777778, \"#fb9f3a\"], [0.8888888888888888, \"#fdca26\"], [1.0, \"#f0f921\"]], \"type\": \"heatmapgl\"}], \"histogram\": [{\"marker\": {\"colorbar\": {\"outlinewidth\": 0, \"ticks\": \"\"}}, \"type\": \"histogram\"}], \"histogram2d\": [{\"colorbar\": {\"outlinewidth\": 0, \"ticks\": \"\"}, \"colorscale\": [[0.0, \"#0d0887\"], [0.1111111111111111, \"#46039f\"], [0.2222222222222222, \"#7201a8\"], [0.3333333333333333, \"#9c179e\"], [0.4444444444444444, \"#bd3786\"], [0.5555555555555556, \"#d8576b\"], [0.6666666666666666, \"#ed7953\"], [0.7777777777777778, \"#fb9f3a\"], [0.8888888888888888, \"#fdca26\"], [1.0, \"#f0f921\"]], \"type\": \"histogram2d\"}], \"histogram2dcontour\": [{\"colorbar\": {\"outlinewidth\": 0, \"ticks\": \"\"}, \"colorscale\": [[0.0, \"#0d0887\"], [0.1111111111111111, \"#46039f\"], [0.2222222222222222, \"#7201a8\"], [0.3333333333333333, \"#9c179e\"], [0.4444444444444444, \"#bd3786\"], [0.5555555555555556, \"#d8576b\"], [0.6666666666666666, \"#ed7953\"], [0.7777777777777778, \"#fb9f3a\"], [0.8888888888888888, \"#fdca26\"], [1.0, \"#f0f921\"]], \"type\": \"histogram2dcontour\"}], \"mesh3d\": [{\"colorbar\": {\"outlinewidth\": 0, \"ticks\": \"\"}, \"type\": \"mesh3d\"}], \"parcoords\": [{\"line\": {\"colorbar\": {\"outlinewidth\": 0, \"ticks\": \"\"}}, \"type\": \"parcoords\"}], \"pie\": [{\"automargin\": true, \"type\": \"pie\"}], \"scatter\": [{\"marker\": {\"colorbar\": {\"outlinewidth\": 0, \"ticks\": \"\"}}, \"type\": \"scatter\"}], \"scatter3d\": [{\"line\": {\"colorbar\": {\"outlinewidth\": 0, \"ticks\": \"\"}}, \"marker\": {\"colorbar\": {\"outlinewidth\": 0, \"ticks\": \"\"}}, \"type\": \"scatter3d\"}], \"scattercarpet\": [{\"marker\": {\"colorbar\": {\"outlinewidth\": 0, \"ticks\": \"\"}}, \"type\": \"scattercarpet\"}], \"scattergeo\": [{\"marker\": {\"colorbar\": {\"outlinewidth\": 0, \"ticks\": \"\"}}, \"type\": \"scattergeo\"}], \"scattergl\": [{\"marker\": {\"colorbar\": {\"outlinewidth\": 0, \"ticks\": \"\"}}, \"type\": \"scattergl\"}], \"scattermapbox\": [{\"marker\": {\"colorbar\": {\"outlinewidth\": 0, \"ticks\": \"\"}}, \"type\": \"scattermapbox\"}], \"scatterpolar\": [{\"marker\": {\"colorbar\": {\"outlinewidth\": 0, \"ticks\": \"\"}}, \"type\": \"scatterpolar\"}], \"scatterpolargl\": [{\"marker\": {\"colorbar\": {\"outlinewidth\": 0, \"ticks\": \"\"}}, \"type\": \"scatterpolargl\"}], \"scatterternary\": [{\"marker\": {\"colorbar\": {\"outlinewidth\": 0, \"ticks\": \"\"}}, \"type\": \"scatterternary\"}], \"surface\": [{\"colorbar\": {\"outlinewidth\": 0, \"ticks\": \"\"}, \"colorscale\": [[0.0, \"#0d0887\"], [0.1111111111111111, \"#46039f\"], [0.2222222222222222, \"#7201a8\"], [0.3333333333333333, \"#9c179e\"], [0.4444444444444444, \"#bd3786\"], [0.5555555555555556, \"#d8576b\"], [0.6666666666666666, \"#ed7953\"], [0.7777777777777778, \"#fb9f3a\"], [0.8888888888888888, \"#fdca26\"], [1.0, \"#f0f921\"]], \"type\": \"surface\"}], \"table\": [{\"cells\": {\"fill\": {\"color\": \"#EBF0F8\"}, \"line\": {\"color\": \"white\"}}, \"header\": {\"fill\": {\"color\": \"#C8D4E3\"}, \"line\": {\"color\": \"white\"}}, \"type\": \"table\"}]}, \"layout\": {\"annotationdefaults\": {\"arrowcolor\": \"#2a3f5f\", \"arrowhead\": 0, \"arrowwidth\": 1}, \"coloraxis\": {\"colorbar\": {\"outlinewidth\": 0, \"ticks\": \"\"}}, \"colorscale\": {\"diverging\": [[0, \"#8e0152\"], [0.1, \"#c51b7d\"], [0.2, \"#de77ae\"], [0.3, \"#f1b6da\"], [0.4, \"#fde0ef\"], [0.5, \"#f7f7f7\"], [0.6, \"#e6f5d0\"], [0.7, \"#b8e186\"], [0.8, \"#7fbc41\"], [0.9, \"#4d9221\"], [1, \"#276419\"]], \"sequential\": [[0.0, \"#0d0887\"], [0.1111111111111111, \"#46039f\"], [0.2222222222222222, \"#7201a8\"], [0.3333333333333333, \"#9c179e\"], [0.4444444444444444, \"#bd3786\"], [0.5555555555555556, \"#d8576b\"], [0.6666666666666666, \"#ed7953\"], [0.7777777777777778, \"#fb9f3a\"], [0.8888888888888888, \"#fdca26\"], [1.0, \"#f0f921\"]], \"sequentialminus\": [[0.0, \"#0d0887\"], [0.1111111111111111, \"#46039f\"], [0.2222222222222222, \"#7201a8\"], [0.3333333333333333, \"#9c179e\"], [0.4444444444444444, \"#bd3786\"], [0.5555555555555556, \"#d8576b\"], [0.6666666666666666, \"#ed7953\"], [0.7777777777777778, \"#fb9f3a\"], [0.8888888888888888, \"#fdca26\"], [1.0, \"#f0f921\"]]}, \"colorway\": [\"#636efa\", \"#EF553B\", \"#00cc96\", \"#ab63fa\", \"#FFA15A\", \"#19d3f3\", \"#FF6692\", \"#B6E880\", \"#FF97FF\", \"#FECB52\"], \"font\": {\"color\": \"#2a3f5f\"}, \"geo\": {\"bgcolor\": \"white\", \"lakecolor\": \"white\", \"landcolor\": \"#E5ECF6\", \"showlakes\": true, \"showland\": true, \"subunitcolor\": \"white\"}, \"hoverlabel\": {\"align\": \"left\"}, \"hovermode\": \"closest\", \"mapbox\": {\"style\": \"light\"}, \"paper_bgcolor\": \"white\", \"plot_bgcolor\": \"#E5ECF6\", \"polar\": {\"angularaxis\": {\"gridcolor\": \"white\", \"linecolor\": \"white\", \"ticks\": \"\"}, \"bgcolor\": \"#E5ECF6\", \"radialaxis\": {\"gridcolor\": \"white\", \"linecolor\": \"white\", \"ticks\": \"\"}}, \"scene\": {\"xaxis\": {\"backgroundcolor\": \"#E5ECF6\", \"gridcolor\": \"white\", \"gridwidth\": 2, \"linecolor\": \"white\", \"showbackground\": true, \"ticks\": \"\", \"zerolinecolor\": \"white\"}, \"yaxis\": {\"backgroundcolor\": \"#E5ECF6\", \"gridcolor\": \"white\", \"gridwidth\": 2, \"linecolor\": \"white\", \"showbackground\": true, \"ticks\": \"\", \"zerolinecolor\": \"white\"}, \"zaxis\": {\"backgroundcolor\": \"#E5ECF6\", \"gridcolor\": \"white\", \"gridwidth\": 2, \"linecolor\": \"white\", \"showbackground\": true, \"ticks\": \"\", \"zerolinecolor\": \"white\"}}, \"shapedefaults\": {\"line\": {\"color\": \"#2a3f5f\"}}, \"ternary\": {\"aaxis\": {\"gridcolor\": \"white\", \"linecolor\": \"white\", \"ticks\": \"\"}, \"baxis\": {\"gridcolor\": \"white\", \"linecolor\": \"white\", \"ticks\": \"\"}, \"bgcolor\": \"#E5ECF6\", \"caxis\": {\"gridcolor\": \"white\", \"linecolor\": \"white\", \"ticks\": \"\"}}, \"title\": {\"x\": 0.05}, \"xaxis\": {\"automargin\": true, \"gridcolor\": \"white\", \"linecolor\": \"white\", \"ticks\": \"\", \"title\": {\"standoff\": 15}, \"zerolinecolor\": \"white\", \"zerolinewidth\": 2}, \"yaxis\": {\"automargin\": true, \"gridcolor\": \"white\", \"linecolor\": \"white\", \"ticks\": \"\", \"title\": {\"standoff\": 15}, \"zerolinecolor\": \"white\", \"zerolinewidth\": 2}}}, \"title\": {\"text\": \"Distribui\\u00e7\\u00e3o de novas mortes nas UFs (mavg = 5 days)\"}, \"width\": 600},\n",
       "                        {\"responsive\": true}\n",
       "                    ).then(function(){\n",
       "                            \n",
       "var gd = document.getElementById('f03dc966-2227-4dc8-8e67-872bee7c2b93');\n",
       "var x = new MutationObserver(function (mutations, observer) {{\n",
       "        var display = window.getComputedStyle(gd).display;\n",
       "        if (!display || display === 'none') {{\n",
       "            console.log([gd, 'removed!']);\n",
       "            Plotly.purge(gd);\n",
       "            observer.disconnect();\n",
       "        }}\n",
       "}});\n",
       "\n",
       "// Listen for the removal of the full notebook cells\n",
       "var notebookContainer = gd.closest('#notebook-container');\n",
       "if (notebookContainer) {{\n",
       "    x.observe(notebookContainer, {childList: true});\n",
       "}}\n",
       "\n",
       "// Listen for the clearing of the current output cell\n",
       "var outputEl = gd.closest('.output');\n",
       "if (outputEl) {{\n",
       "    x.observe(outputEl, {childList: true});\n",
       "}}\n",
       "\n",
       "                        })\n",
       "                };\n",
       "                });\n",
       "            </script>\n",
       "        </div>"
      ]
     },
     "metadata": {},
     "output_type": "display_data"
    }
   ],
   "source": [
    "plot_deaths_heatmap(df_deaths, 'state',\n",
    "                    title='Distribuição de novas mortes nas UFs (mavg = 5 days)')"
   ]
  },
  {
   "cell_type": "markdown",
   "metadata": {},
   "source": [
    "## Cities heatmap"
   ]
  },
  {
   "cell_type": "code",
   "execution_count": null,
   "metadata": {},
   "outputs": [],
   "source": [
    "df_heatmap = state_df_deaths.reset_index()\\\n",
    "                      .pivot(index='state', \n",
    "                              columns='date', \n",
    "                              values='rolling_deaths_new')\\\n",
    "                       .fillna(0)\\\n",
    "                       .apply(lambda x: x/x.max(), axis=1)\n",
    "\n",
    "# remove days with all states zero\n",
    "df_heatmap = df_heatmap.loc[:, (df_heatmap != 0).any(axis=0)]\n",
    "\n",
    "def df_to_plotly(df):\n",
    "    return {'z': df.values.tolist(),\n",
    "            'x': df.columns.tolist(),\n",
    "            'y': df.index.tolist()}\n",
    "\n",
    "fig = go.Figure(data=go.Heatmap(df_to_plotly(df_heatmap), colorscale='temps'), \n",
    "                layout={'width': 600,\n",
    "                        'height': 600,\n",
    "                        'title': 'Distribuição de novas mortes nas UFs (mavg = 5 days)'})\n",
    "fig.show()"
   ]
  },
  {
   "cell_type": "code",
   "execution_count": 20,
   "metadata": {},
   "outputs": [],
   "source": [
    "state = 'RS'"
   ]
  },
  {
   "cell_type": "code",
   "execution_count": 21,
   "metadata": {},
   "outputs": [],
   "source": [
    "df_deaths = df[(~df['deaths'].isnull()) & (df['state'] == state)][['city', \n",
    "                                                                 'last_updated', \n",
    "                                                                 'deaths']]\n",
    "\n",
    "df_deaths['rolling_deaths_new'] = df_deaths.groupby('city', \n",
    "                                                as_index=False, \n",
    "                                                group_keys=False)\\\n",
    "                                          .apply(get_rolling_amount)"
   ]
  },
  {
   "cell_type": "code",
   "execution_count": 23,
   "metadata": {},
   "outputs": [
    {
     "name": "stdout",
     "output_type": "stream",
     "text": [
      "30\n"
     ]
    },
    {
     "data": {
      "application/vnd.plotly.v1+json": {
       "config": {
        "plotlyServerURL": "https://plot.ly"
       },
       "data": [
        {
         "colorscale": [
          [
           0,
           "rgb(0, 147, 146)"
          ],
          [
           0.16666666666666666,
           "rgb(57, 177, 133)"
          ],
          [
           0.3333333333333333,
           "rgb(156, 203, 134)"
          ],
          [
           0.5,
           "rgb(233, 226, 156)"
          ],
          [
           0.6666666666666666,
           "rgb(238, 180, 121)"
          ],
          [
           0.8333333333333334,
           "rgb(232, 132, 113)"
          ],
          [
           1,
           "rgb(207, 89, 126)"
          ]
         ],
         "type": "heatmap",
         "x": [
          "2020-03-25",
          "2020-03-26",
          "2020-03-27",
          "2020-03-28",
          "2020-03-29",
          "2020-03-30",
          "2020-03-31",
          "2020-04-01",
          "2020-04-02",
          "2020-04-03",
          "2020-04-04",
          "2020-04-05",
          "2020-04-06",
          "2020-04-07",
          "2020-04-08",
          "2020-04-09",
          "2020-04-10",
          "2020-04-11",
          "2020-04-12",
          "2020-04-13",
          "2020-04-14",
          "2020-04-15",
          "2020-04-16",
          "2020-04-17",
          "2020-04-18",
          "2020-04-19",
          "2020-04-20",
          "2020-04-21",
          "2020-04-22",
          "2020-04-23",
          "2020-04-24",
          "2020-04-25",
          "2020-04-26",
          "2020-04-27",
          "2020-04-28",
          "2020-04-29",
          "2020-04-30",
          "2020-05-01",
          "2020-05-02",
          "2020-05-03",
          "2020-05-04"
         ],
         "y": [
          "Alvorada",
          "Arroio do Sal",
          "Bento Gonçalves",
          "Canoas",
          "Cerro Grande do Sul",
          "Cidreira",
          "Cruzeiro do Sul",
          "Dom Pedrito",
          "Encruzilhada do Sul",
          "Estrela",
          "Garibaldi",
          "Gravataí",
          "Ibirapuitã",
          "Ivoti",
          "Lajeado",
          "Marau",
          "Monte Belo do Sul",
          "Novo Hamburgo",
          "Passo Fundo",
          "Porto Alegre",
          "Quaraí",
          "Rio Grande",
          "Santo Ângelo",
          "Serafina Corrêa",
          "São Leopoldo",
          "Tio Hugo",
          "Tramandaí",
          "Tunas",
          "Vacaria",
          "Venâncio Aires"
         ],
         "z": [
          [
           0,
           0,
           0,
           0,
           0,
           0,
           0,
           0,
           0,
           0,
           0,
           0,
           0,
           0,
           0.2,
           0.4,
           0.6,
           0.8,
           1,
           1,
           1,
           1,
           1,
           1,
           1,
           1,
           1,
           1,
           1,
           1,
           1,
           1,
           1,
           1,
           1,
           1,
           1,
           1,
           1,
           1,
           1
          ],
          [
           0,
           0,
           0,
           0,
           0,
           0,
           0,
           0,
           0,
           0,
           0,
           0,
           0,
           0,
           0,
           0,
           0,
           0,
           0,
           0,
           0,
           0,
           0,
           0.2,
           0.4,
           0.6,
           0.8,
           1,
           1,
           1,
           1,
           1,
           1,
           1,
           1,
           1,
           1,
           1,
           1,
           1,
           1
          ],
          [
           0,
           0,
           0,
           0,
           0,
           0,
           0,
           0,
           0,
           0,
           0,
           0,
           0,
           0,
           0,
           0,
           0,
           0,
           0,
           0,
           0,
           0,
           0,
           0,
           0,
           0,
           0,
           0,
           0,
           0,
           0,
           0,
           0,
           0,
           0.1,
           0.2,
           0.4,
           0.6,
           0.8,
           0.9,
           1
          ],
          [
           0,
           0,
           0,
           0,
           0,
           0,
           0,
           0,
           0,
           0,
           0,
           0,
           0,
           0,
           0,
           0,
           0.11111111111111112,
           0.22222222222222224,
           0.3333333333333333,
           0.4444444444444445,
           0.5555555555555556,
           0.5555555555555556,
           0.5555555555555556,
           0.5555555555555556,
           0.5555555555555556,
           0.5555555555555556,
           0.5555555555555556,
           0.5555555555555556,
           0.5555555555555556,
           0.5555555555555556,
           0.5555555555555556,
           0.5555555555555556,
           0.5555555555555556,
           0.5555555555555556,
           0.5555555555555556,
           0.5555555555555556,
           0.5555555555555556,
           0.6666666666666666,
           0.7777777777777777,
           0.888888888888889,
           1
          ],
          [
           0,
           0,
           0,
           0,
           0,
           0,
           0,
           0,
           0,
           0,
           0,
           0,
           0,
           0,
           0,
           0,
           0,
           0,
           0,
           0,
           0,
           0,
           0,
           0,
           0,
           0,
           0,
           0,
           0,
           0,
           0,
           0,
           0,
           0,
           0,
           0,
           0,
           0,
           0,
           0.5,
           1
          ],
          [
           0,
           0,
           0,
           0,
           0,
           0,
           0,
           0,
           0,
           0,
           0,
           0,
           0,
           0,
           0,
           0,
           0,
           0,
           0,
           0,
           0,
           0,
           0.2,
           0.4,
           0.6,
           0.8,
           1,
           1,
           1,
           1,
           1,
           1,
           1,
           1,
           1,
           1,
           1,
           1,
           1,
           1,
           1
          ],
          [
           0,
           0,
           0,
           0,
           0,
           0,
           0,
           0,
           0,
           0,
           0,
           0,
           0,
           0,
           0,
           0,
           0,
           0,
           0,
           0,
           0,
           0,
           0,
           0,
           0,
           0,
           0,
           0,
           0,
           0,
           0,
           0,
           0,
           0,
           0,
           0,
           0,
           0,
           0,
           0.5,
           1
          ],
          [
           0,
           0,
           0,
           0,
           0,
           0,
           0,
           0,
           0,
           0,
           0,
           0,
           0,
           0,
           0,
           0,
           0,
           0,
           0,
           0,
           0,
           0,
           0,
           0,
           0,
           0,
           0,
           0,
           0,
           0,
           0,
           0,
           0,
           0,
           0.2,
           0.4,
           0.6,
           0.8,
           1,
           1,
           1
          ],
          [
           0,
           0,
           0,
           0,
           0,
           0,
           0,
           0,
           0,
           0,
           0,
           0,
           0,
           0,
           0,
           0,
           0,
           1,
           1,
           1,
           1,
           1,
           1,
           1,
           1,
           1,
           1,
           1,
           1,
           1,
           1,
           1,
           1,
           1,
           1,
           1,
           1,
           1,
           1,
           1,
           1
          ],
          [
           0,
           0,
           0,
           0,
           0,
           0,
           0,
           0,
           0,
           0,
           0,
           0,
           0,
           0,
           0,
           0,
           0,
           0,
           0,
           0,
           0,
           0,
           0,
           0,
           0,
           0,
           0,
           0,
           0,
           0,
           0,
           0,
           0,
           0,
           0,
           0,
           0.2,
           0.4,
           0.6,
           0.8,
           1
          ],
          [
           0,
           0,
           0,
           0,
           0,
           0,
           0,
           0,
           0,
           0,
           0,
           0,
           0,
           0,
           0,
           0,
           0,
           0,
           0,
           0,
           0,
           0,
           0,
           0,
           0,
           0,
           0,
           0,
           0,
           0,
           0.2,
           0.4,
           0.6,
           0.8,
           1,
           1,
           1,
           1,
           1,
           1,
           1
          ],
          [
           0,
           0,
           0,
           0,
           0,
           0,
           0,
           0,
           0,
           0,
           0,
           0,
           0,
           0,
           0,
           0,
           0,
           0,
           0,
           0,
           0,
           0,
           0,
           0,
           0,
           0,
           0,
           0,
           0,
           0,
           0,
           0,
           0.2,
           0.4,
           0.6,
           0.8,
           1,
           1,
           1,
           1,
           1
          ],
          [
           0,
           0,
           0,
           0,
           0,
           0,
           0,
           0,
           0,
           0,
           0,
           0,
           0,
           0,
           0,
           0,
           0,
           0,
           0,
           0,
           0,
           0,
           0,
           0,
           0,
           0,
           0,
           0,
           0,
           0,
           0,
           0,
           0,
           0,
           0,
           0,
           0,
           0,
           0.33333333333333337,
           0.6666666666666667,
           1
          ],
          [
           0,
           0,
           0,
           0,
           0,
           0.2,
           0.4,
           0.6,
           0.8,
           1,
           1,
           1,
           1,
           1,
           1,
           1,
           1,
           1,
           1,
           1,
           1,
           1,
           1,
           1,
           1,
           1,
           1,
           1,
           1,
           1,
           1,
           1,
           1,
           1,
           1,
           1,
           1,
           1,
           1,
           1,
           1
          ],
          [
           0,
           0,
           0,
           0,
           0,
           0,
           0,
           0,
           0,
           0,
           0,
           0,
           0,
           0,
           0,
           0,
           0,
           0,
           0,
           0,
           0,
           0,
           0,
           0,
           0,
           0,
           0,
           0,
           0,
           0,
           0.08,
           0.16,
           0.24,
           0.36,
           0.48,
           0.5599999999999999,
           0.6799999999999999,
           0.8,
           0.8800000000000001,
           0.96,
           1
          ],
          [
           0,
           0,
           0,
           0,
           0,
           0,
           0,
           0,
           0,
           0,
           0,
           0,
           0,
           0,
           0,
           0.2,
           0.4,
           0.6,
           0.8,
           1,
           1,
           1,
           1,
           1,
           1,
           1,
           1,
           1,
           1,
           1,
           1,
           1,
           1,
           1,
           1,
           1,
           1,
           1,
           1,
           1,
           1
          ],
          [
           0,
           0,
           0,
           0,
           0,
           0,
           0,
           0,
           0,
           0,
           0,
           0,
           0,
           0,
           0,
           0,
           0,
           0,
           0,
           0,
           0,
           0,
           0,
           0,
           0,
           0,
           0,
           0,
           0,
           0,
           0,
           0,
           0,
           0,
           0,
           0,
           1,
           1,
           1,
           1,
           1
          ],
          [
           0,
           0,
           0,
           0,
           0,
           0.25,
           0.3333333333333333,
           0.375,
           0.4,
           0.5,
           0.6,
           0.6,
           0.7,
           0.8,
           0.9,
           0.9,
           1,
           1,
           1,
           1,
           1,
           1,
           1,
           1,
           1,
           1,
           1,
           1,
           1,
           1,
           1,
           1,
           1,
           1,
           1,
           1,
           1,
           1,
           1,
           1,
           1
          ],
          [
           0,
           0,
           0,
           0,
           0,
           0,
           0,
           0,
           0,
           0,
           0,
           0,
           0,
           0,
           0,
           0.030303030303030307,
           0.060606060606060615,
           0.09090909090909091,
           0.12121212121212123,
           0.15151515151515152,
           0.15151515151515152,
           0.15151515151515152,
           0.15151515151515152,
           0.16666666666666669,
           0.18181818181818182,
           0.21212121212121213,
           0.24242424242424246,
           0.27272727272727276,
           0.30303030303030304,
           0.34848484848484845,
           0.3787878787878788,
           0.4090909090909091,
           0.4545454545454546,
           0.5454545454545455,
           0.6212121212121212,
           0.6969696969696969,
           0.7727272727272727,
           0.8636363636363638,
           0.9090909090909092,
           0.9545454545454546,
           1
          ],
          [
           0.012820512820512822,
           0.025641025641025644,
           0.05128205128205129,
           0.07692307692307693,
           0.10256410256410257,
           0.11538461538461539,
           0.12820512820512822,
           0.14102564102564105,
           0.15384615384615385,
           0.1794871794871795,
           0.20512820512820515,
           0.24358974358974358,
           0.2692307692307693,
           0.2948717948717949,
           0.32051282051282054,
           0.3461538461538462,
           0.358974358974359,
           0.3717948717948718,
           0.38461538461538464,
           0.39743589743589747,
           0.4230769230769231,
           0.44871794871794873,
           0.4743589743589744,
           0.5128205128205129,
           0.5384615384615385,
           0.5512820512820513,
           0.576923076923077,
           0.6025641025641026,
           0.6153846153846154,
           0.6282051282051283,
           0.6538461538461539,
           0.6794871794871795,
           0.7051282051282052,
           0.7564102564102565,
           0.8076923076923077,
           0.8461538461538461,
           0.8846153846153847,
           0.9230769230769231,
           0.9487179487179488,
           0.9743589743589743,
           1
          ],
          [
           0,
           0,
           0,
           0,
           0,
           0,
           0,
           0,
           0,
           0,
           0,
           0,
           0,
           0,
           0,
           0,
           0,
           0,
           0,
           0,
           0,
           0,
           0,
           0,
           0,
           0,
           0,
           0,
           0,
           0,
           0,
           0,
           0,
           0,
           0,
           0,
           0.2,
           0.4,
           0.6,
           0.8,
           1
          ],
          [
           0,
           0,
           0,
           0,
           0,
           0,
           0,
           0,
           0,
           0,
           0,
           0,
           0,
           0,
           0,
           0,
           0,
           0,
           0,
           0,
           0,
           0,
           0,
           0,
           0,
           0,
           0,
           0,
           0,
           0,
           0,
           0,
           0,
           0,
           0,
           0,
           0,
           0.25,
           0.5,
           0.7499999999999999,
           1
          ],
          [
           0,
           0,
           0,
           0,
           0,
           0,
           0,
           0,
           0,
           0,
           0,
           0,
           0,
           0,
           0,
           0,
           0,
           0,
           0,
           0,
           0,
           0,
           0,
           0,
           0,
           0,
           0,
           0,
           0,
           0,
           0,
           0,
           0,
           0,
           0,
           0,
           0.3333333333333333,
           0.5,
           0.6,
           0.8,
           1
          ],
          [
           0,
           0,
           0,
           0,
           0,
           0,
           0,
           0,
           0,
           0,
           0,
           0,
           0,
           0,
           0,
           0,
           0,
           0,
           0,
           0,
           0,
           0.2,
           0.4,
           0.6,
           0.8,
           1,
           1,
           1,
           1,
           1,
           1,
           1,
           1,
           1,
           1,
           1,
           1,
           1,
           1,
           1,
           1
          ],
          [
           0,
           0,
           0,
           0,
           0,
           0,
           0,
           0,
           0,
           0,
           0,
           0,
           0,
           0,
           0,
           0.2,
           0.4,
           0.6,
           0.8,
           1,
           1,
           1,
           1,
           1,
           1,
           1,
           1,
           1,
           1,
           1,
           1,
           1,
           1,
           1,
           1,
           1,
           1,
           1,
           1,
           1,
           1
          ],
          [
           0,
           0,
           0,
           0,
           0,
           0,
           0,
           0,
           0,
           0,
           0,
           0,
           0,
           0,
           0,
           0,
           0,
           0,
           0,
           0,
           0,
           0,
           0,
           0,
           0,
           0.2,
           0.4,
           0.6,
           0.8,
           1,
           1,
           1,
           1,
           1,
           1,
           1,
           1,
           1,
           1,
           1,
           1
          ],
          [
           0,
           0,
           0,
           0,
           0,
           0,
           0,
           0,
           0,
           0,
           0,
           0,
           0,
           0,
           0,
           0,
           0,
           0,
           0,
           0,
           0,
           0,
           0,
           0,
           0,
           0,
           0,
           0,
           0,
           0,
           0,
           0,
           0,
           0,
           0.2,
           0.4,
           0.6,
           0.8,
           1,
           1,
           1
          ],
          [
           0,
           0,
           0,
           0,
           0,
           0,
           0,
           0,
           0,
           0,
           0,
           0,
           0,
           0,
           0,
           0,
           0,
           0,
           0,
           0,
           0,
           0,
           0,
           0,
           0,
           0,
           0,
           0,
           0,
           0,
           0,
           0,
           0,
           0,
           1,
           1,
           1,
           1,
           1,
           1,
           1
          ],
          [
           0,
           0,
           0,
           0,
           0,
           0,
           0,
           0,
           0,
           0,
           0,
           0,
           0,
           0,
           0,
           0,
           0,
           0,
           0,
           0,
           0,
           0,
           0.2,
           0.4,
           0.6,
           0.8,
           1,
           1,
           1,
           1,
           1,
           1,
           1,
           1,
           1,
           1,
           1,
           1,
           1,
           1,
           1
          ],
          [
           0,
           0,
           0,
           0,
           0,
           0,
           0,
           0,
           0,
           0,
           0,
           0,
           0,
           0,
           0,
           0,
           0,
           0,
           0,
           0,
           0,
           0,
           0,
           0,
           0,
           0,
           0,
           0,
           0,
           0,
           0.06666666666666667,
           0.13333333333333333,
           0.26666666666666666,
           0.39999999999999997,
           0.5333333333333333,
           0.6666666666666666,
           0.7999999999999999,
           0.8666666666666667,
           0.9333333333333332,
           1,
           1
          ]
         ]
        }
       ],
       "layout": {
        "height": 800,
        "template": {
         "data": {
          "bar": [
           {
            "error_x": {
             "color": "#2a3f5f"
            },
            "error_y": {
             "color": "#2a3f5f"
            },
            "marker": {
             "line": {
              "color": "#E5ECF6",
              "width": 0.5
             }
            },
            "type": "bar"
           }
          ],
          "barpolar": [
           {
            "marker": {
             "line": {
              "color": "#E5ECF6",
              "width": 0.5
             }
            },
            "type": "barpolar"
           }
          ],
          "carpet": [
           {
            "aaxis": {
             "endlinecolor": "#2a3f5f",
             "gridcolor": "white",
             "linecolor": "white",
             "minorgridcolor": "white",
             "startlinecolor": "#2a3f5f"
            },
            "baxis": {
             "endlinecolor": "#2a3f5f",
             "gridcolor": "white",
             "linecolor": "white",
             "minorgridcolor": "white",
             "startlinecolor": "#2a3f5f"
            },
            "type": "carpet"
           }
          ],
          "choropleth": [
           {
            "colorbar": {
             "outlinewidth": 0,
             "ticks": ""
            },
            "type": "choropleth"
           }
          ],
          "contour": [
           {
            "colorbar": {
             "outlinewidth": 0,
             "ticks": ""
            },
            "colorscale": [
             [
              0,
              "#0d0887"
             ],
             [
              0.1111111111111111,
              "#46039f"
             ],
             [
              0.2222222222222222,
              "#7201a8"
             ],
             [
              0.3333333333333333,
              "#9c179e"
             ],
             [
              0.4444444444444444,
              "#bd3786"
             ],
             [
              0.5555555555555556,
              "#d8576b"
             ],
             [
              0.6666666666666666,
              "#ed7953"
             ],
             [
              0.7777777777777778,
              "#fb9f3a"
             ],
             [
              0.8888888888888888,
              "#fdca26"
             ],
             [
              1,
              "#f0f921"
             ]
            ],
            "type": "contour"
           }
          ],
          "contourcarpet": [
           {
            "colorbar": {
             "outlinewidth": 0,
             "ticks": ""
            },
            "type": "contourcarpet"
           }
          ],
          "heatmap": [
           {
            "colorbar": {
             "outlinewidth": 0,
             "ticks": ""
            },
            "colorscale": [
             [
              0,
              "#0d0887"
             ],
             [
              0.1111111111111111,
              "#46039f"
             ],
             [
              0.2222222222222222,
              "#7201a8"
             ],
             [
              0.3333333333333333,
              "#9c179e"
             ],
             [
              0.4444444444444444,
              "#bd3786"
             ],
             [
              0.5555555555555556,
              "#d8576b"
             ],
             [
              0.6666666666666666,
              "#ed7953"
             ],
             [
              0.7777777777777778,
              "#fb9f3a"
             ],
             [
              0.8888888888888888,
              "#fdca26"
             ],
             [
              1,
              "#f0f921"
             ]
            ],
            "type": "heatmap"
           }
          ],
          "heatmapgl": [
           {
            "colorbar": {
             "outlinewidth": 0,
             "ticks": ""
            },
            "colorscale": [
             [
              0,
              "#0d0887"
             ],
             [
              0.1111111111111111,
              "#46039f"
             ],
             [
              0.2222222222222222,
              "#7201a8"
             ],
             [
              0.3333333333333333,
              "#9c179e"
             ],
             [
              0.4444444444444444,
              "#bd3786"
             ],
             [
              0.5555555555555556,
              "#d8576b"
             ],
             [
              0.6666666666666666,
              "#ed7953"
             ],
             [
              0.7777777777777778,
              "#fb9f3a"
             ],
             [
              0.8888888888888888,
              "#fdca26"
             ],
             [
              1,
              "#f0f921"
             ]
            ],
            "type": "heatmapgl"
           }
          ],
          "histogram": [
           {
            "marker": {
             "colorbar": {
              "outlinewidth": 0,
              "ticks": ""
             }
            },
            "type": "histogram"
           }
          ],
          "histogram2d": [
           {
            "colorbar": {
             "outlinewidth": 0,
             "ticks": ""
            },
            "colorscale": [
             [
              0,
              "#0d0887"
             ],
             [
              0.1111111111111111,
              "#46039f"
             ],
             [
              0.2222222222222222,
              "#7201a8"
             ],
             [
              0.3333333333333333,
              "#9c179e"
             ],
             [
              0.4444444444444444,
              "#bd3786"
             ],
             [
              0.5555555555555556,
              "#d8576b"
             ],
             [
              0.6666666666666666,
              "#ed7953"
             ],
             [
              0.7777777777777778,
              "#fb9f3a"
             ],
             [
              0.8888888888888888,
              "#fdca26"
             ],
             [
              1,
              "#f0f921"
             ]
            ],
            "type": "histogram2d"
           }
          ],
          "histogram2dcontour": [
           {
            "colorbar": {
             "outlinewidth": 0,
             "ticks": ""
            },
            "colorscale": [
             [
              0,
              "#0d0887"
             ],
             [
              0.1111111111111111,
              "#46039f"
             ],
             [
              0.2222222222222222,
              "#7201a8"
             ],
             [
              0.3333333333333333,
              "#9c179e"
             ],
             [
              0.4444444444444444,
              "#bd3786"
             ],
             [
              0.5555555555555556,
              "#d8576b"
             ],
             [
              0.6666666666666666,
              "#ed7953"
             ],
             [
              0.7777777777777778,
              "#fb9f3a"
             ],
             [
              0.8888888888888888,
              "#fdca26"
             ],
             [
              1,
              "#f0f921"
             ]
            ],
            "type": "histogram2dcontour"
           }
          ],
          "mesh3d": [
           {
            "colorbar": {
             "outlinewidth": 0,
             "ticks": ""
            },
            "type": "mesh3d"
           }
          ],
          "parcoords": [
           {
            "line": {
             "colorbar": {
              "outlinewidth": 0,
              "ticks": ""
             }
            },
            "type": "parcoords"
           }
          ],
          "pie": [
           {
            "automargin": true,
            "type": "pie"
           }
          ],
          "scatter": [
           {
            "marker": {
             "colorbar": {
              "outlinewidth": 0,
              "ticks": ""
             }
            },
            "type": "scatter"
           }
          ],
          "scatter3d": [
           {
            "line": {
             "colorbar": {
              "outlinewidth": 0,
              "ticks": ""
             }
            },
            "marker": {
             "colorbar": {
              "outlinewidth": 0,
              "ticks": ""
             }
            },
            "type": "scatter3d"
           }
          ],
          "scattercarpet": [
           {
            "marker": {
             "colorbar": {
              "outlinewidth": 0,
              "ticks": ""
             }
            },
            "type": "scattercarpet"
           }
          ],
          "scattergeo": [
           {
            "marker": {
             "colorbar": {
              "outlinewidth": 0,
              "ticks": ""
             }
            },
            "type": "scattergeo"
           }
          ],
          "scattergl": [
           {
            "marker": {
             "colorbar": {
              "outlinewidth": 0,
              "ticks": ""
             }
            },
            "type": "scattergl"
           }
          ],
          "scattermapbox": [
           {
            "marker": {
             "colorbar": {
              "outlinewidth": 0,
              "ticks": ""
             }
            },
            "type": "scattermapbox"
           }
          ],
          "scatterpolar": [
           {
            "marker": {
             "colorbar": {
              "outlinewidth": 0,
              "ticks": ""
             }
            },
            "type": "scatterpolar"
           }
          ],
          "scatterpolargl": [
           {
            "marker": {
             "colorbar": {
              "outlinewidth": 0,
              "ticks": ""
             }
            },
            "type": "scatterpolargl"
           }
          ],
          "scatterternary": [
           {
            "marker": {
             "colorbar": {
              "outlinewidth": 0,
              "ticks": ""
             }
            },
            "type": "scatterternary"
           }
          ],
          "surface": [
           {
            "colorbar": {
             "outlinewidth": 0,
             "ticks": ""
            },
            "colorscale": [
             [
              0,
              "#0d0887"
             ],
             [
              0.1111111111111111,
              "#46039f"
             ],
             [
              0.2222222222222222,
              "#7201a8"
             ],
             [
              0.3333333333333333,
              "#9c179e"
             ],
             [
              0.4444444444444444,
              "#bd3786"
             ],
             [
              0.5555555555555556,
              "#d8576b"
             ],
             [
              0.6666666666666666,
              "#ed7953"
             ],
             [
              0.7777777777777778,
              "#fb9f3a"
             ],
             [
              0.8888888888888888,
              "#fdca26"
             ],
             [
              1,
              "#f0f921"
             ]
            ],
            "type": "surface"
           }
          ],
          "table": [
           {
            "cells": {
             "fill": {
              "color": "#EBF0F8"
             },
             "line": {
              "color": "white"
             }
            },
            "header": {
             "fill": {
              "color": "#C8D4E3"
             },
             "line": {
              "color": "white"
             }
            },
            "type": "table"
           }
          ]
         },
         "layout": {
          "annotationdefaults": {
           "arrowcolor": "#2a3f5f",
           "arrowhead": 0,
           "arrowwidth": 1
          },
          "coloraxis": {
           "colorbar": {
            "outlinewidth": 0,
            "ticks": ""
           }
          },
          "colorscale": {
           "diverging": [
            [
             0,
             "#8e0152"
            ],
            [
             0.1,
             "#c51b7d"
            ],
            [
             0.2,
             "#de77ae"
            ],
            [
             0.3,
             "#f1b6da"
            ],
            [
             0.4,
             "#fde0ef"
            ],
            [
             0.5,
             "#f7f7f7"
            ],
            [
             0.6,
             "#e6f5d0"
            ],
            [
             0.7,
             "#b8e186"
            ],
            [
             0.8,
             "#7fbc41"
            ],
            [
             0.9,
             "#4d9221"
            ],
            [
             1,
             "#276419"
            ]
           ],
           "sequential": [
            [
             0,
             "#0d0887"
            ],
            [
             0.1111111111111111,
             "#46039f"
            ],
            [
             0.2222222222222222,
             "#7201a8"
            ],
            [
             0.3333333333333333,
             "#9c179e"
            ],
            [
             0.4444444444444444,
             "#bd3786"
            ],
            [
             0.5555555555555556,
             "#d8576b"
            ],
            [
             0.6666666666666666,
             "#ed7953"
            ],
            [
             0.7777777777777778,
             "#fb9f3a"
            ],
            [
             0.8888888888888888,
             "#fdca26"
            ],
            [
             1,
             "#f0f921"
            ]
           ],
           "sequentialminus": [
            [
             0,
             "#0d0887"
            ],
            [
             0.1111111111111111,
             "#46039f"
            ],
            [
             0.2222222222222222,
             "#7201a8"
            ],
            [
             0.3333333333333333,
             "#9c179e"
            ],
            [
             0.4444444444444444,
             "#bd3786"
            ],
            [
             0.5555555555555556,
             "#d8576b"
            ],
            [
             0.6666666666666666,
             "#ed7953"
            ],
            [
             0.7777777777777778,
             "#fb9f3a"
            ],
            [
             0.8888888888888888,
             "#fdca26"
            ],
            [
             1,
             "#f0f921"
            ]
           ]
          },
          "colorway": [
           "#636efa",
           "#EF553B",
           "#00cc96",
           "#ab63fa",
           "#FFA15A",
           "#19d3f3",
           "#FF6692",
           "#B6E880",
           "#FF97FF",
           "#FECB52"
          ],
          "font": {
           "color": "#2a3f5f"
          },
          "geo": {
           "bgcolor": "white",
           "lakecolor": "white",
           "landcolor": "#E5ECF6",
           "showlakes": true,
           "showland": true,
           "subunitcolor": "white"
          },
          "hoverlabel": {
           "align": "left"
          },
          "hovermode": "closest",
          "mapbox": {
           "style": "light"
          },
          "paper_bgcolor": "white",
          "plot_bgcolor": "#E5ECF6",
          "polar": {
           "angularaxis": {
            "gridcolor": "white",
            "linecolor": "white",
            "ticks": ""
           },
           "bgcolor": "#E5ECF6",
           "radialaxis": {
            "gridcolor": "white",
            "linecolor": "white",
            "ticks": ""
           }
          },
          "scene": {
           "xaxis": {
            "backgroundcolor": "#E5ECF6",
            "gridcolor": "white",
            "gridwidth": 2,
            "linecolor": "white",
            "showbackground": true,
            "ticks": "",
            "zerolinecolor": "white"
           },
           "yaxis": {
            "backgroundcolor": "#E5ECF6",
            "gridcolor": "white",
            "gridwidth": 2,
            "linecolor": "white",
            "showbackground": true,
            "ticks": "",
            "zerolinecolor": "white"
           },
           "zaxis": {
            "backgroundcolor": "#E5ECF6",
            "gridcolor": "white",
            "gridwidth": 2,
            "linecolor": "white",
            "showbackground": true,
            "ticks": "",
            "zerolinecolor": "white"
           }
          },
          "shapedefaults": {
           "line": {
            "color": "#2a3f5f"
           }
          },
          "ternary": {
           "aaxis": {
            "gridcolor": "white",
            "linecolor": "white",
            "ticks": ""
           },
           "baxis": {
            "gridcolor": "white",
            "linecolor": "white",
            "ticks": ""
           },
           "bgcolor": "#E5ECF6",
           "caxis": {
            "gridcolor": "white",
            "linecolor": "white",
            "ticks": ""
           }
          },
          "title": {
           "x": 0.05
          },
          "xaxis": {
           "automargin": true,
           "gridcolor": "white",
           "linecolor": "white",
           "ticks": "",
           "title": {
            "standoff": 15
           },
           "zerolinecolor": "white",
           "zerolinewidth": 2
          },
          "yaxis": {
           "automargin": true,
           "gridcolor": "white",
           "linecolor": "white",
           "ticks": "",
           "title": {
            "standoff": 15
           },
           "zerolinecolor": "white",
           "zerolinewidth": 2
          }
         }
        },
        "title": {
         "text": "Distribuição de novas mortes em RS"
        },
        "width": 600
       }
      },
      "text/html": [
       "<div>\n",
       "        \n",
       "        \n",
       "            <div id=\"499b1cc5-9be6-4e08-9c56-698adc43ade9\" class=\"plotly-graph-div\" style=\"height:800px; width:600px;\"></div>\n",
       "            <script type=\"text/javascript\">\n",
       "                require([\"plotly\"], function(Plotly) {\n",
       "                    window.PLOTLYENV=window.PLOTLYENV || {};\n",
       "                    \n",
       "                if (document.getElementById(\"499b1cc5-9be6-4e08-9c56-698adc43ade9\")) {\n",
       "                    Plotly.newPlot(\n",
       "                        '499b1cc5-9be6-4e08-9c56-698adc43ade9',\n",
       "                        [{\"colorscale\": [[0.0, \"rgb(0, 147, 146)\"], [0.16666666666666666, \"rgb(57, 177, 133)\"], [0.3333333333333333, \"rgb(156, 203, 134)\"], [0.5, \"rgb(233, 226, 156)\"], [0.6666666666666666, \"rgb(238, 180, 121)\"], [0.8333333333333334, \"rgb(232, 132, 113)\"], [1.0, \"rgb(207, 89, 126)\"]], \"type\": \"heatmap\", \"x\": [\"2020-03-25\", \"2020-03-26\", \"2020-03-27\", \"2020-03-28\", \"2020-03-29\", \"2020-03-30\", \"2020-03-31\", \"2020-04-01\", \"2020-04-02\", \"2020-04-03\", \"2020-04-04\", \"2020-04-05\", \"2020-04-06\", \"2020-04-07\", \"2020-04-08\", \"2020-04-09\", \"2020-04-10\", \"2020-04-11\", \"2020-04-12\", \"2020-04-13\", \"2020-04-14\", \"2020-04-15\", \"2020-04-16\", \"2020-04-17\", \"2020-04-18\", \"2020-04-19\", \"2020-04-20\", \"2020-04-21\", \"2020-04-22\", \"2020-04-23\", \"2020-04-24\", \"2020-04-25\", \"2020-04-26\", \"2020-04-27\", \"2020-04-28\", \"2020-04-29\", \"2020-04-30\", \"2020-05-01\", \"2020-05-02\", \"2020-05-03\", \"2020-05-04\"], \"y\": [\"Alvorada\", \"Arroio do Sal\", \"Bento Gon\\u00e7alves\", \"Canoas\", \"Cerro Grande do Sul\", \"Cidreira\", \"Cruzeiro do Sul\", \"Dom Pedrito\", \"Encruzilhada do Sul\", \"Estrela\", \"Garibaldi\", \"Gravata\\u00ed\", \"Ibirapuit\\u00e3\", \"Ivoti\", \"Lajeado\", \"Marau\", \"Monte Belo do Sul\", \"Novo Hamburgo\", \"Passo Fundo\", \"Porto Alegre\", \"Quara\\u00ed\", \"Rio Grande\", \"Santo \\u00c2ngelo\", \"Serafina Corr\\u00eaa\", \"S\\u00e3o Leopoldo\", \"Tio Hugo\", \"Tramanda\\u00ed\", \"Tunas\", \"Vacaria\", \"Ven\\u00e2ncio Aires\"], \"z\": [[0.0, 0.0, 0.0, 0.0, 0.0, 0.0, 0.0, 0.0, 0.0, 0.0, 0.0, 0.0, 0.0, 0.0, 0.2, 0.4, 0.6, 0.8, 1.0, 1.0, 1.0, 1.0, 1.0, 1.0, 1.0, 1.0, 1.0, 1.0, 1.0, 1.0, 1.0, 1.0, 1.0, 1.0, 1.0, 1.0, 1.0, 1.0, 1.0, 1.0, 1.0], [0.0, 0.0, 0.0, 0.0, 0.0, 0.0, 0.0, 0.0, 0.0, 0.0, 0.0, 0.0, 0.0, 0.0, 0.0, 0.0, 0.0, 0.0, 0.0, 0.0, 0.0, 0.0, 0.0, 0.2, 0.4, 0.6, 0.8, 1.0, 1.0, 1.0, 1.0, 1.0, 1.0, 1.0, 1.0, 1.0, 1.0, 1.0, 1.0, 1.0, 1.0], [0.0, 0.0, 0.0, 0.0, 0.0, 0.0, 0.0, 0.0, 0.0, 0.0, 0.0, 0.0, 0.0, 0.0, 0.0, 0.0, 0.0, 0.0, 0.0, 0.0, 0.0, 0.0, 0.0, 0.0, 0.0, 0.0, 0.0, 0.0, 0.0, 0.0, 0.0, 0.0, 0.0, 0.0, 0.1, 0.2, 0.4, 0.6, 0.8, 0.9, 1.0], [0.0, 0.0, 0.0, 0.0, 0.0, 0.0, 0.0, 0.0, 0.0, 0.0, 0.0, 0.0, 0.0, 0.0, 0.0, 0.0, 0.11111111111111112, 0.22222222222222224, 0.3333333333333333, 0.4444444444444445, 0.5555555555555556, 0.5555555555555556, 0.5555555555555556, 0.5555555555555556, 0.5555555555555556, 0.5555555555555556, 0.5555555555555556, 0.5555555555555556, 0.5555555555555556, 0.5555555555555556, 0.5555555555555556, 0.5555555555555556, 0.5555555555555556, 0.5555555555555556, 0.5555555555555556, 0.5555555555555556, 0.5555555555555556, 0.6666666666666666, 0.7777777777777777, 0.888888888888889, 1.0], [0.0, 0.0, 0.0, 0.0, 0.0, 0.0, 0.0, 0.0, 0.0, 0.0, 0.0, 0.0, 0.0, 0.0, 0.0, 0.0, 0.0, 0.0, 0.0, 0.0, 0.0, 0.0, 0.0, 0.0, 0.0, 0.0, 0.0, 0.0, 0.0, 0.0, 0.0, 0.0, 0.0, 0.0, 0.0, 0.0, 0.0, 0.0, 0.0, 0.5, 1.0], [0.0, 0.0, 0.0, 0.0, 0.0, 0.0, 0.0, 0.0, 0.0, 0.0, 0.0, 0.0, 0.0, 0.0, 0.0, 0.0, 0.0, 0.0, 0.0, 0.0, 0.0, 0.0, 0.2, 0.4, 0.6, 0.8, 1.0, 1.0, 1.0, 1.0, 1.0, 1.0, 1.0, 1.0, 1.0, 1.0, 1.0, 1.0, 1.0, 1.0, 1.0], [0.0, 0.0, 0.0, 0.0, 0.0, 0.0, 0.0, 0.0, 0.0, 0.0, 0.0, 0.0, 0.0, 0.0, 0.0, 0.0, 0.0, 0.0, 0.0, 0.0, 0.0, 0.0, 0.0, 0.0, 0.0, 0.0, 0.0, 0.0, 0.0, 0.0, 0.0, 0.0, 0.0, 0.0, 0.0, 0.0, 0.0, 0.0, 0.0, 0.5, 1.0], [0.0, 0.0, 0.0, 0.0, 0.0, 0.0, 0.0, 0.0, 0.0, 0.0, 0.0, 0.0, 0.0, 0.0, 0.0, 0.0, 0.0, 0.0, 0.0, 0.0, 0.0, 0.0, 0.0, 0.0, 0.0, 0.0, 0.0, 0.0, 0.0, 0.0, 0.0, 0.0, 0.0, 0.0, 0.2, 0.4, 0.6, 0.8, 1.0, 1.0, 1.0], [0.0, 0.0, 0.0, 0.0, 0.0, 0.0, 0.0, 0.0, 0.0, 0.0, 0.0, 0.0, 0.0, 0.0, 0.0, 0.0, 0.0, 1.0, 1.0, 1.0, 1.0, 1.0, 1.0, 1.0, 1.0, 1.0, 1.0, 1.0, 1.0, 1.0, 1.0, 1.0, 1.0, 1.0, 1.0, 1.0, 1.0, 1.0, 1.0, 1.0, 1.0], [0.0, 0.0, 0.0, 0.0, 0.0, 0.0, 0.0, 0.0, 0.0, 0.0, 0.0, 0.0, 0.0, 0.0, 0.0, 0.0, 0.0, 0.0, 0.0, 0.0, 0.0, 0.0, 0.0, 0.0, 0.0, 0.0, 0.0, 0.0, 0.0, 0.0, 0.0, 0.0, 0.0, 0.0, 0.0, 0.0, 0.2, 0.4, 0.6, 0.8, 1.0], [0.0, 0.0, 0.0, 0.0, 0.0, 0.0, 0.0, 0.0, 0.0, 0.0, 0.0, 0.0, 0.0, 0.0, 0.0, 0.0, 0.0, 0.0, 0.0, 0.0, 0.0, 0.0, 0.0, 0.0, 0.0, 0.0, 0.0, 0.0, 0.0, 0.0, 0.2, 0.4, 0.6, 0.8, 1.0, 1.0, 1.0, 1.0, 1.0, 1.0, 1.0], [0.0, 0.0, 0.0, 0.0, 0.0, 0.0, 0.0, 0.0, 0.0, 0.0, 0.0, 0.0, 0.0, 0.0, 0.0, 0.0, 0.0, 0.0, 0.0, 0.0, 0.0, 0.0, 0.0, 0.0, 0.0, 0.0, 0.0, 0.0, 0.0, 0.0, 0.0, 0.0, 0.2, 0.4, 0.6, 0.8, 1.0, 1.0, 1.0, 1.0, 1.0], [0.0, 0.0, 0.0, 0.0, 0.0, 0.0, 0.0, 0.0, 0.0, 0.0, 0.0, 0.0, 0.0, 0.0, 0.0, 0.0, 0.0, 0.0, 0.0, 0.0, 0.0, 0.0, 0.0, 0.0, 0.0, 0.0, 0.0, 0.0, 0.0, 0.0, 0.0, 0.0, 0.0, 0.0, 0.0, 0.0, 0.0, 0.0, 0.33333333333333337, 0.6666666666666667, 1.0], [0.0, 0.0, 0.0, 0.0, 0.0, 0.2, 0.4, 0.6, 0.8, 1.0, 1.0, 1.0, 1.0, 1.0, 1.0, 1.0, 1.0, 1.0, 1.0, 1.0, 1.0, 1.0, 1.0, 1.0, 1.0, 1.0, 1.0, 1.0, 1.0, 1.0, 1.0, 1.0, 1.0, 1.0, 1.0, 1.0, 1.0, 1.0, 1.0, 1.0, 1.0], [0.0, 0.0, 0.0, 0.0, 0.0, 0.0, 0.0, 0.0, 0.0, 0.0, 0.0, 0.0, 0.0, 0.0, 0.0, 0.0, 0.0, 0.0, 0.0, 0.0, 0.0, 0.0, 0.0, 0.0, 0.0, 0.0, 0.0, 0.0, 0.0, 0.0, 0.08, 0.16, 0.24, 0.36, 0.48, 0.5599999999999999, 0.6799999999999999, 0.8, 0.8800000000000001, 0.96, 1.0], [0.0, 0.0, 0.0, 0.0, 0.0, 0.0, 0.0, 0.0, 0.0, 0.0, 0.0, 0.0, 0.0, 0.0, 0.0, 0.2, 0.4, 0.6, 0.8, 1.0, 1.0, 1.0, 1.0, 1.0, 1.0, 1.0, 1.0, 1.0, 1.0, 1.0, 1.0, 1.0, 1.0, 1.0, 1.0, 1.0, 1.0, 1.0, 1.0, 1.0, 1.0], [0.0, 0.0, 0.0, 0.0, 0.0, 0.0, 0.0, 0.0, 0.0, 0.0, 0.0, 0.0, 0.0, 0.0, 0.0, 0.0, 0.0, 0.0, 0.0, 0.0, 0.0, 0.0, 0.0, 0.0, 0.0, 0.0, 0.0, 0.0, 0.0, 0.0, 0.0, 0.0, 0.0, 0.0, 0.0, 0.0, 1.0, 1.0, 1.0, 1.0, 1.0], [0.0, 0.0, 0.0, 0.0, 0.0, 0.25, 0.3333333333333333, 0.375, 0.4, 0.5, 0.6, 0.6, 0.7, 0.8, 0.9, 0.9, 1.0, 1.0, 1.0, 1.0, 1.0, 1.0, 1.0, 1.0, 1.0, 1.0, 1.0, 1.0, 1.0, 1.0, 1.0, 1.0, 1.0, 1.0, 1.0, 1.0, 1.0, 1.0, 1.0, 1.0, 1.0], [0.0, 0.0, 0.0, 0.0, 0.0, 0.0, 0.0, 0.0, 0.0, 0.0, 0.0, 0.0, 0.0, 0.0, 0.0, 0.030303030303030307, 0.060606060606060615, 0.09090909090909091, 0.12121212121212123, 0.15151515151515152, 0.15151515151515152, 0.15151515151515152, 0.15151515151515152, 0.16666666666666669, 0.18181818181818182, 0.21212121212121213, 0.24242424242424246, 0.27272727272727276, 0.30303030303030304, 0.34848484848484845, 0.3787878787878788, 0.4090909090909091, 0.4545454545454546, 0.5454545454545455, 0.6212121212121212, 0.6969696969696969, 0.7727272727272727, 0.8636363636363638, 0.9090909090909092, 0.9545454545454546, 1.0], [0.012820512820512822, 0.025641025641025644, 0.05128205128205129, 0.07692307692307693, 0.10256410256410257, 0.11538461538461539, 0.12820512820512822, 0.14102564102564105, 0.15384615384615385, 0.1794871794871795, 0.20512820512820515, 0.24358974358974358, 0.2692307692307693, 0.2948717948717949, 0.32051282051282054, 0.3461538461538462, 0.358974358974359, 0.3717948717948718, 0.38461538461538464, 0.39743589743589747, 0.4230769230769231, 0.44871794871794873, 0.4743589743589744, 0.5128205128205129, 0.5384615384615385, 0.5512820512820513, 0.576923076923077, 0.6025641025641026, 0.6153846153846154, 0.6282051282051283, 0.6538461538461539, 0.6794871794871795, 0.7051282051282052, 0.7564102564102565, 0.8076923076923077, 0.8461538461538461, 0.8846153846153847, 0.9230769230769231, 0.9487179487179488, 0.9743589743589743, 1.0], [0.0, 0.0, 0.0, 0.0, 0.0, 0.0, 0.0, 0.0, 0.0, 0.0, 0.0, 0.0, 0.0, 0.0, 0.0, 0.0, 0.0, 0.0, 0.0, 0.0, 0.0, 0.0, 0.0, 0.0, 0.0, 0.0, 0.0, 0.0, 0.0, 0.0, 0.0, 0.0, 0.0, 0.0, 0.0, 0.0, 0.2, 0.4, 0.6, 0.8, 1.0], [0.0, 0.0, 0.0, 0.0, 0.0, 0.0, 0.0, 0.0, 0.0, 0.0, 0.0, 0.0, 0.0, 0.0, 0.0, 0.0, 0.0, 0.0, 0.0, 0.0, 0.0, 0.0, 0.0, 0.0, 0.0, 0.0, 0.0, 0.0, 0.0, 0.0, 0.0, 0.0, 0.0, 0.0, 0.0, 0.0, 0.0, 0.25, 0.5, 0.7499999999999999, 1.0], [0.0, 0.0, 0.0, 0.0, 0.0, 0.0, 0.0, 0.0, 0.0, 0.0, 0.0, 0.0, 0.0, 0.0, 0.0, 0.0, 0.0, 0.0, 0.0, 0.0, 0.0, 0.0, 0.0, 0.0, 0.0, 0.0, 0.0, 0.0, 0.0, 0.0, 0.0, 0.0, 0.0, 0.0, 0.0, 0.0, 0.3333333333333333, 0.5, 0.6, 0.8, 1.0], [0.0, 0.0, 0.0, 0.0, 0.0, 0.0, 0.0, 0.0, 0.0, 0.0, 0.0, 0.0, 0.0, 0.0, 0.0, 0.0, 0.0, 0.0, 0.0, 0.0, 0.0, 0.2, 0.4, 0.6, 0.8, 1.0, 1.0, 1.0, 1.0, 1.0, 1.0, 1.0, 1.0, 1.0, 1.0, 1.0, 1.0, 1.0, 1.0, 1.0, 1.0], [0.0, 0.0, 0.0, 0.0, 0.0, 0.0, 0.0, 0.0, 0.0, 0.0, 0.0, 0.0, 0.0, 0.0, 0.0, 0.2, 0.4, 0.6, 0.8, 1.0, 1.0, 1.0, 1.0, 1.0, 1.0, 1.0, 1.0, 1.0, 1.0, 1.0, 1.0, 1.0, 1.0, 1.0, 1.0, 1.0, 1.0, 1.0, 1.0, 1.0, 1.0], [0.0, 0.0, 0.0, 0.0, 0.0, 0.0, 0.0, 0.0, 0.0, 0.0, 0.0, 0.0, 0.0, 0.0, 0.0, 0.0, 0.0, 0.0, 0.0, 0.0, 0.0, 0.0, 0.0, 0.0, 0.0, 0.2, 0.4, 0.6, 0.8, 1.0, 1.0, 1.0, 1.0, 1.0, 1.0, 1.0, 1.0, 1.0, 1.0, 1.0, 1.0], [0.0, 0.0, 0.0, 0.0, 0.0, 0.0, 0.0, 0.0, 0.0, 0.0, 0.0, 0.0, 0.0, 0.0, 0.0, 0.0, 0.0, 0.0, 0.0, 0.0, 0.0, 0.0, 0.0, 0.0, 0.0, 0.0, 0.0, 0.0, 0.0, 0.0, 0.0, 0.0, 0.0, 0.0, 0.2, 0.4, 0.6, 0.8, 1.0, 1.0, 1.0], [0.0, 0.0, 0.0, 0.0, 0.0, 0.0, 0.0, 0.0, 0.0, 0.0, 0.0, 0.0, 0.0, 0.0, 0.0, 0.0, 0.0, 0.0, 0.0, 0.0, 0.0, 0.0, 0.0, 0.0, 0.0, 0.0, 0.0, 0.0, 0.0, 0.0, 0.0, 0.0, 0.0, 0.0, 1.0, 1.0, 1.0, 1.0, 1.0, 1.0, 1.0], [0.0, 0.0, 0.0, 0.0, 0.0, 0.0, 0.0, 0.0, 0.0, 0.0, 0.0, 0.0, 0.0, 0.0, 0.0, 0.0, 0.0, 0.0, 0.0, 0.0, 0.0, 0.0, 0.2, 0.4, 0.6, 0.8, 1.0, 1.0, 1.0, 1.0, 1.0, 1.0, 1.0, 1.0, 1.0, 1.0, 1.0, 1.0, 1.0, 1.0, 1.0], [0.0, 0.0, 0.0, 0.0, 0.0, 0.0, 0.0, 0.0, 0.0, 0.0, 0.0, 0.0, 0.0, 0.0, 0.0, 0.0, 0.0, 0.0, 0.0, 0.0, 0.0, 0.0, 0.0, 0.0, 0.0, 0.0, 0.0, 0.0, 0.0, 0.0, 0.06666666666666667, 0.13333333333333333, 0.26666666666666666, 0.39999999999999997, 0.5333333333333333, 0.6666666666666666, 0.7999999999999999, 0.8666666666666667, 0.9333333333333332, 1.0, 1.0]]}],\n",
       "                        {\"height\": 800, \"template\": {\"data\": {\"bar\": [{\"error_x\": {\"color\": \"#2a3f5f\"}, \"error_y\": {\"color\": \"#2a3f5f\"}, \"marker\": {\"line\": {\"color\": \"#E5ECF6\", \"width\": 0.5}}, \"type\": \"bar\"}], \"barpolar\": [{\"marker\": {\"line\": {\"color\": \"#E5ECF6\", \"width\": 0.5}}, \"type\": \"barpolar\"}], \"carpet\": [{\"aaxis\": {\"endlinecolor\": \"#2a3f5f\", \"gridcolor\": \"white\", \"linecolor\": \"white\", \"minorgridcolor\": \"white\", \"startlinecolor\": \"#2a3f5f\"}, \"baxis\": {\"endlinecolor\": \"#2a3f5f\", \"gridcolor\": \"white\", \"linecolor\": \"white\", \"minorgridcolor\": \"white\", \"startlinecolor\": \"#2a3f5f\"}, \"type\": \"carpet\"}], \"choropleth\": [{\"colorbar\": {\"outlinewidth\": 0, \"ticks\": \"\"}, \"type\": \"choropleth\"}], \"contour\": [{\"colorbar\": {\"outlinewidth\": 0, \"ticks\": \"\"}, \"colorscale\": [[0.0, \"#0d0887\"], [0.1111111111111111, \"#46039f\"], [0.2222222222222222, \"#7201a8\"], [0.3333333333333333, \"#9c179e\"], [0.4444444444444444, \"#bd3786\"], [0.5555555555555556, \"#d8576b\"], [0.6666666666666666, \"#ed7953\"], [0.7777777777777778, \"#fb9f3a\"], [0.8888888888888888, \"#fdca26\"], [1.0, \"#f0f921\"]], \"type\": \"contour\"}], \"contourcarpet\": [{\"colorbar\": {\"outlinewidth\": 0, \"ticks\": \"\"}, \"type\": \"contourcarpet\"}], \"heatmap\": [{\"colorbar\": {\"outlinewidth\": 0, \"ticks\": \"\"}, \"colorscale\": [[0.0, \"#0d0887\"], [0.1111111111111111, \"#46039f\"], [0.2222222222222222, \"#7201a8\"], [0.3333333333333333, \"#9c179e\"], [0.4444444444444444, \"#bd3786\"], [0.5555555555555556, \"#d8576b\"], [0.6666666666666666, \"#ed7953\"], [0.7777777777777778, \"#fb9f3a\"], [0.8888888888888888, \"#fdca26\"], [1.0, \"#f0f921\"]], \"type\": \"heatmap\"}], \"heatmapgl\": [{\"colorbar\": {\"outlinewidth\": 0, \"ticks\": \"\"}, \"colorscale\": [[0.0, \"#0d0887\"], [0.1111111111111111, \"#46039f\"], [0.2222222222222222, \"#7201a8\"], [0.3333333333333333, \"#9c179e\"], [0.4444444444444444, \"#bd3786\"], [0.5555555555555556, \"#d8576b\"], [0.6666666666666666, \"#ed7953\"], [0.7777777777777778, \"#fb9f3a\"], [0.8888888888888888, \"#fdca26\"], [1.0, \"#f0f921\"]], \"type\": \"heatmapgl\"}], \"histogram\": [{\"marker\": {\"colorbar\": {\"outlinewidth\": 0, \"ticks\": \"\"}}, \"type\": \"histogram\"}], \"histogram2d\": [{\"colorbar\": {\"outlinewidth\": 0, \"ticks\": \"\"}, \"colorscale\": [[0.0, \"#0d0887\"], [0.1111111111111111, \"#46039f\"], [0.2222222222222222, \"#7201a8\"], [0.3333333333333333, \"#9c179e\"], [0.4444444444444444, \"#bd3786\"], [0.5555555555555556, \"#d8576b\"], [0.6666666666666666, \"#ed7953\"], [0.7777777777777778, \"#fb9f3a\"], [0.8888888888888888, \"#fdca26\"], [1.0, \"#f0f921\"]], \"type\": \"histogram2d\"}], \"histogram2dcontour\": [{\"colorbar\": {\"outlinewidth\": 0, \"ticks\": \"\"}, \"colorscale\": [[0.0, \"#0d0887\"], [0.1111111111111111, \"#46039f\"], [0.2222222222222222, \"#7201a8\"], [0.3333333333333333, \"#9c179e\"], [0.4444444444444444, \"#bd3786\"], [0.5555555555555556, \"#d8576b\"], [0.6666666666666666, \"#ed7953\"], [0.7777777777777778, \"#fb9f3a\"], [0.8888888888888888, \"#fdca26\"], [1.0, \"#f0f921\"]], \"type\": \"histogram2dcontour\"}], \"mesh3d\": [{\"colorbar\": {\"outlinewidth\": 0, \"ticks\": \"\"}, \"type\": \"mesh3d\"}], \"parcoords\": [{\"line\": {\"colorbar\": {\"outlinewidth\": 0, \"ticks\": \"\"}}, \"type\": \"parcoords\"}], \"pie\": [{\"automargin\": true, \"type\": \"pie\"}], \"scatter\": [{\"marker\": {\"colorbar\": {\"outlinewidth\": 0, \"ticks\": \"\"}}, \"type\": \"scatter\"}], \"scatter3d\": [{\"line\": {\"colorbar\": {\"outlinewidth\": 0, \"ticks\": \"\"}}, \"marker\": {\"colorbar\": {\"outlinewidth\": 0, \"ticks\": \"\"}}, \"type\": \"scatter3d\"}], \"scattercarpet\": [{\"marker\": {\"colorbar\": {\"outlinewidth\": 0, \"ticks\": \"\"}}, \"type\": \"scattercarpet\"}], \"scattergeo\": [{\"marker\": {\"colorbar\": {\"outlinewidth\": 0, \"ticks\": \"\"}}, \"type\": \"scattergeo\"}], \"scattergl\": [{\"marker\": {\"colorbar\": {\"outlinewidth\": 0, \"ticks\": \"\"}}, \"type\": \"scattergl\"}], \"scattermapbox\": [{\"marker\": {\"colorbar\": {\"outlinewidth\": 0, \"ticks\": \"\"}}, \"type\": \"scattermapbox\"}], \"scatterpolar\": [{\"marker\": {\"colorbar\": {\"outlinewidth\": 0, \"ticks\": \"\"}}, \"type\": \"scatterpolar\"}], \"scatterpolargl\": [{\"marker\": {\"colorbar\": {\"outlinewidth\": 0, \"ticks\": \"\"}}, \"type\": \"scatterpolargl\"}], \"scatterternary\": [{\"marker\": {\"colorbar\": {\"outlinewidth\": 0, \"ticks\": \"\"}}, \"type\": \"scatterternary\"}], \"surface\": [{\"colorbar\": {\"outlinewidth\": 0, \"ticks\": \"\"}, \"colorscale\": [[0.0, \"#0d0887\"], [0.1111111111111111, \"#46039f\"], [0.2222222222222222, \"#7201a8\"], [0.3333333333333333, \"#9c179e\"], [0.4444444444444444, \"#bd3786\"], [0.5555555555555556, \"#d8576b\"], [0.6666666666666666, \"#ed7953\"], [0.7777777777777778, \"#fb9f3a\"], [0.8888888888888888, \"#fdca26\"], [1.0, \"#f0f921\"]], \"type\": \"surface\"}], \"table\": [{\"cells\": {\"fill\": {\"color\": \"#EBF0F8\"}, \"line\": {\"color\": \"white\"}}, \"header\": {\"fill\": {\"color\": \"#C8D4E3\"}, \"line\": {\"color\": \"white\"}}, \"type\": \"table\"}]}, \"layout\": {\"annotationdefaults\": {\"arrowcolor\": \"#2a3f5f\", \"arrowhead\": 0, \"arrowwidth\": 1}, \"coloraxis\": {\"colorbar\": {\"outlinewidth\": 0, \"ticks\": \"\"}}, \"colorscale\": {\"diverging\": [[0, \"#8e0152\"], [0.1, \"#c51b7d\"], [0.2, \"#de77ae\"], [0.3, \"#f1b6da\"], [0.4, \"#fde0ef\"], [0.5, \"#f7f7f7\"], [0.6, \"#e6f5d0\"], [0.7, \"#b8e186\"], [0.8, \"#7fbc41\"], [0.9, \"#4d9221\"], [1, \"#276419\"]], \"sequential\": [[0.0, \"#0d0887\"], [0.1111111111111111, \"#46039f\"], [0.2222222222222222, \"#7201a8\"], [0.3333333333333333, \"#9c179e\"], [0.4444444444444444, \"#bd3786\"], [0.5555555555555556, \"#d8576b\"], [0.6666666666666666, \"#ed7953\"], [0.7777777777777778, \"#fb9f3a\"], [0.8888888888888888, \"#fdca26\"], [1.0, \"#f0f921\"]], \"sequentialminus\": [[0.0, \"#0d0887\"], [0.1111111111111111, \"#46039f\"], [0.2222222222222222, \"#7201a8\"], [0.3333333333333333, \"#9c179e\"], [0.4444444444444444, \"#bd3786\"], [0.5555555555555556, \"#d8576b\"], [0.6666666666666666, \"#ed7953\"], [0.7777777777777778, \"#fb9f3a\"], [0.8888888888888888, \"#fdca26\"], [1.0, \"#f0f921\"]]}, \"colorway\": [\"#636efa\", \"#EF553B\", \"#00cc96\", \"#ab63fa\", \"#FFA15A\", \"#19d3f3\", \"#FF6692\", \"#B6E880\", \"#FF97FF\", \"#FECB52\"], \"font\": {\"color\": \"#2a3f5f\"}, \"geo\": {\"bgcolor\": \"white\", \"lakecolor\": \"white\", \"landcolor\": \"#E5ECF6\", \"showlakes\": true, \"showland\": true, \"subunitcolor\": \"white\"}, \"hoverlabel\": {\"align\": \"left\"}, \"hovermode\": \"closest\", \"mapbox\": {\"style\": \"light\"}, \"paper_bgcolor\": \"white\", \"plot_bgcolor\": \"#E5ECF6\", \"polar\": {\"angularaxis\": {\"gridcolor\": \"white\", \"linecolor\": \"white\", \"ticks\": \"\"}, \"bgcolor\": \"#E5ECF6\", \"radialaxis\": {\"gridcolor\": \"white\", \"linecolor\": \"white\", \"ticks\": \"\"}}, \"scene\": {\"xaxis\": {\"backgroundcolor\": \"#E5ECF6\", \"gridcolor\": \"white\", \"gridwidth\": 2, \"linecolor\": \"white\", \"showbackground\": true, \"ticks\": \"\", \"zerolinecolor\": \"white\"}, \"yaxis\": {\"backgroundcolor\": \"#E5ECF6\", \"gridcolor\": \"white\", \"gridwidth\": 2, \"linecolor\": \"white\", \"showbackground\": true, \"ticks\": \"\", \"zerolinecolor\": \"white\"}, \"zaxis\": {\"backgroundcolor\": \"#E5ECF6\", \"gridcolor\": \"white\", \"gridwidth\": 2, \"linecolor\": \"white\", \"showbackground\": true, \"ticks\": \"\", \"zerolinecolor\": \"white\"}}, \"shapedefaults\": {\"line\": {\"color\": \"#2a3f5f\"}}, \"ternary\": {\"aaxis\": {\"gridcolor\": \"white\", \"linecolor\": \"white\", \"ticks\": \"\"}, \"baxis\": {\"gridcolor\": \"white\", \"linecolor\": \"white\", \"ticks\": \"\"}, \"bgcolor\": \"#E5ECF6\", \"caxis\": {\"gridcolor\": \"white\", \"linecolor\": \"white\", \"ticks\": \"\"}}, \"title\": {\"x\": 0.05}, \"xaxis\": {\"automargin\": true, \"gridcolor\": \"white\", \"linecolor\": \"white\", \"ticks\": \"\", \"title\": {\"standoff\": 15}, \"zerolinecolor\": \"white\", \"zerolinewidth\": 2}, \"yaxis\": {\"automargin\": true, \"gridcolor\": \"white\", \"linecolor\": \"white\", \"ticks\": \"\", \"title\": {\"standoff\": 15}, \"zerolinecolor\": \"white\", \"zerolinewidth\": 2}}}, \"title\": {\"text\": \"Distribui\\u00e7\\u00e3o de novas mortes em RS\"}, \"width\": 600},\n",
       "                        {\"responsive\": true}\n",
       "                    ).then(function(){\n",
       "                            \n",
       "var gd = document.getElementById('499b1cc5-9be6-4e08-9c56-698adc43ade9');\n",
       "var x = new MutationObserver(function (mutations, observer) {{\n",
       "        var display = window.getComputedStyle(gd).display;\n",
       "        if (!display || display === 'none') {{\n",
       "            console.log([gd, 'removed!']);\n",
       "            Plotly.purge(gd);\n",
       "            observer.disconnect();\n",
       "        }}\n",
       "}});\n",
       "\n",
       "// Listen for the removal of the full notebook cells\n",
       "var notebookContainer = gd.closest('#notebook-container');\n",
       "if (notebookContainer) {{\n",
       "    x.observe(notebookContainer, {childList: true});\n",
       "}}\n",
       "\n",
       "// Listen for the clearing of the current output cell\n",
       "var outputEl = gd.closest('.output');\n",
       "if (outputEl) {{\n",
       "    x.observe(outputEl, {childList: true});\n",
       "}}\n",
       "\n",
       "                        })\n",
       "                };\n",
       "                });\n",
       "            </script>\n",
       "        </div>"
      ]
     },
     "metadata": {},
     "output_type": "display_data"
    }
   ],
   "source": [
    "plot_deaths_heatmap(df_deaths, 'city', 'Distribuição de novas mortes em {}'.format(state))"
   ]
  },
  {
   "cell_type": "code",
   "execution_count": null,
   "metadata": {},
   "outputs": [],
   "source": []
  }
 ],
 "metadata": {
  "kernelspec": {
   "display_name": "venvanalysis",
   "language": "python",
   "name": "venvanalysis"
  },
  "language_info": {
   "codemirror_mode": {
    "name": "ipython",
    "version": 3
   },
   "file_extension": ".py",
   "mimetype": "text/x-python",
   "name": "python",
   "nbconvert_exporter": "python",
   "pygments_lexer": "ipython3",
   "version": "3.7.4"
  },
  "toc": {
   "base_numbering": 1,
   "nav_menu": {},
   "number_sections": true,
   "sideBar": true,
   "skip_h1_title": true,
   "title_cell": "Table of Contents",
   "title_sidebar": "Contents",
   "toc_cell": true,
   "toc_position": {},
   "toc_section_display": true,
   "toc_window_display": false
  }
 },
 "nbformat": 4,
 "nbformat_minor": 4
}
