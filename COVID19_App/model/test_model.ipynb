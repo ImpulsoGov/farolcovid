{
 "cells": [
  {
   "cell_type": "markdown",
   "metadata": {
    "toc": true
   },
   "source": [
    "<h1>Table of Contents<span class=\"tocSkip\"></span></h1>\n",
    "<div class=\"toc\"><ul class=\"toc-item\"><li><span><a href=\"#Import-packages-&amp;-config\" data-toc-modified-id=\"Import-packages-&amp;-config-1\"><span class=\"toc-item-num\">1&nbsp;&nbsp;</span>Import packages &amp; config</a></span></li><li><span><a href=\"#Prepare-parameters\" data-toc-modified-id=\"Prepare-parameters-2\"><span class=\"toc-item-num\">2&nbsp;&nbsp;</span>Prepare parameters</a></span></li><li><span><a href=\"#SEIR-model\" data-toc-modified-id=\"SEIR-model-3\"><span class=\"toc-item-num\">3&nbsp;&nbsp;</span>SEIR model</a></span></li><li><span><a href=\"#Entry-point\" data-toc-modified-id=\"Entry-point-4\"><span class=\"toc-item-num\">4&nbsp;&nbsp;</span>Entry point</a></span></li><li><span><a href=\"#Debugging\" data-toc-modified-id=\"Debugging-5\"><span class=\"toc-item-num\">5&nbsp;&nbsp;</span>Debugging</a></span></li><li><span><a href=\"#Run-scenario\" data-toc-modified-id=\"Run-scenario-6\"><span class=\"toc-item-num\">6&nbsp;&nbsp;</span>Run scenario</a></span></li></ul></div>"
   ]
  },
  {
   "cell_type": "markdown",
   "metadata": {},
   "source": [
    "## Import packages & config"
   ]
  },
  {
   "cell_type": "code",
   "execution_count": 1,
   "metadata": {},
   "outputs": [],
   "source": [
    "# import sys\n",
    "# sys.path.append('/home/joaoc/SimulaCorona/.env/lib/python3.6/site-packages/')\n",
    "\n",
    "import pandas as pd\n",
    "import numpy as np\n",
    "import plotly.express as px\n",
    "import yaml\n",
    "from scipy.integrate import odeint\n",
    "from tqdm import tqdm\n",
    "# from paths import *\n",
    "\n",
    "%reload_ext autoreload\n",
    "%autoreload 2\n",
    "\n",
    "from datetime import datetime\n",
    "date_time = datetime.today().strftime('%Y-%m-%d-%H-%M')"
   ]
  },
  {
   "cell_type": "markdown",
   "metadata": {},
   "source": [
    "## Prepare parameters"
   ]
  },
  {
   "cell_type": "code",
   "execution_count": 82,
   "metadata": {},
   "outputs": [],
   "source": [
    "def prepare_states(population_params, disease_params, config):\n",
    "    \"\"\"\n",
    "    Estimate non explicity population initial states\n",
    "\n",
    "    Params\n",
    "    --------\n",
    "\n",
    "    population_param: dict\n",
    "           Explicit population parameters:\n",
    "                    - N: population\n",
    "                    - I: infected\n",
    "                    - R: recovered\n",
    "                    - D: deaths\n",
    "\n",
    "    config: dict\n",
    "            General configuration files with rules to estimate implicit parameters\n",
    "\n",
    "    Returns\n",
    "    --------\n",
    "    dict\n",
    "           Explicit and implicit population parameters ready to be applied in the `model` function\n",
    "    \"\"\"\n",
    "    \n",
    "    e_perc = (config['exposed']['doubling_rate'] - 1) * disease_params['incubation_period'] # 0.26 * 6 = 1.56\n",
    "    exposed = population_params['I'] * config['infected']['i1_percentage'] * e_perc\n",
    "       \n",
    "    initial_pop_params = {\n",
    "        'S': population_params['N'] - population_params['R'] - population_params['D'] - population_params['I'] - exposed,\n",
    "        'E': exposed,\n",
    "        'I1': population_params['I'] * config['infected']['i1_percentage'], # 85.5%\n",
    "        'I2': population_params['I'] * config['infected']['i2_percentage'], # 12.5%\n",
    "        'I3': population_params['I'] * config['infected']['i3_percentage'], # 2.5%\n",
    "        'R': population_params['R'],\n",
    "        'D': population_params['D']\n",
    "    }\n",
    "    \n",
    "    return initial_pop_params"
   ]
  },
  {
   "cell_type": "code",
   "execution_count": 83,
   "metadata": {},
   "outputs": [],
   "source": [
    "def prepare_params(disease_params, config, reproduction_rate, N):\n",
    "    \"\"\"\n",
    "    Estimate non explicity disease parameters\n",
    "\n",
    "    Params\n",
    "    --------\n",
    "\n",
    "    disease_params: dict\n",
    "        Diseases parameters:\n",
    "                   - ...\n",
    "\n",
    "    config: dict\n",
    "            General configuration files with rules to estimate implicit parameters\n",
    "\n",
    "    Returns\n",
    "    --------\n",
    "    dict\n",
    "           Explicit and implicit disease parameters ready to be applied in the `model` function\n",
    "    \"\"\"\n",
    "    \n",
    "    #     TODO - The functions indicated are these => But these are on Sources > Dynamic model parameters\n",
    "    #     a=1/IncubPeriod OK\n",
    "    #     g1=(1/DurMildInf) * FracMild => p1=(1/DurMildInf)*FracMild\n",
    "    #     p1=(1/DurMildInf) - g1 => g1=(1/DurMildInf)-p1\n",
    "    #     p2=(1/DurHosp) * (FracCritical/(FracSevere+FracCritical)) ??\n",
    "    #     g2=(1/DurHosp) - p2 ??\n",
    "    #     u=(1/TimeICUDeath) * (CFR/FracCritical) \n",
    "    #     g3=(1/TimeICUDeath) - u\n",
    "\n",
    "    frac_severe_to_critical = config['infected']['i3_percentage'] / (config['infected']['i2_percentage'] + config['infected']['i3_percentage'])\n",
    "    frac_critical_to_death = disease_params['fatality_ratio'] / config['infected']['i3_percentage']\n",
    "    \n",
    "    print(frac_severe_to_critical)\n",
    "    \n",
    "    parameters = {'sigma': 1 / disease_params['incubation_period'],\n",
    "                  'gamma1': config['infected']['i1_percentage'] / disease_params['mild_duration'],\n",
    "                  'p1': (1 - config['infected']['i1_percentage']) / disease_params['mild_duration'],\n",
    "                  'gamma2': (1 - frac_severe_to_critical) / disease_params['severe_duration'],\n",
    "                  'p2': frac_severe_to_critical / disease_params['severe_duration'], \n",
    "                  'mu': frac_critical_to_death / disease_params['critical_duration'], \n",
    "                  'gamma3': (1 - frac_critical_to_death) / disease_params['critical_duration'], \n",
    "                 }\n",
    "    \n",
    "    # Assuming beta1 with 0.9 * R0\n",
    "    parameters['beta1'] = 0.9 * (1 / disease_params['mild_duration']) * reproduction_rate # / N\n",
    "    \n",
    "    # And beta2 = beta3 with 0.1 * R0\n",
    "    x = (1 / disease_params['mild_duration']) * (1 / disease_params['severe_duration']) * (1 / disease_params['critical_duration'])\n",
    "    y = parameters['p1'] * (1/disease_params['critical_duration']) + parameters['p1'] * parameters['p2']\n",
    "    \n",
    "    parameters['beta3'] = 0.1 * (x / y) * reproduction_rate # / N\n",
    "    parameters['beta2'] = parameters['beta3']  \n",
    "    \n",
    "    return parameters"
   ]
  },
  {
   "cell_type": "markdown",
   "metadata": {},
   "source": [
    "## SEIR model"
   ]
  },
  {
   "cell_type": "code",
   "execution_count": 92,
   "metadata": {},
   "outputs": [],
   "source": [
    "def SEIR(y, t, N, model_params):\n",
    "    \"\"\"\n",
    "    The SEIR model differential equations.\n",
    "    \n",
    "    Params\n",
    "    --------\n",
    "    y: dict\n",
    "         Population parameters:\n",
    "              - S: susceptible\n",
    "              - E: exposed\n",
    "              - I_1: infected mild\n",
    "              - I_2: infected severe\n",
    "              - I_3: infected critical\n",
    "              - R: recovered\n",
    "              - D: deaths\n",
    "    N: int\n",
    "            Population size\n",
    "            \n",
    "    model_params: int\n",
    "           Parameters of model dynamic (transmission, progression, recovery and death rates)\n",
    "\n",
    "    Return\n",
    "    -------\n",
    "    pd.DataFrame\n",
    "            Evolution of population parameters.\n",
    "    \"\"\"\n",
    "\n",
    "    S, E, I1, I2, I3, R, D = y\n",
    "    \n",
    "    # Exposition of susceptible rate\n",
    "    exposition_rate = (model_params['beta1'] * I1) + (model_params['beta2'] * I2) + (model_params['beta3'] * I3)\n",
    "    \n",
    "    # Susceptible\n",
    "    dSdt = - exposition_rate * S / N\n",
    "    \n",
    "    # Exposed\n",
    "    dEdt = exposition_rate * S / N - model_params['sigma'] * E\n",
    "    \n",
    "    # Infected (mild)\n",
    "    dI1dt = model_params['sigma'] * E - (model_params['gamma1'] + model_params['p1']) * I1\n",
    "    \n",
    "    # Infected (severe)\n",
    "    dI2dt = model_params['p1'] * I1 - (model_params['gamma2'] + model_params['p2']) * I2\n",
    "    \n",
    "    # Infected (critical)\n",
    "    dI3dt = model_params['p2'] * I2 - (model_params['gamma3'] + model_params['mu']) * I3\n",
    "    \n",
    "    # Recovered\n",
    "    dRdt = model_params['gamma1'] * I1 + model_params['gamma2'] * I2 + model_params['gamma3'] * I3\n",
    "    \n",
    "    # Deaths\n",
    "    dDdt = model_params['mu'] * I3\n",
    "     \n",
    "    return dSdt, dEdt, dI1dt, dI2dt, dI3dt, dRdt, dDdt"
   ]
  },
  {
   "cell_type": "code",
   "execution_count": 97,
   "metadata": {},
   "outputs": [],
   "source": [
    "# def model(initial_pop_params, model_params, N, n_days=90): \n",
    "#     \"\"\" Run X epidemiological model\n",
    "\n",
    "#     Params\n",
    "#     --------\n",
    "#     initial_pop_params: dict\n",
    "#          Population parameters:\n",
    "#               - S: susceptible\n",
    "#               - E: exposed\n",
    "#               - I_1: infected mild\n",
    "#               - I_2: infected severe\n",
    "#               - I_3: infected critical\n",
    "#               - R: recovered\n",
    "#               - D: deaths\n",
    "\n",
    "#     diseases_params: dict\n",
    "#            Diseases parameters:\n",
    "#                - ...\n",
    "#     N: int\n",
    "#             Population size\n",
    "            \n",
    "#     n_days: int\n",
    "#            Number of days to model\n",
    "\n",
    "#     Return\n",
    "#     -------\n",
    "#     pd.DataFrame\n",
    "#             Evolution of population parameters.\n",
    "#     \"\"\"\n",
    "    \n",
    "#     t = np.linspace(0, n_days, n_days+1)\n",
    "#     y0 = list(initial_pop_params.values())\n",
    "    \n",
    "#     params = {'y0': y0, 't': t, 'args': (N, model_params)}\n",
    "    \n",
    "#     result = odeint(SEIR, **params)\n",
    "#     result = pd.DataFrame(result, columns=['S', 'E' ,'I1', 'I2', 'I3', 'R', 'D'])\n",
    "#     # result['t'] = t\n",
    "    \n",
    "#     return result"
   ]
  },
  {
   "cell_type": "markdown",
   "metadata": {},
   "source": [
    "## Entry point"
   ]
  },
  {
   "cell_type": "code",
   "execution_count": 93,
   "metadata": {},
   "outputs": [],
   "source": [
    "def entrypoint(population_params, reproduction_rate=3, n_days=90):\n",
    "    \"\"\"\n",
    "    Function to receive user input and run model.\n",
    "    \n",
    "    Params\n",
    "    --------\n",
    "    population_param: dict\n",
    "           Explicit population parameters:\n",
    "                    - N: population\n",
    "                    - I: infected\n",
    "                    - R: recovered\n",
    "                    - D: deaths\n",
    "                    \n",
    "    path: str\n",
    "        Current path from call.\n",
    "                                 \n",
    "    reproduction_rate: int\n",
    "            Basic reproduction rate of the disease.\n",
    "            \n",
    "    n_days: int\n",
    "            Number of days to model.\n",
    "\n",
    "    Return\n",
    "    -------\n",
    "    pd.DataFrame\n",
    "            Evolution of population parameters.\n",
    "    \"\"\"\n",
    "    \n",
    "    # Get config values\n",
    "    model_parameters = yaml.load(open('../configs/model_parameters.yaml', 'r'), Loader=yaml.FullLoader)\n",
    "    config = yaml.load(open('../configs/config.yaml', 'r'), Loader=yaml.FullLoader)\n",
    "    \n",
    "    # Prepate parameters\n",
    "    initial_pop_params = prepare_states(population_params, \n",
    "                                        model_parameters['diseases_parameters'], config)\n",
    "    seir_parameters = prepare_params(model_parameters['diseases_parameters'], config, \n",
    "                                     reproduction_rate, N=population_params['N'])\n",
    "    \n",
    "    print(seir_parameters)\n",
    "    \n",
    "    # Run model\n",
    "    params = {'y0': list(initial_pop_params.values()),\n",
    "              't': np.linspace(0, n_days, n_days+1), \n",
    "              'args': (population_params['N'], seir_parameters)}\n",
    "    \n",
    "    result = pd.DataFrame(odeint(SEIR, **params), \n",
    "                          columns=['S', 'E' ,'I1', 'I2', 'I3', 'R', 'D'])\n",
    "    \n",
    "    result['N'] = result.sum(axis=1)\n",
    "    result['t'] = result.index\n",
    "    \n",
    "    return result"
   ]
  },
  {
   "cell_type": "code",
   "execution_count": 94,
   "metadata": {},
   "outputs": [
    {
     "data": {
      "text/plain": [
       "({'population_parameters': {'N': 10000, 'I': 1000, 'R': 0, 'D': 10},\n",
       "  'diseases_parameters': {'mild_proportion': 0.8,\n",
       "   'mild_duration': 6,\n",
       "   'severe_proportion': 0.15,\n",
       "   'severe_duration': 6,\n",
       "   'critical_proportion': 0.05,\n",
       "   'critical_duration': 8,\n",
       "   'fatality_ratio': 0.02,\n",
       "   'transmission_severe': 0.1,\n",
       "   'transmission_critical': 0.1,\n",
       "   'doubling_rate': 1.26,\n",
       "   'incubation_period': 6},\n",
       "  'estimation_days': 90},\n",
       " {'infected': {'i1_percentage': 0.855,\n",
       "   'i2_percentage': 0.12,\n",
       "   'i3_percentage': 0.025},\n",
       "  'exposed': {'doubling_rate': 1.26}})"
      ]
     },
     "execution_count": 94,
     "metadata": {},
     "output_type": "execute_result"
    }
   ],
   "source": [
    "config = yaml.load(open('../configs/config.yaml', 'r'), Loader=yaml.FullLoader)\n",
    "model_parameters = yaml.load(open('../configs/model_parameters.yaml', 'r'), Loader=yaml.FullLoader)\n",
    "\n",
    "model_parameters, config"
   ]
  },
  {
   "cell_type": "code",
   "execution_count": 95,
   "metadata": {},
   "outputs": [
    {
     "name": "stdout",
     "output_type": "stream",
     "text": [
      "0.1724137931034483\n",
      "{'sigma': 0.16666666666666666, 'gamma1': 0.1425, 'p1': 0.02416666666666667, 'gamma2': 0.13793103448275862, 'p2': 0.02873563218390805, 'mu': 0.09999999999999999, 'gamma3': 0.02500000000000001, 'beta1': 0.44999999999999996, 'beta3': 0.28037383177570085, 'beta2': 0.28037383177570085}\n"
     ]
    },
    {
     "data": {
      "text/html": [
       "<div>\n",
       "<style scoped>\n",
       "    .dataframe tbody tr th:only-of-type {\n",
       "        vertical-align: middle;\n",
       "    }\n",
       "\n",
       "    .dataframe tbody tr th {\n",
       "        vertical-align: top;\n",
       "    }\n",
       "\n",
       "    .dataframe thead th {\n",
       "        text-align: right;\n",
       "    }\n",
       "</style>\n",
       "<table border=\"1\" class=\"dataframe\">\n",
       "  <thead>\n",
       "    <tr style=\"text-align: right;\">\n",
       "      <th></th>\n",
       "      <th>S</th>\n",
       "      <th>E</th>\n",
       "      <th>I1</th>\n",
       "      <th>I2</th>\n",
       "      <th>I3</th>\n",
       "      <th>R</th>\n",
       "      <th>D</th>\n",
       "      <th>N</th>\n",
       "      <th>t</th>\n",
       "    </tr>\n",
       "  </thead>\n",
       "  <tbody>\n",
       "    <tr>\n",
       "      <td>0</td>\n",
       "      <td>7656.200000</td>\n",
       "      <td>1333.800000</td>\n",
       "      <td>855.000000</td>\n",
       "      <td>120.000000</td>\n",
       "      <td>25.000000</td>\n",
       "      <td>0.000000</td>\n",
       "      <td>10.000000</td>\n",
       "      <td>10000.0</td>\n",
       "      <td>0</td>\n",
       "    </tr>\n",
       "    <tr>\n",
       "      <td>1</td>\n",
       "      <td>7323.809245</td>\n",
       "      <td>1435.373570</td>\n",
       "      <td>936.566297</td>\n",
       "      <td>121.537105</td>\n",
       "      <td>25.321222</td>\n",
       "      <td>144.876536</td>\n",
       "      <td>12.516026</td>\n",
       "      <td>10000.0</td>\n",
       "      <td>1</td>\n",
       "    </tr>\n",
       "    <tr>\n",
       "      <td>2</td>\n",
       "      <td>6979.192978</td>\n",
       "      <td>1532.590390</td>\n",
       "      <td>1020.875483</td>\n",
       "      <td>124.687482</td>\n",
       "      <td>25.668918</td>\n",
       "      <td>301.919610</td>\n",
       "      <td>15.065139</td>\n",
       "      <td>10000.0</td>\n",
       "      <td>2</td>\n",
       "    </tr>\n",
       "    <tr>\n",
       "      <td>3</td>\n",
       "      <td>6624.557036</td>\n",
       "      <td>1624.080012</td>\n",
       "      <td>1106.734061</td>\n",
       "      <td>129.250925</td>\n",
       "      <td>26.080786</td>\n",
       "      <td>471.645222</td>\n",
       "      <td>17.651959</td>\n",
       "      <td>10000.0</td>\n",
       "      <td>3</td>\n",
       "    </tr>\n",
       "    <tr>\n",
       "      <td>4</td>\n",
       "      <td>6262.629751</td>\n",
       "      <td>1708.202686</td>\n",
       "      <td>1192.897962</td>\n",
       "      <td>135.030885</td>\n",
       "      <td>26.584739</td>\n",
       "      <td>654.369602</td>\n",
       "      <td>20.284375</td>\n",
       "      <td>10000.0</td>\n",
       "      <td>4</td>\n",
       "    </tr>\n",
       "    <tr>\n",
       "      <td>...</td>\n",
       "      <td>...</td>\n",
       "      <td>...</td>\n",
       "      <td>...</td>\n",
       "      <td>...</td>\n",
       "      <td>...</td>\n",
       "      <td>...</td>\n",
       "      <td>...</td>\n",
       "      <td>...</td>\n",
       "      <td>...</td>\n",
       "    </tr>\n",
       "    <tr>\n",
       "      <td>86</td>\n",
       "      <td>443.932549</td>\n",
       "      <td>2.311992</td>\n",
       "      <td>5.695430</td>\n",
       "      <td>1.993035</td>\n",
       "      <td>1.526110</td>\n",
       "      <td>9311.623748</td>\n",
       "      <td>232.917135</td>\n",
       "      <td>10000.0</td>\n",
       "      <td>86</td>\n",
       "    </tr>\n",
       "    <tr>\n",
       "      <td>87</td>\n",
       "      <td>443.782427</td>\n",
       "      <td>2.095151</td>\n",
       "      <td>5.158629</td>\n",
       "      <td>1.807609</td>\n",
       "      <td>1.398027</td>\n",
       "      <td>9312.694904</td>\n",
       "      <td>233.063253</td>\n",
       "      <td>10000.0</td>\n",
       "      <td>87</td>\n",
       "    </tr>\n",
       "    <tr>\n",
       "      <td>88</td>\n",
       "      <td>443.646284</td>\n",
       "      <td>1.898740</td>\n",
       "      <td>4.672586</td>\n",
       "      <td>1.639291</td>\n",
       "      <td>1.280225</td>\n",
       "      <td>9313.665792</td>\n",
       "      <td>233.197083</td>\n",
       "      <td>10000.0</td>\n",
       "      <td>88</td>\n",
       "    </tr>\n",
       "    <tr>\n",
       "      <td>89</td>\n",
       "      <td>443.522816</td>\n",
       "      <td>1.720821</td>\n",
       "      <td>4.232489</td>\n",
       "      <td>1.486527</td>\n",
       "      <td>1.171936</td>\n",
       "      <td>9314.545796</td>\n",
       "      <td>233.319615</td>\n",
       "      <td>10000.0</td>\n",
       "      <td>89</td>\n",
       "    </tr>\n",
       "    <tr>\n",
       "      <td>90</td>\n",
       "      <td>443.410843</td>\n",
       "      <td>1.559643</td>\n",
       "      <td>3.833983</td>\n",
       "      <td>1.347902</td>\n",
       "      <td>1.072442</td>\n",
       "      <td>9315.343423</td>\n",
       "      <td>233.431763</td>\n",
       "      <td>10000.0</td>\n",
       "      <td>90</td>\n",
       "    </tr>\n",
       "  </tbody>\n",
       "</table>\n",
       "<p>91 rows × 9 columns</p>\n",
       "</div>"
      ],
      "text/plain": [
       "              S            E           I1          I2         I3            R  \\\n",
       "0   7656.200000  1333.800000   855.000000  120.000000  25.000000     0.000000   \n",
       "1   7323.809245  1435.373570   936.566297  121.537105  25.321222   144.876536   \n",
       "2   6979.192978  1532.590390  1020.875483  124.687482  25.668918   301.919610   \n",
       "3   6624.557036  1624.080012  1106.734061  129.250925  26.080786   471.645222   \n",
       "4   6262.629751  1708.202686  1192.897962  135.030885  26.584739   654.369602   \n",
       "..          ...          ...          ...         ...        ...          ...   \n",
       "86   443.932549     2.311992     5.695430    1.993035   1.526110  9311.623748   \n",
       "87   443.782427     2.095151     5.158629    1.807609   1.398027  9312.694904   \n",
       "88   443.646284     1.898740     4.672586    1.639291   1.280225  9313.665792   \n",
       "89   443.522816     1.720821     4.232489    1.486527   1.171936  9314.545796   \n",
       "90   443.410843     1.559643     3.833983    1.347902   1.072442  9315.343423   \n",
       "\n",
       "             D        N   t  \n",
       "0    10.000000  10000.0   0  \n",
       "1    12.516026  10000.0   1  \n",
       "2    15.065139  10000.0   2  \n",
       "3    17.651959  10000.0   3  \n",
       "4    20.284375  10000.0   4  \n",
       "..         ...      ...  ..  \n",
       "86  232.917135  10000.0  86  \n",
       "87  233.063253  10000.0  87  \n",
       "88  233.197083  10000.0  88  \n",
       "89  233.319615  10000.0  89  \n",
       "90  233.431763  10000.0  90  \n",
       "\n",
       "[91 rows x 9 columns]"
      ]
     },
     "execution_count": 95,
     "metadata": {},
     "output_type": "execute_result"
    }
   ],
   "source": [
    "result = entrypoint(model_parameters['population_parameters'], reproduction_rate=3)\n",
    "result"
   ]
  },
  {
   "cell_type": "code",
   "execution_count": 98,
   "metadata": {},
   "outputs": [
    {
     "data": {
      "application/vnd.plotly.v1+json": {
       "config": {
        "plotlyServerURL": "https://plot.ly"
       },
       "data": [
        {
         "hoverlabel": {
          "namelength": 0
         },
         "hovertemplate": "variable=S<br>t=%{x}<br>value=%{y}",
         "legendgroup": "S",
         "line": {
          "color": "#636efa",
          "dash": "solid"
         },
         "mode": "lines",
         "name": "S",
         "showlegend": true,
         "type": "scatter",
         "x": [
          0,
          1,
          2,
          3,
          4,
          5,
          6,
          7,
          8,
          9,
          10,
          11,
          12,
          13,
          14,
          15,
          16,
          17,
          18,
          19,
          20,
          21,
          22,
          23,
          24,
          25,
          26,
          27,
          28,
          29,
          30,
          31,
          32,
          33,
          34,
          35,
          36,
          37,
          38,
          39,
          40,
          41,
          42,
          43,
          44,
          45,
          46,
          47,
          48,
          49,
          50,
          51,
          52,
          53,
          54,
          55,
          56,
          57,
          58,
          59,
          60,
          61,
          62,
          63,
          64,
          65,
          66,
          67,
          68,
          69,
          70,
          71,
          72,
          73,
          74,
          75,
          76,
          77,
          78,
          79,
          80,
          81,
          82,
          83,
          84,
          85,
          86,
          87,
          88,
          89,
          90
         ],
         "xaxis": "x",
         "y": [
          7656.2,
          7323.809244604688,
          6979.192977652915,
          6624.557035570623,
          6262.629751420203,
          5896.533631019442,
          5529.647258526048,
          5165.45820235269,
          4807.412962295617,
          4458.772828432871,
          4122.485416508448,
          3801.0808516614325,
          3496.599234421638,
          3210.5524556090895,
          2943.9198679368264,
          2697.1740065296203,
          2470.3300942131846,
          2263.011885838209,
          2074.52618698609,
          1903.939101198161,
          1750.148731311391,
          1611.9502421311115,
          1488.0911432810788,
          1377.3159096996224,
          1278.4001303173532,
          1190.1750907333644,
          1111.5441189567905,
          1041.4921620105229,
          979.0900631995307,
          923.4948731106886,
          873.9473390323996,
          829.76751197596,
          790.34921307715,
          755.1539128466304,
          723.704433548429,
          695.5787525447755,
          670.4040943464939,
          647.8514223145336,
          627.6303884452561,
          609.484761061522,
          593.1883276516891,
          578.5412502271383,
          565.3668425413442,
          553.5087332347917,
          542.8283771313429,
          533.202877375296,
          524.5230828175576,
          516.6919277061216,
          509.6229834895418,
          503.23919576910157,
          497.47178240854765,
          492.2592715726838,
          487.54666110060947,
          483.28468325243347,
          479.4291605888321,
          475.9404409206607,
          472.78290085006415,
          469.92450884285364,
          467.3364400270063,
          464.9927360256357,
          462.8700040423463,
          460.9471500463723,
          459.2051421968922,
          457.6268003003683,
          456.1966083680518,
          454.90054743829717,
          453.725946265994,
          452.6613478001695,
          451.69638960859334,
          450.82169666497555,
          450.02878512706343,
          449.30997593572465,
          448.65831702092,
          448.06751339135053,
          447.53186409294324,
          447.0462054309143,
          446.605859729547,
          446.2065891177056,
          445.84455378280757,
          445.51627426880793,
          445.2185974063034,
          444.94866550728995,
          444.7038885101406,
          444.48191878178574,
          444.280628315743,
          444.0980880964018,
          443.93254941890297,
          443.7824269742084,
          443.6462835332931,
          443.5228160748596,
          443.4108432192164
         ],
         "yaxis": "y"
        },
        {
         "hoverlabel": {
          "namelength": 0
         },
         "hovertemplate": "variable=E<br>t=%{x}<br>value=%{y}",
         "legendgroup": "E",
         "line": {
          "color": "#EF553B",
          "dash": "solid"
         },
         "mode": "lines",
         "name": "E",
         "showlegend": true,
         "type": "scatter",
         "x": [
          0,
          1,
          2,
          3,
          4,
          5,
          6,
          7,
          8,
          9,
          10,
          11,
          12,
          13,
          14,
          15,
          16,
          17,
          18,
          19,
          20,
          21,
          22,
          23,
          24,
          25,
          26,
          27,
          28,
          29,
          30,
          31,
          32,
          33,
          34,
          35,
          36,
          37,
          38,
          39,
          40,
          41,
          42,
          43,
          44,
          45,
          46,
          47,
          48,
          49,
          50,
          51,
          52,
          53,
          54,
          55,
          56,
          57,
          58,
          59,
          60,
          61,
          62,
          63,
          64,
          65,
          66,
          67,
          68,
          69,
          70,
          71,
          72,
          73,
          74,
          75,
          76,
          77,
          78,
          79,
          80,
          81,
          82,
          83,
          84,
          85,
          86,
          87,
          88,
          89,
          90
         ],
         "xaxis": "x",
         "y": [
          1333.8,
          1435.3735701892151,
          1532.5903901347888,
          1624.0800121820805,
          1708.2026857261267,
          1783.2090395147454,
          1847.3841975434473,
          1899.1781055566164,
          1937.3183610022386,
          1960.9002940925348,
          1969.4485475665915,
          1962.9464208190489,
          1941.8318595606484,
          1906.962375286101,
          1859.554221070648,
          1801.1032628993637,
          1733.296205574644,
          1657.9204832597284,
          1576.7800953292983,
          1491.6228450878216,
          1404.0820650539151,
          1315.6343930943185,
          1227.57303062713,
          1140.9949457018774,
          1056.7996678243505,
          975.6970710792144,
          898.2215302605474,
          824.7501193451843,
          755.522878435145,
          690.6636070249319,
          630.2000513750479,
          574.0827164893409,
          522.2018300406326,
          474.402240183377,
          430.4961819515952,
          390.27398990719405,
          353.51289683959925,
          319.9841139222002,
          289.4584007861149,
          261.7103400104045,
          236.5215183511876,
          213.6828029204974,
          192.9958799294441,
          174.27420207090918,
          157.34347046022688,
          142.0417560884011,
          128.2193508299231,
          115.73841702700167,
          104.47249700048062,
          94.30592705856387,
          85.13319345558331,
          76.85825861750806,
          69.3938793180709,
          62.66093247823649,
          56.5877608064535,
          51.10954625254806,
          46.1677165017958,
          41.70938789215951,
          37.68684631698656,
          34.057066378486496,
          30.78126830211915,
          27.824511522260387,
          25.155322806585907,
          22.74535761781168,
          20.569092179961064,
          18.60354417261759,
          16.82801987241524,
          15.22388564309422,
          13.774361635863317,
          12.464335798471346,
          11.280196330307158,
          10.209680888379435,
          9.241740870139978,
          8.366419482717339,
          7.574742059659821,
          6.858617517571826,
          6.21074986166107,
          5.624558607263053,
          5.094107348717635,
          4.614039560497198,
          4.1795209047379,
          3.786187408842107,
          3.4300988755431896,
          3.1076970008051585,
          2.8157677235049343,
          2.5514073585174186,
          2.311992128936956,
          2.095150757323447,
          1.8987397883387682,
          1.7208213743807705,
          1.5596432714625716
         ],
         "yaxis": "y"
        },
        {
         "hoverlabel": {
          "namelength": 0
         },
         "hovertemplate": "variable=I1<br>t=%{x}<br>value=%{y}",
         "legendgroup": "I1",
         "line": {
          "color": "#00cc96",
          "dash": "solid"
         },
         "mode": "lines",
         "name": "I1",
         "showlegend": true,
         "type": "scatter",
         "x": [
          0,
          1,
          2,
          3,
          4,
          5,
          6,
          7,
          8,
          9,
          10,
          11,
          12,
          13,
          14,
          15,
          16,
          17,
          18,
          19,
          20,
          21,
          22,
          23,
          24,
          25,
          26,
          27,
          28,
          29,
          30,
          31,
          32,
          33,
          34,
          35,
          36,
          37,
          38,
          39,
          40,
          41,
          42,
          43,
          44,
          45,
          46,
          47,
          48,
          49,
          50,
          51,
          52,
          53,
          54,
          55,
          56,
          57,
          58,
          59,
          60,
          61,
          62,
          63,
          64,
          65,
          66,
          67,
          68,
          69,
          70,
          71,
          72,
          73,
          74,
          75,
          76,
          77,
          78,
          79,
          80,
          81,
          82,
          83,
          84,
          85,
          86,
          87,
          88,
          89,
          90
         ],
         "xaxis": "x",
         "y": [
          855,
          936.5662970463248,
          1020.8754830664215,
          1106.7340606398468,
          1192.8979615715248,
          1278.0517730900874,
          1360.8144453552381,
          1439.7650968845555,
          1513.4836445930978,
          1580.600678933644,
          1639.8514204369676,
          1690.128318678323,
          1730.5274067704215,
          1760.3844602506736,
          1779.2980785448387,
          1787.1383558604468,
          1784.0411895659986,
          1770.3896293915918,
          1746.784636916938,
          1714.008278939052,
          1672.9825030447705,
          1624.7265312247991,
          1570.315587671045,
          1510.8429563628652,
          1447.3868666876044,
          1380.98300589856,
          1312.6029853102775,
          1243.1386320657173,
          1173.3916727099988,
          1104.068171174802,
          1035.7769739670357,
          969.0313951007078,
          904.2533887609321,
          841.779521920835,
          781.868151534722,
          724.7072941476771,
          670.4227811682407,
          619.0863715818318,
          570.7235865366762,
          525.3210916571877,
          482.8335117563464,
          443.1896155543899,
          406.29783915434854,
          372.0511500591971,
          340.33127137649853,
          311.01230238519287,
          283.9637783108043,
          259.0532224715391,
          236.14823984730754,
          215.11820632579574,
          195.83560382559074,
          178.17704846453591,
          162.02405721470024,
          147.26359187739376,
          133.78841814043633,
          121.49731072534527,
          110.2951335989242,
          100.09281962536623,
          90.80727068164943,
          82.36119651894967,
          74.68290748523715,
          67.70607429542373,
          61.36946425270001,
          55.6166642868541,
          50.395796632026816,
          45.65923323392751,
          41.363313236470944,
          37.46806699033319,
          33.93694899720494,
          30.736582007607165,
          27.8365132245587,
          25.20898344176266,
          22.828710046204517,
          20.672683107389023,
          18.719975427449047,
          16.95156567771487,
          15.350174253167664,
          13.900111675922092,
          12.587138526620487,
          11.398336561802743,
          10.321990313919903,
          9.34747841912602,
          8.465174131183534,
          7.666354336183681,
          6.94311642147071,
          6.288302446789034,
          5.69543003577477,
          5.158629423099514,
          4.672586199771778,
          4.232489247987645,
          3.833983429933072
         ],
         "yaxis": "y"
        },
        {
         "hoverlabel": {
          "namelength": 0
         },
         "hovertemplate": "variable=I2<br>t=%{x}<br>value=%{y}",
         "legendgroup": "I2",
         "line": {
          "color": "#ab63fa",
          "dash": "solid"
         },
         "mode": "lines",
         "name": "I2",
         "showlegend": true,
         "type": "scatter",
         "x": [
          0,
          1,
          2,
          3,
          4,
          5,
          6,
          7,
          8,
          9,
          10,
          11,
          12,
          13,
          14,
          15,
          16,
          17,
          18,
          19,
          20,
          21,
          22,
          23,
          24,
          25,
          26,
          27,
          28,
          29,
          30,
          31,
          32,
          33,
          34,
          35,
          36,
          37,
          38,
          39,
          40,
          41,
          42,
          43,
          44,
          45,
          46,
          47,
          48,
          49,
          50,
          51,
          52,
          53,
          54,
          55,
          56,
          57,
          58,
          59,
          60,
          61,
          62,
          63,
          64,
          65,
          66,
          67,
          68,
          69,
          70,
          71,
          72,
          73,
          74,
          75,
          76,
          77,
          78,
          79,
          80,
          81,
          82,
          83,
          84,
          85,
          86,
          87,
          88,
          89,
          90
         ],
         "xaxis": "x",
         "y": [
          120,
          121.53710486752435,
          124.68748166393513,
          129.25092450745242,
          135.0308845077425,
          141.83248784930075,
          149.46071459950855,
          157.71922149491584,
          166.41010336846688,
          175.334706612844,
          184.29548757174237,
          193.09878024166665,
          201.5582472877849,
          209.49872199727838,
          216.76011969875927,
          223.20110007220586,
          228.70219295163898,
          233.1681667813802,
          236.52949183179922,
          238.74283439513817,
          239.7906011161426,
          239.67961402951525,
          238.43905013264808,
          236.1178151550334,
          232.7815273139537,
          228.50929176267704,
          223.3904255421215,
          217.52127324093078,
          211.0022250048991,
          203.9350175150126,
          196.42037394851394,
          188.55600888216506,
          180.4350077918215,
          172.14456938319034,
          163.76508908182444,
          155.36955161459923,
          147.02319593034915,
          138.7834133090659,
          130.69983869071228,
          122.81459750600825,
          115.16267285728775,
          107.77236054785811,
          100.66578466871651,
          93.85944927618065,
          87.36480625992388,
          81.18882328080284,
          75.33453830086452,
          69.80159149233887,
          64.58672671291849,
          59.68425806843373,
          55.086498174865774,
          50.78414690900832,
          46.7666401438753,
          43.0224595970175,
          39.53940487339308,
          36.30482998151871,
          33.305846656598455,
          30.529497005575244,
          27.962898288387205,
          25.593362517572622,
          23.408493520278995,
          21.39626412802892,
          19.54507589624256,
          17.843803539889095,
          16.28182634682209,
          14.84904841846075,
          13.535909470642956,
          12.333387699919987,
          11.232996255205284,
          10.226774369058026,
          9.307274309165456,
          8.46754503054535,
          7.701113424857644,
          7.001963668381588,
          6.36451545436474,
          5.783601416577264,
          5.25444428145746,
          4.7726339842292935,
          4.334105068794224,
          3.935114578063111,
          3.5722205682007417,
          3.2422614189862893,
          2.942335998948224,
          2.6697847557206704,
          2.422171783110054,
          2.197267871494964,
          1.9930345462458678,
          1.8076090983618547,
          1.6392905702799354,
          1.4865266809465236,
          1.3479016580556553
         ],
         "yaxis": "y"
        },
        {
         "hoverlabel": {
          "namelength": 0
         },
         "hovertemplate": "variable=I3<br>t=%{x}<br>value=%{y}",
         "legendgroup": "I3",
         "line": {
          "color": "#FFA15A",
          "dash": "solid"
         },
         "mode": "lines",
         "name": "I3",
         "showlegend": true,
         "type": "scatter",
         "x": [
          0,
          1,
          2,
          3,
          4,
          5,
          6,
          7,
          8,
          9,
          10,
          11,
          12,
          13,
          14,
          15,
          16,
          17,
          18,
          19,
          20,
          21,
          22,
          23,
          24,
          25,
          26,
          27,
          28,
          29,
          30,
          31,
          32,
          33,
          34,
          35,
          36,
          37,
          38,
          39,
          40,
          41,
          42,
          43,
          44,
          45,
          46,
          47,
          48,
          49,
          50,
          51,
          52,
          53,
          54,
          55,
          56,
          57,
          58,
          59,
          60,
          61,
          62,
          63,
          64,
          65,
          66,
          67,
          68,
          69,
          70,
          71,
          72,
          73,
          74,
          75,
          76,
          77,
          78,
          79,
          80,
          81,
          82,
          83,
          84,
          85,
          86,
          87,
          88,
          89,
          90
         ],
         "xaxis": "x",
         "y": [
          25,
          25.321221770218536,
          25.668918368136506,
          26.08078633907749,
          26.584739131627963,
          27.200129335833406,
          27.93877264361263,
          28.805812089615173,
          29.80046026379061,
          30.916663267815178,
          32.14372248602226,
          33.46690663336854,
          34.8680767620898,
          36.326337100054694,
          37.81871483630442,
          39.320863018212265,
          40.80777287411046,
          42.25447693940329,
          43.63672129693541,
          44.931584861276775,
          46.11802622670201,
          47.177341729854014,
          48.09352330351173,
          48.85351044063304,
          49.44733585454133,
          49.868169249613686,
          50.11226782976872,
          50.17884514344242,
          50.06987177254936,
          49.78982284330323,
          49.3453866545301,
          48.74514898551288,
          47.999265622883236,
          47.11913475114916,
          46.11707855089156,
          45.00604184051624,
          43.7993135298619,
          42.51027509373856,
          41.15217857605614,
          39.73795537192201,
          38.28005587567387,
          36.79031919599092,
          35.27987133680795,
          33.759049825801014,
          32.237352380046396,
          30.723406936194593,
          29.224960446174503,
          27.748883607213557,
          26.301189053033895,
          24.88706044830528,
          23.510890258699707,
          22.17632410437836,
          20.886309846470763,
          19.643149795112013,
          18.448554619642206,
          17.303697787836683,
          16.209269519684664,
          15.165529477067146,
          14.172357530937697,
          13.229302117003172,
          12.335625834891728,
          11.490348006105547,
          10.692284104642846,
          9.940081931978016,
          9.232254558360344,
          8.567210084029904,
          7.943278317812265,
          7.358734506252765,
          6.811820249552604,
          6.300761793863399,
          5.823785876985854,
          5.379133311408906,
          4.965070483843599,
          4.579898992461991,
          4.221963553335817,
          3.8896583919257552,
          3.5814322673245815,
          3.2957922807693794,
          3.0313066323503612,
          2.786606439930428,
          2.560386762200961,
          2.3514069286494528,
          2.158490283567595,
          1.9805234386899777,
          1.816455114659871,
          1.665294647866504,
          1.5261102300676375,
          1.3980269351926475,
          1.2802245883850296,
          1.1719355199318102,
          1.0724422411000003
         ],
         "yaxis": "y"
        },
        {
         "hoverlabel": {
          "namelength": 0
         },
         "hovertemplate": "variable=R<br>t=%{x}<br>value=%{y}",
         "legendgroup": "R",
         "line": {
          "color": "#19d3f3",
          "dash": "solid"
         },
         "mode": "lines",
         "name": "R",
         "showlegend": true,
         "type": "scatter",
         "x": [
          0,
          1,
          2,
          3,
          4,
          5,
          6,
          7,
          8,
          9,
          10,
          11,
          12,
          13,
          14,
          15,
          16,
          17,
          18,
          19,
          20,
          21,
          22,
          23,
          24,
          25,
          26,
          27,
          28,
          29,
          30,
          31,
          32,
          33,
          34,
          35,
          36,
          37,
          38,
          39,
          40,
          41,
          42,
          43,
          44,
          45,
          46,
          47,
          48,
          49,
          50,
          51,
          52,
          53,
          54,
          55,
          56,
          57,
          58,
          59,
          60,
          61,
          62,
          63,
          64,
          65,
          66,
          67,
          68,
          69,
          70,
          71,
          72,
          73,
          74,
          75,
          76,
          77,
          78,
          79,
          80,
          81,
          82,
          83,
          84,
          85,
          86,
          87,
          88,
          89,
          90
         ],
         "xaxis": "x",
         "y": [
          0,
          144.87653563949723,
          301.91961002042274,
          471.64522158726925,
          654.369602371779,
          850.2003091661309,
          1059.0260943168432,
          1280.5088906298558,
          1514.0805296137073,
          1758.9460086296351,
          2014.0944342226308,
          2278.3179494741926,
          2550.238220041149,
          2828.339356569734,
          3111.005636539439,
          3396.562049033229,
          3683.315518831153,
          3969.594781625675,
          4253.787096417244,
          4534.370349897609,
          4809.939601749903,
          5079.227507472879,
          5341.118499566931,
          5594.656997593973,
          5839.0501467153745,
          6073.665808894301,
          6298.026607405498,
          6511.800872679581,
          6714.791309617966,
          6906.922143427285,
          7088.225412867862,
          7258.826971451168,
          7418.932658986159,
          7568.814996612435,
          7708.800667525231,
          7839.258962993035,
          7960.5913018261335,
          8073.221877638827,
          8177.589437160798,
          8274.14016289073,
          8363.32160782661,
          8445.577609326041,
          8521.34410234973,
          8591.045743897774,
          8655.093260642247,
          8713.881432445673,
          8767.78762855297,
          8817.1708175108,
          8862.370979437326,
          8903.708854591296,
          8941.485969218827,
          8975.984886969036,
          9007.469639122513,
          9036.186295208334,
          9062.363638336758,
          9086.21391713847,
          9107.933649253431,
          9127.704456032123,
          9145.693911670414,
          9162.056392944423,
          9176.933918668634,
          9190.456969831286,
          9202.745285011251,
          9213.908624456211,
          9224.047500518418,
          9233.253871688295,
          9241.611798936428,
          9249.198063760095,
          9256.082748113942,
          9262.329776520748,
          9267.99742156289,
          9273.13877395428,
          9277.802178303278,
          9282.031636825554,
          9285.867181949185,
          9289.34522003985,
          9292.498847895029,
          9295.358143551462,
          9297.950433397515,
          9300.300537037292,
          9302.430991567337,
          9304.362256820381,
          9306.112902968003,
          9307.699781875408,
          9309.138183504258,
          9310.441978547871,
          9311.623748434584,
          9312.694903758,
          9313.665792087306,
          9314.545796076734,
          9315.343422703663
         ],
         "yaxis": "y"
        },
        {
         "hoverlabel": {
          "namelength": 0
         },
         "hovertemplate": "variable=D<br>t=%{x}<br>value=%{y}",
         "legendgroup": "D",
         "line": {
          "color": "#FF6692",
          "dash": "solid"
         },
         "mode": "lines",
         "name": "D",
         "showlegend": true,
         "type": "scatter",
         "x": [
          0,
          1,
          2,
          3,
          4,
          5,
          6,
          7,
          8,
          9,
          10,
          11,
          12,
          13,
          14,
          15,
          16,
          17,
          18,
          19,
          20,
          21,
          22,
          23,
          24,
          25,
          26,
          27,
          28,
          29,
          30,
          31,
          32,
          33,
          34,
          35,
          36,
          37,
          38,
          39,
          40,
          41,
          42,
          43,
          44,
          45,
          46,
          47,
          48,
          49,
          50,
          51,
          52,
          53,
          54,
          55,
          56,
          57,
          58,
          59,
          60,
          61,
          62,
          63,
          64,
          65,
          66,
          67,
          68,
          69,
          70,
          71,
          72,
          73,
          74,
          75,
          76,
          77,
          78,
          79,
          80,
          81,
          82,
          83,
          84,
          85,
          86,
          87,
          88,
          89,
          90
         ],
         "xaxis": "x",
         "y": [
          10,
          12.51602588253455,
          15.065139093382806,
          17.651959173652212,
          20.284375270996748,
          22.97263002446148,
          25.728517015303726,
          28.564670991752585,
          31.49393886308408,
          34.528820030657364,
          37.68097120759828,
          40.96077249196818,
          44.37695515626922,
          47.936293187069545,
          51.64336137318479,
          55.50036258692355,
          59.50702598927112,
          63.66057616401369,
          67.95577122169493,
          72.38500562094163,
          76.93847149717585,
          81.60437031752394,
          86.36916541765412,
          91.2178650459948,
          96.13432528682168,
          101.1015623822688,
          106.1020646949953,
          111.11809551462025,
          116.13197925990853,
          121.12636490397483,
          126.08446215460849,
          130.99024711514335,
          135.82863572041964,
          140.58562430238243,
          145.24839780730574,
          149.8054069522011,
          154.2464163593205,
          158.5625261398012,
          162.74616980438557,
          166.7910915022238,
          170.6923056812023,
          174.4460422280829,
          178.04968001960725,
          181.50167163534667,
          184.80146174971546,
          187.94940148843855,
          190.94666074170647,
          193.7951401849857,
          196.49738445938922,
          199.05649773850254,
          201.47606265788497,
          203.76006336284985,
          205.91281325375917,
          207.9388877914708,
          209.84306263448303,
          211.63025719361903,
          213.30548361949883,
          214.87380112485243,
          216.34027548461458,
          217.70994349792596,
          218.98778214648854,
          220.17868217052006,
          221.2874257316804,
          222.31866786688389,
          223.27692139635613,
          224.16654496436738,
          224.99173390023282,
          225.75651360012992,
          226.46473513963426,
          227.12007284527326,
          227.72602356902576,
          228.28590743789408,
          228.80286985075116,
          229.2798845321417,
          229.71975746305927,
          230.12513152544193,
          230.49849171181037,
          230.84217078264535,
          231.15835524319206,
          231.44909155360406,
          231.71629247729848,
          231.961743496722,
          232.18710923260883,
          232.3939398114007,
          232.58367713724945,
          232.75766103105266,
          232.91713520548106,
          233.0632530538068,
          233.1970832326184,
          233.31961502515185,
          233.43176347656217
         ],
         "yaxis": "y"
        },
        {
         "hoverlabel": {
          "namelength": 0
         },
         "hovertemplate": "variable=N<br>t=%{x}<br>value=%{y}",
         "legendgroup": "N",
         "line": {
          "color": "#B6E880",
          "dash": "solid"
         },
         "mode": "lines",
         "name": "N",
         "showlegend": true,
         "type": "scatter",
         "x": [
          0,
          1,
          2,
          3,
          4,
          5,
          6,
          7,
          8,
          9,
          10,
          11,
          12,
          13,
          14,
          15,
          16,
          17,
          18,
          19,
          20,
          21,
          22,
          23,
          24,
          25,
          26,
          27,
          28,
          29,
          30,
          31,
          32,
          33,
          34,
          35,
          36,
          37,
          38,
          39,
          40,
          41,
          42,
          43,
          44,
          45,
          46,
          47,
          48,
          49,
          50,
          51,
          52,
          53,
          54,
          55,
          56,
          57,
          58,
          59,
          60,
          61,
          62,
          63,
          64,
          65,
          66,
          67,
          68,
          69,
          70,
          71,
          72,
          73,
          74,
          75,
          76,
          77,
          78,
          79,
          80,
          81,
          82,
          83,
          84,
          85,
          86,
          87,
          88,
          89,
          90
         ],
         "xaxis": "x",
         "y": [
          10000,
          10000.000000000004,
          10000.000000000005,
          10000.000000000002,
          10000,
          10000,
          10000.000000000002,
          10000,
          10000.000000000004,
          10000.000000000002,
          10000,
          10000,
          10000,
          10000,
          10000,
          10000.000000000002,
          10000,
          10000,
          10000.000000000002,
          10000,
          10000,
          10000,
          10000,
          9999.999999999998,
          9999.999999999998,
          10000,
          9999.999999999998,
          9999.999999999998,
          9999.999999999998,
          9999.999999999998,
          9999.999999999998,
          9999.999999999998,
          9999.999999999998,
          9999.999999999998,
          9999.999999999998,
          9999.999999999998,
          10000,
          10000,
          10000,
          9999.999999999998,
          9999.999999999998,
          9999.999999999998,
          9999.999999999998,
          10000,
          10000,
          9999.999999999998,
          10000,
          10000,
          9999.999999999998,
          9999.999999999998,
          10000,
          10000,
          10000,
          9999.999999999998,
          9999.999999999998,
          9999.999999999998,
          9999.999999999996,
          9999.999999999996,
          9999.999999999995,
          9999.999999999998,
          9999.999999999996,
          9999.999999999998,
          9999.999999999995,
          9999.999999999996,
          9999.999999999996,
          9999.999999999996,
          9999.999999999996,
          9999.999999999995,
          9999.999999999996,
          9999.999999999996,
          9999.999999999996,
          9999.999999999996,
          9999.999999999995,
          9999.999999999995,
          9999.999999999996,
          9999.999999999995,
          9999.999999999998,
          9999.999999999998,
          9999.999999999996,
          9999.999999999998,
          9999.999999999998,
          9999.999999999996,
          9999.999999999996,
          9999.999999999993,
          9999.999999999995,
          9999.999999999995,
          9999.999999999995,
          9999.99999999999,
          9999.999999999993,
          9999.999999999993,
          9999.999999999995
         ],
         "yaxis": "y"
        }
       ],
       "layout": {
        "legend": {
         "title": {
          "text": "variable"
         },
         "tracegroupgap": 0
        },
        "margin": {
         "t": 60
        },
        "template": {
         "data": {
          "bar": [
           {
            "error_x": {
             "color": "#2a3f5f"
            },
            "error_y": {
             "color": "#2a3f5f"
            },
            "marker": {
             "line": {
              "color": "#E5ECF6",
              "width": 0.5
             }
            },
            "type": "bar"
           }
          ],
          "barpolar": [
           {
            "marker": {
             "line": {
              "color": "#E5ECF6",
              "width": 0.5
             }
            },
            "type": "barpolar"
           }
          ],
          "carpet": [
           {
            "aaxis": {
             "endlinecolor": "#2a3f5f",
             "gridcolor": "white",
             "linecolor": "white",
             "minorgridcolor": "white",
             "startlinecolor": "#2a3f5f"
            },
            "baxis": {
             "endlinecolor": "#2a3f5f",
             "gridcolor": "white",
             "linecolor": "white",
             "minorgridcolor": "white",
             "startlinecolor": "#2a3f5f"
            },
            "type": "carpet"
           }
          ],
          "choropleth": [
           {
            "colorbar": {
             "outlinewidth": 0,
             "ticks": ""
            },
            "type": "choropleth"
           }
          ],
          "contour": [
           {
            "colorbar": {
             "outlinewidth": 0,
             "ticks": ""
            },
            "colorscale": [
             [
              0,
              "#0d0887"
             ],
             [
              0.1111111111111111,
              "#46039f"
             ],
             [
              0.2222222222222222,
              "#7201a8"
             ],
             [
              0.3333333333333333,
              "#9c179e"
             ],
             [
              0.4444444444444444,
              "#bd3786"
             ],
             [
              0.5555555555555556,
              "#d8576b"
             ],
             [
              0.6666666666666666,
              "#ed7953"
             ],
             [
              0.7777777777777778,
              "#fb9f3a"
             ],
             [
              0.8888888888888888,
              "#fdca26"
             ],
             [
              1,
              "#f0f921"
             ]
            ],
            "type": "contour"
           }
          ],
          "contourcarpet": [
           {
            "colorbar": {
             "outlinewidth": 0,
             "ticks": ""
            },
            "type": "contourcarpet"
           }
          ],
          "heatmap": [
           {
            "colorbar": {
             "outlinewidth": 0,
             "ticks": ""
            },
            "colorscale": [
             [
              0,
              "#0d0887"
             ],
             [
              0.1111111111111111,
              "#46039f"
             ],
             [
              0.2222222222222222,
              "#7201a8"
             ],
             [
              0.3333333333333333,
              "#9c179e"
             ],
             [
              0.4444444444444444,
              "#bd3786"
             ],
             [
              0.5555555555555556,
              "#d8576b"
             ],
             [
              0.6666666666666666,
              "#ed7953"
             ],
             [
              0.7777777777777778,
              "#fb9f3a"
             ],
             [
              0.8888888888888888,
              "#fdca26"
             ],
             [
              1,
              "#f0f921"
             ]
            ],
            "type": "heatmap"
           }
          ],
          "heatmapgl": [
           {
            "colorbar": {
             "outlinewidth": 0,
             "ticks": ""
            },
            "colorscale": [
             [
              0,
              "#0d0887"
             ],
             [
              0.1111111111111111,
              "#46039f"
             ],
             [
              0.2222222222222222,
              "#7201a8"
             ],
             [
              0.3333333333333333,
              "#9c179e"
             ],
             [
              0.4444444444444444,
              "#bd3786"
             ],
             [
              0.5555555555555556,
              "#d8576b"
             ],
             [
              0.6666666666666666,
              "#ed7953"
             ],
             [
              0.7777777777777778,
              "#fb9f3a"
             ],
             [
              0.8888888888888888,
              "#fdca26"
             ],
             [
              1,
              "#f0f921"
             ]
            ],
            "type": "heatmapgl"
           }
          ],
          "histogram": [
           {
            "marker": {
             "colorbar": {
              "outlinewidth": 0,
              "ticks": ""
             }
            },
            "type": "histogram"
           }
          ],
          "histogram2d": [
           {
            "colorbar": {
             "outlinewidth": 0,
             "ticks": ""
            },
            "colorscale": [
             [
              0,
              "#0d0887"
             ],
             [
              0.1111111111111111,
              "#46039f"
             ],
             [
              0.2222222222222222,
              "#7201a8"
             ],
             [
              0.3333333333333333,
              "#9c179e"
             ],
             [
              0.4444444444444444,
              "#bd3786"
             ],
             [
              0.5555555555555556,
              "#d8576b"
             ],
             [
              0.6666666666666666,
              "#ed7953"
             ],
             [
              0.7777777777777778,
              "#fb9f3a"
             ],
             [
              0.8888888888888888,
              "#fdca26"
             ],
             [
              1,
              "#f0f921"
             ]
            ],
            "type": "histogram2d"
           }
          ],
          "histogram2dcontour": [
           {
            "colorbar": {
             "outlinewidth": 0,
             "ticks": ""
            },
            "colorscale": [
             [
              0,
              "#0d0887"
             ],
             [
              0.1111111111111111,
              "#46039f"
             ],
             [
              0.2222222222222222,
              "#7201a8"
             ],
             [
              0.3333333333333333,
              "#9c179e"
             ],
             [
              0.4444444444444444,
              "#bd3786"
             ],
             [
              0.5555555555555556,
              "#d8576b"
             ],
             [
              0.6666666666666666,
              "#ed7953"
             ],
             [
              0.7777777777777778,
              "#fb9f3a"
             ],
             [
              0.8888888888888888,
              "#fdca26"
             ],
             [
              1,
              "#f0f921"
             ]
            ],
            "type": "histogram2dcontour"
           }
          ],
          "mesh3d": [
           {
            "colorbar": {
             "outlinewidth": 0,
             "ticks": ""
            },
            "type": "mesh3d"
           }
          ],
          "parcoords": [
           {
            "line": {
             "colorbar": {
              "outlinewidth": 0,
              "ticks": ""
             }
            },
            "type": "parcoords"
           }
          ],
          "pie": [
           {
            "automargin": true,
            "type": "pie"
           }
          ],
          "scatter": [
           {
            "marker": {
             "colorbar": {
              "outlinewidth": 0,
              "ticks": ""
             }
            },
            "type": "scatter"
           }
          ],
          "scatter3d": [
           {
            "line": {
             "colorbar": {
              "outlinewidth": 0,
              "ticks": ""
             }
            },
            "marker": {
             "colorbar": {
              "outlinewidth": 0,
              "ticks": ""
             }
            },
            "type": "scatter3d"
           }
          ],
          "scattercarpet": [
           {
            "marker": {
             "colorbar": {
              "outlinewidth": 0,
              "ticks": ""
             }
            },
            "type": "scattercarpet"
           }
          ],
          "scattergeo": [
           {
            "marker": {
             "colorbar": {
              "outlinewidth": 0,
              "ticks": ""
             }
            },
            "type": "scattergeo"
           }
          ],
          "scattergl": [
           {
            "marker": {
             "colorbar": {
              "outlinewidth": 0,
              "ticks": ""
             }
            },
            "type": "scattergl"
           }
          ],
          "scattermapbox": [
           {
            "marker": {
             "colorbar": {
              "outlinewidth": 0,
              "ticks": ""
             }
            },
            "type": "scattermapbox"
           }
          ],
          "scatterpolar": [
           {
            "marker": {
             "colorbar": {
              "outlinewidth": 0,
              "ticks": ""
             }
            },
            "type": "scatterpolar"
           }
          ],
          "scatterpolargl": [
           {
            "marker": {
             "colorbar": {
              "outlinewidth": 0,
              "ticks": ""
             }
            },
            "type": "scatterpolargl"
           }
          ],
          "scatterternary": [
           {
            "marker": {
             "colorbar": {
              "outlinewidth": 0,
              "ticks": ""
             }
            },
            "type": "scatterternary"
           }
          ],
          "surface": [
           {
            "colorbar": {
             "outlinewidth": 0,
             "ticks": ""
            },
            "colorscale": [
             [
              0,
              "#0d0887"
             ],
             [
              0.1111111111111111,
              "#46039f"
             ],
             [
              0.2222222222222222,
              "#7201a8"
             ],
             [
              0.3333333333333333,
              "#9c179e"
             ],
             [
              0.4444444444444444,
              "#bd3786"
             ],
             [
              0.5555555555555556,
              "#d8576b"
             ],
             [
              0.6666666666666666,
              "#ed7953"
             ],
             [
              0.7777777777777778,
              "#fb9f3a"
             ],
             [
              0.8888888888888888,
              "#fdca26"
             ],
             [
              1,
              "#f0f921"
             ]
            ],
            "type": "surface"
           }
          ],
          "table": [
           {
            "cells": {
             "fill": {
              "color": "#EBF0F8"
             },
             "line": {
              "color": "white"
             }
            },
            "header": {
             "fill": {
              "color": "#C8D4E3"
             },
             "line": {
              "color": "white"
             }
            },
            "type": "table"
           }
          ]
         },
         "layout": {
          "annotationdefaults": {
           "arrowcolor": "#2a3f5f",
           "arrowhead": 0,
           "arrowwidth": 1
          },
          "coloraxis": {
           "colorbar": {
            "outlinewidth": 0,
            "ticks": ""
           }
          },
          "colorscale": {
           "diverging": [
            [
             0,
             "#8e0152"
            ],
            [
             0.1,
             "#c51b7d"
            ],
            [
             0.2,
             "#de77ae"
            ],
            [
             0.3,
             "#f1b6da"
            ],
            [
             0.4,
             "#fde0ef"
            ],
            [
             0.5,
             "#f7f7f7"
            ],
            [
             0.6,
             "#e6f5d0"
            ],
            [
             0.7,
             "#b8e186"
            ],
            [
             0.8,
             "#7fbc41"
            ],
            [
             0.9,
             "#4d9221"
            ],
            [
             1,
             "#276419"
            ]
           ],
           "sequential": [
            [
             0,
             "#0d0887"
            ],
            [
             0.1111111111111111,
             "#46039f"
            ],
            [
             0.2222222222222222,
             "#7201a8"
            ],
            [
             0.3333333333333333,
             "#9c179e"
            ],
            [
             0.4444444444444444,
             "#bd3786"
            ],
            [
             0.5555555555555556,
             "#d8576b"
            ],
            [
             0.6666666666666666,
             "#ed7953"
            ],
            [
             0.7777777777777778,
             "#fb9f3a"
            ],
            [
             0.8888888888888888,
             "#fdca26"
            ],
            [
             1,
             "#f0f921"
            ]
           ],
           "sequentialminus": [
            [
             0,
             "#0d0887"
            ],
            [
             0.1111111111111111,
             "#46039f"
            ],
            [
             0.2222222222222222,
             "#7201a8"
            ],
            [
             0.3333333333333333,
             "#9c179e"
            ],
            [
             0.4444444444444444,
             "#bd3786"
            ],
            [
             0.5555555555555556,
             "#d8576b"
            ],
            [
             0.6666666666666666,
             "#ed7953"
            ],
            [
             0.7777777777777778,
             "#fb9f3a"
            ],
            [
             0.8888888888888888,
             "#fdca26"
            ],
            [
             1,
             "#f0f921"
            ]
           ]
          },
          "colorway": [
           "#636efa",
           "#EF553B",
           "#00cc96",
           "#ab63fa",
           "#FFA15A",
           "#19d3f3",
           "#FF6692",
           "#B6E880",
           "#FF97FF",
           "#FECB52"
          ],
          "font": {
           "color": "#2a3f5f"
          },
          "geo": {
           "bgcolor": "white",
           "lakecolor": "white",
           "landcolor": "#E5ECF6",
           "showlakes": true,
           "showland": true,
           "subunitcolor": "white"
          },
          "hoverlabel": {
           "align": "left"
          },
          "hovermode": "closest",
          "mapbox": {
           "style": "light"
          },
          "paper_bgcolor": "white",
          "plot_bgcolor": "#E5ECF6",
          "polar": {
           "angularaxis": {
            "gridcolor": "white",
            "linecolor": "white",
            "ticks": ""
           },
           "bgcolor": "#E5ECF6",
           "radialaxis": {
            "gridcolor": "white",
            "linecolor": "white",
            "ticks": ""
           }
          },
          "scene": {
           "xaxis": {
            "backgroundcolor": "#E5ECF6",
            "gridcolor": "white",
            "gridwidth": 2,
            "linecolor": "white",
            "showbackground": true,
            "ticks": "",
            "zerolinecolor": "white"
           },
           "yaxis": {
            "backgroundcolor": "#E5ECF6",
            "gridcolor": "white",
            "gridwidth": 2,
            "linecolor": "white",
            "showbackground": true,
            "ticks": "",
            "zerolinecolor": "white"
           },
           "zaxis": {
            "backgroundcolor": "#E5ECF6",
            "gridcolor": "white",
            "gridwidth": 2,
            "linecolor": "white",
            "showbackground": true,
            "ticks": "",
            "zerolinecolor": "white"
           }
          },
          "shapedefaults": {
           "line": {
            "color": "#2a3f5f"
           }
          },
          "ternary": {
           "aaxis": {
            "gridcolor": "white",
            "linecolor": "white",
            "ticks": ""
           },
           "baxis": {
            "gridcolor": "white",
            "linecolor": "white",
            "ticks": ""
           },
           "bgcolor": "#E5ECF6",
           "caxis": {
            "gridcolor": "white",
            "linecolor": "white",
            "ticks": ""
           }
          },
          "title": {
           "x": 0.05
          },
          "xaxis": {
           "automargin": true,
           "gridcolor": "white",
           "linecolor": "white",
           "ticks": "",
           "title": {
            "standoff": 15
           },
           "zerolinecolor": "white",
           "zerolinewidth": 2
          },
          "yaxis": {
           "automargin": true,
           "gridcolor": "white",
           "linecolor": "white",
           "ticks": "",
           "title": {
            "standoff": 15
           },
           "zerolinecolor": "white",
           "zerolinewidth": 2
          }
         }
        },
        "xaxis": {
         "anchor": "y",
         "domain": [
          0,
          1
         ],
         "title": {
          "text": "t"
         }
        },
        "yaxis": {
         "anchor": "x",
         "domain": [
          0,
          1
         ],
         "title": {
          "text": "value"
         }
        }
       }
      },
      "text/html": [
       "<div>\n",
       "        \n",
       "        \n",
       "            <div id=\"4b6d83a3-9d27-4e00-8ac9-0fe7b432eace\" class=\"plotly-graph-div\" style=\"height:525px; width:100%;\"></div>\n",
       "            <script type=\"text/javascript\">\n",
       "                require([\"plotly\"], function(Plotly) {\n",
       "                    window.PLOTLYENV=window.PLOTLYENV || {};\n",
       "                    \n",
       "                if (document.getElementById(\"4b6d83a3-9d27-4e00-8ac9-0fe7b432eace\")) {\n",
       "                    Plotly.newPlot(\n",
       "                        '4b6d83a3-9d27-4e00-8ac9-0fe7b432eace',\n",
       "                        [{\"hoverlabel\": {\"namelength\": 0}, \"hovertemplate\": \"variable=S<br>t=%{x}<br>value=%{y}\", \"legendgroup\": \"S\", \"line\": {\"color\": \"#636efa\", \"dash\": \"solid\"}, \"mode\": \"lines\", \"name\": \"S\", \"showlegend\": true, \"type\": \"scatter\", \"x\": [0, 1, 2, 3, 4, 5, 6, 7, 8, 9, 10, 11, 12, 13, 14, 15, 16, 17, 18, 19, 20, 21, 22, 23, 24, 25, 26, 27, 28, 29, 30, 31, 32, 33, 34, 35, 36, 37, 38, 39, 40, 41, 42, 43, 44, 45, 46, 47, 48, 49, 50, 51, 52, 53, 54, 55, 56, 57, 58, 59, 60, 61, 62, 63, 64, 65, 66, 67, 68, 69, 70, 71, 72, 73, 74, 75, 76, 77, 78, 79, 80, 81, 82, 83, 84, 85, 86, 87, 88, 89, 90], \"xaxis\": \"x\", \"y\": [7656.2, 7323.809244604688, 6979.192977652915, 6624.557035570623, 6262.629751420203, 5896.533631019442, 5529.647258526048, 5165.45820235269, 4807.412962295617, 4458.772828432871, 4122.485416508448, 3801.0808516614325, 3496.599234421638, 3210.5524556090895, 2943.9198679368264, 2697.1740065296203, 2470.3300942131846, 2263.011885838209, 2074.52618698609, 1903.939101198161, 1750.148731311391, 1611.9502421311115, 1488.0911432810788, 1377.3159096996224, 1278.4001303173532, 1190.1750907333644, 1111.5441189567905, 1041.4921620105229, 979.0900631995307, 923.4948731106886, 873.9473390323996, 829.76751197596, 790.34921307715, 755.1539128466304, 723.704433548429, 695.5787525447755, 670.4040943464939, 647.8514223145336, 627.6303884452561, 609.484761061522, 593.1883276516891, 578.5412502271383, 565.3668425413442, 553.5087332347917, 542.8283771313429, 533.202877375296, 524.5230828175576, 516.6919277061216, 509.6229834895418, 503.23919576910157, 497.47178240854765, 492.2592715726838, 487.54666110060947, 483.28468325243347, 479.4291605888321, 475.9404409206607, 472.78290085006415, 469.92450884285364, 467.3364400270063, 464.9927360256357, 462.8700040423463, 460.9471500463723, 459.2051421968922, 457.6268003003683, 456.1966083680518, 454.90054743829717, 453.725946265994, 452.6613478001695, 451.69638960859334, 450.82169666497555, 450.02878512706343, 449.30997593572465, 448.65831702092, 448.06751339135053, 447.53186409294324, 447.0462054309143, 446.605859729547, 446.2065891177056, 445.84455378280757, 445.51627426880793, 445.2185974063034, 444.94866550728995, 444.7038885101406, 444.48191878178574, 444.280628315743, 444.0980880964018, 443.93254941890297, 443.7824269742084, 443.6462835332931, 443.5228160748596, 443.4108432192164], \"yaxis\": \"y\"}, {\"hoverlabel\": {\"namelength\": 0}, \"hovertemplate\": \"variable=E<br>t=%{x}<br>value=%{y}\", \"legendgroup\": \"E\", \"line\": {\"color\": \"#EF553B\", \"dash\": \"solid\"}, \"mode\": \"lines\", \"name\": \"E\", \"showlegend\": true, \"type\": \"scatter\", \"x\": [0, 1, 2, 3, 4, 5, 6, 7, 8, 9, 10, 11, 12, 13, 14, 15, 16, 17, 18, 19, 20, 21, 22, 23, 24, 25, 26, 27, 28, 29, 30, 31, 32, 33, 34, 35, 36, 37, 38, 39, 40, 41, 42, 43, 44, 45, 46, 47, 48, 49, 50, 51, 52, 53, 54, 55, 56, 57, 58, 59, 60, 61, 62, 63, 64, 65, 66, 67, 68, 69, 70, 71, 72, 73, 74, 75, 76, 77, 78, 79, 80, 81, 82, 83, 84, 85, 86, 87, 88, 89, 90], \"xaxis\": \"x\", \"y\": [1333.8, 1435.3735701892151, 1532.5903901347888, 1624.0800121820805, 1708.2026857261267, 1783.2090395147454, 1847.3841975434473, 1899.1781055566164, 1937.3183610022386, 1960.9002940925348, 1969.4485475665915, 1962.9464208190489, 1941.8318595606484, 1906.962375286101, 1859.554221070648, 1801.1032628993637, 1733.296205574644, 1657.9204832597284, 1576.7800953292983, 1491.6228450878216, 1404.0820650539151, 1315.6343930943185, 1227.57303062713, 1140.9949457018774, 1056.7996678243505, 975.6970710792144, 898.2215302605474, 824.7501193451843, 755.522878435145, 690.6636070249319, 630.2000513750479, 574.0827164893409, 522.2018300406326, 474.402240183377, 430.4961819515952, 390.27398990719405, 353.51289683959925, 319.9841139222002, 289.4584007861149, 261.7103400104045, 236.5215183511876, 213.6828029204974, 192.9958799294441, 174.27420207090918, 157.34347046022688, 142.0417560884011, 128.2193508299231, 115.73841702700167, 104.47249700048062, 94.30592705856387, 85.13319345558331, 76.85825861750806, 69.3938793180709, 62.66093247823649, 56.5877608064535, 51.10954625254806, 46.1677165017958, 41.70938789215951, 37.68684631698656, 34.057066378486496, 30.78126830211915, 27.824511522260387, 25.155322806585907, 22.74535761781168, 20.569092179961064, 18.60354417261759, 16.82801987241524, 15.22388564309422, 13.774361635863317, 12.464335798471346, 11.280196330307158, 10.209680888379435, 9.241740870139978, 8.366419482717339, 7.574742059659821, 6.858617517571826, 6.21074986166107, 5.624558607263053, 5.094107348717635, 4.614039560497198, 4.1795209047379, 3.786187408842107, 3.4300988755431896, 3.1076970008051585, 2.8157677235049343, 2.5514073585174186, 2.311992128936956, 2.095150757323447, 1.8987397883387682, 1.7208213743807705, 1.5596432714625716], \"yaxis\": \"y\"}, {\"hoverlabel\": {\"namelength\": 0}, \"hovertemplate\": \"variable=I1<br>t=%{x}<br>value=%{y}\", \"legendgroup\": \"I1\", \"line\": {\"color\": \"#00cc96\", \"dash\": \"solid\"}, \"mode\": \"lines\", \"name\": \"I1\", \"showlegend\": true, \"type\": \"scatter\", \"x\": [0, 1, 2, 3, 4, 5, 6, 7, 8, 9, 10, 11, 12, 13, 14, 15, 16, 17, 18, 19, 20, 21, 22, 23, 24, 25, 26, 27, 28, 29, 30, 31, 32, 33, 34, 35, 36, 37, 38, 39, 40, 41, 42, 43, 44, 45, 46, 47, 48, 49, 50, 51, 52, 53, 54, 55, 56, 57, 58, 59, 60, 61, 62, 63, 64, 65, 66, 67, 68, 69, 70, 71, 72, 73, 74, 75, 76, 77, 78, 79, 80, 81, 82, 83, 84, 85, 86, 87, 88, 89, 90], \"xaxis\": \"x\", \"y\": [855.0, 936.5662970463248, 1020.8754830664215, 1106.7340606398468, 1192.8979615715248, 1278.0517730900874, 1360.8144453552381, 1439.7650968845555, 1513.4836445930978, 1580.600678933644, 1639.8514204369676, 1690.128318678323, 1730.5274067704215, 1760.3844602506736, 1779.2980785448387, 1787.1383558604468, 1784.0411895659986, 1770.3896293915918, 1746.784636916938, 1714.008278939052, 1672.9825030447705, 1624.7265312247991, 1570.315587671045, 1510.8429563628652, 1447.3868666876044, 1380.98300589856, 1312.6029853102775, 1243.1386320657173, 1173.3916727099988, 1104.068171174802, 1035.7769739670357, 969.0313951007078, 904.2533887609321, 841.779521920835, 781.868151534722, 724.7072941476771, 670.4227811682407, 619.0863715818318, 570.7235865366762, 525.3210916571877, 482.8335117563464, 443.1896155543899, 406.29783915434854, 372.0511500591971, 340.33127137649853, 311.01230238519287, 283.9637783108043, 259.0532224715391, 236.14823984730754, 215.11820632579574, 195.83560382559074, 178.17704846453591, 162.02405721470024, 147.26359187739376, 133.78841814043633, 121.49731072534527, 110.2951335989242, 100.09281962536623, 90.80727068164943, 82.36119651894967, 74.68290748523715, 67.70607429542373, 61.36946425270001, 55.6166642868541, 50.395796632026816, 45.65923323392751, 41.363313236470944, 37.46806699033319, 33.93694899720494, 30.736582007607165, 27.8365132245587, 25.20898344176266, 22.828710046204517, 20.672683107389023, 18.719975427449047, 16.95156567771487, 15.350174253167664, 13.900111675922092, 12.587138526620487, 11.398336561802743, 10.321990313919903, 9.34747841912602, 8.465174131183534, 7.666354336183681, 6.94311642147071, 6.288302446789034, 5.69543003577477, 5.158629423099514, 4.672586199771778, 4.232489247987645, 3.833983429933072], \"yaxis\": \"y\"}, {\"hoverlabel\": {\"namelength\": 0}, \"hovertemplate\": \"variable=I2<br>t=%{x}<br>value=%{y}\", \"legendgroup\": \"I2\", \"line\": {\"color\": \"#ab63fa\", \"dash\": \"solid\"}, \"mode\": \"lines\", \"name\": \"I2\", \"showlegend\": true, \"type\": \"scatter\", \"x\": [0, 1, 2, 3, 4, 5, 6, 7, 8, 9, 10, 11, 12, 13, 14, 15, 16, 17, 18, 19, 20, 21, 22, 23, 24, 25, 26, 27, 28, 29, 30, 31, 32, 33, 34, 35, 36, 37, 38, 39, 40, 41, 42, 43, 44, 45, 46, 47, 48, 49, 50, 51, 52, 53, 54, 55, 56, 57, 58, 59, 60, 61, 62, 63, 64, 65, 66, 67, 68, 69, 70, 71, 72, 73, 74, 75, 76, 77, 78, 79, 80, 81, 82, 83, 84, 85, 86, 87, 88, 89, 90], \"xaxis\": \"x\", \"y\": [120.0, 121.53710486752435, 124.68748166393513, 129.25092450745242, 135.0308845077425, 141.83248784930075, 149.46071459950855, 157.71922149491584, 166.41010336846688, 175.334706612844, 184.29548757174237, 193.09878024166665, 201.5582472877849, 209.49872199727838, 216.76011969875927, 223.20110007220586, 228.70219295163898, 233.1681667813802, 236.52949183179922, 238.74283439513817, 239.7906011161426, 239.67961402951525, 238.43905013264808, 236.1178151550334, 232.7815273139537, 228.50929176267704, 223.3904255421215, 217.52127324093078, 211.0022250048991, 203.9350175150126, 196.42037394851394, 188.55600888216506, 180.4350077918215, 172.14456938319034, 163.76508908182444, 155.36955161459923, 147.02319593034915, 138.7834133090659, 130.69983869071228, 122.81459750600825, 115.16267285728775, 107.77236054785811, 100.66578466871651, 93.85944927618065, 87.36480625992388, 81.18882328080284, 75.33453830086452, 69.80159149233887, 64.58672671291849, 59.68425806843373, 55.086498174865774, 50.78414690900832, 46.7666401438753, 43.0224595970175, 39.53940487339308, 36.30482998151871, 33.305846656598455, 30.529497005575244, 27.962898288387205, 25.593362517572622, 23.408493520278995, 21.39626412802892, 19.54507589624256, 17.843803539889095, 16.28182634682209, 14.84904841846075, 13.535909470642956, 12.333387699919987, 11.232996255205284, 10.226774369058026, 9.307274309165456, 8.46754503054535, 7.701113424857644, 7.001963668381588, 6.36451545436474, 5.783601416577264, 5.25444428145746, 4.7726339842292935, 4.334105068794224, 3.935114578063111, 3.5722205682007417, 3.2422614189862893, 2.942335998948224, 2.6697847557206704, 2.422171783110054, 2.197267871494964, 1.9930345462458678, 1.8076090983618547, 1.6392905702799354, 1.4865266809465236, 1.3479016580556553], \"yaxis\": \"y\"}, {\"hoverlabel\": {\"namelength\": 0}, \"hovertemplate\": \"variable=I3<br>t=%{x}<br>value=%{y}\", \"legendgroup\": \"I3\", \"line\": {\"color\": \"#FFA15A\", \"dash\": \"solid\"}, \"mode\": \"lines\", \"name\": \"I3\", \"showlegend\": true, \"type\": \"scatter\", \"x\": [0, 1, 2, 3, 4, 5, 6, 7, 8, 9, 10, 11, 12, 13, 14, 15, 16, 17, 18, 19, 20, 21, 22, 23, 24, 25, 26, 27, 28, 29, 30, 31, 32, 33, 34, 35, 36, 37, 38, 39, 40, 41, 42, 43, 44, 45, 46, 47, 48, 49, 50, 51, 52, 53, 54, 55, 56, 57, 58, 59, 60, 61, 62, 63, 64, 65, 66, 67, 68, 69, 70, 71, 72, 73, 74, 75, 76, 77, 78, 79, 80, 81, 82, 83, 84, 85, 86, 87, 88, 89, 90], \"xaxis\": \"x\", \"y\": [25.0, 25.321221770218536, 25.668918368136506, 26.08078633907749, 26.584739131627963, 27.200129335833406, 27.93877264361263, 28.805812089615173, 29.80046026379061, 30.916663267815178, 32.14372248602226, 33.46690663336854, 34.8680767620898, 36.326337100054694, 37.81871483630442, 39.320863018212265, 40.80777287411046, 42.25447693940329, 43.63672129693541, 44.931584861276775, 46.11802622670201, 47.177341729854014, 48.09352330351173, 48.85351044063304, 49.44733585454133, 49.868169249613686, 50.11226782976872, 50.17884514344242, 50.06987177254936, 49.78982284330323, 49.3453866545301, 48.74514898551288, 47.999265622883236, 47.11913475114916, 46.11707855089156, 45.00604184051624, 43.7993135298619, 42.51027509373856, 41.15217857605614, 39.73795537192201, 38.28005587567387, 36.79031919599092, 35.27987133680795, 33.759049825801014, 32.237352380046396, 30.723406936194593, 29.224960446174503, 27.748883607213557, 26.301189053033895, 24.88706044830528, 23.510890258699707, 22.17632410437836, 20.886309846470763, 19.643149795112013, 18.448554619642206, 17.303697787836683, 16.209269519684664, 15.165529477067146, 14.172357530937697, 13.229302117003172, 12.335625834891728, 11.490348006105547, 10.692284104642846, 9.940081931978016, 9.232254558360344, 8.567210084029904, 7.943278317812265, 7.358734506252765, 6.811820249552604, 6.300761793863399, 5.823785876985854, 5.379133311408906, 4.965070483843599, 4.579898992461991, 4.221963553335817, 3.8896583919257552, 3.5814322673245815, 3.2957922807693794, 3.0313066323503612, 2.786606439930428, 2.560386762200961, 2.3514069286494528, 2.158490283567595, 1.9805234386899777, 1.816455114659871, 1.665294647866504, 1.5261102300676375, 1.3980269351926475, 1.2802245883850296, 1.1719355199318102, 1.0724422411000003], \"yaxis\": \"y\"}, {\"hoverlabel\": {\"namelength\": 0}, \"hovertemplate\": \"variable=R<br>t=%{x}<br>value=%{y}\", \"legendgroup\": \"R\", \"line\": {\"color\": \"#19d3f3\", \"dash\": \"solid\"}, \"mode\": \"lines\", \"name\": \"R\", \"showlegend\": true, \"type\": \"scatter\", \"x\": [0, 1, 2, 3, 4, 5, 6, 7, 8, 9, 10, 11, 12, 13, 14, 15, 16, 17, 18, 19, 20, 21, 22, 23, 24, 25, 26, 27, 28, 29, 30, 31, 32, 33, 34, 35, 36, 37, 38, 39, 40, 41, 42, 43, 44, 45, 46, 47, 48, 49, 50, 51, 52, 53, 54, 55, 56, 57, 58, 59, 60, 61, 62, 63, 64, 65, 66, 67, 68, 69, 70, 71, 72, 73, 74, 75, 76, 77, 78, 79, 80, 81, 82, 83, 84, 85, 86, 87, 88, 89, 90], \"xaxis\": \"x\", \"y\": [0.0, 144.87653563949723, 301.91961002042274, 471.64522158726925, 654.369602371779, 850.2003091661309, 1059.0260943168432, 1280.5088906298558, 1514.0805296137073, 1758.9460086296351, 2014.0944342226308, 2278.3179494741926, 2550.238220041149, 2828.339356569734, 3111.005636539439, 3396.562049033229, 3683.315518831153, 3969.594781625675, 4253.787096417244, 4534.370349897609, 4809.939601749903, 5079.227507472879, 5341.118499566931, 5594.656997593973, 5839.0501467153745, 6073.665808894301, 6298.026607405498, 6511.800872679581, 6714.791309617966, 6906.922143427285, 7088.225412867862, 7258.826971451168, 7418.932658986159, 7568.814996612435, 7708.800667525231, 7839.258962993035, 7960.5913018261335, 8073.221877638827, 8177.589437160798, 8274.14016289073, 8363.32160782661, 8445.577609326041, 8521.34410234973, 8591.045743897774, 8655.093260642247, 8713.881432445673, 8767.78762855297, 8817.1708175108, 8862.370979437326, 8903.708854591296, 8941.485969218827, 8975.984886969036, 9007.469639122513, 9036.186295208334, 9062.363638336758, 9086.21391713847, 9107.933649253431, 9127.704456032123, 9145.693911670414, 9162.056392944423, 9176.933918668634, 9190.456969831286, 9202.745285011251, 9213.908624456211, 9224.047500518418, 9233.253871688295, 9241.611798936428, 9249.198063760095, 9256.082748113942, 9262.329776520748, 9267.99742156289, 9273.13877395428, 9277.802178303278, 9282.031636825554, 9285.867181949185, 9289.34522003985, 9292.498847895029, 9295.358143551462, 9297.950433397515, 9300.300537037292, 9302.430991567337, 9304.362256820381, 9306.112902968003, 9307.699781875408, 9309.138183504258, 9310.441978547871, 9311.623748434584, 9312.694903758, 9313.665792087306, 9314.545796076734, 9315.343422703663], \"yaxis\": \"y\"}, {\"hoverlabel\": {\"namelength\": 0}, \"hovertemplate\": \"variable=D<br>t=%{x}<br>value=%{y}\", \"legendgroup\": \"D\", \"line\": {\"color\": \"#FF6692\", \"dash\": \"solid\"}, \"mode\": \"lines\", \"name\": \"D\", \"showlegend\": true, \"type\": \"scatter\", \"x\": [0, 1, 2, 3, 4, 5, 6, 7, 8, 9, 10, 11, 12, 13, 14, 15, 16, 17, 18, 19, 20, 21, 22, 23, 24, 25, 26, 27, 28, 29, 30, 31, 32, 33, 34, 35, 36, 37, 38, 39, 40, 41, 42, 43, 44, 45, 46, 47, 48, 49, 50, 51, 52, 53, 54, 55, 56, 57, 58, 59, 60, 61, 62, 63, 64, 65, 66, 67, 68, 69, 70, 71, 72, 73, 74, 75, 76, 77, 78, 79, 80, 81, 82, 83, 84, 85, 86, 87, 88, 89, 90], \"xaxis\": \"x\", \"y\": [10.0, 12.51602588253455, 15.065139093382806, 17.651959173652212, 20.284375270996748, 22.97263002446148, 25.728517015303726, 28.564670991752585, 31.49393886308408, 34.528820030657364, 37.68097120759828, 40.96077249196818, 44.37695515626922, 47.936293187069545, 51.64336137318479, 55.50036258692355, 59.50702598927112, 63.66057616401369, 67.95577122169493, 72.38500562094163, 76.93847149717585, 81.60437031752394, 86.36916541765412, 91.2178650459948, 96.13432528682168, 101.1015623822688, 106.1020646949953, 111.11809551462025, 116.13197925990853, 121.12636490397483, 126.08446215460849, 130.99024711514335, 135.82863572041964, 140.58562430238243, 145.24839780730574, 149.8054069522011, 154.2464163593205, 158.5625261398012, 162.74616980438557, 166.7910915022238, 170.6923056812023, 174.4460422280829, 178.04968001960725, 181.50167163534667, 184.80146174971546, 187.94940148843855, 190.94666074170647, 193.7951401849857, 196.49738445938922, 199.05649773850254, 201.47606265788497, 203.76006336284985, 205.91281325375917, 207.9388877914708, 209.84306263448303, 211.63025719361903, 213.30548361949883, 214.87380112485243, 216.34027548461458, 217.70994349792596, 218.98778214648854, 220.17868217052006, 221.2874257316804, 222.31866786688389, 223.27692139635613, 224.16654496436738, 224.99173390023282, 225.75651360012992, 226.46473513963426, 227.12007284527326, 227.72602356902576, 228.28590743789408, 228.80286985075116, 229.2798845321417, 229.71975746305927, 230.12513152544193, 230.49849171181037, 230.84217078264535, 231.15835524319206, 231.44909155360406, 231.71629247729848, 231.961743496722, 232.18710923260883, 232.3939398114007, 232.58367713724945, 232.75766103105266, 232.91713520548106, 233.0632530538068, 233.1970832326184, 233.31961502515185, 233.43176347656217], \"yaxis\": \"y\"}, {\"hoverlabel\": {\"namelength\": 0}, \"hovertemplate\": \"variable=N<br>t=%{x}<br>value=%{y}\", \"legendgroup\": \"N\", \"line\": {\"color\": \"#B6E880\", \"dash\": \"solid\"}, \"mode\": \"lines\", \"name\": \"N\", \"showlegend\": true, \"type\": \"scatter\", \"x\": [0, 1, 2, 3, 4, 5, 6, 7, 8, 9, 10, 11, 12, 13, 14, 15, 16, 17, 18, 19, 20, 21, 22, 23, 24, 25, 26, 27, 28, 29, 30, 31, 32, 33, 34, 35, 36, 37, 38, 39, 40, 41, 42, 43, 44, 45, 46, 47, 48, 49, 50, 51, 52, 53, 54, 55, 56, 57, 58, 59, 60, 61, 62, 63, 64, 65, 66, 67, 68, 69, 70, 71, 72, 73, 74, 75, 76, 77, 78, 79, 80, 81, 82, 83, 84, 85, 86, 87, 88, 89, 90], \"xaxis\": \"x\", \"y\": [10000.0, 10000.000000000004, 10000.000000000005, 10000.000000000002, 10000.0, 10000.0, 10000.000000000002, 10000.0, 10000.000000000004, 10000.000000000002, 10000.0, 10000.0, 10000.0, 10000.0, 10000.0, 10000.000000000002, 10000.0, 10000.0, 10000.000000000002, 10000.0, 10000.0, 10000.0, 10000.0, 9999.999999999998, 9999.999999999998, 10000.0, 9999.999999999998, 9999.999999999998, 9999.999999999998, 9999.999999999998, 9999.999999999998, 9999.999999999998, 9999.999999999998, 9999.999999999998, 9999.999999999998, 9999.999999999998, 10000.0, 10000.0, 10000.0, 9999.999999999998, 9999.999999999998, 9999.999999999998, 9999.999999999998, 10000.0, 10000.0, 9999.999999999998, 10000.0, 10000.0, 9999.999999999998, 9999.999999999998, 10000.0, 10000.0, 10000.0, 9999.999999999998, 9999.999999999998, 9999.999999999998, 9999.999999999996, 9999.999999999996, 9999.999999999995, 9999.999999999998, 9999.999999999996, 9999.999999999998, 9999.999999999995, 9999.999999999996, 9999.999999999996, 9999.999999999996, 9999.999999999996, 9999.999999999995, 9999.999999999996, 9999.999999999996, 9999.999999999996, 9999.999999999996, 9999.999999999995, 9999.999999999995, 9999.999999999996, 9999.999999999995, 9999.999999999998, 9999.999999999998, 9999.999999999996, 9999.999999999998, 9999.999999999998, 9999.999999999996, 9999.999999999996, 9999.999999999993, 9999.999999999995, 9999.999999999995, 9999.999999999995, 9999.99999999999, 9999.999999999993, 9999.999999999993, 9999.999999999995], \"yaxis\": \"y\"}],\n",
       "                        {\"legend\": {\"title\": {\"text\": \"variable\"}, \"tracegroupgap\": 0}, \"margin\": {\"t\": 60}, \"template\": {\"data\": {\"bar\": [{\"error_x\": {\"color\": \"#2a3f5f\"}, \"error_y\": {\"color\": \"#2a3f5f\"}, \"marker\": {\"line\": {\"color\": \"#E5ECF6\", \"width\": 0.5}}, \"type\": \"bar\"}], \"barpolar\": [{\"marker\": {\"line\": {\"color\": \"#E5ECF6\", \"width\": 0.5}}, \"type\": \"barpolar\"}], \"carpet\": [{\"aaxis\": {\"endlinecolor\": \"#2a3f5f\", \"gridcolor\": \"white\", \"linecolor\": \"white\", \"minorgridcolor\": \"white\", \"startlinecolor\": \"#2a3f5f\"}, \"baxis\": {\"endlinecolor\": \"#2a3f5f\", \"gridcolor\": \"white\", \"linecolor\": \"white\", \"minorgridcolor\": \"white\", \"startlinecolor\": \"#2a3f5f\"}, \"type\": \"carpet\"}], \"choropleth\": [{\"colorbar\": {\"outlinewidth\": 0, \"ticks\": \"\"}, \"type\": \"choropleth\"}], \"contour\": [{\"colorbar\": {\"outlinewidth\": 0, \"ticks\": \"\"}, \"colorscale\": [[0.0, \"#0d0887\"], [0.1111111111111111, \"#46039f\"], [0.2222222222222222, \"#7201a8\"], [0.3333333333333333, \"#9c179e\"], [0.4444444444444444, \"#bd3786\"], [0.5555555555555556, \"#d8576b\"], [0.6666666666666666, \"#ed7953\"], [0.7777777777777778, \"#fb9f3a\"], [0.8888888888888888, \"#fdca26\"], [1.0, \"#f0f921\"]], \"type\": \"contour\"}], \"contourcarpet\": [{\"colorbar\": {\"outlinewidth\": 0, \"ticks\": \"\"}, \"type\": \"contourcarpet\"}], \"heatmap\": [{\"colorbar\": {\"outlinewidth\": 0, \"ticks\": \"\"}, \"colorscale\": [[0.0, \"#0d0887\"], [0.1111111111111111, \"#46039f\"], [0.2222222222222222, \"#7201a8\"], [0.3333333333333333, \"#9c179e\"], [0.4444444444444444, \"#bd3786\"], [0.5555555555555556, \"#d8576b\"], [0.6666666666666666, \"#ed7953\"], [0.7777777777777778, \"#fb9f3a\"], [0.8888888888888888, \"#fdca26\"], [1.0, \"#f0f921\"]], \"type\": \"heatmap\"}], \"heatmapgl\": [{\"colorbar\": {\"outlinewidth\": 0, \"ticks\": \"\"}, \"colorscale\": [[0.0, \"#0d0887\"], [0.1111111111111111, \"#46039f\"], [0.2222222222222222, \"#7201a8\"], [0.3333333333333333, \"#9c179e\"], [0.4444444444444444, \"#bd3786\"], [0.5555555555555556, \"#d8576b\"], [0.6666666666666666, \"#ed7953\"], [0.7777777777777778, \"#fb9f3a\"], [0.8888888888888888, \"#fdca26\"], [1.0, \"#f0f921\"]], \"type\": \"heatmapgl\"}], \"histogram\": [{\"marker\": {\"colorbar\": {\"outlinewidth\": 0, \"ticks\": \"\"}}, \"type\": \"histogram\"}], \"histogram2d\": [{\"colorbar\": {\"outlinewidth\": 0, \"ticks\": \"\"}, \"colorscale\": [[0.0, \"#0d0887\"], [0.1111111111111111, \"#46039f\"], [0.2222222222222222, \"#7201a8\"], [0.3333333333333333, \"#9c179e\"], [0.4444444444444444, \"#bd3786\"], [0.5555555555555556, \"#d8576b\"], [0.6666666666666666, \"#ed7953\"], [0.7777777777777778, \"#fb9f3a\"], [0.8888888888888888, \"#fdca26\"], [1.0, \"#f0f921\"]], \"type\": \"histogram2d\"}], \"histogram2dcontour\": [{\"colorbar\": {\"outlinewidth\": 0, \"ticks\": \"\"}, \"colorscale\": [[0.0, \"#0d0887\"], [0.1111111111111111, \"#46039f\"], [0.2222222222222222, \"#7201a8\"], [0.3333333333333333, \"#9c179e\"], [0.4444444444444444, \"#bd3786\"], [0.5555555555555556, \"#d8576b\"], [0.6666666666666666, \"#ed7953\"], [0.7777777777777778, \"#fb9f3a\"], [0.8888888888888888, \"#fdca26\"], [1.0, \"#f0f921\"]], \"type\": \"histogram2dcontour\"}], \"mesh3d\": [{\"colorbar\": {\"outlinewidth\": 0, \"ticks\": \"\"}, \"type\": \"mesh3d\"}], \"parcoords\": [{\"line\": {\"colorbar\": {\"outlinewidth\": 0, \"ticks\": \"\"}}, \"type\": \"parcoords\"}], \"pie\": [{\"automargin\": true, \"type\": \"pie\"}], \"scatter\": [{\"marker\": {\"colorbar\": {\"outlinewidth\": 0, \"ticks\": \"\"}}, \"type\": \"scatter\"}], \"scatter3d\": [{\"line\": {\"colorbar\": {\"outlinewidth\": 0, \"ticks\": \"\"}}, \"marker\": {\"colorbar\": {\"outlinewidth\": 0, \"ticks\": \"\"}}, \"type\": \"scatter3d\"}], \"scattercarpet\": [{\"marker\": {\"colorbar\": {\"outlinewidth\": 0, \"ticks\": \"\"}}, \"type\": \"scattercarpet\"}], \"scattergeo\": [{\"marker\": {\"colorbar\": {\"outlinewidth\": 0, \"ticks\": \"\"}}, \"type\": \"scattergeo\"}], \"scattergl\": [{\"marker\": {\"colorbar\": {\"outlinewidth\": 0, \"ticks\": \"\"}}, \"type\": \"scattergl\"}], \"scattermapbox\": [{\"marker\": {\"colorbar\": {\"outlinewidth\": 0, \"ticks\": \"\"}}, \"type\": \"scattermapbox\"}], \"scatterpolar\": [{\"marker\": {\"colorbar\": {\"outlinewidth\": 0, \"ticks\": \"\"}}, \"type\": \"scatterpolar\"}], \"scatterpolargl\": [{\"marker\": {\"colorbar\": {\"outlinewidth\": 0, \"ticks\": \"\"}}, \"type\": \"scatterpolargl\"}], \"scatterternary\": [{\"marker\": {\"colorbar\": {\"outlinewidth\": 0, \"ticks\": \"\"}}, \"type\": \"scatterternary\"}], \"surface\": [{\"colorbar\": {\"outlinewidth\": 0, \"ticks\": \"\"}, \"colorscale\": [[0.0, \"#0d0887\"], [0.1111111111111111, \"#46039f\"], [0.2222222222222222, \"#7201a8\"], [0.3333333333333333, \"#9c179e\"], [0.4444444444444444, \"#bd3786\"], [0.5555555555555556, \"#d8576b\"], [0.6666666666666666, \"#ed7953\"], [0.7777777777777778, \"#fb9f3a\"], [0.8888888888888888, \"#fdca26\"], [1.0, \"#f0f921\"]], \"type\": \"surface\"}], \"table\": [{\"cells\": {\"fill\": {\"color\": \"#EBF0F8\"}, \"line\": {\"color\": \"white\"}}, \"header\": {\"fill\": {\"color\": \"#C8D4E3\"}, \"line\": {\"color\": \"white\"}}, \"type\": \"table\"}]}, \"layout\": {\"annotationdefaults\": {\"arrowcolor\": \"#2a3f5f\", \"arrowhead\": 0, \"arrowwidth\": 1}, \"coloraxis\": {\"colorbar\": {\"outlinewidth\": 0, \"ticks\": \"\"}}, \"colorscale\": {\"diverging\": [[0, \"#8e0152\"], [0.1, \"#c51b7d\"], [0.2, \"#de77ae\"], [0.3, \"#f1b6da\"], [0.4, \"#fde0ef\"], [0.5, \"#f7f7f7\"], [0.6, \"#e6f5d0\"], [0.7, \"#b8e186\"], [0.8, \"#7fbc41\"], [0.9, \"#4d9221\"], [1, \"#276419\"]], \"sequential\": [[0.0, \"#0d0887\"], [0.1111111111111111, \"#46039f\"], [0.2222222222222222, \"#7201a8\"], [0.3333333333333333, \"#9c179e\"], [0.4444444444444444, \"#bd3786\"], [0.5555555555555556, \"#d8576b\"], [0.6666666666666666, \"#ed7953\"], [0.7777777777777778, \"#fb9f3a\"], [0.8888888888888888, \"#fdca26\"], [1.0, \"#f0f921\"]], \"sequentialminus\": [[0.0, \"#0d0887\"], [0.1111111111111111, \"#46039f\"], [0.2222222222222222, \"#7201a8\"], [0.3333333333333333, \"#9c179e\"], [0.4444444444444444, \"#bd3786\"], [0.5555555555555556, \"#d8576b\"], [0.6666666666666666, \"#ed7953\"], [0.7777777777777778, \"#fb9f3a\"], [0.8888888888888888, \"#fdca26\"], [1.0, \"#f0f921\"]]}, \"colorway\": [\"#636efa\", \"#EF553B\", \"#00cc96\", \"#ab63fa\", \"#FFA15A\", \"#19d3f3\", \"#FF6692\", \"#B6E880\", \"#FF97FF\", \"#FECB52\"], \"font\": {\"color\": \"#2a3f5f\"}, \"geo\": {\"bgcolor\": \"white\", \"lakecolor\": \"white\", \"landcolor\": \"#E5ECF6\", \"showlakes\": true, \"showland\": true, \"subunitcolor\": \"white\"}, \"hoverlabel\": {\"align\": \"left\"}, \"hovermode\": \"closest\", \"mapbox\": {\"style\": \"light\"}, \"paper_bgcolor\": \"white\", \"plot_bgcolor\": \"#E5ECF6\", \"polar\": {\"angularaxis\": {\"gridcolor\": \"white\", \"linecolor\": \"white\", \"ticks\": \"\"}, \"bgcolor\": \"#E5ECF6\", \"radialaxis\": {\"gridcolor\": \"white\", \"linecolor\": \"white\", \"ticks\": \"\"}}, \"scene\": {\"xaxis\": {\"backgroundcolor\": \"#E5ECF6\", \"gridcolor\": \"white\", \"gridwidth\": 2, \"linecolor\": \"white\", \"showbackground\": true, \"ticks\": \"\", \"zerolinecolor\": \"white\"}, \"yaxis\": {\"backgroundcolor\": \"#E5ECF6\", \"gridcolor\": \"white\", \"gridwidth\": 2, \"linecolor\": \"white\", \"showbackground\": true, \"ticks\": \"\", \"zerolinecolor\": \"white\"}, \"zaxis\": {\"backgroundcolor\": \"#E5ECF6\", \"gridcolor\": \"white\", \"gridwidth\": 2, \"linecolor\": \"white\", \"showbackground\": true, \"ticks\": \"\", \"zerolinecolor\": \"white\"}}, \"shapedefaults\": {\"line\": {\"color\": \"#2a3f5f\"}}, \"ternary\": {\"aaxis\": {\"gridcolor\": \"white\", \"linecolor\": \"white\", \"ticks\": \"\"}, \"baxis\": {\"gridcolor\": \"white\", \"linecolor\": \"white\", \"ticks\": \"\"}, \"bgcolor\": \"#E5ECF6\", \"caxis\": {\"gridcolor\": \"white\", \"linecolor\": \"white\", \"ticks\": \"\"}}, \"title\": {\"x\": 0.05}, \"xaxis\": {\"automargin\": true, \"gridcolor\": \"white\", \"linecolor\": \"white\", \"ticks\": \"\", \"title\": {\"standoff\": 15}, \"zerolinecolor\": \"white\", \"zerolinewidth\": 2}, \"yaxis\": {\"automargin\": true, \"gridcolor\": \"white\", \"linecolor\": \"white\", \"ticks\": \"\", \"title\": {\"standoff\": 15}, \"zerolinecolor\": \"white\", \"zerolinewidth\": 2}}}, \"xaxis\": {\"anchor\": \"y\", \"domain\": [0.0, 1.0], \"title\": {\"text\": \"t\"}}, \"yaxis\": {\"anchor\": \"x\", \"domain\": [0.0, 1.0], \"title\": {\"text\": \"value\"}}},\n",
       "                        {\"responsive\": true}\n",
       "                    ).then(function(){\n",
       "                            \n",
       "var gd = document.getElementById('4b6d83a3-9d27-4e00-8ac9-0fe7b432eace');\n",
       "var x = new MutationObserver(function (mutations, observer) {{\n",
       "        var display = window.getComputedStyle(gd).display;\n",
       "        if (!display || display === 'none') {{\n",
       "            console.log([gd, 'removed!']);\n",
       "            Plotly.purge(gd);\n",
       "            observer.disconnect();\n",
       "        }}\n",
       "}});\n",
       "\n",
       "// Listen for the removal of the full notebook cells\n",
       "var notebookContainer = gd.closest('#notebook-container');\n",
       "if (notebookContainer) {{\n",
       "    x.observe(notebookContainer, {childList: true});\n",
       "}}\n",
       "\n",
       "// Listen for the clearing of the current output cell\n",
       "var outputEl = gd.closest('.output');\n",
       "if (outputEl) {{\n",
       "    x.observe(outputEl, {childList: true});\n",
       "}}\n",
       "\n",
       "                        })\n",
       "                };\n",
       "                });\n",
       "            </script>\n",
       "        </div>"
      ]
     },
     "metadata": {},
     "output_type": "display_data"
    }
   ],
   "source": [
    "px.line(result.melt('t'), x='t', y='value', color='variable')"
   ]
  },
  {
   "cell_type": "markdown",
   "metadata": {},
   "source": [
    "## Debugging"
   ]
  },
  {
   "cell_type": "code",
   "execution_count": 72,
   "metadata": {},
   "outputs": [
    {
     "data": {
      "text/plain": [
       "{'S': 7656.2,\n",
       " 'E': 1333.8,\n",
       " 'I1': 855.0,\n",
       " 'I2': 120.0,\n",
       " 'I3': 25.0,\n",
       " 'R': 0,\n",
       " 'D': 10}"
      ]
     },
     "execution_count": 72,
     "metadata": {},
     "output_type": "execute_result"
    }
   ],
   "source": [
    "initial_pop_params = prepare_states(model_parameters['population_parameters'], \n",
    "                                    model_parameters['diseases_parameters'], \n",
    "                                    config)\n",
    "initial_pop_params"
   ]
  },
  {
   "cell_type": "code",
   "execution_count": 73,
   "metadata": {},
   "outputs": [
    {
     "data": {
      "text/plain": [
       "1000.0"
      ]
     },
     "execution_count": 73,
     "metadata": {},
     "output_type": "execute_result"
    }
   ],
   "source": [
    "initial_pop_params['I1'] + initial_pop_params['I2'] + initial_pop_params['I3']"
   ]
  },
  {
   "cell_type": "code",
   "execution_count": 74,
   "metadata": {},
   "outputs": [
    {
     "name": "stdout",
     "output_type": "stream",
     "text": [
      "0.1724137931034483\n"
     ]
    },
    {
     "data": {
      "text/plain": [
       "{'sigma': 0.16666666666666666,\n",
       " 'gamma1': 0.1425,\n",
       " 'p1': 0.02416666666666667,\n",
       " 'gamma2': 0.13793103448275862,\n",
       " 'p2': 0.02873563218390805,\n",
       " 'mu': 0.09999999999999999,\n",
       " 'gamma3': 0.02500000000000001,\n",
       " 'beta1': 0.75,\n",
       " 'beta3': 0.46728971962616817,\n",
       " 'beta2': 0.46728971962616817}"
      ]
     },
     "execution_count": 74,
     "metadata": {},
     "output_type": "execute_result"
    }
   ],
   "source": [
    "seir_parameters = prepare_params(model_parameters['diseases_parameters'], config, \n",
    "                                    reproduction_rate=5, N=model_parameters['population_parameters']['N'])\n",
    "seir_parameters"
   ]
  },
  {
   "cell_type": "code",
   "execution_count": 75,
   "metadata": {},
   "outputs": [
    {
     "data": {
      "text/html": [
       "<div>\n",
       "<style scoped>\n",
       "    .dataframe tbody tr th:only-of-type {\n",
       "        vertical-align: middle;\n",
       "    }\n",
       "\n",
       "    .dataframe tbody tr th {\n",
       "        vertical-align: top;\n",
       "    }\n",
       "\n",
       "    .dataframe thead th {\n",
       "        text-align: right;\n",
       "    }\n",
       "</style>\n",
       "<table border=\"1\" class=\"dataframe\">\n",
       "  <thead>\n",
       "    <tr style=\"text-align: right;\">\n",
       "      <th></th>\n",
       "      <th>S</th>\n",
       "      <th>E</th>\n",
       "      <th>I1</th>\n",
       "      <th>I2</th>\n",
       "      <th>I3</th>\n",
       "      <th>R</th>\n",
       "      <th>D</th>\n",
       "      <th>t</th>\n",
       "    </tr>\n",
       "  </thead>\n",
       "  <tbody>\n",
       "    <tr>\n",
       "      <td>0</td>\n",
       "      <td>7656.200000</td>\n",
       "      <td>1333.800000</td>\n",
       "      <td>855.000000</td>\n",
       "      <td>120.000000</td>\n",
       "      <td>25.000000</td>\n",
       "      <td>0.000000</td>\n",
       "      <td>10.000000</td>\n",
       "      <td>0</td>\n",
       "    </tr>\n",
       "    <tr>\n",
       "      <td>1</td>\n",
       "      <td>7107.310400</td>\n",
       "      <td>1634.804512</td>\n",
       "      <td>952.711937</td>\n",
       "      <td>121.665353</td>\n",
       "      <td>25.322143</td>\n",
       "      <td>145.669611</td>\n",
       "      <td>12.516045</td>\n",
       "      <td>1</td>\n",
       "    </tr>\n",
       "    <tr>\n",
       "      <td>2</td>\n",
       "      <td>6541.204217</td>\n",
       "      <td>1905.522510</td>\n",
       "      <td>1079.114782</td>\n",
       "      <td>125.596457</td>\n",
       "      <td>25.681953</td>\n",
       "      <td>307.814398</td>\n",
       "      <td>15.065683</td>\n",
       "      <td>2</td>\n",
       "    </tr>\n",
       "    <tr>\n",
       "      <td>3</td>\n",
       "      <td>5957.050939</td>\n",
       "      <td>2151.264561</td>\n",
       "      <td>1225.688444</td>\n",
       "      <td>131.982448</td>\n",
       "      <td>26.139345</td>\n",
       "      <td>490.218570</td>\n",
       "      <td>17.655694</td>\n",
       "      <td>3</td>\n",
       "    </tr>\n",
       "    <tr>\n",
       "      <td>4</td>\n",
       "      <td>5360.840797</td>\n",
       "      <td>2370.275767</td>\n",
       "      <td>1385.431244</td>\n",
       "      <td>140.813774</td>\n",
       "      <td>26.749410</td>\n",
       "      <td>695.590358</td>\n",
       "      <td>20.298651</td>\n",
       "      <td>4</td>\n",
       "    </tr>\n",
       "    <tr>\n",
       "      <td>...</td>\n",
       "      <td>...</td>\n",
       "      <td>...</td>\n",
       "      <td>...</td>\n",
       "      <td>...</td>\n",
       "      <td>...</td>\n",
       "      <td>...</td>\n",
       "      <td>...</td>\n",
       "      <td>...</td>\n",
       "    </tr>\n",
       "    <tr>\n",
       "      <td>86</td>\n",
       "      <td>54.494177</td>\n",
       "      <td>0.146039</td>\n",
       "      <td>0.691447</td>\n",
       "      <td>0.421477</td>\n",
       "      <td>0.633229</td>\n",
       "      <td>9701.833259</td>\n",
       "      <td>241.780373</td>\n",
       "      <td>86</td>\n",
       "    </tr>\n",
       "    <tr>\n",
       "      <td>87</td>\n",
       "      <td>54.488991</td>\n",
       "      <td>0.128387</td>\n",
       "      <td>0.606295</td>\n",
       "      <td>0.371170</td>\n",
       "      <td>0.569500</td>\n",
       "      <td>9701.995202</td>\n",
       "      <td>241.840455</td>\n",
       "      <td>87</td>\n",
       "    </tr>\n",
       "    <tr>\n",
       "      <td>88</td>\n",
       "      <td>54.484406</td>\n",
       "      <td>0.112893</td>\n",
       "      <td>0.531679</td>\n",
       "      <td>0.326813</td>\n",
       "      <td>0.511984</td>\n",
       "      <td>9702.137745</td>\n",
       "      <td>241.894480</td>\n",
       "      <td>88</td>\n",
       "    </tr>\n",
       "    <tr>\n",
       "      <td>89</td>\n",
       "      <td>54.480353</td>\n",
       "      <td>0.099290</td>\n",
       "      <td>0.466292</td>\n",
       "      <td>0.287712</td>\n",
       "      <td>0.460102</td>\n",
       "      <td>9702.263212</td>\n",
       "      <td>241.943040</td>\n",
       "      <td>89</td>\n",
       "    </tr>\n",
       "    <tr>\n",
       "      <td>90</td>\n",
       "      <td>54.476769</td>\n",
       "      <td>0.087342</td>\n",
       "      <td>0.408988</td>\n",
       "      <td>0.253253</td>\n",
       "      <td>0.413325</td>\n",
       "      <td>9702.373652</td>\n",
       "      <td>241.986671</td>\n",
       "      <td>90</td>\n",
       "    </tr>\n",
       "  </tbody>\n",
       "</table>\n",
       "<p>91 rows × 8 columns</p>\n",
       "</div>"
      ],
      "text/plain": [
       "              S            E           I1          I2         I3            R  \\\n",
       "0   7656.200000  1333.800000   855.000000  120.000000  25.000000     0.000000   \n",
       "1   7107.310400  1634.804512   952.711937  121.665353  25.322143   145.669611   \n",
       "2   6541.204217  1905.522510  1079.114782  125.596457  25.681953   307.814398   \n",
       "3   5957.050939  2151.264561  1225.688444  131.982448  26.139345   490.218570   \n",
       "4   5360.840797  2370.275767  1385.431244  140.813774  26.749410   695.590358   \n",
       "..          ...          ...          ...         ...        ...          ...   \n",
       "86    54.494177     0.146039     0.691447    0.421477   0.633229  9701.833259   \n",
       "87    54.488991     0.128387     0.606295    0.371170   0.569500  9701.995202   \n",
       "88    54.484406     0.112893     0.531679    0.326813   0.511984  9702.137745   \n",
       "89    54.480353     0.099290     0.466292    0.287712   0.460102  9702.263212   \n",
       "90    54.476769     0.087342     0.408988    0.253253   0.413325  9702.373652   \n",
       "\n",
       "             D   t  \n",
       "0    10.000000   0  \n",
       "1    12.516045   1  \n",
       "2    15.065683   2  \n",
       "3    17.655694   3  \n",
       "4    20.298651   4  \n",
       "..         ...  ..  \n",
       "86  241.780373  86  \n",
       "87  241.840455  87  \n",
       "88  241.894480  88  \n",
       "89  241.943040  89  \n",
       "90  241.986671  90  \n",
       "\n",
       "[91 rows x 8 columns]"
      ]
     },
     "execution_count": 75,
     "metadata": {},
     "output_type": "execute_result"
    }
   ],
   "source": [
    "result = model(initial_pop_params, seir_parameters, \n",
    "          N=model_parameters['population_parameters']['N'], n_days=model_parameters['estimation_days'])\n",
    "\n",
    "# result['N'] = result.sum(axis=1)\n",
    "result['t'] = result.index\n",
    "result"
   ]
  },
  {
   "cell_type": "code",
   "execution_count": 76,
   "metadata": {},
   "outputs": [],
   "source": [
    "result['I'] = result['I1'] + result['I2'] + result['I3']"
   ]
  },
  {
   "cell_type": "code",
   "execution_count": 77,
   "metadata": {},
   "outputs": [
    {
     "data": {
      "application/vnd.plotly.v1+json": {
       "config": {
        "plotlyServerURL": "https://plot.ly"
       },
       "data": [
        {
         "hoverlabel": {
          "namelength": 0
         },
         "hovertemplate": "variable=S<br>t=%{x}<br>value=%{y}",
         "legendgroup": "S",
         "line": {
          "color": "#636efa",
          "dash": "solid"
         },
         "mode": "lines",
         "name": "S",
         "showlegend": true,
         "type": "scatter",
         "x": [
          0,
          1,
          2,
          3,
          4,
          5,
          6,
          7,
          8,
          9,
          10,
          11,
          12,
          13,
          14,
          15,
          16,
          17,
          18,
          19,
          20,
          21,
          22,
          23,
          24,
          25,
          26,
          27,
          28,
          29,
          30,
          31,
          32,
          33,
          34,
          35,
          36,
          37,
          38,
          39,
          40,
          41,
          42,
          43,
          44,
          45,
          46,
          47,
          48,
          49,
          50,
          51,
          52,
          53,
          54,
          55,
          56,
          57,
          58,
          59,
          60,
          61,
          62,
          63,
          64,
          65,
          66,
          67,
          68,
          69,
          70,
          71,
          72,
          73,
          74,
          75,
          76,
          77,
          78,
          79,
          80,
          81,
          82,
          83,
          84,
          85,
          86,
          87,
          88,
          89,
          90
         ],
         "xaxis": "x",
         "y": [
          7656.2,
          7107.310400126214,
          6541.2042174471035,
          5957.050938905015,
          5360.840796856812,
          4763.087540733892,
          4176.766799018856,
          3615.346052556493,
          3091.00635632191,
          2613.2605713056173,
          2188.1463920514893,
          1818.054610903481,
          1502.1081382790417,
          1236.902157531852,
          1017.3837153156038,
          837.6840258220227,
          691.78794141305,
          573.9983069642661,
          479.2067984613962,
          403.0113444548648,
          341.72781303009555,
          292.33855497917045,
          252.41004594927222,
          220.0011584380012,
          193.57470271970183,
          171.91859656349075,
          154.0789815209412,
          139.30528555054286,
          127.006091127505,
          116.71421075801732,
          108.05933121184809,
          100.74672263960663,
          94.54073065491647,
          89.25199852557024,
          84.7275763866235,
          80.84325869214493,
          77.49763360182259,
          74.60744947194326,
          72.10399520321053,
          69.93026173758129,
          68.03870603380811,
          66.389483761148,
          64.9490441361257,
          63.6890086827875,
          62.58527163534819,
          61.617274834237435,
          60.76742036889144,
          60.02059186994833,
          59.363763637348846,
          58.7856784420525,
          58.27658160422553,
          57.82799997490144,
          57.43255754309713,
          57.08382080103762,
          56.7761684931376,
          56.50468144621135,
          56.26504893046207,
          56.05348883246704,
          55.866679293500574,
          55.70169998968581,
          55.555981517925424,
          55.427261646135264,
          55.31354738870562,
          55.213082052741804,
          55.1243165390567,
          55.045884297353155,
          54.97657943263619,
          54.91533753485978,
          54.8612188700995,
          54.81339362431802,
          54.77112893492362,
          54.7337774837089,
          54.700767453014784,
          54.67159368025622,
          54.645809859129045,
          54.623021662465355,
          54.60288067502418,
          54.5850790385749,
          54.56934472486297,
          54.555437361328465,
          54.54314454490346,
          54.53227858494112,
          54.52267362768037,
          54.51418311418209,
          54.506677534887665,
          54.50004244568533,
          54.494176714624615,
          54.48899097295833,
          54.48440624613052,
          54.48035274416008,
          54.476768792841746
         ],
         "yaxis": "y"
        },
        {
         "hoverlabel": {
          "namelength": 0
         },
         "hovertemplate": "variable=E<br>t=%{x}<br>value=%{y}",
         "legendgroup": "E",
         "line": {
          "color": "#EF553B",
          "dash": "solid"
         },
         "mode": "lines",
         "name": "E",
         "showlegend": true,
         "type": "scatter",
         "x": [
          0,
          1,
          2,
          3,
          4,
          5,
          6,
          7,
          8,
          9,
          10,
          11,
          12,
          13,
          14,
          15,
          16,
          17,
          18,
          19,
          20,
          21,
          22,
          23,
          24,
          25,
          26,
          27,
          28,
          29,
          30,
          31,
          32,
          33,
          34,
          35,
          36,
          37,
          38,
          39,
          40,
          41,
          42,
          43,
          44,
          45,
          46,
          47,
          48,
          49,
          50,
          51,
          52,
          53,
          54,
          55,
          56,
          57,
          58,
          59,
          60,
          61,
          62,
          63,
          64,
          65,
          66,
          67,
          68,
          69,
          70,
          71,
          72,
          73,
          74,
          75,
          76,
          77,
          78,
          79,
          80,
          81,
          82,
          83,
          84,
          85,
          86,
          87,
          88,
          89,
          90
         ],
         "xaxis": "x",
         "y": [
          1333.8,
          1634.8045118496088,
          1905.5225104123026,
          2151.2645609064602,
          2370.275766802239,
          2556.9311300124427,
          2704.2273183777593,
          2805.8074767406088,
          2857.496267125481,
          2858.2313435199353,
          2810.3206513275604,
          2719.0753212091736,
          2591.9935206725254,
          2437.739760256367,
          2265.1551959349513,
          2082.4653999468896,
          1896.7607186875432,
          1713.7454741308327,
          1537.7035282335949,
          1371.6098426908063,
          1217.3217118157522,
          1075.7983170777388,
          947.3146991928934,
          831.6512953343899,
          728.2512571613132,
          636.3446961652648,
          555.0428400927999,
          483.40673957351845,
          420.49549420217926,
          365.39861338517926,
          317.25645917536036,
          275.271981855247,
          238.71626341830182,
          206.92978576596087,
          179.32085547590788,
          155.36222372439104,
          134.5866553414753,
          116.5819689260858,
          100.98590786591714,
          87.48108162609104,
          75.79013123566106,
          65.67120580501049,
          56.91380209604696,
          49.33498139038623,
          42.7759641270309,
          37.099086837154154,
          32.185100024910795,
          27.930780824161612,
          24.246831756526355,
          21.056038934027555,
          18.291661306287008,
          15.896025901802833,
          13.819305212796968,
          12.018454797698165,
          10.456291670816269,
          9.100695758926152,
          7.923918621549882,
          6.901985759021458,
          6.014180056567974,
          5.24259568641094,
          4.571753064968753,
          3.988266583367614,
          3.4805580159634424,
          3.038609348077486,
          2.65374963706126,
          2.3184712415618884,
          2.0262713597369437,
          1.7715153948593092,
          1.5493191247815583,
          1.3554470725896526,
          1.1862248372212554,
          1.038463449567116,
          0.9093940726433434,
          0.7966116527473719,
          0.6980262364467766,
          0.6118209178171498,
          0.5364155033282879,
          0.47043509558707297,
          0.4126829204081954,
          0.36211682387057914,
          0.3178289243823852,
          0.27902798663237577,
          0.24502417098849877,
          0.21521579773217722,
          0.18907787680753005,
          0.16615216109930603,
          0.1460385127982194,
          0.12838740482642486,
          0.11289341197257417,
          0.09928955191510676,
          0.08734236624498304
         ],
         "yaxis": "y"
        },
        {
         "hoverlabel": {
          "namelength": 0
         },
         "hovertemplate": "variable=I1<br>t=%{x}<br>value=%{y}",
         "legendgroup": "I1",
         "line": {
          "color": "#00cc96",
          "dash": "solid"
         },
         "mode": "lines",
         "name": "I1",
         "showlegend": true,
         "type": "scatter",
         "x": [
          0,
          1,
          2,
          3,
          4,
          5,
          6,
          7,
          8,
          9,
          10,
          11,
          12,
          13,
          14,
          15,
          16,
          17,
          18,
          19,
          20,
          21,
          22,
          23,
          24,
          25,
          26,
          27,
          28,
          29,
          30,
          31,
          32,
          33,
          34,
          35,
          36,
          37,
          38,
          39,
          40,
          41,
          42,
          43,
          44,
          45,
          46,
          47,
          48,
          49,
          50,
          51,
          52,
          53,
          54,
          55,
          56,
          57,
          58,
          59,
          60,
          61,
          62,
          63,
          64,
          65,
          66,
          67,
          68,
          69,
          70,
          71,
          72,
          73,
          74,
          75,
          76,
          77,
          78,
          79,
          80,
          81,
          82,
          83,
          84,
          85,
          86,
          87,
          88,
          89,
          90
         ],
         "xaxis": "x",
         "y": [
          855,
          952.7119366631954,
          1079.1147818827144,
          1225.6884441474344,
          1385.4312439845473,
          1551.8063085351148,
          1718.279328896709,
          1878.2720064749299,
          2025.3961372360725,
          2153.8411691007373,
          2258.7923879675973,
          2336.7735731229595,
          2385.842405291237,
          2405.6112098547346,
          2397.107596358773,
          2362.5185829277216,
          2304.873491516453,
          2227.7173995400613,
          2134.8141391425283,
          2029.9020397983995,
          1916.5113394964328,
          1797.841764347624,
          1676.6924938936818,
          1555.4339634201344,
          1436.0105921249599,
          1319.9646170630551,
          1208.4729139881574,
          1102.3905507967468,
          1002.2965210922148,
          908.5385581300243,
          821.275047598229,
          740.5129226737218,
          666.1410256790042,
          597.9588414245063,
          535.7007735559172,
          479.0562998735984,
          427.68642192869004,
          381.2368631780054,
          339.34846164077095,
          301.66518321470664,
          267.8401444867713,
          237.5399922452313,
          210.44794417624263,
          186.2657543978744,
          164.71482574066746,
          145.53665782863425,
          128.4927857271702,
          113.36434007989749,
          99.95132844817161,
          88.0717275404657,
          77.56044963206837,
          68.26823708683686,
          60.060525720410645,
          52.816307717280274,
          46.42701746888439,
          40.79545669952937,
          35.83477103204467,
          31.467484706135256,
          27.62459847513022,
          24.24475239782983,
          21.273453462373844,
          18.66236709441152,
          16.368669999406283,
          14.354461580482567,
          12.586230537272277,
          11.03437295869294,
          9.672758271325442,
          8.478339235658913,
          7.430802362604472,
          6.512255225682298,
          5.706947290288234,
          5.001021125305169,
          4.382291018516035,
          3.840046288802595,
          3.364876755515635,
          2.9485180686570494,
          2.583714784104167,
          2.264099278640319,
          1.9840847828781534,
          1.7387709458188703,
          1.5238605587637415,
          1.335586140566506,
          1.1706453051787604,
          1.0261438508279466,
          0.8995457058647648,
          0.7886289209368853,
          0.6914469911762123,
          0.606294893100766,
          0.5316792524201094,
          0.4662921659704985,
          0.4089882353334949
         ],
         "yaxis": "y"
        },
        {
         "hoverlabel": {
          "namelength": 0
         },
         "hovertemplate": "variable=I2<br>t=%{x}<br>value=%{y}",
         "legendgroup": "I2",
         "line": {
          "color": "#ab63fa",
          "dash": "solid"
         },
         "mode": "lines",
         "name": "I2",
         "showlegend": true,
         "type": "scatter",
         "x": [
          0,
          1,
          2,
          3,
          4,
          5,
          6,
          7,
          8,
          9,
          10,
          11,
          12,
          13,
          14,
          15,
          16,
          17,
          18,
          19,
          20,
          21,
          22,
          23,
          24,
          25,
          26,
          27,
          28,
          29,
          30,
          31,
          32,
          33,
          34,
          35,
          36,
          37,
          38,
          39,
          40,
          41,
          42,
          43,
          44,
          45,
          46,
          47,
          48,
          49,
          50,
          51,
          52,
          53,
          54,
          55,
          56,
          57,
          58,
          59,
          60,
          61,
          62,
          63,
          64,
          65,
          66,
          67,
          68,
          69,
          70,
          71,
          72,
          73,
          74,
          75,
          76,
          77,
          78,
          79,
          80,
          81,
          82,
          83,
          84,
          85,
          86,
          87,
          88,
          89,
          90
         ],
         "xaxis": "x",
         "y": [
          120,
          121.6653525108305,
          125.59645651268909,
          131.9824477202156,
          140.81377369905533,
          151.93313784805417,
          165.0623281204435,
          179.81966732918906,
          195.73719261136188,
          212.28240127727105,
          228.88585005059437,
          244.97313545944684,
          259.99799983135085,
          273.4727151041866,
          284.99237330347756,
          294.25091517571786,
          301.0481983585105,
          305.2887274899941,
          306.9735905665964,
          306.18759648286385,
          303.0836506840291,
          297.86616248834247,
          290.7748921404657,
          282.07021784145337,
          272.020410191994,
          260.8911790332145,
          248.9375175838999,
          236.39770508020064,
          223.48923175061333,
          210.4063611584111,
          197.31903433531514,
          184.3728303050465,
          171.68972503138122,
          159.36942340225195,
          147.49107466868972,
          136.1152173596904,
          125.28583098047967,
          115.03240068335593,
          105.3719260868532,
          96.31082499783838,
          87.84669966389357,
          79.96994681677373,
          72.66520196057535,
          65.9126169659948,
          59.68897514195861,
          53.96865194790226,
          48.724432127190795,
          43.92819539909149,
          39.551483936216236,
          35.56596421417837,
          31.943796233623686,
          28.657922299924692,
          25.682286217985496,
          22.991993662629817,
          20.56342276038524,
          18.374293298113205,
          16.4037020210608,
          14.632130320118634,
          13.041430011476155,
          11.614791927166346,
          10.336701461354245,
          9.192884461100952,
          8.170246368800848,
          7.256806982033403,
          6.441632749846213,
          5.714768202843548,
          5.067167723676942,
          4.490628646138953,
          3.9777264142565127,
          3.5217523361764753,
          3.1166543294503013,
          2.7569808963237667,
          2.437828487547277,
          2.154792296736953,
          1.9039204950157222,
          1.6816718370605317,
          1.4848765370359978,
          1.3107002882242345,
          1.1566112765098977,
          1.0203500209145195,
          0.8999018741041287,
          0.7934720048083037,
          0.6994626885480469,
          0.6164527372326868,
          0.5431788996205668,
          0.4785190730253047,
          0.4214771746025268,
          0.3711695307580224,
          0.3268126464360522,
          0.2877122317638376,
          0.25325336787422237
         ],
         "yaxis": "y"
        },
        {
         "hoverlabel": {
          "namelength": 0
         },
         "hovertemplate": "variable=I3<br>t=%{x}<br>value=%{y}",
         "legendgroup": "I3",
         "line": {
          "color": "#FFA15A",
          "dash": "solid"
         },
         "mode": "lines",
         "name": "I3",
         "showlegend": true,
         "type": "scatter",
         "x": [
          0,
          1,
          2,
          3,
          4,
          5,
          6,
          7,
          8,
          9,
          10,
          11,
          12,
          13,
          14,
          15,
          16,
          17,
          18,
          19,
          20,
          21,
          22,
          23,
          24,
          25,
          26,
          27,
          28,
          29,
          30,
          31,
          32,
          33,
          34,
          35,
          36,
          37,
          38,
          39,
          40,
          41,
          42,
          43,
          44,
          45,
          46,
          47,
          48,
          49,
          50,
          51,
          52,
          53,
          54,
          55,
          56,
          57,
          58,
          59,
          60,
          61,
          62,
          63,
          64,
          65,
          66,
          67,
          68,
          69,
          70,
          71,
          72,
          73,
          74,
          75,
          76,
          77,
          78,
          79,
          80,
          81,
          82,
          83,
          84,
          85,
          86,
          87,
          88,
          89,
          90
         ],
         "xaxis": "x",
         "y": [
          25,
          25.322143082389452,
          25.681952633098405,
          26.139344940197024,
          26.749409699861452,
          27.558388425767113,
          28.601128080353288,
          29.899403166220196,
          31.460887399352885,
          33.27876659735804,
          35.332065781840846,
          37.58674945235764,
          39.99758054925915,
          42.510626188056506,
          45.06621209613616,
          47.602075383758695,
          50.05645622899293,
          52.37089960794984,
          54.492595674810225,
          56.37615646240159,
          57.98479388436313,
          59.29092033452024,
          60.27623384968972,
          60.93137478346041,
          61.2552516058178,
          61.25413321269948,
          60.940597377590116,
          60.33241263820653,
          59.451416702655735,
          58.322439786427786,
          56.97230777275847,
          55.42894810300172,
          53.72061120108876,
          51.87521225216714,
          49.9197919974437,
          47.88009065880317,
          45.78022620842639,
          43.64246622214353,
          41.487081661869105,
          39.33227075613661,
          37.19414139185309,
          35.086741177164555,
          33.02212518494273,
          31.01045244391105,
          29.06010334983531,
          27.17781124879287,
          25.368802519850036,
          23.63694036863874,
          21.9848686874573,
          20.414152767128922,
          18.925414702160484,
          17.51846167893531,
          16.192406043126066,
          14.94577632511345,
          13.77661884600798,
          12.68258980460105,
          11.661037896204775,
          10.709077813594389,
          9.823654988994813,
          9.001602100400369,
          8.239687905885566,
          7.53465899232579,
          6.883275063894582,
          6.282338370069852,
          5.728717879448899,
          5.219368766441383,
          4.751347759483288,
          4.321824859483852,
          3.9280918996442673,
          3.5675683847026747,
          3.237805001509672,
          2.9364851610460043,
          2.6614248941732894,
          2.41057138164402,
          2.1820003780112454,
          1.973912747599186,
          1.784630307612348,
          1.6125911471488035,
          1.456344565179367,
          1.3145457523070443,
          1.1859503190116054,
          1.0694087608435903,
          0.9638609264695677,
          0.8683305557360743,
          0.781919930152941,
          0.7038046745368532,
          0.633228739707492,
          0.5694995869567171,
          0.5119835902821555,
          0.4601016660762851,
          0.41332513574826535
         ],
         "yaxis": "y"
        },
        {
         "hoverlabel": {
          "namelength": 0
         },
         "hovertemplate": "variable=R<br>t=%{x}<br>value=%{y}",
         "legendgroup": "R",
         "line": {
          "color": "#19d3f3",
          "dash": "solid"
         },
         "mode": "lines",
         "name": "R",
         "showlegend": true,
         "type": "scatter",
         "x": [
          0,
          1,
          2,
          3,
          4,
          5,
          6,
          7,
          8,
          9,
          10,
          11,
          12,
          13,
          14,
          15,
          16,
          17,
          18,
          19,
          20,
          21,
          22,
          23,
          24,
          25,
          26,
          27,
          28,
          29,
          30,
          31,
          32,
          33,
          34,
          35,
          36,
          37,
          38,
          39,
          40,
          41,
          42,
          43,
          44,
          45,
          46,
          47,
          48,
          49,
          50,
          51,
          52,
          53,
          54,
          55,
          56,
          57,
          58,
          59,
          60,
          61,
          62,
          63,
          64,
          65,
          66,
          67,
          68,
          69,
          70,
          71,
          72,
          73,
          74,
          75,
          76,
          77,
          78,
          79,
          80,
          81,
          82,
          83,
          84,
          85,
          86,
          87,
          88,
          89,
          90
         ],
         "xaxis": "x",
         "y": [
          0,
          145.66961100105803,
          307.81439844965155,
          490.2185696217052,
          695.5903582080538,
          925.6712755086426,
          1181.2449624298895,
          1462.1144155781128,
          1767.0963537646849,
          2094.064030228228,
          2440.0522320113446,
          2801.4217533756637,
          3174.0673700431125,
          3553.645744927314,
          3935.7983755516752,
          4316.348630214591,
          4691.458967101823,
          5057.742201426656,
          5412.327374545486,
          5752.885457610214,
          6077.622660819399,
          6385.249853559813,
          6674.936124371088,
          6946.253331158904,
          7199.117050961268,
          7433.727908801825,
          7650.5160072347135,
          7850.090143862903,
          8033.192717408588,
          8200.660639174954,
          8353.392177275487,
          8492.319396525714,
          8618.385710616936,
          8732.527986242465,
          8835.662617989841,
          8928.675006465559,
          9012.41190725853,
          9087.676164015065,
          9155.223394797747,
          9215.760252390037,
          9269.943931959231,
          9318.382650126674,
          9361.636860741584,
          9400.221014269257,
          9434.605701865708,
          9465.220054547202,
          9492.454294560248,
          9516.662355305085,
          9538.164509917811,
          9557.249955312695,
          9574.179318856099,
          9589.187060391047,
          9602.483752034612,
          9614.258224755433,
          9624.679575426151,
          9633.899032658963,
          9642.051682038507,
          9649.258054739303,
          9655.625584116719,
          9661.249936668195,
          9666.216224460883,
          9670.60010624867,
          9674.468785118126,
          9677.881910178423,
          9680.892389826158,
          9683.547123868333,
          9685.8876613901,
          9687.950790976607,
          9689.76906943676,
          9691.371294787737,
          9692.78292884692,
          9694.026474343209,
          9695.121811107578,
          9696.08649543022,
          9696.936026420834,
          9697.684082775677,
          9698.342733077137,
          9698.922622446522,
          9699.433138082803,
          9699.882555996217,
          9700.278170973104,
          9700.626411661653,
          9700.932942358671,
          9701.202753069958,
          9701.440239108742,
          9701.649271427732,
          9701.833258748002,
          9701.995202405798,
          9702.13774477167,
          9702.263211970048,
          9702.373651559534
         ],
         "yaxis": "y"
        },
        {
         "hoverlabel": {
          "namelength": 0
         },
         "hovertemplate": "variable=D<br>t=%{x}<br>value=%{y}",
         "legendgroup": "D",
         "line": {
          "color": "#FF6692",
          "dash": "solid"
         },
         "mode": "lines",
         "name": "D",
         "showlegend": true,
         "type": "scatter",
         "x": [
          0,
          1,
          2,
          3,
          4,
          5,
          6,
          7,
          8,
          9,
          10,
          11,
          12,
          13,
          14,
          15,
          16,
          17,
          18,
          19,
          20,
          21,
          22,
          23,
          24,
          25,
          26,
          27,
          28,
          29,
          30,
          31,
          32,
          33,
          34,
          35,
          36,
          37,
          38,
          39,
          40,
          41,
          42,
          43,
          44,
          45,
          46,
          47,
          48,
          49,
          50,
          51,
          52,
          53,
          54,
          55,
          56,
          57,
          58,
          59,
          60,
          61,
          62,
          63,
          64,
          65,
          66,
          67,
          68,
          69,
          70,
          71,
          72,
          73,
          74,
          75,
          76,
          77,
          78,
          79,
          80,
          81,
          82,
          83,
          84,
          85,
          86,
          87,
          88,
          89,
          90
         ],
         "xaxis": "x",
         "y": [
          10,
          12.516044766710825,
          15.065682662445921,
          17.655693758979346,
          20.298650749438213,
          23.01221893609477,
          25.818135075996683,
          28.74097815445377,
          31.806805541143405,
          35.04171797086083,
          38.47042080958148,
          42.1148564769263,
          45.99298533348142,
          50.11778613749768,
          54.49653143939048,
          59.13037052930629,
          64.01422669363583,
          69.13699084024823,
          74.48197337559519,
          80.02756250045762,
          85.7480302699359,
          91.6144272127978,
          97.59551060291548,
          103.6586590236636,
          109.77073523495139,
          115.89886916045754,
          122.0111422019039,
          128.07716249788766,
          134.06852771624955,
          139.959177606992,
          145.72564263100668,
          151.34719789766913,
          156.80593339837694,
          162.08675238708335,
          167.17730992558106,
          172.06790322581827,
          176.75132468058067,
          181.22268750340513,
          185.47923274363743,
          189.52012527761448,
          193.3462452287868,
          196.95998006800292,
          200.36502170448796,
          203.5661718497959,
          206.569158139456,
          209.3804627560823,
          212.00716467174334,
          214.4567961531826,
          216.7372136164739,
          218.85648278945877,
          220.82277766554105,
          222.64429266655702,
          224.32916722797526,
          225.8854219408126,
          227.3209053346218,
          228.64325033365867,
          229.8598394601744,
          230.97777782936274,
          232.00387305761402,
          232.94462123031633,
          233.80619812661337,
          234.59445497399216,
          235.31491804510634,
          235.97279148817572,
          236.57296283116,
          237.12001066477853,
          237.6182140630462,
          238.07156335239668,
          238.48377189185828,
          238.85828856879638,
          239.19831075968858,
          239.50679754084365,
          239.78648296653017,
          240.03988926959548,
          240.26933985504996,
          240.47697199072678,
          240.66474911575966,
          240.83447270530453,
          240.98779364736131,
          241.126223099546,
          241.2511428057328,
          241.36381486055723,
          241.4653909224651,
          241.5569208743313,
          241.63936094392383,
          241.7135812969852,
          241.7803731190895,
          241.84045520560224,
          241.89448008109008,
          241.9430396700688,
          241.9866705424271
         ],
         "yaxis": "y"
        },
        {
         "hoverlabel": {
          "namelength": 0
         },
         "hovertemplate": "variable=I<br>t=%{x}<br>value=%{y}",
         "legendgroup": "I",
         "line": {
          "color": "#B6E880",
          "dash": "solid"
         },
         "mode": "lines",
         "name": "I",
         "showlegend": true,
         "type": "scatter",
         "x": [
          0,
          1,
          2,
          3,
          4,
          5,
          6,
          7,
          8,
          9,
          10,
          11,
          12,
          13,
          14,
          15,
          16,
          17,
          18,
          19,
          20,
          21,
          22,
          23,
          24,
          25,
          26,
          27,
          28,
          29,
          30,
          31,
          32,
          33,
          34,
          35,
          36,
          37,
          38,
          39,
          40,
          41,
          42,
          43,
          44,
          45,
          46,
          47,
          48,
          49,
          50,
          51,
          52,
          53,
          54,
          55,
          56,
          57,
          58,
          59,
          60,
          61,
          62,
          63,
          64,
          65,
          66,
          67,
          68,
          69,
          70,
          71,
          72,
          73,
          74,
          75,
          76,
          77,
          78,
          79,
          80,
          81,
          82,
          83,
          84,
          85,
          86,
          87,
          88,
          89,
          90
         ],
         "xaxis": "x",
         "y": [
          1000,
          1099.6994322564153,
          1230.393191028502,
          1383.810236807847,
          1552.9944273834642,
          1731.2978348089362,
          1911.9427850975057,
          2087.991076970339,
          2252.594217246787,
          2399.4023369753663,
          2523.0103038000325,
          2619.333458034764,
          2685.837985671847,
          2721.5945511469777,
          2727.1661817583868,
          2704.371573487198,
          2655.9781461039565,
          2585.377026638005,
          2496.2803253839347,
          2392.4657927436647,
          2277.579784064825,
          2154.9988471704864,
          2027.7436198838373,
          1898.435556045048,
          1769.2862539227717,
          1642.1099293089692,
          1518.3510289496476,
          1399.120668515154,
          1285.2371695454838,
          1177.2673590748632,
          1075.5663897063025,
          980.3147010817701,
          891.5513619114743,
          809.2034770789254,
          733.1116402220506,
          663.051607892092,
          598.7524791175961,
          539.911730083505,
          486.20746938949327,
          437.30827896868163,
          392.8809855425179,
          352.5966802391696,
          316.13527132176074,
          283.18882380778024,
          253.46390423246137,
          226.68312102532937,
          202.58602037421105,
          180.9294758476277,
          161.48768107184515,
          144.05184452177298,
          128.42966056785255,
          114.44462106569686,
          101.93521798152221,
          90.75407770502355,
          80.7670590752776,
          71.85233980224362,
          63.89951094931024,
          56.80869283984828,
          50.48968347560119,
          44.86114642539655,
          39.84984282961366,
          35.38991054783826,
          31.422191432101716,
          27.893606932585822,
          24.756581166567386,
          21.96850992797787,
          19.491273754485672,
          17.29079274128172,
          15.336620676505252,
          13.601575946561448,
          12.061406621248208,
          10.69448718267494,
          9.4815444002366,
          8.405409967183568,
          7.4507976285426025,
          6.604102653316767,
          5.853221628752513,
          5.1873907140133575,
          4.597040624567418,
          4.073666719040434,
          3.609712751879476,
          3.1984669062183997,
          2.833968920196375,
          2.5109271437967076,
          2.2246445356382725,
          1.9709526684990433,
          1.7461529054862313,
          1.5469640108155054,
          1.370475489138317,
          1.2141060638106211,
          1.0755667389559824
         ],
         "yaxis": "y"
        }
       ],
       "layout": {
        "legend": {
         "title": {
          "text": "variable"
         },
         "tracegroupgap": 0
        },
        "margin": {
         "t": 60
        },
        "template": {
         "data": {
          "bar": [
           {
            "error_x": {
             "color": "#2a3f5f"
            },
            "error_y": {
             "color": "#2a3f5f"
            },
            "marker": {
             "line": {
              "color": "#E5ECF6",
              "width": 0.5
             }
            },
            "type": "bar"
           }
          ],
          "barpolar": [
           {
            "marker": {
             "line": {
              "color": "#E5ECF6",
              "width": 0.5
             }
            },
            "type": "barpolar"
           }
          ],
          "carpet": [
           {
            "aaxis": {
             "endlinecolor": "#2a3f5f",
             "gridcolor": "white",
             "linecolor": "white",
             "minorgridcolor": "white",
             "startlinecolor": "#2a3f5f"
            },
            "baxis": {
             "endlinecolor": "#2a3f5f",
             "gridcolor": "white",
             "linecolor": "white",
             "minorgridcolor": "white",
             "startlinecolor": "#2a3f5f"
            },
            "type": "carpet"
           }
          ],
          "choropleth": [
           {
            "colorbar": {
             "outlinewidth": 0,
             "ticks": ""
            },
            "type": "choropleth"
           }
          ],
          "contour": [
           {
            "colorbar": {
             "outlinewidth": 0,
             "ticks": ""
            },
            "colorscale": [
             [
              0,
              "#0d0887"
             ],
             [
              0.1111111111111111,
              "#46039f"
             ],
             [
              0.2222222222222222,
              "#7201a8"
             ],
             [
              0.3333333333333333,
              "#9c179e"
             ],
             [
              0.4444444444444444,
              "#bd3786"
             ],
             [
              0.5555555555555556,
              "#d8576b"
             ],
             [
              0.6666666666666666,
              "#ed7953"
             ],
             [
              0.7777777777777778,
              "#fb9f3a"
             ],
             [
              0.8888888888888888,
              "#fdca26"
             ],
             [
              1,
              "#f0f921"
             ]
            ],
            "type": "contour"
           }
          ],
          "contourcarpet": [
           {
            "colorbar": {
             "outlinewidth": 0,
             "ticks": ""
            },
            "type": "contourcarpet"
           }
          ],
          "heatmap": [
           {
            "colorbar": {
             "outlinewidth": 0,
             "ticks": ""
            },
            "colorscale": [
             [
              0,
              "#0d0887"
             ],
             [
              0.1111111111111111,
              "#46039f"
             ],
             [
              0.2222222222222222,
              "#7201a8"
             ],
             [
              0.3333333333333333,
              "#9c179e"
             ],
             [
              0.4444444444444444,
              "#bd3786"
             ],
             [
              0.5555555555555556,
              "#d8576b"
             ],
             [
              0.6666666666666666,
              "#ed7953"
             ],
             [
              0.7777777777777778,
              "#fb9f3a"
             ],
             [
              0.8888888888888888,
              "#fdca26"
             ],
             [
              1,
              "#f0f921"
             ]
            ],
            "type": "heatmap"
           }
          ],
          "heatmapgl": [
           {
            "colorbar": {
             "outlinewidth": 0,
             "ticks": ""
            },
            "colorscale": [
             [
              0,
              "#0d0887"
             ],
             [
              0.1111111111111111,
              "#46039f"
             ],
             [
              0.2222222222222222,
              "#7201a8"
             ],
             [
              0.3333333333333333,
              "#9c179e"
             ],
             [
              0.4444444444444444,
              "#bd3786"
             ],
             [
              0.5555555555555556,
              "#d8576b"
             ],
             [
              0.6666666666666666,
              "#ed7953"
             ],
             [
              0.7777777777777778,
              "#fb9f3a"
             ],
             [
              0.8888888888888888,
              "#fdca26"
             ],
             [
              1,
              "#f0f921"
             ]
            ],
            "type": "heatmapgl"
           }
          ],
          "histogram": [
           {
            "marker": {
             "colorbar": {
              "outlinewidth": 0,
              "ticks": ""
             }
            },
            "type": "histogram"
           }
          ],
          "histogram2d": [
           {
            "colorbar": {
             "outlinewidth": 0,
             "ticks": ""
            },
            "colorscale": [
             [
              0,
              "#0d0887"
             ],
             [
              0.1111111111111111,
              "#46039f"
             ],
             [
              0.2222222222222222,
              "#7201a8"
             ],
             [
              0.3333333333333333,
              "#9c179e"
             ],
             [
              0.4444444444444444,
              "#bd3786"
             ],
             [
              0.5555555555555556,
              "#d8576b"
             ],
             [
              0.6666666666666666,
              "#ed7953"
             ],
             [
              0.7777777777777778,
              "#fb9f3a"
             ],
             [
              0.8888888888888888,
              "#fdca26"
             ],
             [
              1,
              "#f0f921"
             ]
            ],
            "type": "histogram2d"
           }
          ],
          "histogram2dcontour": [
           {
            "colorbar": {
             "outlinewidth": 0,
             "ticks": ""
            },
            "colorscale": [
             [
              0,
              "#0d0887"
             ],
             [
              0.1111111111111111,
              "#46039f"
             ],
             [
              0.2222222222222222,
              "#7201a8"
             ],
             [
              0.3333333333333333,
              "#9c179e"
             ],
             [
              0.4444444444444444,
              "#bd3786"
             ],
             [
              0.5555555555555556,
              "#d8576b"
             ],
             [
              0.6666666666666666,
              "#ed7953"
             ],
             [
              0.7777777777777778,
              "#fb9f3a"
             ],
             [
              0.8888888888888888,
              "#fdca26"
             ],
             [
              1,
              "#f0f921"
             ]
            ],
            "type": "histogram2dcontour"
           }
          ],
          "mesh3d": [
           {
            "colorbar": {
             "outlinewidth": 0,
             "ticks": ""
            },
            "type": "mesh3d"
           }
          ],
          "parcoords": [
           {
            "line": {
             "colorbar": {
              "outlinewidth": 0,
              "ticks": ""
             }
            },
            "type": "parcoords"
           }
          ],
          "pie": [
           {
            "automargin": true,
            "type": "pie"
           }
          ],
          "scatter": [
           {
            "marker": {
             "colorbar": {
              "outlinewidth": 0,
              "ticks": ""
             }
            },
            "type": "scatter"
           }
          ],
          "scatter3d": [
           {
            "line": {
             "colorbar": {
              "outlinewidth": 0,
              "ticks": ""
             }
            },
            "marker": {
             "colorbar": {
              "outlinewidth": 0,
              "ticks": ""
             }
            },
            "type": "scatter3d"
           }
          ],
          "scattercarpet": [
           {
            "marker": {
             "colorbar": {
              "outlinewidth": 0,
              "ticks": ""
             }
            },
            "type": "scattercarpet"
           }
          ],
          "scattergeo": [
           {
            "marker": {
             "colorbar": {
              "outlinewidth": 0,
              "ticks": ""
             }
            },
            "type": "scattergeo"
           }
          ],
          "scattergl": [
           {
            "marker": {
             "colorbar": {
              "outlinewidth": 0,
              "ticks": ""
             }
            },
            "type": "scattergl"
           }
          ],
          "scattermapbox": [
           {
            "marker": {
             "colorbar": {
              "outlinewidth": 0,
              "ticks": ""
             }
            },
            "type": "scattermapbox"
           }
          ],
          "scatterpolar": [
           {
            "marker": {
             "colorbar": {
              "outlinewidth": 0,
              "ticks": ""
             }
            },
            "type": "scatterpolar"
           }
          ],
          "scatterpolargl": [
           {
            "marker": {
             "colorbar": {
              "outlinewidth": 0,
              "ticks": ""
             }
            },
            "type": "scatterpolargl"
           }
          ],
          "scatterternary": [
           {
            "marker": {
             "colorbar": {
              "outlinewidth": 0,
              "ticks": ""
             }
            },
            "type": "scatterternary"
           }
          ],
          "surface": [
           {
            "colorbar": {
             "outlinewidth": 0,
             "ticks": ""
            },
            "colorscale": [
             [
              0,
              "#0d0887"
             ],
             [
              0.1111111111111111,
              "#46039f"
             ],
             [
              0.2222222222222222,
              "#7201a8"
             ],
             [
              0.3333333333333333,
              "#9c179e"
             ],
             [
              0.4444444444444444,
              "#bd3786"
             ],
             [
              0.5555555555555556,
              "#d8576b"
             ],
             [
              0.6666666666666666,
              "#ed7953"
             ],
             [
              0.7777777777777778,
              "#fb9f3a"
             ],
             [
              0.8888888888888888,
              "#fdca26"
             ],
             [
              1,
              "#f0f921"
             ]
            ],
            "type": "surface"
           }
          ],
          "table": [
           {
            "cells": {
             "fill": {
              "color": "#EBF0F8"
             },
             "line": {
              "color": "white"
             }
            },
            "header": {
             "fill": {
              "color": "#C8D4E3"
             },
             "line": {
              "color": "white"
             }
            },
            "type": "table"
           }
          ]
         },
         "layout": {
          "annotationdefaults": {
           "arrowcolor": "#2a3f5f",
           "arrowhead": 0,
           "arrowwidth": 1
          },
          "coloraxis": {
           "colorbar": {
            "outlinewidth": 0,
            "ticks": ""
           }
          },
          "colorscale": {
           "diverging": [
            [
             0,
             "#8e0152"
            ],
            [
             0.1,
             "#c51b7d"
            ],
            [
             0.2,
             "#de77ae"
            ],
            [
             0.3,
             "#f1b6da"
            ],
            [
             0.4,
             "#fde0ef"
            ],
            [
             0.5,
             "#f7f7f7"
            ],
            [
             0.6,
             "#e6f5d0"
            ],
            [
             0.7,
             "#b8e186"
            ],
            [
             0.8,
             "#7fbc41"
            ],
            [
             0.9,
             "#4d9221"
            ],
            [
             1,
             "#276419"
            ]
           ],
           "sequential": [
            [
             0,
             "#0d0887"
            ],
            [
             0.1111111111111111,
             "#46039f"
            ],
            [
             0.2222222222222222,
             "#7201a8"
            ],
            [
             0.3333333333333333,
             "#9c179e"
            ],
            [
             0.4444444444444444,
             "#bd3786"
            ],
            [
             0.5555555555555556,
             "#d8576b"
            ],
            [
             0.6666666666666666,
             "#ed7953"
            ],
            [
             0.7777777777777778,
             "#fb9f3a"
            ],
            [
             0.8888888888888888,
             "#fdca26"
            ],
            [
             1,
             "#f0f921"
            ]
           ],
           "sequentialminus": [
            [
             0,
             "#0d0887"
            ],
            [
             0.1111111111111111,
             "#46039f"
            ],
            [
             0.2222222222222222,
             "#7201a8"
            ],
            [
             0.3333333333333333,
             "#9c179e"
            ],
            [
             0.4444444444444444,
             "#bd3786"
            ],
            [
             0.5555555555555556,
             "#d8576b"
            ],
            [
             0.6666666666666666,
             "#ed7953"
            ],
            [
             0.7777777777777778,
             "#fb9f3a"
            ],
            [
             0.8888888888888888,
             "#fdca26"
            ],
            [
             1,
             "#f0f921"
            ]
           ]
          },
          "colorway": [
           "#636efa",
           "#EF553B",
           "#00cc96",
           "#ab63fa",
           "#FFA15A",
           "#19d3f3",
           "#FF6692",
           "#B6E880",
           "#FF97FF",
           "#FECB52"
          ],
          "font": {
           "color": "#2a3f5f"
          },
          "geo": {
           "bgcolor": "white",
           "lakecolor": "white",
           "landcolor": "#E5ECF6",
           "showlakes": true,
           "showland": true,
           "subunitcolor": "white"
          },
          "hoverlabel": {
           "align": "left"
          },
          "hovermode": "closest",
          "mapbox": {
           "style": "light"
          },
          "paper_bgcolor": "white",
          "plot_bgcolor": "#E5ECF6",
          "polar": {
           "angularaxis": {
            "gridcolor": "white",
            "linecolor": "white",
            "ticks": ""
           },
           "bgcolor": "#E5ECF6",
           "radialaxis": {
            "gridcolor": "white",
            "linecolor": "white",
            "ticks": ""
           }
          },
          "scene": {
           "xaxis": {
            "backgroundcolor": "#E5ECF6",
            "gridcolor": "white",
            "gridwidth": 2,
            "linecolor": "white",
            "showbackground": true,
            "ticks": "",
            "zerolinecolor": "white"
           },
           "yaxis": {
            "backgroundcolor": "#E5ECF6",
            "gridcolor": "white",
            "gridwidth": 2,
            "linecolor": "white",
            "showbackground": true,
            "ticks": "",
            "zerolinecolor": "white"
           },
           "zaxis": {
            "backgroundcolor": "#E5ECF6",
            "gridcolor": "white",
            "gridwidth": 2,
            "linecolor": "white",
            "showbackground": true,
            "ticks": "",
            "zerolinecolor": "white"
           }
          },
          "shapedefaults": {
           "line": {
            "color": "#2a3f5f"
           }
          },
          "ternary": {
           "aaxis": {
            "gridcolor": "white",
            "linecolor": "white",
            "ticks": ""
           },
           "baxis": {
            "gridcolor": "white",
            "linecolor": "white",
            "ticks": ""
           },
           "bgcolor": "#E5ECF6",
           "caxis": {
            "gridcolor": "white",
            "linecolor": "white",
            "ticks": ""
           }
          },
          "title": {
           "x": 0.05
          },
          "xaxis": {
           "automargin": true,
           "gridcolor": "white",
           "linecolor": "white",
           "ticks": "",
           "title": {
            "standoff": 15
           },
           "zerolinecolor": "white",
           "zerolinewidth": 2
          },
          "yaxis": {
           "automargin": true,
           "gridcolor": "white",
           "linecolor": "white",
           "ticks": "",
           "title": {
            "standoff": 15
           },
           "zerolinecolor": "white",
           "zerolinewidth": 2
          }
         }
        },
        "xaxis": {
         "anchor": "y",
         "domain": [
          0,
          1
         ],
         "title": {
          "text": "t"
         }
        },
        "yaxis": {
         "anchor": "x",
         "domain": [
          0,
          1
         ],
         "title": {
          "text": "value"
         }
        }
       }
      },
      "text/html": [
       "<div>\n",
       "        \n",
       "        \n",
       "            <div id=\"9a764551-4342-461f-bbee-b3f47f05b0b1\" class=\"plotly-graph-div\" style=\"height:525px; width:100%;\"></div>\n",
       "            <script type=\"text/javascript\">\n",
       "                require([\"plotly\"], function(Plotly) {\n",
       "                    window.PLOTLYENV=window.PLOTLYENV || {};\n",
       "                    \n",
       "                if (document.getElementById(\"9a764551-4342-461f-bbee-b3f47f05b0b1\")) {\n",
       "                    Plotly.newPlot(\n",
       "                        '9a764551-4342-461f-bbee-b3f47f05b0b1',\n",
       "                        [{\"hoverlabel\": {\"namelength\": 0}, \"hovertemplate\": \"variable=S<br>t=%{x}<br>value=%{y}\", \"legendgroup\": \"S\", \"line\": {\"color\": \"#636efa\", \"dash\": \"solid\"}, \"mode\": \"lines\", \"name\": \"S\", \"showlegend\": true, \"type\": \"scatter\", \"x\": [0, 1, 2, 3, 4, 5, 6, 7, 8, 9, 10, 11, 12, 13, 14, 15, 16, 17, 18, 19, 20, 21, 22, 23, 24, 25, 26, 27, 28, 29, 30, 31, 32, 33, 34, 35, 36, 37, 38, 39, 40, 41, 42, 43, 44, 45, 46, 47, 48, 49, 50, 51, 52, 53, 54, 55, 56, 57, 58, 59, 60, 61, 62, 63, 64, 65, 66, 67, 68, 69, 70, 71, 72, 73, 74, 75, 76, 77, 78, 79, 80, 81, 82, 83, 84, 85, 86, 87, 88, 89, 90], \"xaxis\": \"x\", \"y\": [7656.2, 7107.310400126214, 6541.2042174471035, 5957.050938905015, 5360.840796856812, 4763.087540733892, 4176.766799018856, 3615.346052556493, 3091.00635632191, 2613.2605713056173, 2188.1463920514893, 1818.054610903481, 1502.1081382790417, 1236.902157531852, 1017.3837153156038, 837.6840258220227, 691.78794141305, 573.9983069642661, 479.2067984613962, 403.0113444548648, 341.72781303009555, 292.33855497917045, 252.41004594927222, 220.0011584380012, 193.57470271970183, 171.91859656349075, 154.0789815209412, 139.30528555054286, 127.006091127505, 116.71421075801732, 108.05933121184809, 100.74672263960663, 94.54073065491647, 89.25199852557024, 84.7275763866235, 80.84325869214493, 77.49763360182259, 74.60744947194326, 72.10399520321053, 69.93026173758129, 68.03870603380811, 66.389483761148, 64.9490441361257, 63.6890086827875, 62.58527163534819, 61.617274834237435, 60.76742036889144, 60.02059186994833, 59.363763637348846, 58.7856784420525, 58.27658160422553, 57.82799997490144, 57.43255754309713, 57.08382080103762, 56.7761684931376, 56.50468144621135, 56.26504893046207, 56.05348883246704, 55.866679293500574, 55.70169998968581, 55.555981517925424, 55.427261646135264, 55.31354738870562, 55.213082052741804, 55.1243165390567, 55.045884297353155, 54.97657943263619, 54.91533753485978, 54.8612188700995, 54.81339362431802, 54.77112893492362, 54.7337774837089, 54.700767453014784, 54.67159368025622, 54.645809859129045, 54.623021662465355, 54.60288067502418, 54.5850790385749, 54.56934472486297, 54.555437361328465, 54.54314454490346, 54.53227858494112, 54.52267362768037, 54.51418311418209, 54.506677534887665, 54.50004244568533, 54.494176714624615, 54.48899097295833, 54.48440624613052, 54.48035274416008, 54.476768792841746], \"yaxis\": \"y\"}, {\"hoverlabel\": {\"namelength\": 0}, \"hovertemplate\": \"variable=E<br>t=%{x}<br>value=%{y}\", \"legendgroup\": \"E\", \"line\": {\"color\": \"#EF553B\", \"dash\": \"solid\"}, \"mode\": \"lines\", \"name\": \"E\", \"showlegend\": true, \"type\": \"scatter\", \"x\": [0, 1, 2, 3, 4, 5, 6, 7, 8, 9, 10, 11, 12, 13, 14, 15, 16, 17, 18, 19, 20, 21, 22, 23, 24, 25, 26, 27, 28, 29, 30, 31, 32, 33, 34, 35, 36, 37, 38, 39, 40, 41, 42, 43, 44, 45, 46, 47, 48, 49, 50, 51, 52, 53, 54, 55, 56, 57, 58, 59, 60, 61, 62, 63, 64, 65, 66, 67, 68, 69, 70, 71, 72, 73, 74, 75, 76, 77, 78, 79, 80, 81, 82, 83, 84, 85, 86, 87, 88, 89, 90], \"xaxis\": \"x\", \"y\": [1333.8, 1634.8045118496088, 1905.5225104123026, 2151.2645609064602, 2370.275766802239, 2556.9311300124427, 2704.2273183777593, 2805.8074767406088, 2857.496267125481, 2858.2313435199353, 2810.3206513275604, 2719.0753212091736, 2591.9935206725254, 2437.739760256367, 2265.1551959349513, 2082.4653999468896, 1896.7607186875432, 1713.7454741308327, 1537.7035282335949, 1371.6098426908063, 1217.3217118157522, 1075.7983170777388, 947.3146991928934, 831.6512953343899, 728.2512571613132, 636.3446961652648, 555.0428400927999, 483.40673957351845, 420.49549420217926, 365.39861338517926, 317.25645917536036, 275.271981855247, 238.71626341830182, 206.92978576596087, 179.32085547590788, 155.36222372439104, 134.5866553414753, 116.5819689260858, 100.98590786591714, 87.48108162609104, 75.79013123566106, 65.67120580501049, 56.91380209604696, 49.33498139038623, 42.7759641270309, 37.099086837154154, 32.185100024910795, 27.930780824161612, 24.246831756526355, 21.056038934027555, 18.291661306287008, 15.896025901802833, 13.819305212796968, 12.018454797698165, 10.456291670816269, 9.100695758926152, 7.923918621549882, 6.901985759021458, 6.014180056567974, 5.24259568641094, 4.571753064968753, 3.988266583367614, 3.4805580159634424, 3.038609348077486, 2.65374963706126, 2.3184712415618884, 2.0262713597369437, 1.7715153948593092, 1.5493191247815583, 1.3554470725896526, 1.1862248372212554, 1.038463449567116, 0.9093940726433434, 0.7966116527473719, 0.6980262364467766, 0.6118209178171498, 0.5364155033282879, 0.47043509558707297, 0.4126829204081954, 0.36211682387057914, 0.3178289243823852, 0.27902798663237577, 0.24502417098849877, 0.21521579773217722, 0.18907787680753005, 0.16615216109930603, 0.1460385127982194, 0.12838740482642486, 0.11289341197257417, 0.09928955191510676, 0.08734236624498304], \"yaxis\": \"y\"}, {\"hoverlabel\": {\"namelength\": 0}, \"hovertemplate\": \"variable=I1<br>t=%{x}<br>value=%{y}\", \"legendgroup\": \"I1\", \"line\": {\"color\": \"#00cc96\", \"dash\": \"solid\"}, \"mode\": \"lines\", \"name\": \"I1\", \"showlegend\": true, \"type\": \"scatter\", \"x\": [0, 1, 2, 3, 4, 5, 6, 7, 8, 9, 10, 11, 12, 13, 14, 15, 16, 17, 18, 19, 20, 21, 22, 23, 24, 25, 26, 27, 28, 29, 30, 31, 32, 33, 34, 35, 36, 37, 38, 39, 40, 41, 42, 43, 44, 45, 46, 47, 48, 49, 50, 51, 52, 53, 54, 55, 56, 57, 58, 59, 60, 61, 62, 63, 64, 65, 66, 67, 68, 69, 70, 71, 72, 73, 74, 75, 76, 77, 78, 79, 80, 81, 82, 83, 84, 85, 86, 87, 88, 89, 90], \"xaxis\": \"x\", \"y\": [855.0, 952.7119366631954, 1079.1147818827144, 1225.6884441474344, 1385.4312439845473, 1551.8063085351148, 1718.279328896709, 1878.2720064749299, 2025.3961372360725, 2153.8411691007373, 2258.7923879675973, 2336.7735731229595, 2385.842405291237, 2405.6112098547346, 2397.107596358773, 2362.5185829277216, 2304.873491516453, 2227.7173995400613, 2134.8141391425283, 2029.9020397983995, 1916.5113394964328, 1797.841764347624, 1676.6924938936818, 1555.4339634201344, 1436.0105921249599, 1319.9646170630551, 1208.4729139881574, 1102.3905507967468, 1002.2965210922148, 908.5385581300243, 821.275047598229, 740.5129226737218, 666.1410256790042, 597.9588414245063, 535.7007735559172, 479.0562998735984, 427.68642192869004, 381.2368631780054, 339.34846164077095, 301.66518321470664, 267.8401444867713, 237.5399922452313, 210.44794417624263, 186.2657543978744, 164.71482574066746, 145.53665782863425, 128.4927857271702, 113.36434007989749, 99.95132844817161, 88.0717275404657, 77.56044963206837, 68.26823708683686, 60.060525720410645, 52.816307717280274, 46.42701746888439, 40.79545669952937, 35.83477103204467, 31.467484706135256, 27.62459847513022, 24.24475239782983, 21.273453462373844, 18.66236709441152, 16.368669999406283, 14.354461580482567, 12.586230537272277, 11.03437295869294, 9.672758271325442, 8.478339235658913, 7.430802362604472, 6.512255225682298, 5.706947290288234, 5.001021125305169, 4.382291018516035, 3.840046288802595, 3.364876755515635, 2.9485180686570494, 2.583714784104167, 2.264099278640319, 1.9840847828781534, 1.7387709458188703, 1.5238605587637415, 1.335586140566506, 1.1706453051787604, 1.0261438508279466, 0.8995457058647648, 0.7886289209368853, 0.6914469911762123, 0.606294893100766, 0.5316792524201094, 0.4662921659704985, 0.4089882353334949], \"yaxis\": \"y\"}, {\"hoverlabel\": {\"namelength\": 0}, \"hovertemplate\": \"variable=I2<br>t=%{x}<br>value=%{y}\", \"legendgroup\": \"I2\", \"line\": {\"color\": \"#ab63fa\", \"dash\": \"solid\"}, \"mode\": \"lines\", \"name\": \"I2\", \"showlegend\": true, \"type\": \"scatter\", \"x\": [0, 1, 2, 3, 4, 5, 6, 7, 8, 9, 10, 11, 12, 13, 14, 15, 16, 17, 18, 19, 20, 21, 22, 23, 24, 25, 26, 27, 28, 29, 30, 31, 32, 33, 34, 35, 36, 37, 38, 39, 40, 41, 42, 43, 44, 45, 46, 47, 48, 49, 50, 51, 52, 53, 54, 55, 56, 57, 58, 59, 60, 61, 62, 63, 64, 65, 66, 67, 68, 69, 70, 71, 72, 73, 74, 75, 76, 77, 78, 79, 80, 81, 82, 83, 84, 85, 86, 87, 88, 89, 90], \"xaxis\": \"x\", \"y\": [120.0, 121.6653525108305, 125.59645651268909, 131.9824477202156, 140.81377369905533, 151.93313784805417, 165.0623281204435, 179.81966732918906, 195.73719261136188, 212.28240127727105, 228.88585005059437, 244.97313545944684, 259.99799983135085, 273.4727151041866, 284.99237330347756, 294.25091517571786, 301.0481983585105, 305.2887274899941, 306.9735905665964, 306.18759648286385, 303.0836506840291, 297.86616248834247, 290.7748921404657, 282.07021784145337, 272.020410191994, 260.8911790332145, 248.9375175838999, 236.39770508020064, 223.48923175061333, 210.4063611584111, 197.31903433531514, 184.3728303050465, 171.68972503138122, 159.36942340225195, 147.49107466868972, 136.1152173596904, 125.28583098047967, 115.03240068335593, 105.3719260868532, 96.31082499783838, 87.84669966389357, 79.96994681677373, 72.66520196057535, 65.9126169659948, 59.68897514195861, 53.96865194790226, 48.724432127190795, 43.92819539909149, 39.551483936216236, 35.56596421417837, 31.943796233623686, 28.657922299924692, 25.682286217985496, 22.991993662629817, 20.56342276038524, 18.374293298113205, 16.4037020210608, 14.632130320118634, 13.041430011476155, 11.614791927166346, 10.336701461354245, 9.192884461100952, 8.170246368800848, 7.256806982033403, 6.441632749846213, 5.714768202843548, 5.067167723676942, 4.490628646138953, 3.9777264142565127, 3.5217523361764753, 3.1166543294503013, 2.7569808963237667, 2.437828487547277, 2.154792296736953, 1.9039204950157222, 1.6816718370605317, 1.4848765370359978, 1.3107002882242345, 1.1566112765098977, 1.0203500209145195, 0.8999018741041287, 0.7934720048083037, 0.6994626885480469, 0.6164527372326868, 0.5431788996205668, 0.4785190730253047, 0.4214771746025268, 0.3711695307580224, 0.3268126464360522, 0.2877122317638376, 0.25325336787422237], \"yaxis\": \"y\"}, {\"hoverlabel\": {\"namelength\": 0}, \"hovertemplate\": \"variable=I3<br>t=%{x}<br>value=%{y}\", \"legendgroup\": \"I3\", \"line\": {\"color\": \"#FFA15A\", \"dash\": \"solid\"}, \"mode\": \"lines\", \"name\": \"I3\", \"showlegend\": true, \"type\": \"scatter\", \"x\": [0, 1, 2, 3, 4, 5, 6, 7, 8, 9, 10, 11, 12, 13, 14, 15, 16, 17, 18, 19, 20, 21, 22, 23, 24, 25, 26, 27, 28, 29, 30, 31, 32, 33, 34, 35, 36, 37, 38, 39, 40, 41, 42, 43, 44, 45, 46, 47, 48, 49, 50, 51, 52, 53, 54, 55, 56, 57, 58, 59, 60, 61, 62, 63, 64, 65, 66, 67, 68, 69, 70, 71, 72, 73, 74, 75, 76, 77, 78, 79, 80, 81, 82, 83, 84, 85, 86, 87, 88, 89, 90], \"xaxis\": \"x\", \"y\": [25.0, 25.322143082389452, 25.681952633098405, 26.139344940197024, 26.749409699861452, 27.558388425767113, 28.601128080353288, 29.899403166220196, 31.460887399352885, 33.27876659735804, 35.332065781840846, 37.58674945235764, 39.99758054925915, 42.510626188056506, 45.06621209613616, 47.602075383758695, 50.05645622899293, 52.37089960794984, 54.492595674810225, 56.37615646240159, 57.98479388436313, 59.29092033452024, 60.27623384968972, 60.93137478346041, 61.2552516058178, 61.25413321269948, 60.940597377590116, 60.33241263820653, 59.451416702655735, 58.322439786427786, 56.97230777275847, 55.42894810300172, 53.72061120108876, 51.87521225216714, 49.9197919974437, 47.88009065880317, 45.78022620842639, 43.64246622214353, 41.487081661869105, 39.33227075613661, 37.19414139185309, 35.086741177164555, 33.02212518494273, 31.01045244391105, 29.06010334983531, 27.17781124879287, 25.368802519850036, 23.63694036863874, 21.9848686874573, 20.414152767128922, 18.925414702160484, 17.51846167893531, 16.192406043126066, 14.94577632511345, 13.77661884600798, 12.68258980460105, 11.661037896204775, 10.709077813594389, 9.823654988994813, 9.001602100400369, 8.239687905885566, 7.53465899232579, 6.883275063894582, 6.282338370069852, 5.728717879448899, 5.219368766441383, 4.751347759483288, 4.321824859483852, 3.9280918996442673, 3.5675683847026747, 3.237805001509672, 2.9364851610460043, 2.6614248941732894, 2.41057138164402, 2.1820003780112454, 1.973912747599186, 1.784630307612348, 1.6125911471488035, 1.456344565179367, 1.3145457523070443, 1.1859503190116054, 1.0694087608435903, 0.9638609264695677, 0.8683305557360743, 0.781919930152941, 0.7038046745368532, 0.633228739707492, 0.5694995869567171, 0.5119835902821555, 0.4601016660762851, 0.41332513574826535], \"yaxis\": \"y\"}, {\"hoverlabel\": {\"namelength\": 0}, \"hovertemplate\": \"variable=R<br>t=%{x}<br>value=%{y}\", \"legendgroup\": \"R\", \"line\": {\"color\": \"#19d3f3\", \"dash\": \"solid\"}, \"mode\": \"lines\", \"name\": \"R\", \"showlegend\": true, \"type\": \"scatter\", \"x\": [0, 1, 2, 3, 4, 5, 6, 7, 8, 9, 10, 11, 12, 13, 14, 15, 16, 17, 18, 19, 20, 21, 22, 23, 24, 25, 26, 27, 28, 29, 30, 31, 32, 33, 34, 35, 36, 37, 38, 39, 40, 41, 42, 43, 44, 45, 46, 47, 48, 49, 50, 51, 52, 53, 54, 55, 56, 57, 58, 59, 60, 61, 62, 63, 64, 65, 66, 67, 68, 69, 70, 71, 72, 73, 74, 75, 76, 77, 78, 79, 80, 81, 82, 83, 84, 85, 86, 87, 88, 89, 90], \"xaxis\": \"x\", \"y\": [0.0, 145.66961100105803, 307.81439844965155, 490.2185696217052, 695.5903582080538, 925.6712755086426, 1181.2449624298895, 1462.1144155781128, 1767.0963537646849, 2094.064030228228, 2440.0522320113446, 2801.4217533756637, 3174.0673700431125, 3553.645744927314, 3935.7983755516752, 4316.348630214591, 4691.458967101823, 5057.742201426656, 5412.327374545486, 5752.885457610214, 6077.622660819399, 6385.249853559813, 6674.936124371088, 6946.253331158904, 7199.117050961268, 7433.727908801825, 7650.5160072347135, 7850.090143862903, 8033.192717408588, 8200.660639174954, 8353.392177275487, 8492.319396525714, 8618.385710616936, 8732.527986242465, 8835.662617989841, 8928.675006465559, 9012.41190725853, 9087.676164015065, 9155.223394797747, 9215.760252390037, 9269.943931959231, 9318.382650126674, 9361.636860741584, 9400.221014269257, 9434.605701865708, 9465.220054547202, 9492.454294560248, 9516.662355305085, 9538.164509917811, 9557.249955312695, 9574.179318856099, 9589.187060391047, 9602.483752034612, 9614.258224755433, 9624.679575426151, 9633.899032658963, 9642.051682038507, 9649.258054739303, 9655.625584116719, 9661.249936668195, 9666.216224460883, 9670.60010624867, 9674.468785118126, 9677.881910178423, 9680.892389826158, 9683.547123868333, 9685.8876613901, 9687.950790976607, 9689.76906943676, 9691.371294787737, 9692.78292884692, 9694.026474343209, 9695.121811107578, 9696.08649543022, 9696.936026420834, 9697.684082775677, 9698.342733077137, 9698.922622446522, 9699.433138082803, 9699.882555996217, 9700.278170973104, 9700.626411661653, 9700.932942358671, 9701.202753069958, 9701.440239108742, 9701.649271427732, 9701.833258748002, 9701.995202405798, 9702.13774477167, 9702.263211970048, 9702.373651559534], \"yaxis\": \"y\"}, {\"hoverlabel\": {\"namelength\": 0}, \"hovertemplate\": \"variable=D<br>t=%{x}<br>value=%{y}\", \"legendgroup\": \"D\", \"line\": {\"color\": \"#FF6692\", \"dash\": \"solid\"}, \"mode\": \"lines\", \"name\": \"D\", \"showlegend\": true, \"type\": \"scatter\", \"x\": [0, 1, 2, 3, 4, 5, 6, 7, 8, 9, 10, 11, 12, 13, 14, 15, 16, 17, 18, 19, 20, 21, 22, 23, 24, 25, 26, 27, 28, 29, 30, 31, 32, 33, 34, 35, 36, 37, 38, 39, 40, 41, 42, 43, 44, 45, 46, 47, 48, 49, 50, 51, 52, 53, 54, 55, 56, 57, 58, 59, 60, 61, 62, 63, 64, 65, 66, 67, 68, 69, 70, 71, 72, 73, 74, 75, 76, 77, 78, 79, 80, 81, 82, 83, 84, 85, 86, 87, 88, 89, 90], \"xaxis\": \"x\", \"y\": [10.0, 12.516044766710825, 15.065682662445921, 17.655693758979346, 20.298650749438213, 23.01221893609477, 25.818135075996683, 28.74097815445377, 31.806805541143405, 35.04171797086083, 38.47042080958148, 42.1148564769263, 45.99298533348142, 50.11778613749768, 54.49653143939048, 59.13037052930629, 64.01422669363583, 69.13699084024823, 74.48197337559519, 80.02756250045762, 85.7480302699359, 91.6144272127978, 97.59551060291548, 103.6586590236636, 109.77073523495139, 115.89886916045754, 122.0111422019039, 128.07716249788766, 134.06852771624955, 139.959177606992, 145.72564263100668, 151.34719789766913, 156.80593339837694, 162.08675238708335, 167.17730992558106, 172.06790322581827, 176.75132468058067, 181.22268750340513, 185.47923274363743, 189.52012527761448, 193.3462452287868, 196.95998006800292, 200.36502170448796, 203.5661718497959, 206.569158139456, 209.3804627560823, 212.00716467174334, 214.4567961531826, 216.7372136164739, 218.85648278945877, 220.82277766554105, 222.64429266655702, 224.32916722797526, 225.8854219408126, 227.3209053346218, 228.64325033365867, 229.8598394601744, 230.97777782936274, 232.00387305761402, 232.94462123031633, 233.80619812661337, 234.59445497399216, 235.31491804510634, 235.97279148817572, 236.57296283116, 237.12001066477853, 237.6182140630462, 238.07156335239668, 238.48377189185828, 238.85828856879638, 239.19831075968858, 239.50679754084365, 239.78648296653017, 240.03988926959548, 240.26933985504996, 240.47697199072678, 240.66474911575966, 240.83447270530453, 240.98779364736131, 241.126223099546, 241.2511428057328, 241.36381486055723, 241.4653909224651, 241.5569208743313, 241.63936094392383, 241.7135812969852, 241.7803731190895, 241.84045520560224, 241.89448008109008, 241.9430396700688, 241.9866705424271], \"yaxis\": \"y\"}, {\"hoverlabel\": {\"namelength\": 0}, \"hovertemplate\": \"variable=I<br>t=%{x}<br>value=%{y}\", \"legendgroup\": \"I\", \"line\": {\"color\": \"#B6E880\", \"dash\": \"solid\"}, \"mode\": \"lines\", \"name\": \"I\", \"showlegend\": true, \"type\": \"scatter\", \"x\": [0, 1, 2, 3, 4, 5, 6, 7, 8, 9, 10, 11, 12, 13, 14, 15, 16, 17, 18, 19, 20, 21, 22, 23, 24, 25, 26, 27, 28, 29, 30, 31, 32, 33, 34, 35, 36, 37, 38, 39, 40, 41, 42, 43, 44, 45, 46, 47, 48, 49, 50, 51, 52, 53, 54, 55, 56, 57, 58, 59, 60, 61, 62, 63, 64, 65, 66, 67, 68, 69, 70, 71, 72, 73, 74, 75, 76, 77, 78, 79, 80, 81, 82, 83, 84, 85, 86, 87, 88, 89, 90], \"xaxis\": \"x\", \"y\": [1000.0, 1099.6994322564153, 1230.393191028502, 1383.810236807847, 1552.9944273834642, 1731.2978348089362, 1911.9427850975057, 2087.991076970339, 2252.594217246787, 2399.4023369753663, 2523.0103038000325, 2619.333458034764, 2685.837985671847, 2721.5945511469777, 2727.1661817583868, 2704.371573487198, 2655.9781461039565, 2585.377026638005, 2496.2803253839347, 2392.4657927436647, 2277.579784064825, 2154.9988471704864, 2027.7436198838373, 1898.435556045048, 1769.2862539227717, 1642.1099293089692, 1518.3510289496476, 1399.120668515154, 1285.2371695454838, 1177.2673590748632, 1075.5663897063025, 980.3147010817701, 891.5513619114743, 809.2034770789254, 733.1116402220506, 663.051607892092, 598.7524791175961, 539.911730083505, 486.20746938949327, 437.30827896868163, 392.8809855425179, 352.5966802391696, 316.13527132176074, 283.18882380778024, 253.46390423246137, 226.68312102532937, 202.58602037421105, 180.9294758476277, 161.48768107184515, 144.05184452177298, 128.42966056785255, 114.44462106569686, 101.93521798152221, 90.75407770502355, 80.7670590752776, 71.85233980224362, 63.89951094931024, 56.80869283984828, 50.48968347560119, 44.86114642539655, 39.84984282961366, 35.38991054783826, 31.422191432101716, 27.893606932585822, 24.756581166567386, 21.96850992797787, 19.491273754485672, 17.29079274128172, 15.336620676505252, 13.601575946561448, 12.061406621248208, 10.69448718267494, 9.4815444002366, 8.405409967183568, 7.4507976285426025, 6.604102653316767, 5.853221628752513, 5.1873907140133575, 4.597040624567418, 4.073666719040434, 3.609712751879476, 3.1984669062183997, 2.833968920196375, 2.5109271437967076, 2.2246445356382725, 1.9709526684990433, 1.7461529054862313, 1.5469640108155054, 1.370475489138317, 1.2141060638106211, 1.0755667389559824], \"yaxis\": \"y\"}],\n",
       "                        {\"legend\": {\"title\": {\"text\": \"variable\"}, \"tracegroupgap\": 0}, \"margin\": {\"t\": 60}, \"template\": {\"data\": {\"bar\": [{\"error_x\": {\"color\": \"#2a3f5f\"}, \"error_y\": {\"color\": \"#2a3f5f\"}, \"marker\": {\"line\": {\"color\": \"#E5ECF6\", \"width\": 0.5}}, \"type\": \"bar\"}], \"barpolar\": [{\"marker\": {\"line\": {\"color\": \"#E5ECF6\", \"width\": 0.5}}, \"type\": \"barpolar\"}], \"carpet\": [{\"aaxis\": {\"endlinecolor\": \"#2a3f5f\", \"gridcolor\": \"white\", \"linecolor\": \"white\", \"minorgridcolor\": \"white\", \"startlinecolor\": \"#2a3f5f\"}, \"baxis\": {\"endlinecolor\": \"#2a3f5f\", \"gridcolor\": \"white\", \"linecolor\": \"white\", \"minorgridcolor\": \"white\", \"startlinecolor\": \"#2a3f5f\"}, \"type\": \"carpet\"}], \"choropleth\": [{\"colorbar\": {\"outlinewidth\": 0, \"ticks\": \"\"}, \"type\": \"choropleth\"}], \"contour\": [{\"colorbar\": {\"outlinewidth\": 0, \"ticks\": \"\"}, \"colorscale\": [[0.0, \"#0d0887\"], [0.1111111111111111, \"#46039f\"], [0.2222222222222222, \"#7201a8\"], [0.3333333333333333, \"#9c179e\"], [0.4444444444444444, \"#bd3786\"], [0.5555555555555556, \"#d8576b\"], [0.6666666666666666, \"#ed7953\"], [0.7777777777777778, \"#fb9f3a\"], [0.8888888888888888, \"#fdca26\"], [1.0, \"#f0f921\"]], \"type\": \"contour\"}], \"contourcarpet\": [{\"colorbar\": {\"outlinewidth\": 0, \"ticks\": \"\"}, \"type\": \"contourcarpet\"}], \"heatmap\": [{\"colorbar\": {\"outlinewidth\": 0, \"ticks\": \"\"}, \"colorscale\": [[0.0, \"#0d0887\"], [0.1111111111111111, \"#46039f\"], [0.2222222222222222, \"#7201a8\"], [0.3333333333333333, \"#9c179e\"], [0.4444444444444444, \"#bd3786\"], [0.5555555555555556, \"#d8576b\"], [0.6666666666666666, \"#ed7953\"], [0.7777777777777778, \"#fb9f3a\"], [0.8888888888888888, \"#fdca26\"], [1.0, \"#f0f921\"]], \"type\": \"heatmap\"}], \"heatmapgl\": [{\"colorbar\": {\"outlinewidth\": 0, \"ticks\": \"\"}, \"colorscale\": [[0.0, \"#0d0887\"], [0.1111111111111111, \"#46039f\"], [0.2222222222222222, \"#7201a8\"], [0.3333333333333333, \"#9c179e\"], [0.4444444444444444, \"#bd3786\"], [0.5555555555555556, \"#d8576b\"], [0.6666666666666666, \"#ed7953\"], [0.7777777777777778, \"#fb9f3a\"], [0.8888888888888888, \"#fdca26\"], [1.0, \"#f0f921\"]], \"type\": \"heatmapgl\"}], \"histogram\": [{\"marker\": {\"colorbar\": {\"outlinewidth\": 0, \"ticks\": \"\"}}, \"type\": \"histogram\"}], \"histogram2d\": [{\"colorbar\": {\"outlinewidth\": 0, \"ticks\": \"\"}, \"colorscale\": [[0.0, \"#0d0887\"], [0.1111111111111111, \"#46039f\"], [0.2222222222222222, \"#7201a8\"], [0.3333333333333333, \"#9c179e\"], [0.4444444444444444, \"#bd3786\"], [0.5555555555555556, \"#d8576b\"], [0.6666666666666666, \"#ed7953\"], [0.7777777777777778, \"#fb9f3a\"], [0.8888888888888888, \"#fdca26\"], [1.0, \"#f0f921\"]], \"type\": \"histogram2d\"}], \"histogram2dcontour\": [{\"colorbar\": {\"outlinewidth\": 0, \"ticks\": \"\"}, \"colorscale\": [[0.0, \"#0d0887\"], [0.1111111111111111, \"#46039f\"], [0.2222222222222222, \"#7201a8\"], [0.3333333333333333, \"#9c179e\"], [0.4444444444444444, \"#bd3786\"], [0.5555555555555556, \"#d8576b\"], [0.6666666666666666, \"#ed7953\"], [0.7777777777777778, \"#fb9f3a\"], [0.8888888888888888, \"#fdca26\"], [1.0, \"#f0f921\"]], \"type\": \"histogram2dcontour\"}], \"mesh3d\": [{\"colorbar\": {\"outlinewidth\": 0, \"ticks\": \"\"}, \"type\": \"mesh3d\"}], \"parcoords\": [{\"line\": {\"colorbar\": {\"outlinewidth\": 0, \"ticks\": \"\"}}, \"type\": \"parcoords\"}], \"pie\": [{\"automargin\": true, \"type\": \"pie\"}], \"scatter\": [{\"marker\": {\"colorbar\": {\"outlinewidth\": 0, \"ticks\": \"\"}}, \"type\": \"scatter\"}], \"scatter3d\": [{\"line\": {\"colorbar\": {\"outlinewidth\": 0, \"ticks\": \"\"}}, \"marker\": {\"colorbar\": {\"outlinewidth\": 0, \"ticks\": \"\"}}, \"type\": \"scatter3d\"}], \"scattercarpet\": [{\"marker\": {\"colorbar\": {\"outlinewidth\": 0, \"ticks\": \"\"}}, \"type\": \"scattercarpet\"}], \"scattergeo\": [{\"marker\": {\"colorbar\": {\"outlinewidth\": 0, \"ticks\": \"\"}}, \"type\": \"scattergeo\"}], \"scattergl\": [{\"marker\": {\"colorbar\": {\"outlinewidth\": 0, \"ticks\": \"\"}}, \"type\": \"scattergl\"}], \"scattermapbox\": [{\"marker\": {\"colorbar\": {\"outlinewidth\": 0, \"ticks\": \"\"}}, \"type\": \"scattermapbox\"}], \"scatterpolar\": [{\"marker\": {\"colorbar\": {\"outlinewidth\": 0, \"ticks\": \"\"}}, \"type\": \"scatterpolar\"}], \"scatterpolargl\": [{\"marker\": {\"colorbar\": {\"outlinewidth\": 0, \"ticks\": \"\"}}, \"type\": \"scatterpolargl\"}], \"scatterternary\": [{\"marker\": {\"colorbar\": {\"outlinewidth\": 0, \"ticks\": \"\"}}, \"type\": \"scatterternary\"}], \"surface\": [{\"colorbar\": {\"outlinewidth\": 0, \"ticks\": \"\"}, \"colorscale\": [[0.0, \"#0d0887\"], [0.1111111111111111, \"#46039f\"], [0.2222222222222222, \"#7201a8\"], [0.3333333333333333, \"#9c179e\"], [0.4444444444444444, \"#bd3786\"], [0.5555555555555556, \"#d8576b\"], [0.6666666666666666, \"#ed7953\"], [0.7777777777777778, \"#fb9f3a\"], [0.8888888888888888, \"#fdca26\"], [1.0, \"#f0f921\"]], \"type\": \"surface\"}], \"table\": [{\"cells\": {\"fill\": {\"color\": \"#EBF0F8\"}, \"line\": {\"color\": \"white\"}}, \"header\": {\"fill\": {\"color\": \"#C8D4E3\"}, \"line\": {\"color\": \"white\"}}, \"type\": \"table\"}]}, \"layout\": {\"annotationdefaults\": {\"arrowcolor\": \"#2a3f5f\", \"arrowhead\": 0, \"arrowwidth\": 1}, \"coloraxis\": {\"colorbar\": {\"outlinewidth\": 0, \"ticks\": \"\"}}, \"colorscale\": {\"diverging\": [[0, \"#8e0152\"], [0.1, \"#c51b7d\"], [0.2, \"#de77ae\"], [0.3, \"#f1b6da\"], [0.4, \"#fde0ef\"], [0.5, \"#f7f7f7\"], [0.6, \"#e6f5d0\"], [0.7, \"#b8e186\"], [0.8, \"#7fbc41\"], [0.9, \"#4d9221\"], [1, \"#276419\"]], \"sequential\": [[0.0, \"#0d0887\"], [0.1111111111111111, \"#46039f\"], [0.2222222222222222, \"#7201a8\"], [0.3333333333333333, \"#9c179e\"], [0.4444444444444444, \"#bd3786\"], [0.5555555555555556, \"#d8576b\"], [0.6666666666666666, \"#ed7953\"], [0.7777777777777778, \"#fb9f3a\"], [0.8888888888888888, \"#fdca26\"], [1.0, \"#f0f921\"]], \"sequentialminus\": [[0.0, \"#0d0887\"], [0.1111111111111111, \"#46039f\"], [0.2222222222222222, \"#7201a8\"], [0.3333333333333333, \"#9c179e\"], [0.4444444444444444, \"#bd3786\"], [0.5555555555555556, \"#d8576b\"], [0.6666666666666666, \"#ed7953\"], [0.7777777777777778, \"#fb9f3a\"], [0.8888888888888888, \"#fdca26\"], [1.0, \"#f0f921\"]]}, \"colorway\": [\"#636efa\", \"#EF553B\", \"#00cc96\", \"#ab63fa\", \"#FFA15A\", \"#19d3f3\", \"#FF6692\", \"#B6E880\", \"#FF97FF\", \"#FECB52\"], \"font\": {\"color\": \"#2a3f5f\"}, \"geo\": {\"bgcolor\": \"white\", \"lakecolor\": \"white\", \"landcolor\": \"#E5ECF6\", \"showlakes\": true, \"showland\": true, \"subunitcolor\": \"white\"}, \"hoverlabel\": {\"align\": \"left\"}, \"hovermode\": \"closest\", \"mapbox\": {\"style\": \"light\"}, \"paper_bgcolor\": \"white\", \"plot_bgcolor\": \"#E5ECF6\", \"polar\": {\"angularaxis\": {\"gridcolor\": \"white\", \"linecolor\": \"white\", \"ticks\": \"\"}, \"bgcolor\": \"#E5ECF6\", \"radialaxis\": {\"gridcolor\": \"white\", \"linecolor\": \"white\", \"ticks\": \"\"}}, \"scene\": {\"xaxis\": {\"backgroundcolor\": \"#E5ECF6\", \"gridcolor\": \"white\", \"gridwidth\": 2, \"linecolor\": \"white\", \"showbackground\": true, \"ticks\": \"\", \"zerolinecolor\": \"white\"}, \"yaxis\": {\"backgroundcolor\": \"#E5ECF6\", \"gridcolor\": \"white\", \"gridwidth\": 2, \"linecolor\": \"white\", \"showbackground\": true, \"ticks\": \"\", \"zerolinecolor\": \"white\"}, \"zaxis\": {\"backgroundcolor\": \"#E5ECF6\", \"gridcolor\": \"white\", \"gridwidth\": 2, \"linecolor\": \"white\", \"showbackground\": true, \"ticks\": \"\", \"zerolinecolor\": \"white\"}}, \"shapedefaults\": {\"line\": {\"color\": \"#2a3f5f\"}}, \"ternary\": {\"aaxis\": {\"gridcolor\": \"white\", \"linecolor\": \"white\", \"ticks\": \"\"}, \"baxis\": {\"gridcolor\": \"white\", \"linecolor\": \"white\", \"ticks\": \"\"}, \"bgcolor\": \"#E5ECF6\", \"caxis\": {\"gridcolor\": \"white\", \"linecolor\": \"white\", \"ticks\": \"\"}}, \"title\": {\"x\": 0.05}, \"xaxis\": {\"automargin\": true, \"gridcolor\": \"white\", \"linecolor\": \"white\", \"ticks\": \"\", \"title\": {\"standoff\": 15}, \"zerolinecolor\": \"white\", \"zerolinewidth\": 2}, \"yaxis\": {\"automargin\": true, \"gridcolor\": \"white\", \"linecolor\": \"white\", \"ticks\": \"\", \"title\": {\"standoff\": 15}, \"zerolinecolor\": \"white\", \"zerolinewidth\": 2}}}, \"xaxis\": {\"anchor\": \"y\", \"domain\": [0.0, 1.0], \"title\": {\"text\": \"t\"}}, \"yaxis\": {\"anchor\": \"x\", \"domain\": [0.0, 1.0], \"title\": {\"text\": \"value\"}}},\n",
       "                        {\"responsive\": true}\n",
       "                    ).then(function(){\n",
       "                            \n",
       "var gd = document.getElementById('9a764551-4342-461f-bbee-b3f47f05b0b1');\n",
       "var x = new MutationObserver(function (mutations, observer) {{\n",
       "        var display = window.getComputedStyle(gd).display;\n",
       "        if (!display || display === 'none') {{\n",
       "            console.log([gd, 'removed!']);\n",
       "            Plotly.purge(gd);\n",
       "            observer.disconnect();\n",
       "        }}\n",
       "}});\n",
       "\n",
       "// Listen for the removal of the full notebook cells\n",
       "var notebookContainer = gd.closest('#notebook-container');\n",
       "if (notebookContainer) {{\n",
       "    x.observe(notebookContainer, {childList: true});\n",
       "}}\n",
       "\n",
       "// Listen for the clearing of the current output cell\n",
       "var outputEl = gd.closest('.output');\n",
       "if (outputEl) {{\n",
       "    x.observe(outputEl, {childList: true});\n",
       "}}\n",
       "\n",
       "                        })\n",
       "                };\n",
       "                });\n",
       "            </script>\n",
       "        </div>"
      ]
     },
     "metadata": {},
     "output_type": "display_data"
    }
   ],
   "source": [
    "px.line(result.melt('t'), x='t', y='value', color='variable')"
   ]
  },
  {
   "cell_type": "markdown",
   "metadata": {},
   "source": [
    "## Run scenario"
   ]
  },
  {
   "cell_type": "raw",
   "metadata": {},
   "source": [
    "def decide_scenario(c2, c3):\n",
    "    \n",
    "    if c2 < c3:\n",
    "        return 'isolation'\n",
    "    elif c2 >= c3:\n",
    "        return 'lockdown'\n",
    "    elif c2 == 0:\n",
    "        return 'nothing'"
   ]
  },
  {
   "cell_type": "raw",
   "metadata": {},
   "source": [
    "def load_data():\n",
    "    \n",
    "    df_cases_covid19br = get_data.city_cases_covid19br(config['get_data_paths']['cases_covid19br'])\n",
    "    df_cases_brasilio = get_data.city_cases_brasilio(config['get_data_paths']['cases_brasilio'])\n",
    "\n",
    "    df_cases_covid19br = clean_data.treat_covid19br(config['raw_paths']['cases_covid19br'], config['treated_paths']['cases_covid19br'])\n",
    "    df_cases_brasilio = clean_data.treat_brasilio(config['raw_paths']['cases_brasilio'], config['treated_paths']['cases_brasilio']) \n",
    "\n",
    "    df_sus = clean_data.treat_sus(config['raw_paths']['sus'], config['treated_paths']['sus'])\n",
    "\n",
    "    to_gbq(df_cases_brasilio, 'brasilio_cases', if_exists='replace')\n",
    "    to_gbq(df_sus, 'sus_capacity', if_exists='replace')\n",
    "\n",
    "    df = pd.merge(df_cases_brasilio, df_sus, how='left', on='region_id')\n",
    "    \n",
    "    return df"
   ]
  },
  {
   "cell_type": "raw",
   "metadata": {},
   "source": [
    "def run_model_sequntial(df_city):\n",
    "    \n",
    "    final = pd.DataFrame()\n",
    "    region_id = df_city['region_id'].iloc[0]\n",
    "    \n",
    "    for c2 in config['scenarios']['isolation']['dates']:\n",
    "        for c3 in config['scenarios']['lockdown']['dates']:\n",
    "            for bound in ['lower_bound', 'upper_bound']:\n",
    "\n",
    "                model_params = {k: v[bound] \n",
    "                                for k, v in config['model_parameters']['seir'].items()}\n",
    "\n",
    "                model_params.update(\n",
    "                    {'days_from_t0': min(c2, c3),\n",
    "                     'scenario': 'nothing',\n",
    "                     'R0': config['scenarios']['nothing']['R0'][bound],\n",
    "                     'i1_percentage': model_params['i1_percentage'] * model_params['notification_rate'],\n",
    "                     'i2_percentage': model_params['i2_percentage'] * model_params['notification_rate'],\n",
    "                     'i3_percentage': model_params['i3_percentage'] * model_params['notification_rate']\n",
    "                    })\n",
    "                \n",
    "                current_infected = df_city['confirmed_inputed'].values[0] / model_params['notification_rate']\n",
    "                exposed = current_infected * model_params['doubling_rate'] / model_params['sigma']\n",
    "                \n",
    "                current_state = {\n",
    "                    'population': df_city['populacao'].values[0] ,\n",
    "                    'exposed': exposed,\n",
    "                    'current_infected': current_infected,\n",
    "                    'suceptible': df_city['populacao'].values[0] \\\n",
    "                                  - current_infected \\\n",
    "                                  - exposed,\n",
    "                    'recovered': 0\n",
    "                }\n",
    "                \n",
    "\n",
    "                res = seir.entrypoint(current_state, \n",
    "                                     model_params)\n",
    "                \n",
    "                model_params.update(\n",
    "                    {'days_from_t0': max(c2, c3) - min(c2, c3),\n",
    "                     'scenario': decide_scenario(c2, c3),\n",
    "                     'R0': config['scenarios'][decide_scenario(c2, c3)]['R0'][bound]\n",
    "                    })\n",
    "                \n",
    "                current_state['suceptible'] = res['S'].iloc[-1]\n",
    "                current_state['exposed'] = res['E'].iloc[-1]\n",
    "                current_state['current_infected'] = res['I'].iloc[-1]\n",
    "                current_state['recovered'] = res['R'].iloc[-1]\n",
    "\n",
    "                res = pd.concat([res, seir.entrypoint(current_state, \n",
    "                                                      model_params)[1:]])\n",
    "\n",
    "                model_params.update(\n",
    "                        {'days_from_t0': config['estimation_days'] - max(c2, c3),\n",
    "                         'scenario': decide_scenario(c3, c2),\n",
    "                         'R0': config['scenarios'][decide_scenario(c3, c2)]['R0'][bound]\n",
    "                        })\n",
    "                \n",
    "                current_state['suceptible'] = res['S'].iloc[-1]\n",
    "                current_state['exposed'] = res['E'].iloc[-1]\n",
    "                current_state['current_infected'] = res['I'].iloc[-1]\n",
    "                current_state['recovered'] = res['R'].iloc[-1]\n",
    "\n",
    "\n",
    "                res = pd.concat([res, seir.entrypoint(\n",
    "                                                 current_state, \n",
    "                                                 model_params)[1:]])\n",
    "\n",
    "\n",
    "                res = res.reset_index(drop=True).reset_index()\\\n",
    "                      .drop('days', 1).rename(columns={'index': 'days'})\n",
    "                res['isolation_t'] = c2\n",
    "                res['lockdown_t'] = c3\n",
    "                res['bound'] = bound\n",
    "                res['region_id'] = region_id\n",
    "                \n",
    "                final = pd.concat([final, res])\n",
    "            \n",
    "    final = final.pivot_table(index=['region_id', 'isolation_t', 'lockdown_t', 'days'], \n",
    "                      columns='bound', \n",
    "                      values=['I1', 'I2', 'I3', 'S', 'I', 'R', 'E'])\n",
    "\n",
    "    final.columns = ['_'.join(col).strip() for col in final.columns.values]\n",
    "    final = final.reset_index()\n",
    "    final = final.merge(df_city[['region_id', 'quantidade_leitos', 'ventiladores_existentes',\n",
    "                            'city_name', 'state', 'sus_region_name']], on='region_id')\n",
    "    \n",
    "    convert_dict = {\n",
    "                'region_id': str,\n",
    "                'isolation_t': int,\n",
    "                'lockdown_t': int,\n",
    "                'days': int,\n",
    "                'E_lower_bound': float,\n",
    "                'E_upper_bound': float,\n",
    "                'I_lower_bound': float,\n",
    "                'I_upper_bound': float,\n",
    "                'I1_lower_bound': float,\n",
    "                'I1_upper_bound': float,\n",
    "                'I2_lower_bound': float,\n",
    "                'I2_upper_bound': float,\n",
    "                'I3_lower_bound': float,\n",
    "                'I3_upper_bound': float,\n",
    "                'R_lower_bound': float,\n",
    "                'R_upper_bound': float,\n",
    "                'S_lower_bound': float,\n",
    "                'S_upper_bound': float,\n",
    "                'quantidade_leitos': float,\n",
    "                'ventiladores_existentes': float,\n",
    "                'city_name': str,\n",
    "                'state': str,\n",
    "                'sus_region_name': str,\n",
    "               } \n",
    "\n",
    "    final = final.astype(convert_dict)  \n",
    "#     io.upload_data(final,\n",
    "#                    'model_evolution', \n",
    "#                    {'region_id': region_id},\n",
    "#                    region_id,\n",
    "#                    config\n",
    "#                   )\n",
    "#     io.create_table('model_evolution', config, partition=True)\n",
    "    return final"
   ]
  }
 ],
 "metadata": {
  "kernelspec": {
   "display_name": "Python 3",
   "language": "python",
   "name": "python3"
  },
  "language_info": {
   "codemirror_mode": {
    "name": "ipython",
    "version": 3
   },
   "file_extension": ".py",
   "mimetype": "text/x-python",
   "name": "python",
   "nbconvert_exporter": "python",
   "pygments_lexer": "ipython3",
   "version": "3.7.4"
  },
  "toc": {
   "base_numbering": 1,
   "nav_menu": {},
   "number_sections": true,
   "sideBar": true,
   "skip_h1_title": true,
   "title_cell": "Table of Contents",
   "title_sidebar": "Contents",
   "toc_cell": true,
   "toc_position": {},
   "toc_section_display": true,
   "toc_window_display": false
  }
 },
 "nbformat": 4,
 "nbformat_minor": 4
}
